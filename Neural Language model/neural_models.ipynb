{
 "cells": [
  {
   "cell_type": "code",
   "execution_count": 145,
   "id": "8527adaf",
   "metadata": {},
   "outputs": [],
   "source": [
    "import torch\n",
    "from torchtext.vocab import build_vocab_from_iterator\n",
    "from torchtext.data.utils import get_tokenizer\n",
    "from torch.utils.data import dataset\n",
    "from torch import Tensor,nn\n",
    "from torch.nn import TransformerEncoder, TransformerEncoderLayer\n",
    "\n",
    "def try_gpu(i=0):\n",
    "    if torch.cuda.device_count() >= i+1:\n",
    "        return torch.device(f'cuda:{i}')\n",
    "    return torch.device('cpu')"
   ]
  },
  {
   "cell_type": "code",
   "execution_count": 146,
   "id": "b0a6ec5f",
   "metadata": {},
   "outputs": [],
   "source": [
    "device = try_gpu(0)"
   ]
  },
  {
   "cell_type": "code",
   "execution_count": 147,
   "id": "f18adf7d",
   "metadata": {},
   "outputs": [],
   "source": [
    "with open('../data/simple.txt', 'r', encoding='utf-8') as f:\n",
    "    text = f.read()"
   ]
  },
  {
   "cell_type": "code",
   "execution_count": 148,
   "id": "2d63c466",
   "metadata": {},
   "outputs": [],
   "source": [
    "train_iter = text.split('\\n')[:5500]\n",
    "test_iter = text.split('\\n')[5500:]"
   ]
  },
  {
   "cell_type": "code",
   "execution_count": 149,
   "id": "d44e962e",
   "metadata": {},
   "outputs": [
    {
     "name": "stdout",
     "output_type": "stream",
     "text": [
      "5500 867\n"
     ]
    }
   ],
   "source": [
    "print(len(train_iter),len(test_iter))"
   ]
  },
  {
   "cell_type": "code",
   "execution_count": 150,
   "id": "ec41f91c",
   "metadata": {},
   "outputs": [],
   "source": [
    "tokenizer = get_tokenizer(None)\n",
    "vocab = build_vocab_from_iterator(\n",
    "    map(tokenizer, train_iter), specials=['<unk>'])\n",
    "vocab.set_default_index(vocab['<unk>'])"
   ]
  },
  {
   "cell_type": "code",
   "execution_count": 151,
   "id": "e78d4682",
   "metadata": {},
   "outputs": [],
   "source": [
    "def data_process(raw_text_iter: dataset.IterableDataset) -> Tensor:\n",
    "    \"\"\"Converts raw text into a flat Tensor.\"\"\"\n",
    "    data = [torch.tensor(vocab(tokenizer(item)), dtype=torch.long)\n",
    "            for item in raw_text_iter]\n",
    "    return torch.cat(tuple(filter(lambda t: t.numel() > 0, data)))"
   ]
  },
  {
   "cell_type": "code",
   "execution_count": 152,
   "id": "81116b5f",
   "metadata": {},
   "outputs": [],
   "source": [
    "train_data = data_process(train_iter)\n",
    "test_data = data_process(test_iter)"
   ]
  },
  {
   "cell_type": "code",
   "execution_count": 153,
   "id": "e2a4e183",
   "metadata": {},
   "outputs": [
    {
     "data": {
      "text/plain": [
       "tensor([21361,    51,    44,  ...,    93,    60,     4])"
      ]
     },
     "execution_count": 153,
     "metadata": {},
     "output_type": "execute_result"
    }
   ],
   "source": [
    "train_data"
   ]
  },
  {
   "cell_type": "code",
   "execution_count": 154,
   "id": "ecb7ff71",
   "metadata": {},
   "outputs": [],
   "source": [
    "def batchify(data: Tensor, bsz: int) -> Tensor:\n",
    "    \"\"\"Divides the data into bsz separate sequences, removing extra elements\n",
    "    that wouldn't cleanly fit.\n",
    "    Args:\n",
    "        data: Tensor, shape [N]\n",
    "        bsz: int, batch size\n",
    "    Returns:\n",
    "        Tensor of shape [N // bsz, bsz]\n",
    "    \"\"\"\n",
    "    seq_len = data.size(0) // bsz\n",
    "    data = data[:seq_len * bsz]\n",
    "    data = data.view(bsz, seq_len).t().contiguous()\n",
    "    return data.to(device)"
   ]
  },
  {
   "cell_type": "code",
   "execution_count": 117,
   "id": "9c786ee3",
   "metadata": {},
   "outputs": [],
   "source": [
    "# batch_size = 35\n",
    "# eval_batch_size = 10\n",
    "\n",
    "# train_data = batchify(train_data, batch_size)  # shape [seq_len, batch_size]\n",
    "# test_data = batchify(test_data, eval_batch_size)"
   ]
  },
  {
   "cell_type": "code",
   "execution_count": 118,
   "id": "c88e2319",
   "metadata": {},
   "outputs": [],
   "source": [
    "text = ['आधिकारिक निर्णयको कारणले , वाणिज्य बिभागले , संयुक्त राज्य अमेरिकी समुद्री पानी निर्माताद्वारा संयुक्त राज्य']\n",
    "#text = ['जनसंख्या']\n",
    "sample_data = data_process(\n",
    "    text)"
   ]
  },
  {
   "cell_type": "code",
   "execution_count": 119,
   "id": "937c5548",
   "metadata": {},
   "outputs": [
    {
     "data": {
      "text/plain": [
       "tensor([ 9979,     0,   483,   859,   281,     0,   859,   533,  3799,  1844,\n",
       "        18893,   636,     0,   533,  3799])"
      ]
     },
     "execution_count": 119,
     "metadata": {},
     "output_type": "execute_result"
    }
   ],
   "source": [
    "sample_data"
   ]
  },
  {
   "cell_type": "code",
   "execution_count": 120,
   "id": "ad5ef28e",
   "metadata": {},
   "outputs": [
    {
     "name": "stdout",
     "output_type": "stream",
     "text": [
      "Given word: आधिकारिक निर्णयको कारणले , वाणिज्य बिभागले , संयुक्त राज्य अमेरिकी समुद्री पानी निर्माताद्वारा संयुक्त राज्य\n"
     ]
    },
    {
     "data": {
      "text/plain": [
       "tensor([[ 9979,   533],\n",
       "        [    0,  3799],\n",
       "        [  483,  1844],\n",
       "        [  859, 18893],\n",
       "        [  281,   636],\n",
       "        [    0,     0],\n",
       "        [  859,   533]], device='cuda:0')"
      ]
     },
     "execution_count": 120,
     "metadata": {},
     "output_type": "execute_result"
    }
   ],
   "source": [
    "sample_data = batchify(sample_data, 2)\n",
    "print(\"Given word:\", text[0])\n",
    "sample_data"
   ]
  },
  {
   "cell_type": "code",
   "execution_count": 155,
   "id": "4125e726",
   "metadata": {},
   "outputs": [],
   "source": [
    "bptt = 35\n",
    "train_data = batchify(train_data, bptt)  # shape [seq_len, batch_size]\n",
    "test_data = batchify(test_data, bptt)\n",
    "\n",
    "\n",
    "import math\n",
    "def get_batch(source: Tensor, i: int) -> tuple[Tensor, Tensor]:\n",
    "    \"\"\"\n",
    "    Args:\n",
    "        source: Tensor, shape [full_seq_len, batch_size]\n",
    "        i: int\n",
    "    Returns:\n",
    "        tuple (data, target), where data has shape [seq_len, batch_size] and\n",
    "        target has shape [seq_len * batch_size]\n",
    "    \"\"\"\n",
    "    seq_len = min(bptt, len(source) - 1 - i)\n",
    "    data = source[i:i+seq_len]\n",
    "    target = source[i+1:i+1+seq_len].reshape(-1)\n",
    "    #target = source[i+1:i+1+seq_len]\n",
    "    return data, target"
   ]
  },
  {
   "cell_type": "code",
   "execution_count": 175,
   "id": "6a486b25",
   "metadata": {},
   "outputs": [],
   "source": [
    "\n",
    "\n",
    "\n",
    "\n",
    "\n",
    "class PositionalEncoding(nn.Module):\n",
    "\n",
    "    def __init__(self, d_model: int, dropout: float = 0.1, max_len: int = 5000):\n",
    "        super().__init__()\n",
    "        self.dropout = nn.Dropout(p=dropout)\n",
    "\n",
    "        position = torch.arange(max_len).unsqueeze(1)\n",
    "        div_term = torch.exp(torch.arange(0, d_model, 2)\n",
    "                             * (-math.log(10000.0) / d_model))\n",
    "        pe = torch.zeros(max_len, 1, d_model)\n",
    "        pe[:, 0, 0::2] = torch.sin(position * div_term)\n",
    "        pe[:, 0, 1::2] = torch.cos(position * div_term)\n",
    "        self.register_buffer('pe', pe)\n",
    "\n",
    "    def forward(self, x: Tensor) -> Tensor:\n",
    "        \"\"\"\n",
    "        Args:\n",
    "            x: Tensor, shape [seq_len, batch_size, embedding_dim]\n",
    "        \"\"\"\n",
    "        x = x + self.pe[:x.size(0)]\n",
    "        return self.dropout(x)\n",
    "\n",
    "\n",
    "\n",
    "\n",
    "\n",
    "class TransformerModel(nn.Module):\n",
    "\n",
    "    def __init__(self, ntoken: int, d_model: int, nhead: int, d_hid: int,\n",
    "                 nlayers: int, dropout: float = 0.5):\n",
    "        super().__init__()\n",
    "        self.model_type = 'Transformer'\n",
    "        self.pos_encoder = PositionalEncoding(d_model, dropout)\n",
    "        encoder_layers = TransformerEncoderLayer(\n",
    "            d_model, nhead, d_hid, dropout)\n",
    "        self.transformer_encoder = TransformerEncoder(encoder_layers, nlayers)\n",
    "        self.encoder = nn.Embedding(ntoken, d_model)\n",
    "        self.d_model = d_model\n",
    "        self.decoder = nn.Linear(d_model, ntoken)\n",
    "\n",
    "        self.init_weights()\n",
    "\n",
    "    def init_weights(self) -> None:\n",
    "        initrange = 0.1\n",
    "        self.encoder.weight.data.uniform_(-initrange, initrange)\n",
    "        self.decoder.bias.data.zero_()\n",
    "        self.decoder.weight.data.uniform_(-initrange, initrange)\n",
    "\n",
    "    def forward(self, src: Tensor, src_mask: Tensor) -> Tensor:\n",
    "        \"\"\"\n",
    "        Args:\n",
    "            src: Tensor, shape [seq_len, batch_size]\n",
    "            src_mask: Tensor, shape [seq_len, seq_len]\n",
    "        Returns:\n",
    "            output Tensor of shape [seq_len, batch_size, ntoken]\n",
    "        \"\"\"\n",
    "        src = self.encoder(src) * math.sqrt(self.d_model)\n",
    "        src = self.pos_encoder(src)\n",
    "        output = self.transformer_encoder(src, src_mask)\n",
    "        output = self.decoder(output)\n",
    "        return output"
   ]
  },
  {
   "cell_type": "code",
   "execution_count": 176,
   "id": "8174fe6e",
   "metadata": {},
   "outputs": [],
   "source": [
    "ntokens = len(vocab)  # size of vocabulary\n",
    "emsize = 300  # embedding dimension\n",
    "d_hid = 400  # dimension of the feedforward network model in nn.TransformerEncoder\n",
    "nlayers = 4  # number of nn.TransformerEncoderLayer in nn.TransformerEncoder\n",
    "nhead = 4  # number of heads in nn.MultiheadAttention\n",
    "dropout = 0.1  # dropout probability\n",
    "model = TransformerModel(ntokens, emsize,nhead, d_hid,\n",
    "                         nlayers, dropout).to(device)"
   ]
  },
  {
   "cell_type": "code",
   "execution_count": 177,
   "id": "bc37bdb2",
   "metadata": {},
   "outputs": [],
   "source": [
    "criterion = nn.CrossEntropyLoss()\n",
    "lr = 5.0  # learning rate\n",
    "optimizer = torch.optim.SGD(model.parameters(), lr=lr)\n",
    "scheduler = torch.optim.lr_scheduler.StepLR(optimizer, 1.0, gamma=0.95)"
   ]
  },
  {
   "cell_type": "code",
   "execution_count": 178,
   "id": "e3c990fb",
   "metadata": {},
   "outputs": [],
   "source": [
    "def generate_square_subsequent_mask(sz: int) -> Tensor:\n",
    "    \"\"\"Generates an upper-triangular matrix of -inf, with zeros on diag.\"\"\"\n",
    "    return torch.triu(torch.ones(sz, sz) * float('-inf'), diagonal=1)"
   ]
  },
  {
   "cell_type": "code",
   "execution_count": 191,
   "id": "f0cf3fcd",
   "metadata": {},
   "outputs": [],
   "source": [
    "def train(model: nn.Module) -> None:\n",
    "    model.train()  # turn on train mode\n",
    "    total_loss = 0.\n",
    "    log_interval = 200\n",
    "    start_time = time.time()\n",
    "    src_mask = generate_square_subsequent_mask(bptt).to(device)\n",
    "\n",
    "    num_batches = len(train_data) // bptt\n",
    "    for batch, i in enumerate(range(0, train_data.size(0) - 1, bptt)):\n",
    "        data, targets = get_batch(train_data, i)\n",
    "        batch_size = data.size(0)\n",
    "        if batch_size != bptt:  # only on last batch\n",
    "            src_mask = src_mask[:batch_size, :batch_size]\n",
    "        output = model(data, src_mask)\n",
    "        #print(type(output))\n",
    "        loss = criterion(output.view(-1, ntokens), targets)\n",
    "\n",
    "        optimizer.zero_grad()\n",
    "        loss.backward()\n",
    "        torch.nn.utils.clip_grad_norm_(model.parameters(), 0.5)\n",
    "        optimizer.step()\n",
    "\n",
    "        total_loss += loss.item()\n",
    "        if batch % log_interval == 0 and batch > 0:\n",
    "            lr = scheduler.get_last_lr()[0]\n",
    "            ms_per_batch = (time.time() - start_time) * 1000 / log_interval\n",
    "            cur_loss = total_loss / log_interval\n",
    "            ppl = math.exp(cur_loss)\n",
    "            print(f'| epoch {epoch:3d} | {batch:5d}/{num_batches:5d} batches | '\n",
    "                  f'lr {lr:02.2f} | ms/batch {ms_per_batch:5.2f} | '\n",
    "                  f'loss {cur_loss:5.2f} | ppl {ppl:8.2f}')\n",
    "            total_loss = 0\n",
    "            start_time = time.time()"
   ]
  },
  {
   "cell_type": "code",
   "execution_count": 192,
   "id": "858ab7ce",
   "metadata": {},
   "outputs": [],
   "source": [
    "softmax = nn.Softmax(dim=2)\n",
    "softmax = nn.LogSoftmax(dim=2)"
   ]
  },
  {
   "cell_type": "code",
   "execution_count": 207,
   "id": "5c2e974d",
   "metadata": {},
   "outputs": [],
   "source": [
    "def evaluate(model: nn.Module, eval_data: Tensor) -> float:\n",
    "    model.eval()  # turn on evaluation mode\n",
    "    total_loss = 0.\n",
    "    src_mask = generate_square_subsequent_mask(bptt).to(device)\n",
    "    with torch.no_grad():\n",
    "        for i in range(0, eval_data.size(0) - 1, bptt):\n",
    "            data, targets = get_batch(eval_data, i)\n",
    "            batch_size = data.size(0)\n",
    "            if batch_size != bptt:\n",
    "                src_mask = src_mask[:batch_size, :batch_size]\n",
    "            output = model(data, src_mask)\n",
    "            output_softmax = softmax(output)\n",
    "            # output_softmax = softmax(output.view(-1, batch_size, ntokens))\n",
    "            # output_softmax_permuted = output_softmax.permute(1, 0, 2)\n",
    "            output_softmax_permuted = output_softmax.permute(1, 0, 2)\n",
    "            indices = torch.argmax(output_softmax_permuted, dim=2)\n",
    "            target_indices = targets.t()\n",
    "            # print(output)\n",
    "            output_flat = output.view(-1, ntokens)\n",
    "            # total_loss += batch_size * criterion(output_flat, targets).item()\n",
    "#            print('data')\n",
    "#             print(list([vocab.lookup_tokens(list(index))\n",
    "#                         for index in data.t()]))\n",
    "#             print(indices)\n",
    "#             print(list([vocab.lookup_tokens(list(index))\n",
    "#                         for index in indices]))\n",
    "#             print(len(targets))\n",
    "#             print(list([vocab.lookup_tokens(list(index))\n",
    "#                         for index in target_indices]))\n",
    "    return total_loss / (len(eval_data) - 1)\n",
    "    return 0.2"
   ]
  },
  {
   "cell_type": "code",
   "execution_count": 235,
   "id": "6587d392",
   "metadata": {},
   "outputs": [],
   "source": [
    "import time\n",
    "def generator(model: nn.Module, gen_data: Tensor):\n",
    "    model.eval()\n",
    "    temp_text = text\n",
    "    for i in range(10):\n",
    "        print('i:', i)\n",
    "        src_mask = generate_square_subsequent_mask(bptt).to(device)\n",
    "        batch_size = gen_data.size(0)\n",
    "        if batch_size != bptt:\n",
    "            src_mask = src_mask[:batch_size, :batch_size]\n",
    "        output_softmax = model(gen_data, src_mask)\n",
    "        output_softmax_permuted = output_softmax.permute(1, 0, 2)\n",
    "        indices = torch.argmax(output_softmax_permuted, dim=2)\n",
    "        print('next word: ', [vocab.lookup_tokens(list(index))\n",
    "                              for index in indices][0][i])\n",
    "        # target_indices = targets.t()\n",
    "        # print(indices.shape)\n",
    "        # print(indices)\n",
    "        # temp_gen_data = [vocab.lookup_tokens(\n",
    "        #    list(index)) for index in indices][0][i]\n",
    "        # gen_data = [vocab.lookup_tokens(\n",
    "        #    list(index)) for index in indices][0]\n",
    "        # print(temp_text)\n",
    "        # print([[vocab.lookup_tokens(list(index))\n",
    "        #        for index in indices][0][i]])\n",
    "#         temp_text = [[vocab.lookup_tokens(list(index))]\n",
    "#                       for index in indices[0][i]]\n",
    "        # print(temp_text)\n",
    "#         temp_text = [' '.join(temp_text)]\n",
    "        # print(temp_text)\n",
    "        # gen_data = vocab.lookup_tokens((list(gen_data))) + list(temp_gen_data)\n",
    "        # gen_data = torch.tensor(\n",
    "        #    (list(gen_data[0])+list(indices[0][i]))).unsqueeze(0)\n",
    "        # gen_data = torch.concat([gen_data, torch.tensor(indices[0][i])], dim=1)\n",
    "        #gen_data = ' '.join(gen_data)\n",
    "        #return temp_txt\n",
    "#         gen_data = data_process(temp_text)\n",
    "#         gen_data = batchify(gen_data, 1)\n",
    "        #return gen_data\n"
   ]
  },
  {
   "cell_type": "code",
   "execution_count": 223,
   "id": "c0a3e698",
   "metadata": {},
   "outputs": [
    {
     "name": "stdout",
     "output_type": "stream",
     "text": [
      "21362\n",
      "-----------------------------------------------------------------------------------------\n",
      "| end of epoch   1 | time:  7.75s | valid loss  0.00 | valid ppl     1.00\n",
      "-----------------------------------------------------------------------------------------\n",
      "-----------------------------------------------------------------------------------------\n",
      "| end of epoch   2 | time:  7.08s | valid loss  0.00 | valid ppl     1.00\n",
      "-----------------------------------------------------------------------------------------\n",
      "-----------------------------------------------------------------------------------------\n",
      "| end of epoch   3 | time:  7.10s | valid loss  0.00 | valid ppl     1.00\n",
      "-----------------------------------------------------------------------------------------\n",
      "-----------------------------------------------------------------------------------------\n",
      "| end of epoch   4 | time:  7.13s | valid loss  0.00 | valid ppl     1.00\n",
      "-----------------------------------------------------------------------------------------\n"
     ]
    }
   ],
   "source": [
    "# Loop over epochs. Save the model if the validation loss is the best\n",
    "# we've seen so far. Adjust the learning rate after each epoch.\n",
    "import copy\n",
    "best_val_loss = float('inf')\n",
    "epochs = 4\n",
    "best_model = None\n",
    "print(len(vocab.get_stoi()))\n",
    "for epoch in range(1, epochs + 1):\n",
    "    epoch_start_time = time.time()\n",
    "    train(model)\n",
    "    eval_loss = evaluate(model, test_data)\n",
    "    eval_ppl = math.exp(eval_loss)\n",
    "    elapsed = time.time() - epoch_start_time\n",
    "    print('-' * 89)\n",
    "    print(f'| end of epoch {epoch:3d} | time: {elapsed:5.2f}s | '\n",
    "         f'valid loss {eval_loss:5.2f} | valid ppl {eval_ppl:8.2f}')\n",
    "    print('-' * 89)\n",
    "    #best_model = copy.deepcopy(model)\n",
    "    if eval_loss < best_val_loss:\n",
    "       best_val_loss = eval_loss\n",
    "       best_model = copy.deepcopy(model)\n",
    "\n",
    "#     scheduler.step()\n",
    "#save model\n",
    "torch.save(best_model.state_dict(),'best_model.pt')\n",
    "# Load saved model\n",
    "# model.load_state_dict(torch.load(saved_path))\n",
    "# model.to(device)"
   ]
  },
  {
   "cell_type": "code",
   "execution_count": 236,
   "id": "816c6dc6",
   "metadata": {},
   "outputs": [
    {
     "name": "stdout",
     "output_type": "stream",
     "text": [
      "i: 0\n",
      "next word:  वर्षसम्ममा\n",
      "i: 1\n",
      "next word:  कार्यक्रम\n",
      "i: 2\n",
      "next word:  गरेर\n",
      "i: 3\n",
      "next word:  आर्थिक\n",
      "i: 4\n",
      "next word:  क्षेत्रको\n",
      "i: 5\n",
      "next word:  आर्थिक\n",
      "i: 6\n",
      "next word:  आर्थिक\n",
      "i: 7\n"
     ]
    },
    {
     "ename": "IndexError",
     "evalue": "list index out of range",
     "output_type": "error",
     "traceback": [
      "\u001b[1;31m---------------------------------------------------------------------------\u001b[0m",
      "\u001b[1;31mIndexError\u001b[0m                                Traceback (most recent call last)",
      "Cell \u001b[1;32mIn[236], line 1\u001b[0m\n\u001b[1;32m----> 1\u001b[0m \u001b[43mgenerator\u001b[49m\u001b[43m(\u001b[49m\u001b[43mbest_model\u001b[49m\u001b[43m,\u001b[49m\u001b[43m \u001b[49m\u001b[43msample_data\u001b[49m\u001b[43m)\u001b[49m\n",
      "Cell \u001b[1;32mIn[235], line 14\u001b[0m, in \u001b[0;36mgenerator\u001b[1;34m(model, gen_data)\u001b[0m\n\u001b[0;32m     12\u001b[0m output_softmax_permuted \u001b[38;5;241m=\u001b[39m output_softmax\u001b[38;5;241m.\u001b[39mpermute(\u001b[38;5;241m1\u001b[39m, \u001b[38;5;241m0\u001b[39m, \u001b[38;5;241m2\u001b[39m)\n\u001b[0;32m     13\u001b[0m indices \u001b[38;5;241m=\u001b[39m torch\u001b[38;5;241m.\u001b[39margmax(output_softmax_permuted, dim\u001b[38;5;241m=\u001b[39m\u001b[38;5;241m2\u001b[39m)\n\u001b[1;32m---> 14\u001b[0m \u001b[38;5;28mprint\u001b[39m(\u001b[38;5;124m'\u001b[39m\u001b[38;5;124mnext word: \u001b[39m\u001b[38;5;124m'\u001b[39m, \u001b[43m[\u001b[49m\u001b[43mvocab\u001b[49m\u001b[38;5;241;43m.\u001b[39;49m\u001b[43mlookup_tokens\u001b[49m\u001b[43m(\u001b[49m\u001b[38;5;28;43mlist\u001b[39;49m\u001b[43m(\u001b[49m\u001b[43mindex\u001b[49m\u001b[43m)\u001b[49m\u001b[43m)\u001b[49m\n\u001b[0;32m     15\u001b[0m \u001b[43m                      \u001b[49m\u001b[38;5;28;43;01mfor\u001b[39;49;00m\u001b[43m \u001b[49m\u001b[43mindex\u001b[49m\u001b[43m \u001b[49m\u001b[38;5;129;43;01min\u001b[39;49;00m\u001b[43m \u001b[49m\u001b[43mindices\u001b[49m\u001b[43m]\u001b[49m\u001b[43m[\u001b[49m\u001b[38;5;241;43m0\u001b[39;49m\u001b[43m]\u001b[49m\u001b[43m[\u001b[49m\u001b[43mi\u001b[49m\u001b[43m]\u001b[49m)\n",
      "\u001b[1;31mIndexError\u001b[0m: list index out of range"
     ]
    }
   ],
   "source": [
    "generator(best_model, sample_data)"
   ]
  },
  {
   "cell_type": "code",
   "execution_count": null,
   "id": "912f6317",
   "metadata": {},
   "outputs": [],
   "source": []
  }
 ],
 "metadata": {
  "kernelspec": {
   "display_name": "Python 3 (ipykernel)",
   "language": "python",
   "name": "python3"
  },
  "language_info": {
   "codemirror_mode": {
    "name": "ipython",
    "version": 3
   },
   "file_extension": ".py",
   "mimetype": "text/x-python",
   "name": "python",
   "nbconvert_exporter": "python",
   "pygments_lexer": "ipython3",
   "version": "3.9.5"
  }
 },
 "nbformat": 4,
 "nbformat_minor": 5
}

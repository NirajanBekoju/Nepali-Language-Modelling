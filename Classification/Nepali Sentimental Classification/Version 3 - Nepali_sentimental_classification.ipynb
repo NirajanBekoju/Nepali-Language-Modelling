{
  "nbformat": 4,
  "nbformat_minor": 0,
  "metadata": {
    "colab": {
      "provenance": []
    },
    "kernelspec": {
      "name": "python3",
      "display_name": "Python 3"
    },
    "language_info": {
      "name": "python"
    },
    "widgets": {
      "application/vnd.jupyter.widget-state+json": {
        "29e7b1c647d14a559197bc613f880429": {
          "model_module": "@jupyter-widgets/controls",
          "model_name": "HBoxModel",
          "model_module_version": "1.5.0",
          "state": {
            "_dom_classes": [],
            "_model_module": "@jupyter-widgets/controls",
            "_model_module_version": "1.5.0",
            "_model_name": "HBoxModel",
            "_view_count": null,
            "_view_module": "@jupyter-widgets/controls",
            "_view_module_version": "1.5.0",
            "_view_name": "HBoxView",
            "box_style": "",
            "children": [
              "IPY_MODEL_8ec064c45ea04363b2777c73da124220",
              "IPY_MODEL_63d70fbdc3fa4c99ae25a49415547d43",
              "IPY_MODEL_8cd2a68cd81e491f979819b481486272"
            ],
            "layout": "IPY_MODEL_3aadb8cfe5f9453fa9ff224299b4ae4b"
          }
        },
        "8ec064c45ea04363b2777c73da124220": {
          "model_module": "@jupyter-widgets/controls",
          "model_name": "HTMLModel",
          "model_module_version": "1.5.0",
          "state": {
            "_dom_classes": [],
            "_model_module": "@jupyter-widgets/controls",
            "_model_module_version": "1.5.0",
            "_model_name": "HTMLModel",
            "_view_count": null,
            "_view_module": "@jupyter-widgets/controls",
            "_view_module_version": "1.5.0",
            "_view_name": "HTMLView",
            "description": "",
            "description_tooltip": null,
            "layout": "IPY_MODEL_08e9b6ed500c4929860e66f1d620c291",
            "placeholder": "​",
            "style": "IPY_MODEL_8b70f90a8d8a4cfcbbb5f36714ca11c8",
            "value": "100%"
          }
        },
        "63d70fbdc3fa4c99ae25a49415547d43": {
          "model_module": "@jupyter-widgets/controls",
          "model_name": "FloatProgressModel",
          "model_module_version": "1.5.0",
          "state": {
            "_dom_classes": [],
            "_model_module": "@jupyter-widgets/controls",
            "_model_module_version": "1.5.0",
            "_model_name": "FloatProgressModel",
            "_view_count": null,
            "_view_module": "@jupyter-widgets/controls",
            "_view_module_version": "1.5.0",
            "_view_name": "ProgressView",
            "bar_style": "success",
            "description": "",
            "description_tooltip": null,
            "layout": "IPY_MODEL_3d4932b3f83246c595cc01598c118997",
            "max": 25,
            "min": 0,
            "orientation": "horizontal",
            "style": "IPY_MODEL_5cda46a617784d1382db4c4309ab9791",
            "value": 25
          }
        },
        "8cd2a68cd81e491f979819b481486272": {
          "model_module": "@jupyter-widgets/controls",
          "model_name": "HTMLModel",
          "model_module_version": "1.5.0",
          "state": {
            "_dom_classes": [],
            "_model_module": "@jupyter-widgets/controls",
            "_model_module_version": "1.5.0",
            "_model_name": "HTMLModel",
            "_view_count": null,
            "_view_module": "@jupyter-widgets/controls",
            "_view_module_version": "1.5.0",
            "_view_name": "HTMLView",
            "description": "",
            "description_tooltip": null,
            "layout": "IPY_MODEL_f0f0cb9fd6334268a867c6f7e68c36b9",
            "placeholder": "​",
            "style": "IPY_MODEL_d3201697cc8a47be83858cd063778bad",
            "value": " 25/25 [01:05&lt;00:00,  2.13s/it]"
          }
        },
        "3aadb8cfe5f9453fa9ff224299b4ae4b": {
          "model_module": "@jupyter-widgets/base",
          "model_name": "LayoutModel",
          "model_module_version": "1.2.0",
          "state": {
            "_model_module": "@jupyter-widgets/base",
            "_model_module_version": "1.2.0",
            "_model_name": "LayoutModel",
            "_view_count": null,
            "_view_module": "@jupyter-widgets/base",
            "_view_module_version": "1.2.0",
            "_view_name": "LayoutView",
            "align_content": null,
            "align_items": null,
            "align_self": null,
            "border": null,
            "bottom": null,
            "display": null,
            "flex": null,
            "flex_flow": null,
            "grid_area": null,
            "grid_auto_columns": null,
            "grid_auto_flow": null,
            "grid_auto_rows": null,
            "grid_column": null,
            "grid_gap": null,
            "grid_row": null,
            "grid_template_areas": null,
            "grid_template_columns": null,
            "grid_template_rows": null,
            "height": null,
            "justify_content": null,
            "justify_items": null,
            "left": null,
            "margin": null,
            "max_height": null,
            "max_width": null,
            "min_height": null,
            "min_width": null,
            "object_fit": null,
            "object_position": null,
            "order": null,
            "overflow": null,
            "overflow_x": null,
            "overflow_y": null,
            "padding": null,
            "right": null,
            "top": null,
            "visibility": null,
            "width": null
          }
        },
        "08e9b6ed500c4929860e66f1d620c291": {
          "model_module": "@jupyter-widgets/base",
          "model_name": "LayoutModel",
          "model_module_version": "1.2.0",
          "state": {
            "_model_module": "@jupyter-widgets/base",
            "_model_module_version": "1.2.0",
            "_model_name": "LayoutModel",
            "_view_count": null,
            "_view_module": "@jupyter-widgets/base",
            "_view_module_version": "1.2.0",
            "_view_name": "LayoutView",
            "align_content": null,
            "align_items": null,
            "align_self": null,
            "border": null,
            "bottom": null,
            "display": null,
            "flex": null,
            "flex_flow": null,
            "grid_area": null,
            "grid_auto_columns": null,
            "grid_auto_flow": null,
            "grid_auto_rows": null,
            "grid_column": null,
            "grid_gap": null,
            "grid_row": null,
            "grid_template_areas": null,
            "grid_template_columns": null,
            "grid_template_rows": null,
            "height": null,
            "justify_content": null,
            "justify_items": null,
            "left": null,
            "margin": null,
            "max_height": null,
            "max_width": null,
            "min_height": null,
            "min_width": null,
            "object_fit": null,
            "object_position": null,
            "order": null,
            "overflow": null,
            "overflow_x": null,
            "overflow_y": null,
            "padding": null,
            "right": null,
            "top": null,
            "visibility": null,
            "width": null
          }
        },
        "8b70f90a8d8a4cfcbbb5f36714ca11c8": {
          "model_module": "@jupyter-widgets/controls",
          "model_name": "DescriptionStyleModel",
          "model_module_version": "1.5.0",
          "state": {
            "_model_module": "@jupyter-widgets/controls",
            "_model_module_version": "1.5.0",
            "_model_name": "DescriptionStyleModel",
            "_view_count": null,
            "_view_module": "@jupyter-widgets/base",
            "_view_module_version": "1.2.0",
            "_view_name": "StyleView",
            "description_width": ""
          }
        },
        "3d4932b3f83246c595cc01598c118997": {
          "model_module": "@jupyter-widgets/base",
          "model_name": "LayoutModel",
          "model_module_version": "1.2.0",
          "state": {
            "_model_module": "@jupyter-widgets/base",
            "_model_module_version": "1.2.0",
            "_model_name": "LayoutModel",
            "_view_count": null,
            "_view_module": "@jupyter-widgets/base",
            "_view_module_version": "1.2.0",
            "_view_name": "LayoutView",
            "align_content": null,
            "align_items": null,
            "align_self": null,
            "border": null,
            "bottom": null,
            "display": null,
            "flex": null,
            "flex_flow": null,
            "grid_area": null,
            "grid_auto_columns": null,
            "grid_auto_flow": null,
            "grid_auto_rows": null,
            "grid_column": null,
            "grid_gap": null,
            "grid_row": null,
            "grid_template_areas": null,
            "grid_template_columns": null,
            "grid_template_rows": null,
            "height": null,
            "justify_content": null,
            "justify_items": null,
            "left": null,
            "margin": null,
            "max_height": null,
            "max_width": null,
            "min_height": null,
            "min_width": null,
            "object_fit": null,
            "object_position": null,
            "order": null,
            "overflow": null,
            "overflow_x": null,
            "overflow_y": null,
            "padding": null,
            "right": null,
            "top": null,
            "visibility": null,
            "width": null
          }
        },
        "5cda46a617784d1382db4c4309ab9791": {
          "model_module": "@jupyter-widgets/controls",
          "model_name": "ProgressStyleModel",
          "model_module_version": "1.5.0",
          "state": {
            "_model_module": "@jupyter-widgets/controls",
            "_model_module_version": "1.5.0",
            "_model_name": "ProgressStyleModel",
            "_view_count": null,
            "_view_module": "@jupyter-widgets/base",
            "_view_module_version": "1.2.0",
            "_view_name": "StyleView",
            "bar_color": null,
            "description_width": ""
          }
        },
        "f0f0cb9fd6334268a867c6f7e68c36b9": {
          "model_module": "@jupyter-widgets/base",
          "model_name": "LayoutModel",
          "model_module_version": "1.2.0",
          "state": {
            "_model_module": "@jupyter-widgets/base",
            "_model_module_version": "1.2.0",
            "_model_name": "LayoutModel",
            "_view_count": null,
            "_view_module": "@jupyter-widgets/base",
            "_view_module_version": "1.2.0",
            "_view_name": "LayoutView",
            "align_content": null,
            "align_items": null,
            "align_self": null,
            "border": null,
            "bottom": null,
            "display": null,
            "flex": null,
            "flex_flow": null,
            "grid_area": null,
            "grid_auto_columns": null,
            "grid_auto_flow": null,
            "grid_auto_rows": null,
            "grid_column": null,
            "grid_gap": null,
            "grid_row": null,
            "grid_template_areas": null,
            "grid_template_columns": null,
            "grid_template_rows": null,
            "height": null,
            "justify_content": null,
            "justify_items": null,
            "left": null,
            "margin": null,
            "max_height": null,
            "max_width": null,
            "min_height": null,
            "min_width": null,
            "object_fit": null,
            "object_position": null,
            "order": null,
            "overflow": null,
            "overflow_x": null,
            "overflow_y": null,
            "padding": null,
            "right": null,
            "top": null,
            "visibility": null,
            "width": null
          }
        },
        "d3201697cc8a47be83858cd063778bad": {
          "model_module": "@jupyter-widgets/controls",
          "model_name": "DescriptionStyleModel",
          "model_module_version": "1.5.0",
          "state": {
            "_model_module": "@jupyter-widgets/controls",
            "_model_module_version": "1.5.0",
            "_model_name": "DescriptionStyleModel",
            "_view_count": null,
            "_view_module": "@jupyter-widgets/base",
            "_view_module_version": "1.2.0",
            "_view_name": "StyleView",
            "description_width": ""
          }
        }
      }
    }
  },
  "cells": [
    {
      "cell_type": "code",
      "execution_count": null,
      "metadata": {
        "colab": {
          "base_uri": "https://localhost:8080/"
        },
        "id": "7cyXpURCMRpf",
        "outputId": "de00e70c-ab6f-4d81-e04f-944fc137267e"
      },
      "outputs": [
        {
          "output_type": "stream",
          "name": "stderr",
          "text": [
            "[nltk_data] Downloading package stopwords to /root/nltk_data...\n",
            "[nltk_data]   Package stopwords is already up-to-date!\n"
          ]
        }
      ],
      "source": [
        "import numpy as np\n",
        "import pandas as pd\n",
        "import matplotlib.pyplot as plt\n",
        "import seaborn as sns\n",
        "%matplotlib inline\n",
        "sns.set(rc={\"figure.figsize\":(10, 6)})\n",
        "\n",
        "import nltk\n",
        "nltk.download('stopwords')\n",
        "from nltk.corpus import stopwords"
      ]
    },
    {
      "cell_type": "code",
      "source": [
        "# Null data has been handled in previous version\n",
        "data_file_path = \"/content/drive/MyDrive/Colab Notebooks/NLP/Classification/Nepali Sentimental Classification/not_null_sentimental_data.csv\"\n",
        "data = pd.read_csv(data_file_path)"
      ],
      "metadata": {
        "id": "AXSkNLNLNKXy"
      },
      "execution_count": null,
      "outputs": []
    },
    {
      "cell_type": "code",
      "source": [
        "data.sample(3)"
      ],
      "metadata": {
        "colab": {
          "base_uri": "https://localhost:8080/",
          "height": 143
        },
        "id": "7E0IW-JJRrJ_",
        "outputId": "08d56548-677f-4efc-b33c-8a57a4a5a757"
      },
      "execution_count": null,
      "outputs": [
        {
          "output_type": "execute_result",
          "data": {
            "text/plain": [
              "      Unnamed: 0                                               Data Label\n",
              "600          601                             better with you in it.     1\n",
              "238          239               देश आफै बन्छ सुरुवात आफुबाट सुरु गरौ     1\n",
              "1415        1416  मनपरि नबोलौँ भन्छु साला यस्तै पोष्ट देखेपछि दि...     2"
            ],
            "text/html": [
              "\n",
              "  <div id=\"df-ce40dcab-25e3-45da-8765-fffac6f4cabd\">\n",
              "    <div class=\"colab-df-container\">\n",
              "      <div>\n",
              "<style scoped>\n",
              "    .dataframe tbody tr th:only-of-type {\n",
              "        vertical-align: middle;\n",
              "    }\n",
              "\n",
              "    .dataframe tbody tr th {\n",
              "        vertical-align: top;\n",
              "    }\n",
              "\n",
              "    .dataframe thead th {\n",
              "        text-align: right;\n",
              "    }\n",
              "</style>\n",
              "<table border=\"1\" class=\"dataframe\">\n",
              "  <thead>\n",
              "    <tr style=\"text-align: right;\">\n",
              "      <th></th>\n",
              "      <th>Unnamed: 0</th>\n",
              "      <th>Data</th>\n",
              "      <th>Label</th>\n",
              "    </tr>\n",
              "  </thead>\n",
              "  <tbody>\n",
              "    <tr>\n",
              "      <th>600</th>\n",
              "      <td>601</td>\n",
              "      <td>better with you in it.</td>\n",
              "      <td>1</td>\n",
              "    </tr>\n",
              "    <tr>\n",
              "      <th>238</th>\n",
              "      <td>239</td>\n",
              "      <td>देश आफै बन्छ सुरुवात आफुबाट सुरु गरौ</td>\n",
              "      <td>1</td>\n",
              "    </tr>\n",
              "    <tr>\n",
              "      <th>1415</th>\n",
              "      <td>1416</td>\n",
              "      <td>मनपरि नबोलौँ भन्छु साला यस्तै पोष्ट देखेपछि दि...</td>\n",
              "      <td>2</td>\n",
              "    </tr>\n",
              "  </tbody>\n",
              "</table>\n",
              "</div>\n",
              "      <button class=\"colab-df-convert\" onclick=\"convertToInteractive('df-ce40dcab-25e3-45da-8765-fffac6f4cabd')\"\n",
              "              title=\"Convert this dataframe to an interactive table.\"\n",
              "              style=\"display:none;\">\n",
              "        \n",
              "  <svg xmlns=\"http://www.w3.org/2000/svg\" height=\"24px\"viewBox=\"0 0 24 24\"\n",
              "       width=\"24px\">\n",
              "    <path d=\"M0 0h24v24H0V0z\" fill=\"none\"/>\n",
              "    <path d=\"M18.56 5.44l.94 2.06.94-2.06 2.06-.94-2.06-.94-.94-2.06-.94 2.06-2.06.94zm-11 1L8.5 8.5l.94-2.06 2.06-.94-2.06-.94L8.5 2.5l-.94 2.06-2.06.94zm10 10l.94 2.06.94-2.06 2.06-.94-2.06-.94-.94-2.06-.94 2.06-2.06.94z\"/><path d=\"M17.41 7.96l-1.37-1.37c-.4-.4-.92-.59-1.43-.59-.52 0-1.04.2-1.43.59L10.3 9.45l-7.72 7.72c-.78.78-.78 2.05 0 2.83L4 21.41c.39.39.9.59 1.41.59.51 0 1.02-.2 1.41-.59l7.78-7.78 2.81-2.81c.8-.78.8-2.07 0-2.86zM5.41 20L4 18.59l7.72-7.72 1.47 1.35L5.41 20z\"/>\n",
              "  </svg>\n",
              "      </button>\n",
              "      \n",
              "  <style>\n",
              "    .colab-df-container {\n",
              "      display:flex;\n",
              "      flex-wrap:wrap;\n",
              "      gap: 12px;\n",
              "    }\n",
              "\n",
              "    .colab-df-convert {\n",
              "      background-color: #E8F0FE;\n",
              "      border: none;\n",
              "      border-radius: 50%;\n",
              "      cursor: pointer;\n",
              "      display: none;\n",
              "      fill: #1967D2;\n",
              "      height: 32px;\n",
              "      padding: 0 0 0 0;\n",
              "      width: 32px;\n",
              "    }\n",
              "\n",
              "    .colab-df-convert:hover {\n",
              "      background-color: #E2EBFA;\n",
              "      box-shadow: 0px 1px 2px rgba(60, 64, 67, 0.3), 0px 1px 3px 1px rgba(60, 64, 67, 0.15);\n",
              "      fill: #174EA6;\n",
              "    }\n",
              "\n",
              "    [theme=dark] .colab-df-convert {\n",
              "      background-color: #3B4455;\n",
              "      fill: #D2E3FC;\n",
              "    }\n",
              "\n",
              "    [theme=dark] .colab-df-convert:hover {\n",
              "      background-color: #434B5C;\n",
              "      box-shadow: 0px 1px 3px 1px rgba(0, 0, 0, 0.15);\n",
              "      filter: drop-shadow(0px 1px 2px rgba(0, 0, 0, 0.3));\n",
              "      fill: #FFFFFF;\n",
              "    }\n",
              "  </style>\n",
              "\n",
              "      <script>\n",
              "        const buttonEl =\n",
              "          document.querySelector('#df-ce40dcab-25e3-45da-8765-fffac6f4cabd button.colab-df-convert');\n",
              "        buttonEl.style.display =\n",
              "          google.colab.kernel.accessAllowed ? 'block' : 'none';\n",
              "\n",
              "        async function convertToInteractive(key) {\n",
              "          const element = document.querySelector('#df-ce40dcab-25e3-45da-8765-fffac6f4cabd');\n",
              "          const dataTable =\n",
              "            await google.colab.kernel.invokeFunction('convertToInteractive',\n",
              "                                                     [key], {});\n",
              "          if (!dataTable) return;\n",
              "\n",
              "          const docLinkHtml = 'Like what you see? Visit the ' +\n",
              "            '<a target=\"_blank\" href=https://colab.research.google.com/notebooks/data_table.ipynb>data table notebook</a>'\n",
              "            + ' to learn more about interactive tables.';\n",
              "          element.innerHTML = '';\n",
              "          dataTable['output_type'] = 'display_data';\n",
              "          await google.colab.output.renderOutput(dataTable, element);\n",
              "          const docLink = document.createElement('div');\n",
              "          docLink.innerHTML = docLinkHtml;\n",
              "          element.appendChild(docLink);\n",
              "        }\n",
              "      </script>\n",
              "    </div>\n",
              "  </div>\n",
              "  "
            ]
          },
          "metadata": {},
          "execution_count": 54
        }
      ]
    },
    {
      "cell_type": "code",
      "source": [
        "data.drop(labels = [\"Unnamed: 0\"], axis = 1, inplace = True)"
      ],
      "metadata": {
        "id": "trwkL6ZWRtac"
      },
      "execution_count": null,
      "outputs": []
    },
    {
      "cell_type": "code",
      "source": [
        "data.head()"
      ],
      "metadata": {
        "colab": {
          "base_uri": "https://localhost:8080/",
          "height": 206
        },
        "id": "C1b1U4p7R9ex",
        "outputId": "d633257e-285b-479f-db59-e04416d5f3aa"
      },
      "execution_count": null,
      "outputs": [
        {
          "output_type": "execute_result",
          "data": {
            "text/plain": [
              "                                                Data Label\n",
              "0                                यो समान राम्रो रहेछ     1\n",
              "1                                   समान राम्रो रहेछ     1\n",
              "2                                        राम्रो रहेछ     1\n",
              "3  यो घडी मलाइ साँच्चिकै सुहाउछ । म यसलाई खरीद गर...     1\n",
              "4                                   साँच्चिकै सुहाउछ     1"
            ],
            "text/html": [
              "\n",
              "  <div id=\"df-6815a49d-75eb-42fa-85fb-450847ecbe16\">\n",
              "    <div class=\"colab-df-container\">\n",
              "      <div>\n",
              "<style scoped>\n",
              "    .dataframe tbody tr th:only-of-type {\n",
              "        vertical-align: middle;\n",
              "    }\n",
              "\n",
              "    .dataframe tbody tr th {\n",
              "        vertical-align: top;\n",
              "    }\n",
              "\n",
              "    .dataframe thead th {\n",
              "        text-align: right;\n",
              "    }\n",
              "</style>\n",
              "<table border=\"1\" class=\"dataframe\">\n",
              "  <thead>\n",
              "    <tr style=\"text-align: right;\">\n",
              "      <th></th>\n",
              "      <th>Data</th>\n",
              "      <th>Label</th>\n",
              "    </tr>\n",
              "  </thead>\n",
              "  <tbody>\n",
              "    <tr>\n",
              "      <th>0</th>\n",
              "      <td>यो समान राम्रो रहेछ</td>\n",
              "      <td>1</td>\n",
              "    </tr>\n",
              "    <tr>\n",
              "      <th>1</th>\n",
              "      <td>समान राम्रो रहेछ</td>\n",
              "      <td>1</td>\n",
              "    </tr>\n",
              "    <tr>\n",
              "      <th>2</th>\n",
              "      <td>राम्रो रहेछ</td>\n",
              "      <td>1</td>\n",
              "    </tr>\n",
              "    <tr>\n",
              "      <th>3</th>\n",
              "      <td>यो घडी मलाइ साँच्चिकै सुहाउछ । म यसलाई खरीद गर...</td>\n",
              "      <td>1</td>\n",
              "    </tr>\n",
              "    <tr>\n",
              "      <th>4</th>\n",
              "      <td>साँच्चिकै सुहाउछ</td>\n",
              "      <td>1</td>\n",
              "    </tr>\n",
              "  </tbody>\n",
              "</table>\n",
              "</div>\n",
              "      <button class=\"colab-df-convert\" onclick=\"convertToInteractive('df-6815a49d-75eb-42fa-85fb-450847ecbe16')\"\n",
              "              title=\"Convert this dataframe to an interactive table.\"\n",
              "              style=\"display:none;\">\n",
              "        \n",
              "  <svg xmlns=\"http://www.w3.org/2000/svg\" height=\"24px\"viewBox=\"0 0 24 24\"\n",
              "       width=\"24px\">\n",
              "    <path d=\"M0 0h24v24H0V0z\" fill=\"none\"/>\n",
              "    <path d=\"M18.56 5.44l.94 2.06.94-2.06 2.06-.94-2.06-.94-.94-2.06-.94 2.06-2.06.94zm-11 1L8.5 8.5l.94-2.06 2.06-.94-2.06-.94L8.5 2.5l-.94 2.06-2.06.94zm10 10l.94 2.06.94-2.06 2.06-.94-2.06-.94-.94-2.06-.94 2.06-2.06.94z\"/><path d=\"M17.41 7.96l-1.37-1.37c-.4-.4-.92-.59-1.43-.59-.52 0-1.04.2-1.43.59L10.3 9.45l-7.72 7.72c-.78.78-.78 2.05 0 2.83L4 21.41c.39.39.9.59 1.41.59.51 0 1.02-.2 1.41-.59l7.78-7.78 2.81-2.81c.8-.78.8-2.07 0-2.86zM5.41 20L4 18.59l7.72-7.72 1.47 1.35L5.41 20z\"/>\n",
              "  </svg>\n",
              "      </button>\n",
              "      \n",
              "  <style>\n",
              "    .colab-df-container {\n",
              "      display:flex;\n",
              "      flex-wrap:wrap;\n",
              "      gap: 12px;\n",
              "    }\n",
              "\n",
              "    .colab-df-convert {\n",
              "      background-color: #E8F0FE;\n",
              "      border: none;\n",
              "      border-radius: 50%;\n",
              "      cursor: pointer;\n",
              "      display: none;\n",
              "      fill: #1967D2;\n",
              "      height: 32px;\n",
              "      padding: 0 0 0 0;\n",
              "      width: 32px;\n",
              "    }\n",
              "\n",
              "    .colab-df-convert:hover {\n",
              "      background-color: #E2EBFA;\n",
              "      box-shadow: 0px 1px 2px rgba(60, 64, 67, 0.3), 0px 1px 3px 1px rgba(60, 64, 67, 0.15);\n",
              "      fill: #174EA6;\n",
              "    }\n",
              "\n",
              "    [theme=dark] .colab-df-convert {\n",
              "      background-color: #3B4455;\n",
              "      fill: #D2E3FC;\n",
              "    }\n",
              "\n",
              "    [theme=dark] .colab-df-convert:hover {\n",
              "      background-color: #434B5C;\n",
              "      box-shadow: 0px 1px 3px 1px rgba(0, 0, 0, 0.15);\n",
              "      filter: drop-shadow(0px 1px 2px rgba(0, 0, 0, 0.3));\n",
              "      fill: #FFFFFF;\n",
              "    }\n",
              "  </style>\n",
              "\n",
              "      <script>\n",
              "        const buttonEl =\n",
              "          document.querySelector('#df-6815a49d-75eb-42fa-85fb-450847ecbe16 button.colab-df-convert');\n",
              "        buttonEl.style.display =\n",
              "          google.colab.kernel.accessAllowed ? 'block' : 'none';\n",
              "\n",
              "        async function convertToInteractive(key) {\n",
              "          const element = document.querySelector('#df-6815a49d-75eb-42fa-85fb-450847ecbe16');\n",
              "          const dataTable =\n",
              "            await google.colab.kernel.invokeFunction('convertToInteractive',\n",
              "                                                     [key], {});\n",
              "          if (!dataTable) return;\n",
              "\n",
              "          const docLinkHtml = 'Like what you see? Visit the ' +\n",
              "            '<a target=\"_blank\" href=https://colab.research.google.com/notebooks/data_table.ipynb>data table notebook</a>'\n",
              "            + ' to learn more about interactive tables.';\n",
              "          element.innerHTML = '';\n",
              "          dataTable['output_type'] = 'display_data';\n",
              "          await google.colab.output.renderOutput(dataTable, element);\n",
              "          const docLink = document.createElement('div');\n",
              "          docLink.innerHTML = docLinkHtml;\n",
              "          element.appendChild(docLink);\n",
              "        }\n",
              "      </script>\n",
              "    </div>\n",
              "  </div>\n",
              "  "
            ]
          },
          "metadata": {},
          "execution_count": 56
        }
      ]
    },
    {
      "cell_type": "code",
      "source": [
        "data[data.isnull().any(axis=1)]"
      ],
      "metadata": {
        "colab": {
          "base_uri": "https://localhost:8080/",
          "height": 49
        },
        "id": "4H-reA_mSC5_",
        "outputId": "3622666b-e112-48af-d5ec-05cf54dfb12c"
      },
      "execution_count": null,
      "outputs": [
        {
          "output_type": "execute_result",
          "data": {
            "text/plain": [
              "Empty DataFrame\n",
              "Columns: [Data, Label]\n",
              "Index: []"
            ],
            "text/html": [
              "\n",
              "  <div id=\"df-b31a181c-d447-4dd5-9d57-044d5d48eb24\">\n",
              "    <div class=\"colab-df-container\">\n",
              "      <div>\n",
              "<style scoped>\n",
              "    .dataframe tbody tr th:only-of-type {\n",
              "        vertical-align: middle;\n",
              "    }\n",
              "\n",
              "    .dataframe tbody tr th {\n",
              "        vertical-align: top;\n",
              "    }\n",
              "\n",
              "    .dataframe thead th {\n",
              "        text-align: right;\n",
              "    }\n",
              "</style>\n",
              "<table border=\"1\" class=\"dataframe\">\n",
              "  <thead>\n",
              "    <tr style=\"text-align: right;\">\n",
              "      <th></th>\n",
              "      <th>Data</th>\n",
              "      <th>Label</th>\n",
              "    </tr>\n",
              "  </thead>\n",
              "  <tbody>\n",
              "  </tbody>\n",
              "</table>\n",
              "</div>\n",
              "      <button class=\"colab-df-convert\" onclick=\"convertToInteractive('df-b31a181c-d447-4dd5-9d57-044d5d48eb24')\"\n",
              "              title=\"Convert this dataframe to an interactive table.\"\n",
              "              style=\"display:none;\">\n",
              "        \n",
              "  <svg xmlns=\"http://www.w3.org/2000/svg\" height=\"24px\"viewBox=\"0 0 24 24\"\n",
              "       width=\"24px\">\n",
              "    <path d=\"M0 0h24v24H0V0z\" fill=\"none\"/>\n",
              "    <path d=\"M18.56 5.44l.94 2.06.94-2.06 2.06-.94-2.06-.94-.94-2.06-.94 2.06-2.06.94zm-11 1L8.5 8.5l.94-2.06 2.06-.94-2.06-.94L8.5 2.5l-.94 2.06-2.06.94zm10 10l.94 2.06.94-2.06 2.06-.94-2.06-.94-.94-2.06-.94 2.06-2.06.94z\"/><path d=\"M17.41 7.96l-1.37-1.37c-.4-.4-.92-.59-1.43-.59-.52 0-1.04.2-1.43.59L10.3 9.45l-7.72 7.72c-.78.78-.78 2.05 0 2.83L4 21.41c.39.39.9.59 1.41.59.51 0 1.02-.2 1.41-.59l7.78-7.78 2.81-2.81c.8-.78.8-2.07 0-2.86zM5.41 20L4 18.59l7.72-7.72 1.47 1.35L5.41 20z\"/>\n",
              "  </svg>\n",
              "      </button>\n",
              "      \n",
              "  <style>\n",
              "    .colab-df-container {\n",
              "      display:flex;\n",
              "      flex-wrap:wrap;\n",
              "      gap: 12px;\n",
              "    }\n",
              "\n",
              "    .colab-df-convert {\n",
              "      background-color: #E8F0FE;\n",
              "      border: none;\n",
              "      border-radius: 50%;\n",
              "      cursor: pointer;\n",
              "      display: none;\n",
              "      fill: #1967D2;\n",
              "      height: 32px;\n",
              "      padding: 0 0 0 0;\n",
              "      width: 32px;\n",
              "    }\n",
              "\n",
              "    .colab-df-convert:hover {\n",
              "      background-color: #E2EBFA;\n",
              "      box-shadow: 0px 1px 2px rgba(60, 64, 67, 0.3), 0px 1px 3px 1px rgba(60, 64, 67, 0.15);\n",
              "      fill: #174EA6;\n",
              "    }\n",
              "\n",
              "    [theme=dark] .colab-df-convert {\n",
              "      background-color: #3B4455;\n",
              "      fill: #D2E3FC;\n",
              "    }\n",
              "\n",
              "    [theme=dark] .colab-df-convert:hover {\n",
              "      background-color: #434B5C;\n",
              "      box-shadow: 0px 1px 3px 1px rgba(0, 0, 0, 0.15);\n",
              "      filter: drop-shadow(0px 1px 2px rgba(0, 0, 0, 0.3));\n",
              "      fill: #FFFFFF;\n",
              "    }\n",
              "  </style>\n",
              "\n",
              "      <script>\n",
              "        const buttonEl =\n",
              "          document.querySelector('#df-b31a181c-d447-4dd5-9d57-044d5d48eb24 button.colab-df-convert');\n",
              "        buttonEl.style.display =\n",
              "          google.colab.kernel.accessAllowed ? 'block' : 'none';\n",
              "\n",
              "        async function convertToInteractive(key) {\n",
              "          const element = document.querySelector('#df-b31a181c-d447-4dd5-9d57-044d5d48eb24');\n",
              "          const dataTable =\n",
              "            await google.colab.kernel.invokeFunction('convertToInteractive',\n",
              "                                                     [key], {});\n",
              "          if (!dataTable) return;\n",
              "\n",
              "          const docLinkHtml = 'Like what you see? Visit the ' +\n",
              "            '<a target=\"_blank\" href=https://colab.research.google.com/notebooks/data_table.ipynb>data table notebook</a>'\n",
              "            + ' to learn more about interactive tables.';\n",
              "          element.innerHTML = '';\n",
              "          dataTable['output_type'] = 'display_data';\n",
              "          await google.colab.output.renderOutput(dataTable, element);\n",
              "          const docLink = document.createElement('div');\n",
              "          docLink.innerHTML = docLinkHtml;\n",
              "          element.appendChild(docLink);\n",
              "        }\n",
              "      </script>\n",
              "    </div>\n",
              "  </div>\n",
              "  "
            ]
          },
          "metadata": {},
          "execution_count": 57
        }
      ]
    },
    {
      "cell_type": "code",
      "source": [
        "data.info()"
      ],
      "metadata": {
        "colab": {
          "base_uri": "https://localhost:8080/"
        },
        "id": "nILLrD53SNk-",
        "outputId": "11464fe3-0e3d-466b-dfdc-f421e0b0c90d"
      },
      "execution_count": null,
      "outputs": [
        {
          "output_type": "stream",
          "name": "stdout",
          "text": [
            "<class 'pandas.core.frame.DataFrame'>\n",
            "RangeIndex: 2186 entries, 0 to 2185\n",
            "Data columns (total 2 columns):\n",
            " #   Column  Non-Null Count  Dtype \n",
            "---  ------  --------------  ----- \n",
            " 0   Data    2186 non-null   object\n",
            " 1   Label   2186 non-null   object\n",
            "dtypes: object(2)\n",
            "memory usage: 34.3+ KB\n"
          ]
        }
      ]
    },
    {
      "cell_type": "code",
      "source": [
        "data[\"Label\"] = data[\"Label\"].astype(int)"
      ],
      "metadata": {
        "id": "uIhWuQ97UMRO"
      },
      "execution_count": null,
      "outputs": []
    },
    {
      "cell_type": "code",
      "source": [
        "data.Label.value_counts()"
      ],
      "metadata": {
        "colab": {
          "base_uri": "https://localhost:8080/"
        },
        "id": "2rF6sk38UaOm",
        "outputId": "53b3708f-8982-45c0-d822-4c2ba2faf154"
      },
      "execution_count": null,
      "outputs": [
        {
          "output_type": "execute_result",
          "data": {
            "text/plain": [
              "2    770\n",
              "0    717\n",
              "1    699\n",
              "Name: Label, dtype: int64"
            ]
          },
          "metadata": {},
          "execution_count": 60
        }
      ]
    },
    {
      "cell_type": "markdown",
      "source": [
        "# Text Preprocessing"
      ],
      "metadata": {
        "id": "TbImXuCDSULL"
      }
    },
    {
      "cell_type": "code",
      "source": [
        "!pip install nepalitokenizer\n",
        "!pip install nepali-stemmer"
      ],
      "metadata": {
        "colab": {
          "base_uri": "https://localhost:8080/"
        },
        "id": "Qk461Af7SXjd",
        "outputId": "f0483637-77ba-4e1c-b4b5-a06797e5afd4"
      },
      "execution_count": null,
      "outputs": [
        {
          "output_type": "stream",
          "name": "stdout",
          "text": [
            "Looking in indexes: https://pypi.org/simple, https://us-python.pkg.dev/colab-wheels/public/simple/\n",
            "Requirement already satisfied: nepalitokenizer in /usr/local/lib/python3.8/dist-packages (1.8.6.0)\n",
            "Looking in indexes: https://pypi.org/simple, https://us-python.pkg.dev/colab-wheels/public/simple/\n",
            "Requirement already satisfied: nepali-stemmer in /usr/local/lib/python3.8/dist-packages (0.0.2)\n"
          ]
        }
      ]
    },
    {
      "cell_type": "code",
      "source": [
        "from nepali_stemmer.stemmer import NepStemmer\n",
        "from nepalitokenizer import NepaliTokenizer\n",
        "nepstem = NepStemmer()\n",
        "tokenize = NepaliTokenizer()\n",
        "\n",
        "def text_preprocessing(text, nepali_stopwords = stopwords.words('nepali')):\n",
        "  # Tokenize the reviews\n",
        "  text = tokenize.tokenizer(text)\n",
        "  # Remove the nepali stopwords\n",
        "  text = [word for word in text if word not in nepali_stopwords]\n",
        "  text = ' '.join(text)\n",
        "  # Stemming the nepali words\n",
        "  text = nepstem.stem(text)\n",
        "  # Remove the leading and trailing spaces\n",
        "  text = text.split()\n",
        "  text = ' '.join(text)  \n",
        "  return text"
      ],
      "metadata": {
        "id": "dsfPvQE-SQqi"
      },
      "execution_count": null,
      "outputs": []
    },
    {
      "cell_type": "code",
      "source": [
        "X = data[\"Data\"].apply(text_preprocessing)\n",
        "y = data[\"Label\"] "
      ],
      "metadata": {
        "id": "lzNFmwBDSa-x"
      },
      "execution_count": null,
      "outputs": []
    },
    {
      "cell_type": "markdown",
      "source": [
        "### Problem : ramro is removed during tokenization in preprocessing"
      ],
      "metadata": {
        "id": "BDu7xIH0Snvh"
      }
    },
    {
      "cell_type": "code",
      "source": [
        "X[:5]"
      ],
      "metadata": {
        "colab": {
          "base_uri": "https://localhost:8080/"
        },
        "id": "Fq217d1kSdKZ",
        "outputId": "fc2978ff-2c42-4868-e9f5-5287256694f9"
      },
      "execution_count": null,
      "outputs": [
        {
          "output_type": "execute_result",
          "data": {
            "text/plain": [
              "0                                              समान\n",
              "1                                              समान\n",
              "2                                                  \n",
              "3    घडी मलाइ साँच्चि कै सुहाउछ यस लाई खरीद गर्नेछु\n",
              "4                                 साँच्चि कै सुहाउछ\n",
              "Name: Data, dtype: object"
            ]
          },
          "metadata": {},
          "execution_count": 64
        }
      ]
    },
    {
      "cell_type": "markdown",
      "source": [
        "# Train, Validation and Test Split"
      ],
      "metadata": {
        "id": "Zj9Xq1b3SvpB"
      }
    },
    {
      "cell_type": "code",
      "source": [
        "from sklearn.model_selection import train_test_split\n",
        "X_train, X_test, y_train, y_test = train_test_split(X, y, test_size=0.2, random_state = 101)\n",
        "X_val, X_test, y_val, y_test = train_test_split(X_test, y_test, test_size = 0.5, random_state = 101)"
      ],
      "metadata": {
        "id": "1NpO3cAESvY5"
      },
      "execution_count": null,
      "outputs": []
    },
    {
      "cell_type": "code",
      "source": [
        "print(f\"Train size =  {len(X_train)}\")\n",
        "print(f\"Validation size =  {len(X_val)}\")\n",
        "print(f\"Test size =  {len(X_test)}\")"
      ],
      "metadata": {
        "colab": {
          "base_uri": "https://localhost:8080/"
        },
        "id": "DniXFNyjSgDt",
        "outputId": "c1ce1b8f-4be7-491e-a781-14f76176756a"
      },
      "execution_count": null,
      "outputs": [
        {
          "output_type": "stream",
          "name": "stdout",
          "text": [
            "Train size =  1748\n",
            "Validation size =  219\n",
            "Test size =  219\n"
          ]
        }
      ]
    },
    {
      "cell_type": "code",
      "source": [
        "print(len(y_train), len(y_val), len(y_test))"
      ],
      "metadata": {
        "colab": {
          "base_uri": "https://localhost:8080/"
        },
        "id": "LahfrLKoS0g2",
        "outputId": "0b9c8a38-06f6-4a53-de9f-ceb16d9ab39e"
      },
      "execution_count": null,
      "outputs": [
        {
          "output_type": "stream",
          "name": "stdout",
          "text": [
            "1748 219 219\n"
          ]
        }
      ]
    },
    {
      "cell_type": "markdown",
      "source": [
        "# One Hot Encoding"
      ],
      "metadata": {
        "id": "7lsPN3XuS-Id"
      }
    },
    {
      "cell_type": "code",
      "source": [
        "UNIQUE_WORD_COUNT = 3179\n",
        "MAX_PAD_LENGTH = 10"
      ],
      "metadata": {
        "id": "ri-G7GHlTB8d"
      },
      "execution_count": null,
      "outputs": []
    },
    {
      "cell_type": "code",
      "source": [
        "from keras.preprocessing.text import Tokenizer\n",
        "from keras_preprocessing.sequence import pad_sequences\n",
        "tokenizer = Tokenizer(num_words = UNIQUE_WORD_COUNT)\n",
        "tokenizer.fit_on_texts(X_train)"
      ],
      "metadata": {
        "id": "XmnhKCrLS1xc"
      },
      "execution_count": null,
      "outputs": []
    },
    {
      "cell_type": "code",
      "source": [
        "train_sequences = tokenizer.texts_to_sequences(X_train)\n",
        "print(train_sequences[0])\n",
        "train_padded = pad_sequences(train_sequences, maxlen = MAX_PAD_LENGTH, padding = 'post', truncating = 'post')\n",
        "print(train_padded[0])"
      ],
      "metadata": {
        "colab": {
          "base_uri": "https://localhost:8080/"
        },
        "id": "HQoW6IilTIXx",
        "outputId": "79478454-cd2f-4b39-90ff-bb35ddc1b059"
      },
      "execution_count": null,
      "outputs": [
        {
          "output_type": "stream",
          "name": "stdout",
          "text": [
            "[2028, 7, 542, 252, 543]\n",
            "[2028    7  542  252  543    0    0    0    0    0]\n"
          ]
        }
      ]
    },
    {
      "cell_type": "code",
      "source": [
        "val_sequences = tokenizer.texts_to_sequences(X_val)\n",
        "print(val_sequences[0])\n",
        "val_padded = pad_sequences(val_sequences, maxlen = MAX_PAD_LENGTH, padding = \"post\", truncating = \"post\")\n",
        "print(val_padded[0])"
      ],
      "metadata": {
        "colab": {
          "base_uri": "https://localhost:8080/"
        },
        "id": "cwgaQftCTX0u",
        "outputId": "405711cc-3576-4b35-d7f6-c224cf389ee4"
      },
      "execution_count": null,
      "outputs": [
        {
          "output_type": "stream",
          "name": "stdout",
          "text": [
            "[2516, 66, 40]\n",
            "[2516   66   40    0    0    0    0    0    0    0]\n"
          ]
        }
      ]
    },
    {
      "cell_type": "code",
      "source": [
        "test_sequences = tokenizer.texts_to_sequences(X_test)\n",
        "print(test_sequences[0])\n",
        "test_padded = pad_sequences(test_sequences, maxlen = MAX_PAD_LENGTH, padding = \"post\", truncating = \"post\")\n",
        "print(test_padded[0])"
      ],
      "metadata": {
        "colab": {
          "base_uri": "https://localhost:8080/"
        },
        "id": "rWQoSkSETeHw",
        "outputId": "41a46a27-6274-44ee-e1d3-cafe72992844"
      },
      "execution_count": null,
      "outputs": [
        {
          "output_type": "stream",
          "name": "stdout",
          "text": [
            "[20, 2517, 407, 794, 2518]\n",
            "[  20 2517  407  794 2518    0    0    0    0    0]\n"
          ]
        }
      ]
    },
    {
      "cell_type": "code",
      "source": [
        "y_train = pd.get_dummies(y_train).values\n",
        "y_val = pd.get_dummies(y_val).values\n",
        "y_test = pd.get_dummies(y_test).values"
      ],
      "metadata": {
        "id": "IQv9JYwmThYO"
      },
      "execution_count": null,
      "outputs": []
    },
    {
      "cell_type": "code",
      "source": [
        "train_padded"
      ],
      "metadata": {
        "colab": {
          "base_uri": "https://localhost:8080/"
        },
        "id": "rSdBLa70XYhp",
        "outputId": "f28c4f91-be3c-4d34-aef7-0c11a810ce39"
      },
      "execution_count": null,
      "outputs": [
        {
          "output_type": "execute_result",
          "data": {
            "text/plain": [
              "array([[2028,    7,  542, ...,    0,    0,    0],\n",
              "       [ 142,  339,  340, ...,    0,    0,    0],\n",
              "       [ 545,  185,  888, ...,    0,    0,    0],\n",
              "       ...,\n",
              "       [ 541,  883,    0, ...,    0,    0,    0],\n",
              "       [  85,    9,    3, ...,    0,    0,    0],\n",
              "       [1116,  644, 1117, ...,    0,    0,    0]], dtype=int32)"
            ]
          },
          "metadata": {},
          "execution_count": 74
        }
      ]
    },
    {
      "cell_type": "code",
      "source": [
        "y_train"
      ],
      "metadata": {
        "colab": {
          "base_uri": "https://localhost:8080/"
        },
        "id": "6gZirjN-TngQ",
        "outputId": "04831328-bac3-49a1-9a81-090562bca47f"
      },
      "execution_count": null,
      "outputs": [
        {
          "output_type": "execute_result",
          "data": {
            "text/plain": [
              "array([[0, 0, 1],\n",
              "       [0, 1, 0],\n",
              "       [0, 0, 1],\n",
              "       ...,\n",
              "       [0, 0, 1],\n",
              "       [0, 1, 0],\n",
              "       [1, 0, 0]], dtype=uint8)"
            ]
          },
          "metadata": {},
          "execution_count": 75
        }
      ]
    },
    {
      "cell_type": "code",
      "source": [
        "print(type(train_sequences[0]))\n",
        "print(train_sequences[0])"
      ],
      "metadata": {
        "colab": {
          "base_uri": "https://localhost:8080/"
        },
        "id": "6ZRk9bNBYD7R",
        "outputId": "72b95fd6-aa90-4122-c4ca-2861f349210e"
      },
      "execution_count": null,
      "outputs": [
        {
          "output_type": "stream",
          "name": "stdout",
          "text": [
            "<class 'list'>\n",
            "[2028, 7, 542, 252, 543]\n"
          ]
        }
      ]
    },
    {
      "cell_type": "code",
      "source": [
        "word_index = tokenizer.word_index\n",
        "reverse_word_index = dict([(value, key) for (key, value) in word_index.items()])\n",
        "\n",
        "def decode(text):\n",
        "  return \" \".join([reverse_word_index.get(i, \"?\") for i in  text])\n",
        "decode( [ 803, 1588,   54, 2546, 1589,    6,   63,    0,    0,    0])\n"
      ],
      "metadata": {
        "colab": {
          "base_uri": "https://localhost:8080/",
          "height": 35
        },
        "id": "JCqqJQYbXwKd",
        "outputId": "0f0f0b46-41f8-47d3-db54-47eb7abe8a07"
      },
      "execution_count": null,
      "outputs": [
        {
          "output_type": "execute_result",
          "data": {
            "text/plain": [
              "'वाह शितल पोस्ट साझा गर्न का धन्यवाद ? ? ?'"
            ],
            "application/vnd.google.colaboratory.intrinsic+json": {
              "type": "string"
            }
          },
          "metadata": {},
          "execution_count": 77
        }
      ]
    },
    {
      "cell_type": "markdown",
      "source": [
        "# Data Loader"
      ],
      "metadata": {
        "id": "sgckjfSTfUZ3"
      }
    },
    {
      "cell_type": "code",
      "source": [
        "import torch\n",
        "from torch import nn\n",
        "from torch.utils.data import DataLoader, TensorDataset\n",
        "\n",
        "torch.manual_seed(50)\n",
        "torch.cuda.manual_seed(50)\n",
        "\n",
        "torch.__version__"
      ],
      "metadata": {
        "colab": {
          "base_uri": "https://localhost:8080/",
          "height": 35
        },
        "id": "tNPiSGWAfWHy",
        "outputId": "86d739fe-a7bf-4be9-dff3-44da043208fc"
      },
      "execution_count": null,
      "outputs": [
        {
          "output_type": "execute_result",
          "data": {
            "text/plain": [
              "'1.13.0+cu116'"
            ],
            "application/vnd.google.colaboratory.intrinsic+json": {
              "type": "string"
            }
          },
          "metadata": {},
          "execution_count": 78
        }
      ]
    },
    {
      "cell_type": "code",
      "source": [
        "train_data = TensorDataset(torch.LongTensor(train_padded), torch.FloatTensor(y_train))\n",
        "valid_data = TensorDataset(torch.LongTensor(val_padded), torch.FloatTensor(y_val))\n",
        "test_data = TensorDataset(torch.LongTensor(test_padded), torch.FloatTensor(y_test))\n",
        "\n",
        "BATCH_SIZE = 32\n",
        "train_loader = DataLoader(train_data, batch_size = BATCH_SIZE, shuffle = True, drop_last = False)\n",
        "valid_loader = DataLoader(valid_data, batch_size = BATCH_SIZE, shuffle = False, drop_last = False)\n",
        "test_loader = DataLoader(test_data, batch_size = BATCH_SIZE, shuffle = False, drop_last = False)"
      ],
      "metadata": {
        "id": "w_hoiATefWFS"
      },
      "execution_count": null,
      "outputs": []
    },
    {
      "cell_type": "code",
      "source": [
        "for X, y in train_loader:\n",
        "  print(X)\n",
        "  print(y)\n",
        "  break"
      ],
      "metadata": {
        "id": "sZi6znjifWCx",
        "colab": {
          "base_uri": "https://localhost:8080/"
        },
        "outputId": "35d05e30-25f3-4992-d166-2fbccf62a1d0"
      },
      "execution_count": null,
      "outputs": [
        {
          "output_type": "stream",
          "name": "stdout",
          "text": [
            "tensor([[   7,    2, 1662,    0,    0,    0,    0,    0,    0,    0],\n",
            "        [  85,  314, 1341, 1342,    9,  315,  134,   41, 1343,    0],\n",
            "        [ 130,    0,    0,    0,    0,    0,    0,    0,    0,    0],\n",
            "        [ 136,    1,   43,  883,    0,    0,    0,    0,    0,    0],\n",
            "        [2515,   27,  121,    0,    0,    0,    0,    0,    0,    0],\n",
            "        [  89, 2840, 1110,    1,  840,    1,  705,    1,   54,  102],\n",
            "        [1839,  180, 1840, 1841,    9,  306,    0,    0,    0,    0],\n",
            "        [ 288,  817,    0,    0,    0,    0,    0,    0,    0,    0],\n",
            "        [ 211, 1598, 1599,    2, 1600, 1601,    0,    0,    0,    0],\n",
            "        [   0,    0,    0,    0,    0,    0,    0,    0,    0,    0],\n",
            "        [  20,  967,  968,  969,  970,  971,  972,    0,    0,    0],\n",
            "        [ 214,  751, 2542, 1584,  802,    0,    0,    0,    0,    0],\n",
            "        [1458, 1897,    0,    0,    0,    0,    0,    0,    0,    0],\n",
            "        [ 415,    3, 1843,   51,    3,   43, 1844, 1845,   16, 1846],\n",
            "        [1877,   10, 1878,  703,  370,    0,    0,    0,    0,    0],\n",
            "        [  63, 2795,    0,    0,    0,    0,    0,    0,    0,    0],\n",
            "        [ 157,    1,  754, 2671, 1738,   65,  138,    0,    0,    0],\n",
            "        [1640, 1641,   71, 1642, 1643,   11,  516, 1644, 2590,    3],\n",
            "        [ 155,  966,  575,    0,    0,    0,    0,    0,    0,    0],\n",
            "        [   7,   17,  495,    2,    0,    0,    0,    0,    0,    0],\n",
            "        [1287,  704,    0,    0,    0,    0,    0,    0,    0,    0],\n",
            "        [  66, 1395, 1396,    0,    0,    0,    0,    0,    0,    0],\n",
            "        [   7,  287,  113,    0,    0,    0,    0,    0,    0,    0],\n",
            "        [1598, 1599,    2, 1600, 1601,    0,    0,    0,    0,    0],\n",
            "        [1843,   51,    3,   43, 1844, 1845,   16, 1846,    0,    0],\n",
            "        [ 113,  587,    0,    0,    0,    0,    0,    0,    0,    0],\n",
            "        [ 911,   17,   19,   47,   13,    0,    0,    0,    0,    0],\n",
            "        [1541,    2, 1542,    5,  502,  791, 2509,  426,   16, 2510],\n",
            "        [ 437,    0,    0,    0,    0,    0,    0,    0,    0,    0],\n",
            "        [ 228, 1201,    7,  401,    6,   10,    3,  302, 1202,  114],\n",
            "        [  89,   89,    8,   16,  462, 1069,    0,    0,    0,    0],\n",
            "        [ 559,  356,    0,    0,    0,    0,    0,    0,    0,    0]])\n",
            "tensor([[0., 0., 1.],\n",
            "        [1., 0., 0.],\n",
            "        [0., 1., 0.],\n",
            "        [0., 1., 0.],\n",
            "        [0., 0., 1.],\n",
            "        [0., 0., 1.],\n",
            "        [0., 1., 0.],\n",
            "        [0., 0., 1.],\n",
            "        [1., 0., 0.],\n",
            "        [0., 0., 1.],\n",
            "        [1., 0., 0.],\n",
            "        [1., 0., 0.],\n",
            "        [0., 1., 0.],\n",
            "        [0., 1., 0.],\n",
            "        [1., 0., 0.],\n",
            "        [0., 1., 0.],\n",
            "        [1., 0., 0.],\n",
            "        [1., 0., 0.],\n",
            "        [0., 0., 1.],\n",
            "        [0., 1., 0.],\n",
            "        [1., 0., 0.],\n",
            "        [0., 0., 1.],\n",
            "        [0., 1., 0.],\n",
            "        [1., 0., 0.],\n",
            "        [0., 1., 0.],\n",
            "        [1., 0., 0.],\n",
            "        [1., 0., 0.],\n",
            "        [0., 1., 0.],\n",
            "        [1., 0., 0.],\n",
            "        [0., 1., 0.],\n",
            "        [0., 0., 1.],\n",
            "        [0., 0., 1.]])\n"
          ]
        }
      ]
    },
    {
      "cell_type": "markdown",
      "source": [
        "# Model"
      ],
      "metadata": {
        "id": "6WSnCI74Utif"
      }
    },
    {
      "cell_type": "code",
      "source": [
        "device = \"cuda\" if torch.cuda.is_available() else \"cpu\"\n",
        "device"
      ],
      "metadata": {
        "colab": {
          "base_uri": "https://localhost:8080/",
          "height": 35
        },
        "id": "iEiJlzu3Tpsg",
        "outputId": "6271dea6-eac0-4ff9-f5a6-6aada99a3955"
      },
      "execution_count": null,
      "outputs": [
        {
          "output_type": "execute_result",
          "data": {
            "text/plain": [
              "'cpu'"
            ],
            "application/vnd.google.colaboratory.intrinsic+json": {
              "type": "string"
            }
          },
          "metadata": {},
          "execution_count": 81
        }
      ]
    },
    {
      "cell_type": "code",
      "source": [
        "class SentimentalModelV3(nn.Module):\n",
        "  def __init__(self, output_size, vocab_size, embedding_dim = 128, hidden_dim = 64, batch_size = 32, padded_seq_len = 10, n_layers = 1, drop_prob = 0.3, bidirectional = False):\n",
        "    super().__init__()\n",
        "    self.batch_size = batch_size\n",
        "    self.output_size = output_size\n",
        "    self.n_layers = n_layers\n",
        "    self.hidden_dim = hidden_dim\n",
        "    self.padded_seq_len = padded_seq_len\n",
        "\n",
        "    self.embedding = nn.Embedding(num_embeddings = vocab_size, embedding_dim = embedding_dim)\n",
        "    self.lstm = nn.LSTM(input_size = embedding_dim, hidden_size = hidden_dim, num_layers = n_layers, dropout = drop_prob, batch_first = True, bidirectional = bidirectional)\n",
        "\n",
        "    self.dropout = nn.Dropout(0.3)\n",
        "\n",
        "    #Linear and activation layer\n",
        "    self.fc1=nn.Linear(self.hidden_dim * self.padded_seq_len, 64)\n",
        "    self.fc2=nn.Linear(64, 16)\n",
        "    self.fc3=nn.Linear(16,output_size)\n",
        "    self.Relu = nn.ReLU()\n",
        "\n",
        "  def forward(self, one_hot, hn, cn):\n",
        "    embed = self.embedding(one_hot)\n",
        "    lstm_out, hidden = self.lstm(embed)\n",
        "\n",
        "    #stack up the lstm output\n",
        "    lstm_out = lstm_out.reshape(shape = (lstm_out.shape[0], lstm_out.shape[1] * lstm_out.shape[2]))\n",
        "    # dropout and fully connected layers\n",
        "    out = self.dropout(lstm_out)\n",
        "    out = self.Relu(out)\n",
        "    \n",
        "    out = self.Relu(self.fc1(out))\n",
        "    out = self.dropout(out)\n",
        "\n",
        "    out = self.Relu(self.fc2(out))\n",
        "    out = self.Relu(out)\n",
        "    \n",
        "    out = self.fc3(out)\n",
        "\n",
        "    return out\n",
        "\n",
        "  def initCellState(self):\n",
        "    h =  torch.zeros(self.n_layers , self.batch_size , self.hidden_dim).to(device)\n",
        "    c =  torch.zeros(self.n_layers , self.batch_size , self.hidden_dim).to(device)\n",
        "    return h, c"
      ],
      "metadata": {
        "id": "PUKdlWU3YOcj"
      },
      "execution_count": null,
      "outputs": []
    },
    {
      "cell_type": "code",
      "source": [
        "model_v3 = SentimentalModelV3(output_size = 3, \n",
        "                              vocab_size = UNIQUE_WORD_COUNT, \n",
        "                              embedding_dim = 64, \n",
        "                              hidden_dim = 32, \n",
        "                              n_layers = 5, \n",
        "                              drop_prob = 0.3, \n",
        "                              padded_seq_len = MAX_PAD_LENGTH).to(device)"
      ],
      "metadata": {
        "id": "UqsKE5vnjck6"
      },
      "execution_count": null,
      "outputs": []
    },
    {
      "cell_type": "code",
      "source": [
        "model_v3\n",
        "hn, cn = model_v3.initCellState()"
      ],
      "metadata": {
        "id": "6Ti9ku_QkV-2"
      },
      "execution_count": null,
      "outputs": []
    },
    {
      "cell_type": "code",
      "source": [
        "hn.shape"
      ],
      "metadata": {
        "colab": {
          "base_uri": "https://localhost:8080/"
        },
        "id": "q6Fy8nOm4Y2E",
        "outputId": "03f2dd1d-0a4a-43af-ed31-77ac223698c5"
      },
      "execution_count": null,
      "outputs": [
        {
          "output_type": "execute_result",
          "data": {
            "text/plain": [
              "torch.Size([5, 32, 32])"
            ]
          },
          "metadata": {},
          "execution_count": 85
        }
      ]
    },
    {
      "cell_type": "code",
      "source": [
        "cn.shape"
      ],
      "metadata": {
        "colab": {
          "base_uri": "https://localhost:8080/"
        },
        "id": "IGw-bE0C4Zqa",
        "outputId": "9003fe61-eb16-4fd1-da31-b3ea11c8d8de"
      },
      "execution_count": null,
      "outputs": [
        {
          "output_type": "execute_result",
          "data": {
            "text/plain": [
              "torch.Size([5, 32, 32])"
            ]
          },
          "metadata": {},
          "execution_count": 86
        }
      ]
    },
    {
      "cell_type": "code",
      "source": [
        "X.shape"
      ],
      "metadata": {
        "colab": {
          "base_uri": "https://localhost:8080/"
        },
        "id": "gYdOJWB_mH4o",
        "outputId": "d3dd9acd-2690-478c-8930-23bfb0e4af05"
      },
      "execution_count": null,
      "outputs": [
        {
          "output_type": "execute_result",
          "data": {
            "text/plain": [
              "torch.Size([32, 10])"
            ]
          },
          "metadata": {},
          "execution_count": 87
        }
      ]
    },
    {
      "cell_type": "code",
      "source": [
        "X, y = next(iter(train_loader))\n",
        "model_v3.eval()\n",
        "with torch.inference_mode():\n",
        "  pred = model_v3(X, hn, cn)\n",
        "\n",
        "pred.shape"
      ],
      "metadata": {
        "colab": {
          "base_uri": "https://localhost:8080/"
        },
        "id": "ZRoW0ewW7epX",
        "outputId": "74e1d9bc-3b2d-4914-bb4e-009c33290e5c"
      },
      "execution_count": null,
      "outputs": [
        {
          "output_type": "execute_result",
          "data": {
            "text/plain": [
              "torch.Size([32, 3])"
            ]
          },
          "metadata": {},
          "execution_count": 88
        }
      ]
    },
    {
      "cell_type": "code",
      "source": [
        "embedding = nn.Embedding(num_embeddings = UNIQUE_WORD_COUNT, embedding_dim = 64)\n",
        "embed = embedding(X)\n",
        "print(f\"From Embedding layer output: {embed.shape}\")\n",
        "\n",
        "lstm = nn.LSTM(input_size = 64, hidden_size = 32, num_layers = 2, dropout = 0.3, batch_first = True, bidirectional = False)\n",
        "lstm_out, (hn, cn) = lstm(embed)\n",
        "print(f\"lstm output shape : {lstm_out.shape}\")\n",
        "lstm_out = lstm_out.reshape(shape = (32, 32 * 10))\n",
        "print(lstm_out.shape)\n",
        "\n",
        "fc1=nn.Linear(in_features = 320, out_features = 64)\n",
        "fc1(lstm_out).shape"
      ],
      "metadata": {
        "colab": {
          "base_uri": "https://localhost:8080/"
        },
        "id": "t_-QnACKme_J",
        "outputId": "1dacf93a-4f0d-4814-cd81-956e66c04773"
      },
      "execution_count": null,
      "outputs": [
        {
          "output_type": "stream",
          "name": "stdout",
          "text": [
            "From Embedding layer output: torch.Size([32, 10, 64])\n",
            "lstm output shape : torch.Size([32, 10, 32])\n",
            "torch.Size([32, 320])\n"
          ]
        },
        {
          "output_type": "execute_result",
          "data": {
            "text/plain": [
              "torch.Size([32, 64])"
            ]
          },
          "metadata": {},
          "execution_count": 89
        }
      ]
    },
    {
      "cell_type": "markdown",
      "source": [
        "# Model Summary"
      ],
      "metadata": {
        "id": "x_OfxPYlf9mv"
      }
    },
    {
      "cell_type": "code",
      "source": [
        "!pip install torch-summary"
      ],
      "metadata": {
        "colab": {
          "base_uri": "https://localhost:8080/"
        },
        "id": "wIdtR2bZnZKJ",
        "outputId": "b7cad2b5-8144-4095-e0ea-cbacdcc8447a"
      },
      "execution_count": null,
      "outputs": [
        {
          "output_type": "stream",
          "name": "stdout",
          "text": [
            "Looking in indexes: https://pypi.org/simple, https://us-python.pkg.dev/colab-wheels/public/simple/\n",
            "Requirement already satisfied: torch-summary in /usr/local/lib/python3.8/dist-packages (1.4.5)\n"
          ]
        }
      ]
    },
    {
      "cell_type": "code",
      "source": [
        "from torchsummary import summary\n",
        "\n",
        "n_layers = 5\n",
        "batch_size = 32\n",
        "hidden_dim = 64\n",
        "\n",
        "model_v3 = SentimentalModelV3(output_size = 3, \n",
        "                              vocab_size = UNIQUE_WORD_COUNT, \n",
        "                              embedding_dim = 128, \n",
        "                              hidden_dim = hidden_dim, \n",
        "                              n_layers = n_layers, \n",
        "                              drop_prob = 0.3, \n",
        "                              padded_seq_len = 10, \n",
        "                              batch_size = batch_size,\n",
        "                              bidirectional = False).to(device)\n",
        "\n",
        "hn, cn = model_v3.initCellState()"
      ],
      "metadata": {
        "id": "2e-ijVeOf_q1"
      },
      "execution_count": null,
      "outputs": []
    },
    {
      "cell_type": "code",
      "source": [
        "summary(model_v3, [\n",
        "    torch.zeros(1, 10).long(),  # ensure one_hot is a LongTensor\n",
        "    torch.zeros(n_layers, batch_size, hidden_dim),\n",
        "    torch.zeros(n_layers, batch_size, hidden_dim),\n",
        "])"
      ],
      "metadata": {
        "colab": {
          "base_uri": "https://localhost:8080/"
        },
        "id": "0taUwvCAoOr1",
        "outputId": "372f719a-5a61-4538-8281-ea11cfb67b5d"
      },
      "execution_count": null,
      "outputs": [
        {
          "output_type": "stream",
          "name": "stdout",
          "text": [
            "==========================================================================================\n",
            "Layer (type:depth-idx)                   Output Shape              Param #\n",
            "==========================================================================================\n",
            "├─Embedding: 1-1                         [-1, 10, 128]             406,912\n",
            "├─LSTM: 1-2                              [-1, 10, 64]              182,784\n",
            "├─Dropout: 1-3                           [-1, 640]                 --\n",
            "├─ReLU: 1-4                              [-1, 640]                 --\n",
            "├─Linear: 1-5                            [-1, 64]                  41,024\n",
            "├─ReLU: 1-6                              [-1, 64]                  --\n",
            "├─Dropout: 1-7                           [-1, 64]                  --\n",
            "├─Linear: 1-8                            [-1, 16]                  1,040\n",
            "├─ReLU: 1-9                              [-1, 16]                  --\n",
            "├─ReLU: 1-10                             [-1, 16]                  --\n",
            "├─Linear: 1-11                           [-1, 3]                   51\n",
            "==========================================================================================\n",
            "Total params: 631,811\n",
            "Trainable params: 631,811\n",
            "Non-trainable params: 0\n",
            "Total mult-adds (M): 0.63\n",
            "==========================================================================================\n",
            "Input size (MB): 0.08\n",
            "Forward/backward pass size (MB): 0.02\n",
            "Params size (MB): 2.41\n",
            "Estimated Total Size (MB): 2.50\n",
            "==========================================================================================\n"
          ]
        },
        {
          "output_type": "execute_result",
          "data": {
            "text/plain": [
              "==========================================================================================\n",
              "Layer (type:depth-idx)                   Output Shape              Param #\n",
              "==========================================================================================\n",
              "├─Embedding: 1-1                         [-1, 10, 128]             406,912\n",
              "├─LSTM: 1-2                              [-1, 10, 64]              182,784\n",
              "├─Dropout: 1-3                           [-1, 640]                 --\n",
              "├─ReLU: 1-4                              [-1, 640]                 --\n",
              "├─Linear: 1-5                            [-1, 64]                  41,024\n",
              "├─ReLU: 1-6                              [-1, 64]                  --\n",
              "├─Dropout: 1-7                           [-1, 64]                  --\n",
              "├─Linear: 1-8                            [-1, 16]                  1,040\n",
              "├─ReLU: 1-9                              [-1, 16]                  --\n",
              "├─ReLU: 1-10                             [-1, 16]                  --\n",
              "├─Linear: 1-11                           [-1, 3]                   51\n",
              "==========================================================================================\n",
              "Total params: 631,811\n",
              "Trainable params: 631,811\n",
              "Non-trainable params: 0\n",
              "Total mult-adds (M): 0.63\n",
              "==========================================================================================\n",
              "Input size (MB): 0.08\n",
              "Forward/backward pass size (MB): 0.02\n",
              "Params size (MB): 2.41\n",
              "Estimated Total Size (MB): 2.50\n",
              "=========================================================================================="
            ]
          },
          "metadata": {},
          "execution_count": 92
        }
      ]
    },
    {
      "cell_type": "code",
      "source": [
        "input_size = [(10), \n",
        "                   (n_layers, batch_size, hidden_dim), \n",
        "                   (n_layers, batch_size, hidden_dim)\n",
        "            ]"
      ],
      "metadata": {
        "id": "bj6HPiAEkorV"
      },
      "execution_count": null,
      "outputs": []
    },
    {
      "cell_type": "markdown",
      "source": [
        "# Training, Validation and Testing loop"
      ],
      "metadata": {
        "id": "OKARHK7n8Xoa"
      }
    },
    {
      "cell_type": "code",
      "source": [
        "def train_step(model: torch.nn.Module, \n",
        "               dataloader: torch.utils.data.DataLoader, \n",
        "               loss_fn: torch.nn.Module, \n",
        "               optimizer: torch.optim.Optimizer):\n",
        "  hn, cn = model.initCellState()\n",
        "  # put the model in train mode\n",
        "  model.train()\n",
        "\n",
        "  # setup the train loss and train accuracy values\n",
        "  train_loss, train_acc  = 0, 0\n",
        "\n",
        "  # Loop through the data loader data batches\n",
        "  for batch, (X, y) in enumerate(dataloader):\n",
        "    # send data to target device\n",
        "    X, y = X.to(device), y.to(device)\n",
        "    # Forward pass\n",
        "    y_pred = model(X, hn, cn)\n",
        "\n",
        "    # calculate and accumulate loss\n",
        "    loss = loss_fn(y_pred, y)\n",
        "    train_loss += loss.item()\n",
        "\n",
        "    # detach the cell state as it is not the parameter to be optimizerd\n",
        "    hn = hn.detach()\n",
        "    cn = cn.detach()\n",
        "\n",
        "    # optimzer zero grad\n",
        "    optimizer.zero_grad()\n",
        "\n",
        "    # Loss backward\n",
        "    loss.backward()\n",
        "\n",
        "    # optimizer step\n",
        "    optimizer.step()\n",
        "\n",
        "    # calculate the accumulate accuracy metric across all batches\n",
        "    y_pred_class = torch.argmax(torch.softmax(y_pred, dim = 1), dim = 1)\n",
        "    y_true_class = torch.argmax(torch.softmax(y, dim = 1), dim = 1)\n",
        "    train_acc += (y_pred_class == y_true_class).sum().item() / len(y_pred)\n",
        "  \n",
        "  train_loss = train_loss / len(dataloader)\n",
        "  train_acc = train_acc / len(dataloader)\n",
        "\n",
        "  return train_loss, train_acc\n"
      ],
      "metadata": {
        "id": "3Yw8Sc03zQzL"
      },
      "execution_count": null,
      "outputs": []
    },
    {
      "cell_type": "code",
      "source": [
        "def val_step(model: torch.nn.Module, \n",
        "              dataloader: torch.utils.data.DataLoader, \n",
        "              loss_fn: torch.nn.Module):\n",
        "  hn, cn = model.initCellState()\n",
        "  model.eval()\n",
        "  val_loss, val_acc = 0, 0\n",
        "  with torch.inference_mode():\n",
        "    for batch, (X, y) in enumerate(dataloader):\n",
        "      X, y = X.to(device), y.to(device)\n",
        "\n",
        "      # forward pass\n",
        "      val_pred_logits = model(X, hn, cn)\n",
        "\n",
        "      # calculate and accumulate loss\n",
        "      loss = loss_fn(val_pred_logits, y)\n",
        "      val_loss += loss.item()\n",
        "\n",
        "      # calculate and accumulate accuracy\n",
        "      y_pred_class = torch.argmax(torch.softmax(val_pred_logits, dim = 1), dim = 1)\n",
        "      y_true_class = torch.argmax(torch.softmax(y, dim = 1), dim = 1)\n",
        "      val_acc += (y_pred_class == y_true_class).sum().item() / len(val_pred_logits)\n",
        "\n",
        "  val_loss = val_loss / len(dataloader)\n",
        "  val_acc = val_acc / len(dataloader)\n",
        "  return val_loss, val_acc\n"
      ],
      "metadata": {
        "id": "VszJ4V8iAUSQ"
      },
      "execution_count": null,
      "outputs": []
    },
    {
      "cell_type": "code",
      "source": [
        "from tqdm.auto import tqdm\n",
        "\n",
        "def train(model: torch.nn.Module, \n",
        "          train_dataloader: torch.utils.data.DataLoader, \n",
        "          test_dataloader: torch.utils.data.DataLoader, \n",
        "          optimizer: torch.optim.Optimizer, \n",
        "          loss_fn: torch.nn.Module, \n",
        "          epochs: int = 5):\n",
        "  results = {\n",
        "      \"train_loss\" : [],\n",
        "      \"train_acc\" : [], \n",
        "      \"val_loss\" : [], \n",
        "      \"val_acc\" : []\n",
        "  }\n",
        "\n",
        "  for epoch in tqdm(range(epochs)):\n",
        "    train_loss, train_acc = train_step(model = model, \n",
        "                                       dataloader = train_dataloader, \n",
        "                                       loss_fn = loss_fn, \n",
        "                                       optimizer = optimizer)\n",
        "    \n",
        "    val_loss, val_acc = val_step(model = model, \n",
        "                                    dataloader = test_dataloader, \n",
        "                                    loss_fn = loss_fn)\n",
        "    \n",
        "    print(\n",
        "        f\"Epoch: {epoch+1} | \"\n",
        "        f\"train_loss: {train_loss:.4f} | \"\n",
        "        f\"train_acc: {train_acc:.4f} | \"\n",
        "        f\"val_loss: {val_loss:.4f} | \"\n",
        "        f\"val_acc: {val_acc:.4f}\"\n",
        "    )\n",
        "\n",
        "    results[\"train_loss\"].append(train_loss)\n",
        "    results[\"train_acc\"].append(train_acc)\n",
        "    results[\"val_loss\"].append(val_loss)\n",
        "    results[\"val_acc\"].append(val_acc)\n",
        "  return results"
      ],
      "metadata": {
        "id": "icO5kLU7-_bM"
      },
      "execution_count": null,
      "outputs": []
    },
    {
      "cell_type": "code",
      "source": [
        "torch.manual_seed(42)\n",
        "torch.cuda.manual_seed(42)\n",
        "\n",
        "NUM_EPOCHS = 5\n",
        "\n",
        "model_v3 = SentimentalModelV3(output_size = 3, \n",
        "                              vocab_size = UNIQUE_WORD_COUNT, \n",
        "                              embedding_dim = 128, \n",
        "                              hidden_dim = 64, \n",
        "                              n_layers = 5, \n",
        "                              drop_prob = 0.3, \n",
        "                              padded_seq_len = 10, \n",
        "                              bidirectional = False).to(device)\n",
        "\n",
        "loss_fn = nn.CrossEntropyLoss()\n",
        "optimizer = torch.optim.Adam(params=model_v3.parameters(), lr=0.001)"
      ],
      "metadata": {
        "id": "DHJGqowF_GMI"
      },
      "execution_count": null,
      "outputs": []
    },
    {
      "cell_type": "code",
      "source": [
        "model_v3_results = train(model = model_v3, train_dataloader = train_loader, test_dataloader = test_loader, optimizer = optimizer, loss_fn = loss_fn, epochs = 25)"
      ],
      "metadata": {
        "colab": {
          "base_uri": "https://localhost:8080/",
          "height": 483,
          "referenced_widgets": [
            "29e7b1c647d14a559197bc613f880429",
            "8ec064c45ea04363b2777c73da124220",
            "63d70fbdc3fa4c99ae25a49415547d43",
            "8cd2a68cd81e491f979819b481486272",
            "3aadb8cfe5f9453fa9ff224299b4ae4b",
            "08e9b6ed500c4929860e66f1d620c291",
            "8b70f90a8d8a4cfcbbb5f36714ca11c8",
            "3d4932b3f83246c595cc01598c118997",
            "5cda46a617784d1382db4c4309ab9791",
            "f0f0cb9fd6334268a867c6f7e68c36b9",
            "d3201697cc8a47be83858cd063778bad"
          ]
        },
        "id": "5uaHe8tkAxB4",
        "outputId": "c0c1463b-8294-4029-fe70-ac9404283ca3"
      },
      "execution_count": null,
      "outputs": [
        {
          "output_type": "display_data",
          "data": {
            "text/plain": [
              "  0%|          | 0/25 [00:00<?, ?it/s]"
            ],
            "application/vnd.jupyter.widget-view+json": {
              "version_major": 2,
              "version_minor": 0,
              "model_id": "29e7b1c647d14a559197bc613f880429"
            }
          },
          "metadata": {}
        },
        {
          "output_type": "stream",
          "name": "stdout",
          "text": [
            "Epoch: 1 | train_loss: 1.0999 | train_acc: 0.3284 | val_loss: 1.0970 | val_acc: 0.3687\n",
            "Epoch: 2 | train_loss: 1.0923 | train_acc: 0.3797 | val_loss: 1.0825 | val_acc: 0.3938\n",
            "Epoch: 3 | train_loss: 1.0326 | train_acc: 0.4632 | val_loss: 1.0781 | val_acc: 0.3813\n",
            "Epoch: 4 | train_loss: 0.9510 | train_acc: 0.5302 | val_loss: 1.0563 | val_acc: 0.4373\n",
            "Epoch: 5 | train_loss: 0.8478 | train_acc: 0.6133 | val_loss: 1.0432 | val_acc: 0.5071\n",
            "Epoch: 6 | train_loss: 0.7404 | train_acc: 0.6720 | val_loss: 1.1554 | val_acc: 0.4678\n",
            "Epoch: 7 | train_loss: 0.6379 | train_acc: 0.7482 | val_loss: 1.1111 | val_acc: 0.5096\n",
            "Epoch: 8 | train_loss: 0.5433 | train_acc: 0.8055 | val_loss: 1.4364 | val_acc: 0.5060\n",
            "Epoch: 9 | train_loss: 0.5034 | train_acc: 0.8187 | val_loss: 1.3197 | val_acc: 0.5518\n",
            "Epoch: 10 | train_loss: 0.4288 | train_acc: 0.8522 | val_loss: 1.2915 | val_acc: 0.5347\n",
            "Epoch: 11 | train_loss: 0.3765 | train_acc: 0.8707 | val_loss: 1.4168 | val_acc: 0.5651\n",
            "Epoch: 12 | train_loss: 0.3425 | train_acc: 0.8933 | val_loss: 1.6009 | val_acc: 0.5437\n",
            "Epoch: 13 | train_loss: 0.3156 | train_acc: 0.9043 | val_loss: 1.4846 | val_acc: 0.5757\n",
            "Epoch: 14 | train_loss: 0.2800 | train_acc: 0.9118 | val_loss: 1.7557 | val_acc: 0.5732\n",
            "Epoch: 15 | train_loss: 0.2796 | train_acc: 0.9127 | val_loss: 1.5226 | val_acc: 0.5847\n",
            "Epoch: 16 | train_loss: 0.2499 | train_acc: 0.9186 | val_loss: 1.5803 | val_acc: 0.6070\n",
            "Epoch: 17 | train_loss: 0.2274 | train_acc: 0.9314 | val_loss: 1.5067 | val_acc: 0.6025\n",
            "Epoch: 18 | train_loss: 0.2216 | train_acc: 0.9232 | val_loss: 1.6083 | val_acc: 0.6017\n",
            "Epoch: 19 | train_loss: 0.2146 | train_acc: 0.9351 | val_loss: 1.5696 | val_acc: 0.6062\n",
            "Epoch: 20 | train_loss: 0.1716 | train_acc: 0.9470 | val_loss: 1.7708 | val_acc: 0.6338\n",
            "Epoch: 21 | train_loss: 0.1493 | train_acc: 0.9474 | val_loss: 1.8782 | val_acc: 0.6106\n",
            "Epoch: 22 | train_loss: 0.1555 | train_acc: 0.9499 | val_loss: 1.7855 | val_acc: 0.6151\n",
            "Epoch: 23 | train_loss: 0.1434 | train_acc: 0.9523 | val_loss: 1.8523 | val_acc: 0.6114\n",
            "Epoch: 24 | train_loss: 0.1446 | train_acc: 0.9540 | val_loss: 1.7168 | val_acc: 0.5899\n",
            "Epoch: 25 | train_loss: 0.1295 | train_acc: 0.9557 | val_loss: 2.1893 | val_acc: 0.6410\n"
          ]
        }
      ]
    },
    {
      "cell_type": "markdown",
      "source": [
        "# Model Result Visualization"
      ],
      "metadata": {
        "id": "EnTrZXgbbx1v"
      }
    },
    {
      "cell_type": "code",
      "source": [
        "def visualizeModelResult(modelResult):\n",
        "  train_loss, train_acc, val_loss, val_acc = model_v3_results[\"train_loss\"], model_v3_results[\"train_acc\"], model_v3_results[\"val_loss\"], model_v3_results[\"val_acc\"]\n",
        "\n",
        "  plt.plot(train_loss, label = \"train loss\")\n",
        "  plt.plot(val_loss, label = \"validation loss\")\n",
        "  plt.title(\"Loss over epochs\")\n",
        "  plt.legend()\n",
        "  plt.ylim([0.0, 5])\n",
        "\n",
        "  plt.show()\n",
        "  print()\n",
        "  plt.plot(train_acc, label = \"train accuracy\")\n",
        "  plt.plot(val_acc, label = \"validation accuracy\")\n",
        "  plt.title(\"Accuracy over epochs\")\n",
        "  plt.legend()\n",
        "  plt.ylim([0.0, 1])\n",
        "  plt.show()"
      ],
      "metadata": {
        "id": "cJYrOObfb0Lu"
      },
      "execution_count": null,
      "outputs": []
    },
    {
      "cell_type": "code",
      "source": [
        "visualizeModelResult(model_v3_results)"
      ],
      "metadata": {
        "colab": {
          "base_uri": "https://localhost:8080/",
          "height": 786
        },
        "id": "Ut8qAYhdb0JR",
        "outputId": "eb36ded5-28c2-4e95-c3c5-fe85ab67003c"
      },
      "execution_count": null,
      "outputs": [
        {
          "output_type": "display_data",
          "data": {
            "text/plain": [
              "<Figure size 720x432 with 1 Axes>"
            ],
            "image/png": "[encoded data removed]"
          },
          "metadata": {}
        },
        {
          "output_type": "stream",
          "name": "stdout",
          "text": [
            "\n"
          ]
        },
        {
          "output_type": "display_data",
          "data": {
            "text/plain": [
              "<Figure size 720x432 with 1 Axes>"
            ],
            "image/png": "[encoded data removed]"
          },
          "metadata": {}
        }
      ]
    },
    {
      "cell_type": "code",
      "source": [
        "!pip install torchmetrics"
      ],
      "metadata": {
        "colab": {
          "base_uri": "https://localhost:8080/"
        },
        "id": "U4QjlG17dB3R",
        "outputId": "c5e99d3f-832d-44bb-d0ef-9640867ff696"
      },
      "execution_count": null,
      "outputs": [
        {
          "output_type": "stream",
          "name": "stdout",
          "text": [
            "Looking in indexes: https://pypi.org/simple, https://us-python.pkg.dev/colab-wheels/public/simple/\n",
            "Collecting torchmetrics\n",
            "  Downloading torchmetrics-0.11.0-py3-none-any.whl (512 kB)\n",
            "\u001b[K     |████████████████████████████████| 512 kB 4.6 MB/s \n",
            "\u001b[?25hRequirement already satisfied: torch>=1.8.1 in /usr/local/lib/python3.8/dist-packages (from torchmetrics) (1.13.0+cu116)\n",
            "Requirement already satisfied: typing-extensions in /usr/local/lib/python3.8/dist-packages (from torchmetrics) (4.4.0)\n",
            "Requirement already satisfied: numpy>=1.17.2 in /usr/local/lib/python3.8/dist-packages (from torchmetrics) (1.21.6)\n",
            "Requirement already satisfied: packaging in /usr/local/lib/python3.8/dist-packages (from torchmetrics) (21.3)\n",
            "Requirement already satisfied: pyparsing!=3.0.5,>=2.0.2 in /usr/local/lib/python3.8/dist-packages (from packaging->torchmetrics) (3.0.9)\n",
            "Installing collected packages: torchmetrics\n",
            "Successfully installed torchmetrics-0.11.0\n"
          ]
        }
      ]
    },
    {
      "cell_type": "markdown",
      "source": [
        "# Test Data Evaluation"
      ],
      "metadata": {
        "id": "Q1RLauxoJiR1"
      }
    },
    {
      "cell_type": "code",
      "source": [
        "def test_step(model: torch.nn.Module, \n",
        "              dataloader: torch.utils.data.DataLoader, \n",
        "              loss_fn: torch.nn.Module):\n",
        "  hn, cn = model.initCellState()\n",
        "  model.eval()\n",
        "  test_loss, test_acc = 0, 0\n",
        "\n",
        "  test_pred, test_true = [], []\n",
        "  \n",
        "  with torch.inference_mode():\n",
        "    for batch, (X, y) in enumerate(dataloader):\n",
        "      X, y = X.to(device), y.to(device)\n",
        "\n",
        "      # forward pass\n",
        "      val_pred_logits = model(X, hn, cn)\n",
        "\n",
        "      # calculate and accumulate loss\n",
        "      loss = loss_fn(val_pred_logits, y)\n",
        "      test_loss += loss.item()\n",
        "\n",
        "      # calculate and accumulate accuracy\n",
        "      y_pred_class = torch.argmax(torch.softmax(val_pred_logits, dim = 1), dim = 1)\n",
        "      y_true_class = torch.argmax(torch.softmax(y, dim = 1), dim = 1)\n",
        "      test_acc += (y_pred_class == y_true_class).sum().item() / len(val_pred_logits)\n",
        "      \n",
        "      test_pred.append(y_pred_class.cpu())\n",
        "      test_true.append(y_true_class.cpu())\n",
        "\n",
        "  test_loss = test_loss / len(dataloader)\n",
        "  test_acc = test_acc / len(dataloader)\n",
        "  return test_loss, test_acc, torch.cat(test_pred), torch.cat(test_true)"
      ],
      "metadata": {
        "id": "NI7xD6-KSPq7"
      },
      "execution_count": null,
      "outputs": []
    },
    {
      "cell_type": "code",
      "source": [
        "test_loss, test_acc, test_pred, test_true = test_step(model_v3, test_loader, loss_fn)\n",
        "test_loss, test_acc"
      ],
      "metadata": {
        "id": "QJ0gvhQnCAY8",
        "colab": {
          "base_uri": "https://localhost:8080/"
        },
        "outputId": "0ead0b49-17bd-453f-fc2d-a613d072e256"
      },
      "execution_count": null,
      "outputs": [
        {
          "output_type": "execute_result",
          "data": {
            "text/plain": [
              "(2.189269815172468, 0.6410383597883598)"
            ]
          },
          "metadata": {},
          "execution_count": 103
        }
      ]
    },
    {
      "cell_type": "code",
      "source": [
        "test_pred"
      ],
      "metadata": {
        "colab": {
          "base_uri": "https://localhost:8080/"
        },
        "id": "wVePQC49eUh9",
        "outputId": "716ed968-53eb-4f71-81a4-3be17c33f2d7"
      },
      "execution_count": null,
      "outputs": [
        {
          "output_type": "execute_result",
          "data": {
            "text/plain": [
              "tensor([0, 2, 0, 0, 0, 1, 1, 0, 2, 0, 0, 1, 2, 1, 1, 0, 1, 1, 0, 2, 0, 1, 2, 1,\n",
              "        2, 2, 0, 0, 0, 0, 1, 0, 2, 0, 1, 1, 2, 1, 2, 0, 1, 2, 1, 1, 1, 2, 2, 0,\n",
              "        0, 0, 2, 0, 0, 1, 1, 1, 2, 0, 2, 2, 2, 0, 2, 1, 1, 0, 2, 0, 1, 1, 0, 1,\n",
              "        1, 2, 0, 0, 0, 2, 1, 0, 0, 2, 1, 0, 1, 1, 2, 1, 1, 1, 1, 0, 2, 1, 0, 0,\n",
              "        2, 0, 0, 0, 1, 1, 0, 1, 0, 2, 2, 2, 2, 1, 2, 1, 1, 1, 1, 2, 0, 2, 0, 2,\n",
              "        2, 1, 2, 0, 2, 0, 2, 1, 1, 1, 0, 2, 0, 0, 0, 0, 2, 1, 1, 2, 2, 1, 0, 1,\n",
              "        0, 1, 2, 1, 0, 2, 1, 2, 1, 0, 1, 2, 0, 1, 1, 1, 2, 0, 2, 0, 0, 0, 1, 0,\n",
              "        2, 0, 0, 0, 2, 2, 1, 1, 2, 2, 1, 1, 2, 1, 1, 1, 0, 0, 2, 1, 2, 1, 0, 0,\n",
              "        1, 2, 2, 2, 1, 2, 0, 1, 1, 0, 1, 1, 0, 0, 1, 1, 0, 1, 0, 2, 0, 1, 1, 0,\n",
              "        2, 0, 0])"
            ]
          },
          "metadata": {},
          "execution_count": 104
        }
      ]
    },
    {
      "cell_type": "code",
      "source": [
        "test_true"
      ],
      "metadata": {
        "colab": {
          "base_uri": "https://localhost:8080/"
        },
        "id": "QCV5HkQ5eV8_",
        "outputId": "3fbc0253-8e37-4dcc-f3ea-745628bb9ea7"
      },
      "execution_count": null,
      "outputs": [
        {
          "output_type": "execute_result",
          "data": {
            "text/plain": [
              "tensor([0, 2, 2, 0, 2, 0, 2, 0, 0, 2, 2, 2, 0, 1, 1, 2, 1, 1, 0, 2, 0, 1, 0, 2,\n",
              "        2, 1, 0, 0, 0, 0, 1, 0, 2, 0, 0, 1, 0, 1, 2, 1, 2, 2, 1, 1, 1, 2, 2, 2,\n",
              "        0, 0, 0, 0, 0, 2, 1, 2, 2, 0, 2, 0, 2, 2, 2, 1, 1, 0, 2, 1, 2, 0, 0, 2,\n",
              "        2, 2, 1, 0, 0, 2, 1, 0, 0, 2, 1, 0, 1, 0, 2, 2, 1, 2, 1, 0, 2, 1, 0, 0,\n",
              "        0, 0, 2, 0, 1, 2, 0, 1, 0, 0, 2, 2, 2, 1, 0, 2, 1, 1, 0, 0, 1, 2, 0, 2,\n",
              "        2, 1, 2, 0, 0, 0, 2, 1, 2, 1, 2, 2, 2, 2, 0, 0, 2, 1, 1, 2, 2, 0, 0, 1,\n",
              "        1, 1, 1, 1, 0, 0, 2, 2, 1, 0, 1, 0, 2, 0, 1, 1, 1, 1, 2, 0, 0, 0, 1, 0,\n",
              "        2, 0, 0, 0, 0, 2, 2, 1, 0, 2, 2, 1, 1, 0, 1, 2, 0, 0, 1, 1, 2, 1, 1, 0,\n",
              "        1, 2, 2, 2, 1, 2, 2, 1, 0, 2, 1, 1, 2, 0, 2, 2, 0, 2, 2, 1, 0, 1, 1, 2,\n",
              "        1, 2, 2])"
            ]
          },
          "metadata": {},
          "execution_count": 105
        }
      ]
    },
    {
      "cell_type": "code",
      "source": [
        "from sklearn.metrics import confusion_matrix, classification_report"
      ],
      "metadata": {
        "id": "ouE980HserYw"
      },
      "execution_count": null,
      "outputs": []
    },
    {
      "cell_type": "code",
      "source": [
        "test_pred = list(test_pred)\n",
        "test_true = list(test_true)\n",
        "cm = confusion_matrix(y_true = test_true, y_pred = test_pred)\n",
        "cm_heatmap = sns.heatmap(cm, annot = True)\n",
        "cm_heatmap.set(xlabel = \"Predicted\", ylabel = \"True\", title = \"Confusion matrix for the model\")\n",
        "plt.show()"
      ],
      "metadata": {
        "colab": {
          "base_uri": "https://localhost:8080/",
          "height": 410
        },
        "id": "7QaS2j8LdOpA",
        "outputId": "17c44789-98a2-40b3-898f-3e0c08f59eb4"
      },
      "execution_count": null,
      "outputs": [
        {
          "output_type": "display_data",
          "data": {
            "text/plain": [
              "<Figure size 720x432 with 2 Axes>"
            ],
            "image/png": "[encoded data removed]"
          },
          "metadata": {}
        }
      ]
    },
    {
      "cell_type": "code",
      "source": [
        "print(classification_report(y_true = test_true, y_pred = test_pred, target_names = ['Negative', 'Positive', 'Neutral']))"
      ],
      "metadata": {
        "colab": {
          "base_uri": "https://localhost:8080/"
        },
        "id": "T2id0YY3e6vf",
        "outputId": "26420068-44e6-4319-9b2e-91422a37c266"
      },
      "execution_count": null,
      "outputs": [
        {
          "output_type": "stream",
          "name": "stdout",
          "text": [
            "              precision    recall  f1-score   support\n",
            "\n",
            "    Negative       0.66      0.68      0.67        75\n",
            "    Positive       0.62      0.78      0.69        64\n",
            "     Neutral       0.65      0.50      0.56        80\n",
            "\n",
            "    accuracy                           0.64       219\n",
            "   macro avg       0.64      0.65      0.64       219\n",
            "weighted avg       0.65      0.64      0.64       219\n",
            "\n"
          ]
        }
      ]
    },
    {
      "cell_type": "markdown",
      "source": [
        "# Saving and loading model"
      ],
      "metadata": {
        "id": "SG81kFnHl3Hk"
      }
    },
    {
      "cell_type": "code",
      "source": [
        "MODEL_PATH = \"/content/drive/MyDrive/Colab Notebooks/NLP/Classification/Nepali Sentimental Classification/pytorch_sentimental_v3.pth\""
      ],
      "metadata": {
        "id": "O4zLB1IPoc1q"
      },
      "execution_count": null,
      "outputs": []
    },
    {
      "cell_type": "code",
      "source": [
        "torch.save(model_v3.state_dict(), MODEL_PATH)"
      ],
      "metadata": {
        "id": "VIcmn6ygl5vz"
      },
      "execution_count": null,
      "outputs": []
    },
    {
      "cell_type": "code",
      "source": [
        "model = SentimentalModelV3(output_size = 3, \n",
        "                              vocab_size = UNIQUE_WORD_COUNT, \n",
        "                              embedding_dim = 128, \n",
        "                              hidden_dim = 64, \n",
        "                              n_layers = 5, \n",
        "                              drop_prob = 0.3, \n",
        "                              padded_seq_len = 10, \n",
        "                              bidirectional = False).to(device)"
      ],
      "metadata": {
        "id": "4NqCKSwBl5q5"
      },
      "execution_count": null,
      "outputs": []
    },
    {
      "cell_type": "code",
      "source": [
        "model.load_state_dict(torch.load(MODEL_PATH))"
      ],
      "metadata": {
        "colab": {
          "base_uri": "https://localhost:8080/"
        },
        "id": "60EztLlil5ov",
        "outputId": "cb76f6e8-a039-4e96-c43a-fde55b42e793"
      },
      "execution_count": null,
      "outputs": [
        {
          "output_type": "execute_result",
          "data": {
            "text/plain": [
              "<All keys matched successfully>"
            ]
          },
          "metadata": {},
          "execution_count": 112
        }
      ]
    },
    {
      "cell_type": "code",
      "source": [
        "model.eval()"
      ],
      "metadata": {
        "colab": {
          "base_uri": "https://localhost:8080/"
        },
        "id": "O44A5Ydso8DW",
        "outputId": "b1c876f2-0e07-4b17-f064-32d76d4ec16e"
      },
      "execution_count": null,
      "outputs": [
        {
          "output_type": "execute_result",
          "data": {
            "text/plain": [
              "SentimentalModelV3(\n",
              "  (embedding): Embedding(3179, 128)\n",
              "  (lstm): LSTM(128, 64, num_layers=5, batch_first=True, dropout=0.3)\n",
              "  (dropout): Dropout(p=0.3, inplace=False)\n",
              "  (fc1): Linear(in_features=640, out_features=64, bias=True)\n",
              "  (fc2): Linear(in_features=64, out_features=16, bias=True)\n",
              "  (fc3): Linear(in_features=16, out_features=3, bias=True)\n",
              "  (Relu): ReLU()\n",
              ")"
            ]
          },
          "metadata": {},
          "execution_count": 113
        }
      ]
    },
    {
      "cell_type": "markdown",
      "source": [
        "# Test your own data"
      ],
      "metadata": {
        "id": "984gKCCzTSoU"
      }
    },
    {
      "cell_type": "code",
      "source": [
        "!pip install nepali-unicode-converter"
      ],
      "metadata": {
        "colab": {
          "base_uri": "https://localhost:8080/"
        },
        "id": "6C_6k3WxJuEQ",
        "outputId": "a2b653bb-1846-441b-b6f4-6e7f27243505"
      },
      "execution_count": null,
      "outputs": [
        {
          "output_type": "stream",
          "name": "stdout",
          "text": [
            "Looking in indexes: https://pypi.org/simple, https://us-python.pkg.dev/colab-wheels/public/simple/\n",
            "Collecting nepali-unicode-converter\n",
            "  Downloading nepali_unicode_converter-1.0.3-py3-none-any.whl (5.1 kB)\n",
            "Installing collected packages: nepali-unicode-converter\n",
            "Successfully installed nepali-unicode-converter-1.0.3\n"
          ]
        }
      ]
    },
    {
      "cell_type": "code",
      "source": [
        "from nepali_unicode_converter.convert import Converter\n",
        "\n",
        "converter = Converter()"
      ],
      "metadata": {
        "id": "YKoVrvn0TZay"
      },
      "execution_count": null,
      "outputs": []
    },
    {
      "cell_type": "code",
      "source": [
        "def testOwnString(own_string, model, padded_length = 10):\n",
        "  # preprocessing of own_string to padded string\n",
        "  own_string = text_preprocessing(own_string)\n",
        "  own_string_list = [own_string]\n",
        "  own_string_series = pd.Series(own_string_list)\n",
        "  own_string_sequences = tokenizer.texts_to_sequences(own_string_series)\n",
        "  own_string_padded = pad_sequences(own_string_sequences, maxlen = padded_length, padding = \"post\", truncating = \"post\")\n",
        "  print(own_string_padded)\n",
        "\n",
        "  # conversion to pytorch tensor\n",
        "  X = torch.tensor(own_string_padded)\n",
        "  hn, cn = model_v3.initCellState()\n",
        "  model_v3.eval()\n",
        "  with torch.inference_mode():\n",
        "    pred = model_v3(X, hn, cn)\n",
        "    pred_probabilities = torch.softmax(pred, dim = 1)\n",
        "    pred_label = torch.argmax(pred_probabilities, dim = 1)\n",
        "  return pred_probabilities, pred_label.item()"
      ],
      "metadata": {
        "id": "F3EwQcYzTa3B"
      },
      "execution_count": null,
      "outputs": []
    },
    {
      "cell_type": "code",
      "source": [
        "mystring = 'aahaa ! kati raamro. je hos gajaba ko rahexa'\n",
        "own_string = converter.convert(mystring)\n",
        "print(own_string)\n",
        "testOwnString(own_string, model = model)"
      ],
      "metadata": {
        "colab": {
          "base_uri": "https://localhost:8080/"
        },
        "id": "zlpZyVBdTc_Y",
        "outputId": "1e2a9ec6-67b5-4dee-fe63-2e7c2cd90e8a"
      },
      "execution_count": null,
      "outputs": [
        {
          "output_type": "stream",
          "name": "stdout",
          "text": [
            "आहा ! कति राम्रो। जे होस् गजब को रहेxअ\n",
            "[[ 539 2777    0    0    0    0    0    0    0    0]]\n"
          ]
        },
        {
          "output_type": "execute_result",
          "data": {
            "text/plain": [
              "(tensor([[6.8598e-04, 9.9755e-01, 1.7594e-03]]), 1)"
            ]
          },
          "metadata": {},
          "execution_count": 117
        }
      ]
    },
    {
      "cell_type": "code",
      "source": [
        "own_string = \"देश मा चुनाव मा भोट हाल्ने नैसर्गिक अधिकार बन्चित गरिए\"\n",
        "testOwnString(own_string, model = model)"
      ],
      "metadata": {
        "colab": {
          "base_uri": "https://localhost:8080/"
        },
        "id": "EmMNZzsWVJ4V",
        "outputId": "3ff3cfcc-1e05-47b8-cd4e-391273a10a67"
      },
      "execution_count": null,
      "outputs": [
        {
          "output_type": "stream",
          "name": "stdout",
          "text": [
            "[[  7 230 435 168 674 436 437 275   0   0]]\n"
          ]
        },
        {
          "output_type": "execute_result",
          "data": {
            "text/plain": [
              "(tensor([[9.9311e-01, 1.3788e-05, 6.8784e-03]]), 0)"
            ]
          },
          "metadata": {},
          "execution_count": 118
        }
      ]
    },
    {
      "cell_type": "code",
      "source": [
        "own_string = \"वाह जे होस् गजब को रहेxअ\"\n",
        "testOwnString(own_string, model = model)"
      ],
      "metadata": {
        "colab": {
          "base_uri": "https://localhost:8080/"
        },
        "id": "LnaTLPxqZZ4w",
        "outputId": "af5cde4e-caaa-4b56-9732-7fef23ee3d41"
      },
      "execution_count": null,
      "outputs": [
        {
          "output_type": "stream",
          "name": "stdout",
          "text": [
            "[[ 803  539 2777    0    0    0    0    0    0    0]]\n"
          ]
        },
        {
          "output_type": "execute_result",
          "data": {
            "text/plain": [
              "(tensor([[1.0332e-04, 9.9958e-01, 3.1209e-04]]), 1)"
            ]
          },
          "metadata": {},
          "execution_count": 119
        }
      ]
    },
    {
      "cell_type": "code",
      "source": [
        "mystring = 'mero naama niraajana ho'\n",
        "own_string = converter.convert(mystring)\n",
        "print(own_string)\n",
        "testOwnString(own_string, model = model, padded_length = MAX_PAD_LENGTH)"
      ],
      "metadata": {
        "colab": {
          "base_uri": "https://localhost:8080/"
        },
        "id": "_L2RXhFrbhVH",
        "outputId": "c9490495-d44f-46fa-db07-eea71081e2ae"
      },
      "execution_count": null,
      "outputs": [
        {
          "output_type": "stream",
          "name": "stdout",
          "text": [
            "मेरो नाम निराजन हो\n",
            "[[79  0  0  0  0  0  0  0  0  0]]\n"
          ]
        },
        {
          "output_type": "execute_result",
          "data": {
            "text/plain": [
              "(tensor([[0.0185, 0.9446, 0.0369]]), 1)"
            ]
          },
          "metadata": {},
          "execution_count": 120
        }
      ]
    },
    {
      "cell_type": "code",
      "source": [],
      "metadata": {
        "id": "vw3c83UxcOZA"
      },
      "execution_count": null,
      "outputs": []
    }
  ]
}
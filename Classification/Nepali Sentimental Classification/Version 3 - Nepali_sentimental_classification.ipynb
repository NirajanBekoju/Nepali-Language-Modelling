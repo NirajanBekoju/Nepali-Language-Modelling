{
  "nbformat": 4,
  "nbformat_minor": 0,
  "metadata": {
    "colab": {
      "provenance": []
    },
    "kernelspec": {
      "name": "python3",
      "display_name": "Python 3"
    },
    "language_info": {
      "name": "python"
    },
    "widgets": {
      "application/vnd.jupyter.widget-state+json": {
        "362b521f212445dab9bd4fb82b8cffc5": {
          "model_module": "@jupyter-widgets/controls",
          "model_name": "HBoxModel",
          "model_module_version": "1.5.0",
          "state": {
            "_dom_classes": [],
            "_model_module": "@jupyter-widgets/controls",
            "_model_module_version": "1.5.0",
            "_model_name": "HBoxModel",
            "_view_count": null,
            "_view_module": "@jupyter-widgets/controls",
            "_view_module_version": "1.5.0",
            "_view_name": "HBoxView",
            "box_style": "",
            "children": [
              "IPY_MODEL_c881b3b93b5d4e5fbd7fbeb11cb3d529",
              "IPY_MODEL_65f07046899d41b79c994accd5b03b19",
              "IPY_MODEL_ab2eaa8d137f4687ba39c3464655481d"
            ],
            "layout": "IPY_MODEL_7fb549d9c2cf47d1aae34cee97f2c3c0"
          }
        },
        "c881b3b93b5d4e5fbd7fbeb11cb3d529": {
          "model_module": "@jupyter-widgets/controls",
          "model_name": "HTMLModel",
          "model_module_version": "1.5.0",
          "state": {
            "_dom_classes": [],
            "_model_module": "@jupyter-widgets/controls",
            "_model_module_version": "1.5.0",
            "_model_name": "HTMLModel",
            "_view_count": null,
            "_view_module": "@jupyter-widgets/controls",
            "_view_module_version": "1.5.0",
            "_view_name": "HTMLView",
            "description": "",
            "description_tooltip": null,
            "layout": "IPY_MODEL_043e7c03c6eb48a7b2b226ddfe99c09b",
            "placeholder": "​",
            "style": "IPY_MODEL_8b8e145121a34cce9dae945a7ad34c75",
            "value": "100%"
          }
        },
        "65f07046899d41b79c994accd5b03b19": {
          "model_module": "@jupyter-widgets/controls",
          "model_name": "FloatProgressModel",
          "model_module_version": "1.5.0",
          "state": {
            "_dom_classes": [],
            "_model_module": "@jupyter-widgets/controls",
            "_model_module_version": "1.5.0",
            "_model_name": "FloatProgressModel",
            "_view_count": null,
            "_view_module": "@jupyter-widgets/controls",
            "_view_module_version": "1.5.0",
            "_view_name": "ProgressView",
            "bar_style": "success",
            "description": "",
            "description_tooltip": null,
            "layout": "IPY_MODEL_1d0315862b834519b2a5c2e0b09af1f3",
            "max": 20,
            "min": 0,
            "orientation": "horizontal",
            "style": "IPY_MODEL_58f7df05324f47d8b194c21f77078c3b",
            "value": 20
          }
        },
        "ab2eaa8d137f4687ba39c3464655481d": {
          "model_module": "@jupyter-widgets/controls",
          "model_name": "HTMLModel",
          "model_module_version": "1.5.0",
          "state": {
            "_dom_classes": [],
            "_model_module": "@jupyter-widgets/controls",
            "_model_module_version": "1.5.0",
            "_model_name": "HTMLModel",
            "_view_count": null,
            "_view_module": "@jupyter-widgets/controls",
            "_view_module_version": "1.5.0",
            "_view_name": "HTMLView",
            "description": "",
            "description_tooltip": null,
            "layout": "IPY_MODEL_c71a3e68a3c9420da30560ab7c35778c",
            "placeholder": "​",
            "style": "IPY_MODEL_11a874f7f73546b7aee4ea142e0ab3a9",
            "value": " 20/20 [00:36&lt;00:00,  1.78s/it]"
          }
        },
        "7fb549d9c2cf47d1aae34cee97f2c3c0": {
          "model_module": "@jupyter-widgets/base",
          "model_name": "LayoutModel",
          "model_module_version": "1.2.0",
          "state": {
            "_model_module": "@jupyter-widgets/base",
            "_model_module_version": "1.2.0",
            "_model_name": "LayoutModel",
            "_view_count": null,
            "_view_module": "@jupyter-widgets/base",
            "_view_module_version": "1.2.0",
            "_view_name": "LayoutView",
            "align_content": null,
            "align_items": null,
            "align_self": null,
            "border": null,
            "bottom": null,
            "display": null,
            "flex": null,
            "flex_flow": null,
            "grid_area": null,
            "grid_auto_columns": null,
            "grid_auto_flow": null,
            "grid_auto_rows": null,
            "grid_column": null,
            "grid_gap": null,
            "grid_row": null,
            "grid_template_areas": null,
            "grid_template_columns": null,
            "grid_template_rows": null,
            "height": null,
            "justify_content": null,
            "justify_items": null,
            "left": null,
            "margin": null,
            "max_height": null,
            "max_width": null,
            "min_height": null,
            "min_width": null,
            "object_fit": null,
            "object_position": null,
            "order": null,
            "overflow": null,
            "overflow_x": null,
            "overflow_y": null,
            "padding": null,
            "right": null,
            "top": null,
            "visibility": null,
            "width": null
          }
        },
        "043e7c03c6eb48a7b2b226ddfe99c09b": {
          "model_module": "@jupyter-widgets/base",
          "model_name": "LayoutModel",
          "model_module_version": "1.2.0",
          "state": {
            "_model_module": "@jupyter-widgets/base",
            "_model_module_version": "1.2.0",
            "_model_name": "LayoutModel",
            "_view_count": null,
            "_view_module": "@jupyter-widgets/base",
            "_view_module_version": "1.2.0",
            "_view_name": "LayoutView",
            "align_content": null,
            "align_items": null,
            "align_self": null,
            "border": null,
            "bottom": null,
            "display": null,
            "flex": null,
            "flex_flow": null,
            "grid_area": null,
            "grid_auto_columns": null,
            "grid_auto_flow": null,
            "grid_auto_rows": null,
            "grid_column": null,
            "grid_gap": null,
            "grid_row": null,
            "grid_template_areas": null,
            "grid_template_columns": null,
            "grid_template_rows": null,
            "height": null,
            "justify_content": null,
            "justify_items": null,
            "left": null,
            "margin": null,
            "max_height": null,
            "max_width": null,
            "min_height": null,
            "min_width": null,
            "object_fit": null,
            "object_position": null,
            "order": null,
            "overflow": null,
            "overflow_x": null,
            "overflow_y": null,
            "padding": null,
            "right": null,
            "top": null,
            "visibility": null,
            "width": null
          }
        },
        "8b8e145121a34cce9dae945a7ad34c75": {
          "model_module": "@jupyter-widgets/controls",
          "model_name": "DescriptionStyleModel",
          "model_module_version": "1.5.0",
          "state": {
            "_model_module": "@jupyter-widgets/controls",
            "_model_module_version": "1.5.0",
            "_model_name": "DescriptionStyleModel",
            "_view_count": null,
            "_view_module": "@jupyter-widgets/base",
            "_view_module_version": "1.2.0",
            "_view_name": "StyleView",
            "description_width": ""
          }
        },
        "1d0315862b834519b2a5c2e0b09af1f3": {
          "model_module": "@jupyter-widgets/base",
          "model_name": "LayoutModel",
          "model_module_version": "1.2.0",
          "state": {
            "_model_module": "@jupyter-widgets/base",
            "_model_module_version": "1.2.0",
            "_model_name": "LayoutModel",
            "_view_count": null,
            "_view_module": "@jupyter-widgets/base",
            "_view_module_version": "1.2.0",
            "_view_name": "LayoutView",
            "align_content": null,
            "align_items": null,
            "align_self": null,
            "border": null,
            "bottom": null,
            "display": null,
            "flex": null,
            "flex_flow": null,
            "grid_area": null,
            "grid_auto_columns": null,
            "grid_auto_flow": null,
            "grid_auto_rows": null,
            "grid_column": null,
            "grid_gap": null,
            "grid_row": null,
            "grid_template_areas": null,
            "grid_template_columns": null,
            "grid_template_rows": null,
            "height": null,
            "justify_content": null,
            "justify_items": null,
            "left": null,
            "margin": null,
            "max_height": null,
            "max_width": null,
            "min_height": null,
            "min_width": null,
            "object_fit": null,
            "object_position": null,
            "order": null,
            "overflow": null,
            "overflow_x": null,
            "overflow_y": null,
            "padding": null,
            "right": null,
            "top": null,
            "visibility": null,
            "width": null
          }
        },
        "58f7df05324f47d8b194c21f77078c3b": {
          "model_module": "@jupyter-widgets/controls",
          "model_name": "ProgressStyleModel",
          "model_module_version": "1.5.0",
          "state": {
            "_model_module": "@jupyter-widgets/controls",
            "_model_module_version": "1.5.0",
            "_model_name": "ProgressStyleModel",
            "_view_count": null,
            "_view_module": "@jupyter-widgets/base",
            "_view_module_version": "1.2.0",
            "_view_name": "StyleView",
            "bar_color": null,
            "description_width": ""
          }
        },
        "c71a3e68a3c9420da30560ab7c35778c": {
          "model_module": "@jupyter-widgets/base",
          "model_name": "LayoutModel",
          "model_module_version": "1.2.0",
          "state": {
            "_model_module": "@jupyter-widgets/base",
            "_model_module_version": "1.2.0",
            "_model_name": "LayoutModel",
            "_view_count": null,
            "_view_module": "@jupyter-widgets/base",
            "_view_module_version": "1.2.0",
            "_view_name": "LayoutView",
            "align_content": null,
            "align_items": null,
            "align_self": null,
            "border": null,
            "bottom": null,
            "display": null,
            "flex": null,
            "flex_flow": null,
            "grid_area": null,
            "grid_auto_columns": null,
            "grid_auto_flow": null,
            "grid_auto_rows": null,
            "grid_column": null,
            "grid_gap": null,
            "grid_row": null,
            "grid_template_areas": null,
            "grid_template_columns": null,
            "grid_template_rows": null,
            "height": null,
            "justify_content": null,
            "justify_items": null,
            "left": null,
            "margin": null,
            "max_height": null,
            "max_width": null,
            "min_height": null,
            "min_width": null,
            "object_fit": null,
            "object_position": null,
            "order": null,
            "overflow": null,
            "overflow_x": null,
            "overflow_y": null,
            "padding": null,
            "right": null,
            "top": null,
            "visibility": null,
            "width": null
          }
        },
        "11a874f7f73546b7aee4ea142e0ab3a9": {
          "model_module": "@jupyter-widgets/controls",
          "model_name": "DescriptionStyleModel",
          "model_module_version": "1.5.0",
          "state": {
            "_model_module": "@jupyter-widgets/controls",
            "_model_module_version": "1.5.0",
            "_model_name": "DescriptionStyleModel",
            "_view_count": null,
            "_view_module": "@jupyter-widgets/base",
            "_view_module_version": "1.2.0",
            "_view_name": "StyleView",
            "description_width": ""
          }
        }
      }
    }
  },
  "cells": [
    {
      "cell_type": "code",
      "execution_count": 1,
      "metadata": {
        "colab": {
          "base_uri": "https://localhost:8080/"
        },
        "id": "7cyXpURCMRpf",
        "outputId": "8d5637cf-0a72-47fb-937c-178eb4678544"
      },
      "outputs": [
        {
          "output_type": "stream",
          "name": "stderr",
          "text": [
            "[nltk_data] Downloading package stopwords to /root/nltk_data...\n",
            "[nltk_data]   Unzipping corpora/stopwords.zip.\n"
          ]
        }
      ],
      "source": [
        "import numpy as np\n",
        "import pandas as pd\n",
        "import matplotlib.pyplot as plt\n",
        "import seaborn as sns\n",
        "%matplotlib inline\n",
        "sns.set(rc={\"figure.figsize\":(10, 6)})\n",
        "\n",
        "import nltk\n",
        "nltk.download('stopwords')\n",
        "from nltk.corpus import stopwords"
      ]
    },
    {
      "cell_type": "code",
      "source": [
        "# Null data has been handled in previous version\n",
        "data_file_path = \"/content/drive/MyDrive/Colab Notebooks/NLP/Classification/Nepali Sentimental Classification/not_null_sentimental_data.csv\"\n",
        "data = pd.read_csv(data_file_path)"
      ],
      "metadata": {
        "id": "AXSkNLNLNKXy"
      },
      "execution_count": 2,
      "outputs": []
    },
    {
      "cell_type": "code",
      "source": [
        "data.sample(3)"
      ],
      "metadata": {
        "colab": {
          "base_uri": "https://localhost:8080/",
          "height": 143
        },
        "id": "7E0IW-JJRrJ_",
        "outputId": "e98f2574-85a8-4e73-e00c-7ed358a72793"
      },
      "execution_count": 3,
      "outputs": [
        {
          "output_type": "execute_result",
          "data": {
            "text/plain": [
              "      Unnamed: 0                                      Data Label\n",
              "1332        1333  ब्रिज मेकअप गर्नको लागि सबै सामान पाइन्छ     2\n",
              "1586        1587         उनी पनि मेरो लागि भगवान जस्तै थिन     1\n",
              "1625        1626   जानेको संस्कृत यहि हो त्यहि पनि बजाईदिए     2"
            ],
            "text/html": [
              "\n",
              "  <div id=\"df-fc322ad3-9261-4021-ba62-b9d5c154c1ba\">\n",
              "    <div class=\"colab-df-container\">\n",
              "      <div>\n",
              "<style scoped>\n",
              "    .dataframe tbody tr th:only-of-type {\n",
              "        vertical-align: middle;\n",
              "    }\n",
              "\n",
              "    .dataframe tbody tr th {\n",
              "        vertical-align: top;\n",
              "    }\n",
              "\n",
              "    .dataframe thead th {\n",
              "        text-align: right;\n",
              "    }\n",
              "</style>\n",
              "<table border=\"1\" class=\"dataframe\">\n",
              "  <thead>\n",
              "    <tr style=\"text-align: right;\">\n",
              "      <th></th>\n",
              "      <th>Unnamed: 0</th>\n",
              "      <th>Data</th>\n",
              "      <th>Label</th>\n",
              "    </tr>\n",
              "  </thead>\n",
              "  <tbody>\n",
              "    <tr>\n",
              "      <th>1332</th>\n",
              "      <td>1333</td>\n",
              "      <td>ब्रिज मेकअप गर्नको लागि सबै सामान पाइन्छ</td>\n",
              "      <td>2</td>\n",
              "    </tr>\n",
              "    <tr>\n",
              "      <th>1586</th>\n",
              "      <td>1587</td>\n",
              "      <td>उनी पनि मेरो लागि भगवान जस्तै थिन</td>\n",
              "      <td>1</td>\n",
              "    </tr>\n",
              "    <tr>\n",
              "      <th>1625</th>\n",
              "      <td>1626</td>\n",
              "      <td>जानेको संस्कृत यहि हो त्यहि पनि बजाईदिए</td>\n",
              "      <td>2</td>\n",
              "    </tr>\n",
              "  </tbody>\n",
              "</table>\n",
              "</div>\n",
              "      <button class=\"colab-df-convert\" onclick=\"convertToInteractive('df-fc322ad3-9261-4021-ba62-b9d5c154c1ba')\"\n",
              "              title=\"Convert this dataframe to an interactive table.\"\n",
              "              style=\"display:none;\">\n",
              "        \n",
              "  <svg xmlns=\"http://www.w3.org/2000/svg\" height=\"24px\"viewBox=\"0 0 24 24\"\n",
              "       width=\"24px\">\n",
              "    <path d=\"M0 0h24v24H0V0z\" fill=\"none\"/>\n",
              "    <path d=\"M18.56 5.44l.94 2.06.94-2.06 2.06-.94-2.06-.94-.94-2.06-.94 2.06-2.06.94zm-11 1L8.5 8.5l.94-2.06 2.06-.94-2.06-.94L8.5 2.5l-.94 2.06-2.06.94zm10 10l.94 2.06.94-2.06 2.06-.94-2.06-.94-.94-2.06-.94 2.06-2.06.94z\"/><path d=\"M17.41 7.96l-1.37-1.37c-.4-.4-.92-.59-1.43-.59-.52 0-1.04.2-1.43.59L10.3 9.45l-7.72 7.72c-.78.78-.78 2.05 0 2.83L4 21.41c.39.39.9.59 1.41.59.51 0 1.02-.2 1.41-.59l7.78-7.78 2.81-2.81c.8-.78.8-2.07 0-2.86zM5.41 20L4 18.59l7.72-7.72 1.47 1.35L5.41 20z\"/>\n",
              "  </svg>\n",
              "      </button>\n",
              "      \n",
              "  <style>\n",
              "    .colab-df-container {\n",
              "      display:flex;\n",
              "      flex-wrap:wrap;\n",
              "      gap: 12px;\n",
              "    }\n",
              "\n",
              "    .colab-df-convert {\n",
              "      background-color: #E8F0FE;\n",
              "      border: none;\n",
              "      border-radius: 50%;\n",
              "      cursor: pointer;\n",
              "      display: none;\n",
              "      fill: #1967D2;\n",
              "      height: 32px;\n",
              "      padding: 0 0 0 0;\n",
              "      width: 32px;\n",
              "    }\n",
              "\n",
              "    .colab-df-convert:hover {\n",
              "      background-color: #E2EBFA;\n",
              "      box-shadow: 0px 1px 2px rgba(60, 64, 67, 0.3), 0px 1px 3px 1px rgba(60, 64, 67, 0.15);\n",
              "      fill: #174EA6;\n",
              "    }\n",
              "\n",
              "    [theme=dark] .colab-df-convert {\n",
              "      background-color: #3B4455;\n",
              "      fill: #D2E3FC;\n",
              "    }\n",
              "\n",
              "    [theme=dark] .colab-df-convert:hover {\n",
              "      background-color: #434B5C;\n",
              "      box-shadow: 0px 1px 3px 1px rgba(0, 0, 0, 0.15);\n",
              "      filter: drop-shadow(0px 1px 2px rgba(0, 0, 0, 0.3));\n",
              "      fill: #FFFFFF;\n",
              "    }\n",
              "  </style>\n",
              "\n",
              "      <script>\n",
              "        const buttonEl =\n",
              "          document.querySelector('#df-fc322ad3-9261-4021-ba62-b9d5c154c1ba button.colab-df-convert');\n",
              "        buttonEl.style.display =\n",
              "          google.colab.kernel.accessAllowed ? 'block' : 'none';\n",
              "\n",
              "        async function convertToInteractive(key) {\n",
              "          const element = document.querySelector('#df-fc322ad3-9261-4021-ba62-b9d5c154c1ba');\n",
              "          const dataTable =\n",
              "            await google.colab.kernel.invokeFunction('convertToInteractive',\n",
              "                                                     [key], {});\n",
              "          if (!dataTable) return;\n",
              "\n",
              "          const docLinkHtml = 'Like what you see? Visit the ' +\n",
              "            '<a target=\"_blank\" href=https://colab.research.google.com/notebooks/data_table.ipynb>data table notebook</a>'\n",
              "            + ' to learn more about interactive tables.';\n",
              "          element.innerHTML = '';\n",
              "          dataTable['output_type'] = 'display_data';\n",
              "          await google.colab.output.renderOutput(dataTable, element);\n",
              "          const docLink = document.createElement('div');\n",
              "          docLink.innerHTML = docLinkHtml;\n",
              "          element.appendChild(docLink);\n",
              "        }\n",
              "      </script>\n",
              "    </div>\n",
              "  </div>\n",
              "  "
            ]
          },
          "metadata": {},
          "execution_count": 3
        }
      ]
    },
    {
      "cell_type": "code",
      "source": [
        "data.drop(labels = [\"Unnamed: 0\"], axis = 1, inplace = True)"
      ],
      "metadata": {
        "id": "trwkL6ZWRtac"
      },
      "execution_count": 4,
      "outputs": []
    },
    {
      "cell_type": "code",
      "source": [
        "data.head()"
      ],
      "metadata": {
        "colab": {
          "base_uri": "https://localhost:8080/",
          "height": 206
        },
        "id": "C1b1U4p7R9ex",
        "outputId": "372cae87-4bf7-4f3d-d8d0-ad78b65758ed"
      },
      "execution_count": 5,
      "outputs": [
        {
          "output_type": "execute_result",
          "data": {
            "text/plain": [
              "                                                Data Label\n",
              "0                                यो समान राम्रो रहेछ     1\n",
              "1                                   समान राम्रो रहेछ     1\n",
              "2                                        राम्रो रहेछ     1\n",
              "3  यो घडी मलाइ साँच्चिकै सुहाउछ । म यसलाई खरीद गर...     1\n",
              "4                                   साँच्चिकै सुहाउछ     1"
            ],
            "text/html": [
              "\n",
              "  <div id=\"df-27d368ff-44fd-47b2-9945-e8dab8bc17ae\">\n",
              "    <div class=\"colab-df-container\">\n",
              "      <div>\n",
              "<style scoped>\n",
              "    .dataframe tbody tr th:only-of-type {\n",
              "        vertical-align: middle;\n",
              "    }\n",
              "\n",
              "    .dataframe tbody tr th {\n",
              "        vertical-align: top;\n",
              "    }\n",
              "\n",
              "    .dataframe thead th {\n",
              "        text-align: right;\n",
              "    }\n",
              "</style>\n",
              "<table border=\"1\" class=\"dataframe\">\n",
              "  <thead>\n",
              "    <tr style=\"text-align: right;\">\n",
              "      <th></th>\n",
              "      <th>Data</th>\n",
              "      <th>Label</th>\n",
              "    </tr>\n",
              "  </thead>\n",
              "  <tbody>\n",
              "    <tr>\n",
              "      <th>0</th>\n",
              "      <td>यो समान राम्रो रहेछ</td>\n",
              "      <td>1</td>\n",
              "    </tr>\n",
              "    <tr>\n",
              "      <th>1</th>\n",
              "      <td>समान राम्रो रहेछ</td>\n",
              "      <td>1</td>\n",
              "    </tr>\n",
              "    <tr>\n",
              "      <th>2</th>\n",
              "      <td>राम्रो रहेछ</td>\n",
              "      <td>1</td>\n",
              "    </tr>\n",
              "    <tr>\n",
              "      <th>3</th>\n",
              "      <td>यो घडी मलाइ साँच्चिकै सुहाउछ । म यसलाई खरीद गर...</td>\n",
              "      <td>1</td>\n",
              "    </tr>\n",
              "    <tr>\n",
              "      <th>4</th>\n",
              "      <td>साँच्चिकै सुहाउछ</td>\n",
              "      <td>1</td>\n",
              "    </tr>\n",
              "  </tbody>\n",
              "</table>\n",
              "</div>\n",
              "      <button class=\"colab-df-convert\" onclick=\"convertToInteractive('df-27d368ff-44fd-47b2-9945-e8dab8bc17ae')\"\n",
              "              title=\"Convert this dataframe to an interactive table.\"\n",
              "              style=\"display:none;\">\n",
              "        \n",
              "  <svg xmlns=\"http://www.w3.org/2000/svg\" height=\"24px\"viewBox=\"0 0 24 24\"\n",
              "       width=\"24px\">\n",
              "    <path d=\"M0 0h24v24H0V0z\" fill=\"none\"/>\n",
              "    <path d=\"M18.56 5.44l.94 2.06.94-2.06 2.06-.94-2.06-.94-.94-2.06-.94 2.06-2.06.94zm-11 1L8.5 8.5l.94-2.06 2.06-.94-2.06-.94L8.5 2.5l-.94 2.06-2.06.94zm10 10l.94 2.06.94-2.06 2.06-.94-2.06-.94-.94-2.06-.94 2.06-2.06.94z\"/><path d=\"M17.41 7.96l-1.37-1.37c-.4-.4-.92-.59-1.43-.59-.52 0-1.04.2-1.43.59L10.3 9.45l-7.72 7.72c-.78.78-.78 2.05 0 2.83L4 21.41c.39.39.9.59 1.41.59.51 0 1.02-.2 1.41-.59l7.78-7.78 2.81-2.81c.8-.78.8-2.07 0-2.86zM5.41 20L4 18.59l7.72-7.72 1.47 1.35L5.41 20z\"/>\n",
              "  </svg>\n",
              "      </button>\n",
              "      \n",
              "  <style>\n",
              "    .colab-df-container {\n",
              "      display:flex;\n",
              "      flex-wrap:wrap;\n",
              "      gap: 12px;\n",
              "    }\n",
              "\n",
              "    .colab-df-convert {\n",
              "      background-color: #E8F0FE;\n",
              "      border: none;\n",
              "      border-radius: 50%;\n",
              "      cursor: pointer;\n",
              "      display: none;\n",
              "      fill: #1967D2;\n",
              "      height: 32px;\n",
              "      padding: 0 0 0 0;\n",
              "      width: 32px;\n",
              "    }\n",
              "\n",
              "    .colab-df-convert:hover {\n",
              "      background-color: #E2EBFA;\n",
              "      box-shadow: 0px 1px 2px rgba(60, 64, 67, 0.3), 0px 1px 3px 1px rgba(60, 64, 67, 0.15);\n",
              "      fill: #174EA6;\n",
              "    }\n",
              "\n",
              "    [theme=dark] .colab-df-convert {\n",
              "      background-color: #3B4455;\n",
              "      fill: #D2E3FC;\n",
              "    }\n",
              "\n",
              "    [theme=dark] .colab-df-convert:hover {\n",
              "      background-color: #434B5C;\n",
              "      box-shadow: 0px 1px 3px 1px rgba(0, 0, 0, 0.15);\n",
              "      filter: drop-shadow(0px 1px 2px rgba(0, 0, 0, 0.3));\n",
              "      fill: #FFFFFF;\n",
              "    }\n",
              "  </style>\n",
              "\n",
              "      <script>\n",
              "        const buttonEl =\n",
              "          document.querySelector('#df-27d368ff-44fd-47b2-9945-e8dab8bc17ae button.colab-df-convert');\n",
              "        buttonEl.style.display =\n",
              "          google.colab.kernel.accessAllowed ? 'block' : 'none';\n",
              "\n",
              "        async function convertToInteractive(key) {\n",
              "          const element = document.querySelector('#df-27d368ff-44fd-47b2-9945-e8dab8bc17ae');\n",
              "          const dataTable =\n",
              "            await google.colab.kernel.invokeFunction('convertToInteractive',\n",
              "                                                     [key], {});\n",
              "          if (!dataTable) return;\n",
              "\n",
              "          const docLinkHtml = 'Like what you see? Visit the ' +\n",
              "            '<a target=\"_blank\" href=https://colab.research.google.com/notebooks/data_table.ipynb>data table notebook</a>'\n",
              "            + ' to learn more about interactive tables.';\n",
              "          element.innerHTML = '';\n",
              "          dataTable['output_type'] = 'display_data';\n",
              "          await google.colab.output.renderOutput(dataTable, element);\n",
              "          const docLink = document.createElement('div');\n",
              "          docLink.innerHTML = docLinkHtml;\n",
              "          element.appendChild(docLink);\n",
              "        }\n",
              "      </script>\n",
              "    </div>\n",
              "  </div>\n",
              "  "
            ]
          },
          "metadata": {},
          "execution_count": 5
        }
      ]
    },
    {
      "cell_type": "code",
      "source": [
        "data[data.isnull().any(axis=1)]"
      ],
      "metadata": {
        "colab": {
          "base_uri": "https://localhost:8080/",
          "height": 49
        },
        "id": "4H-reA_mSC5_",
        "outputId": "198468ca-5f0d-4622-87ff-e83fd5fa5bdb"
      },
      "execution_count": 6,
      "outputs": [
        {
          "output_type": "execute_result",
          "data": {
            "text/plain": [
              "Empty DataFrame\n",
              "Columns: [Data, Label]\n",
              "Index: []"
            ],
            "text/html": [
              "\n",
              "  <div id=\"df-78dcf794-05c3-4c4c-92c3-f86361b33ae8\">\n",
              "    <div class=\"colab-df-container\">\n",
              "      <div>\n",
              "<style scoped>\n",
              "    .dataframe tbody tr th:only-of-type {\n",
              "        vertical-align: middle;\n",
              "    }\n",
              "\n",
              "    .dataframe tbody tr th {\n",
              "        vertical-align: top;\n",
              "    }\n",
              "\n",
              "    .dataframe thead th {\n",
              "        text-align: right;\n",
              "    }\n",
              "</style>\n",
              "<table border=\"1\" class=\"dataframe\">\n",
              "  <thead>\n",
              "    <tr style=\"text-align: right;\">\n",
              "      <th></th>\n",
              "      <th>Data</th>\n",
              "      <th>Label</th>\n",
              "    </tr>\n",
              "  </thead>\n",
              "  <tbody>\n",
              "  </tbody>\n",
              "</table>\n",
              "</div>\n",
              "      <button class=\"colab-df-convert\" onclick=\"convertToInteractive('df-78dcf794-05c3-4c4c-92c3-f86361b33ae8')\"\n",
              "              title=\"Convert this dataframe to an interactive table.\"\n",
              "              style=\"display:none;\">\n",
              "        \n",
              "  <svg xmlns=\"http://www.w3.org/2000/svg\" height=\"24px\"viewBox=\"0 0 24 24\"\n",
              "       width=\"24px\">\n",
              "    <path d=\"M0 0h24v24H0V0z\" fill=\"none\"/>\n",
              "    <path d=\"M18.56 5.44l.94 2.06.94-2.06 2.06-.94-2.06-.94-.94-2.06-.94 2.06-2.06.94zm-11 1L8.5 8.5l.94-2.06 2.06-.94-2.06-.94L8.5 2.5l-.94 2.06-2.06.94zm10 10l.94 2.06.94-2.06 2.06-.94-2.06-.94-.94-2.06-.94 2.06-2.06.94z\"/><path d=\"M17.41 7.96l-1.37-1.37c-.4-.4-.92-.59-1.43-.59-.52 0-1.04.2-1.43.59L10.3 9.45l-7.72 7.72c-.78.78-.78 2.05 0 2.83L4 21.41c.39.39.9.59 1.41.59.51 0 1.02-.2 1.41-.59l7.78-7.78 2.81-2.81c.8-.78.8-2.07 0-2.86zM5.41 20L4 18.59l7.72-7.72 1.47 1.35L5.41 20z\"/>\n",
              "  </svg>\n",
              "      </button>\n",
              "      \n",
              "  <style>\n",
              "    .colab-df-container {\n",
              "      display:flex;\n",
              "      flex-wrap:wrap;\n",
              "      gap: 12px;\n",
              "    }\n",
              "\n",
              "    .colab-df-convert {\n",
              "      background-color: #E8F0FE;\n",
              "      border: none;\n",
              "      border-radius: 50%;\n",
              "      cursor: pointer;\n",
              "      display: none;\n",
              "      fill: #1967D2;\n",
              "      height: 32px;\n",
              "      padding: 0 0 0 0;\n",
              "      width: 32px;\n",
              "    }\n",
              "\n",
              "    .colab-df-convert:hover {\n",
              "      background-color: #E2EBFA;\n",
              "      box-shadow: 0px 1px 2px rgba(60, 64, 67, 0.3), 0px 1px 3px 1px rgba(60, 64, 67, 0.15);\n",
              "      fill: #174EA6;\n",
              "    }\n",
              "\n",
              "    [theme=dark] .colab-df-convert {\n",
              "      background-color: #3B4455;\n",
              "      fill: #D2E3FC;\n",
              "    }\n",
              "\n",
              "    [theme=dark] .colab-df-convert:hover {\n",
              "      background-color: #434B5C;\n",
              "      box-shadow: 0px 1px 3px 1px rgba(0, 0, 0, 0.15);\n",
              "      filter: drop-shadow(0px 1px 2px rgba(0, 0, 0, 0.3));\n",
              "      fill: #FFFFFF;\n",
              "    }\n",
              "  </style>\n",
              "\n",
              "      <script>\n",
              "        const buttonEl =\n",
              "          document.querySelector('#df-78dcf794-05c3-4c4c-92c3-f86361b33ae8 button.colab-df-convert');\n",
              "        buttonEl.style.display =\n",
              "          google.colab.kernel.accessAllowed ? 'block' : 'none';\n",
              "\n",
              "        async function convertToInteractive(key) {\n",
              "          const element = document.querySelector('#df-78dcf794-05c3-4c4c-92c3-f86361b33ae8');\n",
              "          const dataTable =\n",
              "            await google.colab.kernel.invokeFunction('convertToInteractive',\n",
              "                                                     [key], {});\n",
              "          if (!dataTable) return;\n",
              "\n",
              "          const docLinkHtml = 'Like what you see? Visit the ' +\n",
              "            '<a target=\"_blank\" href=https://colab.research.google.com/notebooks/data_table.ipynb>data table notebook</a>'\n",
              "            + ' to learn more about interactive tables.';\n",
              "          element.innerHTML = '';\n",
              "          dataTable['output_type'] = 'display_data';\n",
              "          await google.colab.output.renderOutput(dataTable, element);\n",
              "          const docLink = document.createElement('div');\n",
              "          docLink.innerHTML = docLinkHtml;\n",
              "          element.appendChild(docLink);\n",
              "        }\n",
              "      </script>\n",
              "    </div>\n",
              "  </div>\n",
              "  "
            ]
          },
          "metadata": {},
          "execution_count": 6
        }
      ]
    },
    {
      "cell_type": "code",
      "source": [
        "data.info()"
      ],
      "metadata": {
        "colab": {
          "base_uri": "https://localhost:8080/"
        },
        "id": "nILLrD53SNk-",
        "outputId": "4d74525e-0a36-4e32-9152-e7751e384695"
      },
      "execution_count": 7,
      "outputs": [
        {
          "output_type": "stream",
          "name": "stdout",
          "text": [
            "<class 'pandas.core.frame.DataFrame'>\n",
            "RangeIndex: 2186 entries, 0 to 2185\n",
            "Data columns (total 2 columns):\n",
            " #   Column  Non-Null Count  Dtype \n",
            "---  ------  --------------  ----- \n",
            " 0   Data    2186 non-null   object\n",
            " 1   Label   2186 non-null   object\n",
            "dtypes: object(2)\n",
            "memory usage: 34.3+ KB\n"
          ]
        }
      ]
    },
    {
      "cell_type": "code",
      "source": [
        "data[\"Label\"] = data[\"Label\"].astype(int)"
      ],
      "metadata": {
        "id": "uIhWuQ97UMRO"
      },
      "execution_count": 8,
      "outputs": []
    },
    {
      "cell_type": "code",
      "source": [
        "data.Label.value_counts()"
      ],
      "metadata": {
        "colab": {
          "base_uri": "https://localhost:8080/"
        },
        "id": "2rF6sk38UaOm",
        "outputId": "df846757-99e9-4ad1-ec97-5f9fbffd395b"
      },
      "execution_count": 9,
      "outputs": [
        {
          "output_type": "execute_result",
          "data": {
            "text/plain": [
              "2    770\n",
              "0    717\n",
              "1    699\n",
              "Name: Label, dtype: int64"
            ]
          },
          "metadata": {},
          "execution_count": 9
        }
      ]
    },
    {
      "cell_type": "markdown",
      "source": [
        "# Text Preprocessing"
      ],
      "metadata": {
        "id": "TbImXuCDSULL"
      }
    },
    {
      "cell_type": "code",
      "source": [
        "!pip install nepalitokenizer\n",
        "!pip install nepali-stemmer"
      ],
      "metadata": {
        "colab": {
          "base_uri": "https://localhost:8080/"
        },
        "id": "Qk461Af7SXjd",
        "outputId": "b39ea092-d6e6-449f-dfa2-6e3d8792591c"
      },
      "execution_count": 10,
      "outputs": [
        {
          "output_type": "stream",
          "name": "stdout",
          "text": [
            "Looking in indexes: https://pypi.org/simple, https://us-python.pkg.dev/colab-wheels/public/simple/\n",
            "Collecting nepalitokenizer\n",
            "  Downloading nepalitokenizer-1.8.6.0-py3-none-any.whl (8.2 kB)\n",
            "Installing collected packages: nepalitokenizer\n",
            "Successfully installed nepalitokenizer-1.8.6.0\n",
            "Looking in indexes: https://pypi.org/simple, https://us-python.pkg.dev/colab-wheels/public/simple/\n",
            "Collecting nepali-stemmer\n",
            "  Downloading nepali_stemmer-0.0.2-py3-none-any.whl (149 kB)\n",
            "\u001b[K     |████████████████████████████████| 149 kB 4.5 MB/s \n",
            "\u001b[?25hInstalling collected packages: nepali-stemmer\n",
            "Successfully installed nepali-stemmer-0.0.2\n"
          ]
        }
      ]
    },
    {
      "cell_type": "code",
      "source": [
        "from nepali_stemmer.stemmer import NepStemmer\n",
        "from nepalitokenizer import NepaliTokenizer\n",
        "nepstem = NepStemmer()\n",
        "tokenize = NepaliTokenizer()\n",
        "\n",
        "def text_preprocessing(text, nepali_stopwords = stopwords.words('nepali')):\n",
        "  # Tokenize the reviews\n",
        "  text = tokenize.tokenizer(text)\n",
        "  # Remove the nepali stopwords\n",
        "  text = [word for word in text if word not in nepali_stopwords]\n",
        "  text = ' '.join(text)\n",
        "  # Stemming the nepali words\n",
        "  text = nepstem.stem(text)\n",
        "  # Remove the leading and trailing spaces\n",
        "  text = text.split()\n",
        "  text = ' '.join(text)  \n",
        "  return text"
      ],
      "metadata": {
        "id": "dsfPvQE-SQqi"
      },
      "execution_count": 11,
      "outputs": []
    },
    {
      "cell_type": "code",
      "source": [
        "X = data[\"Data\"].apply(text_preprocessing)\n",
        "y = data[\"Label\"] "
      ],
      "metadata": {
        "id": "lzNFmwBDSa-x"
      },
      "execution_count": 12,
      "outputs": []
    },
    {
      "cell_type": "markdown",
      "source": [
        "### Problem : ramro is removed during tokenization in preprocessing"
      ],
      "metadata": {
        "id": "BDu7xIH0Snvh"
      }
    },
    {
      "cell_type": "code",
      "source": [
        "X[:5]"
      ],
      "metadata": {
        "colab": {
          "base_uri": "https://localhost:8080/"
        },
        "id": "Fq217d1kSdKZ",
        "outputId": "2710f00a-c174-4348-f321-a50cdb023e6d"
      },
      "execution_count": 13,
      "outputs": [
        {
          "output_type": "execute_result",
          "data": {
            "text/plain": [
              "0                                              समान\n",
              "1                                              समान\n",
              "2                                                  \n",
              "3    घडी मलाइ साँच्चि कै सुहाउछ यस लाई खरीद गर्नेछु\n",
              "4                                 साँच्चि कै सुहाउछ\n",
              "Name: Data, dtype: object"
            ]
          },
          "metadata": {},
          "execution_count": 13
        }
      ]
    },
    {
      "cell_type": "markdown",
      "source": [
        "# Train, Validation and Test Split"
      ],
      "metadata": {
        "id": "Zj9Xq1b3SvpB"
      }
    },
    {
      "cell_type": "code",
      "source": [
        "from sklearn.model_selection import train_test_split\n",
        "X_train, X_test, y_train, y_test = train_test_split(X, y, test_size=0.2, random_state = 101)\n",
        "X_val, X_test, y_val, y_test = train_test_split(X_test, y_test, test_size = 0.5, random_state = 101)"
      ],
      "metadata": {
        "id": "1NpO3cAESvY5"
      },
      "execution_count": 14,
      "outputs": []
    },
    {
      "cell_type": "code",
      "source": [
        "print(f\"Train size =  {len(X_train)}\")\n",
        "print(f\"Validation size =  {len(X_val)}\")\n",
        "print(f\"Test size =  {len(X_test)}\")"
      ],
      "metadata": {
        "colab": {
          "base_uri": "https://localhost:8080/"
        },
        "id": "DniXFNyjSgDt",
        "outputId": "837ff122-2dea-4136-88a6-b2dbebae7672"
      },
      "execution_count": 15,
      "outputs": [
        {
          "output_type": "stream",
          "name": "stdout",
          "text": [
            "Train size =  1748\n",
            "Validation size =  219\n",
            "Test size =  219\n"
          ]
        }
      ]
    },
    {
      "cell_type": "code",
      "source": [
        "print(len(y_train), len(y_val), len(y_test))"
      ],
      "metadata": {
        "colab": {
          "base_uri": "https://localhost:8080/"
        },
        "id": "LahfrLKoS0g2",
        "outputId": "0ae011b1-da61-41ce-a715-7a52b24041a3"
      },
      "execution_count": 16,
      "outputs": [
        {
          "output_type": "stream",
          "name": "stdout",
          "text": [
            "1748 219 219\n"
          ]
        }
      ]
    },
    {
      "cell_type": "markdown",
      "source": [
        "# One Hot Encoding"
      ],
      "metadata": {
        "id": "7lsPN3XuS-Id"
      }
    },
    {
      "cell_type": "code",
      "source": [
        "UNIQUE_WORD_COUNT = 3179\n",
        "MAX_PAD_LENGTH = 10"
      ],
      "metadata": {
        "id": "ri-G7GHlTB8d"
      },
      "execution_count": 17,
      "outputs": []
    },
    {
      "cell_type": "code",
      "source": [
        "from keras.preprocessing.text import Tokenizer\n",
        "from keras_preprocessing.sequence import pad_sequences\n",
        "tokenizer = Tokenizer(num_words = UNIQUE_WORD_COUNT)\n",
        "tokenizer.fit_on_texts(X_train)"
      ],
      "metadata": {
        "id": "XmnhKCrLS1xc"
      },
      "execution_count": 18,
      "outputs": []
    },
    {
      "cell_type": "code",
      "source": [
        "train_sequences = tokenizer.texts_to_sequences(X_train)\n",
        "print(train_sequences[0])\n",
        "train_padded = pad_sequences(train_sequences, maxlen = MAX_PAD_LENGTH, padding = 'post', truncating = 'post')\n",
        "print(train_padded[0])"
      ],
      "metadata": {
        "colab": {
          "base_uri": "https://localhost:8080/"
        },
        "id": "HQoW6IilTIXx",
        "outputId": "2ded7d98-0d82-4d6f-ff52-7cd508b6f7e6"
      },
      "execution_count": 19,
      "outputs": [
        {
          "output_type": "stream",
          "name": "stdout",
          "text": [
            "[2028, 7, 542, 252, 543]\n",
            "[2028    7  542  252  543    0    0    0    0    0]\n"
          ]
        }
      ]
    },
    {
      "cell_type": "code",
      "source": [
        "val_sequences = tokenizer.texts_to_sequences(X_val)\n",
        "print(val_sequences[0])\n",
        "val_padded = pad_sequences(val_sequences, maxlen = MAX_PAD_LENGTH, padding = \"post\", truncating = \"post\")\n",
        "print(val_padded[0])"
      ],
      "metadata": {
        "colab": {
          "base_uri": "https://localhost:8080/"
        },
        "id": "cwgaQftCTX0u",
        "outputId": "9d4f0685-2b46-4073-b71b-3e6618df6e14"
      },
      "execution_count": 20,
      "outputs": [
        {
          "output_type": "stream",
          "name": "stdout",
          "text": [
            "[2516, 66, 40]\n",
            "[2516   66   40    0    0    0    0    0    0    0]\n"
          ]
        }
      ]
    },
    {
      "cell_type": "code",
      "source": [
        "test_sequences = tokenizer.texts_to_sequences(X_test)\n",
        "print(test_sequences[0])\n",
        "test_padded = pad_sequences(test_sequences, maxlen = MAX_PAD_LENGTH, padding = \"post\", truncating = \"post\")\n",
        "print(test_padded[0])"
      ],
      "metadata": {
        "colab": {
          "base_uri": "https://localhost:8080/"
        },
        "id": "rWQoSkSETeHw",
        "outputId": "d667f5da-498c-4811-a8f6-780cf6e81ff3"
      },
      "execution_count": 21,
      "outputs": [
        {
          "output_type": "stream",
          "name": "stdout",
          "text": [
            "[20, 2517, 407, 794, 2518]\n",
            "[  20 2517  407  794 2518    0    0    0    0    0]\n"
          ]
        }
      ]
    },
    {
      "cell_type": "code",
      "source": [
        "y_train = pd.get_dummies(y_train).values\n",
        "y_val = pd.get_dummies(y_val).values\n",
        "y_test = pd.get_dummies(y_test).values"
      ],
      "metadata": {
        "id": "IQv9JYwmThYO"
      },
      "execution_count": 22,
      "outputs": []
    },
    {
      "cell_type": "code",
      "source": [
        "train_padded"
      ],
      "metadata": {
        "colab": {
          "base_uri": "https://localhost:8080/"
        },
        "id": "rSdBLa70XYhp",
        "outputId": "7a415b22-81c9-4b3a-c2cd-58d72d23c0b6"
      },
      "execution_count": 251,
      "outputs": [
        {
          "output_type": "execute_result",
          "data": {
            "text/plain": [
              "array([[2028,    7,  542, ...,    0,    0,    0],\n",
              "       [ 142,  339,  340, ...,    0,    0,    0],\n",
              "       [ 545,  185,  888, ...,    0,    0,    0],\n",
              "       ...,\n",
              "       [ 541,  883,    0, ...,    0,    0,    0],\n",
              "       [  85,    9,    3, ...,    0,    0,    0],\n",
              "       [1116,  644, 1117, ...,    0,    0,    0]], dtype=int32)"
            ]
          },
          "metadata": {},
          "execution_count": 251
        }
      ]
    },
    {
      "cell_type": "code",
      "source": [
        "y_train"
      ],
      "metadata": {
        "colab": {
          "base_uri": "https://localhost:8080/"
        },
        "id": "6gZirjN-TngQ",
        "outputId": "8e82da52-4d48-4e8a-eba4-27162557cd76"
      },
      "execution_count": 23,
      "outputs": [
        {
          "output_type": "execute_result",
          "data": {
            "text/plain": [
              "array([[0, 0, 1],\n",
              "       [0, 1, 0],\n",
              "       [0, 0, 1],\n",
              "       ...,\n",
              "       [0, 0, 1],\n",
              "       [0, 1, 0],\n",
              "       [1, 0, 0]], dtype=uint8)"
            ]
          },
          "metadata": {},
          "execution_count": 23
        }
      ]
    },
    {
      "cell_type": "code",
      "source": [
        "print(type(train_sequences[0]))\n",
        "print(train_sequences[0])"
      ],
      "metadata": {
        "colab": {
          "base_uri": "https://localhost:8080/"
        },
        "id": "6ZRk9bNBYD7R",
        "outputId": "7a4787ef-ba86-4f5e-98b2-5fbe2cc2d627"
      },
      "execution_count": 265,
      "outputs": [
        {
          "output_type": "stream",
          "name": "stdout",
          "text": [
            "<class 'list'>\n",
            "[2028, 7, 542, 252, 543]\n"
          ]
        }
      ]
    },
    {
      "cell_type": "code",
      "source": [
        "word_index = tokenizer.word_index\n",
        "reverse_word_index = dict([(value, key) for (key, value) in word_index.items()])\n",
        "\n",
        "def decode(text):\n",
        "  return \" \".join([reverse_word_index.get(i, \"?\") for i in  text])\n",
        "decode( [ 803, 1588,   54, 2546, 1589,    6,   63,    0,    0,    0])\n"
      ],
      "metadata": {
        "colab": {
          "base_uri": "https://localhost:8080/",
          "height": 35
        },
        "id": "JCqqJQYbXwKd",
        "outputId": "818796d6-c629-457e-fb7a-701106c28d91"
      },
      "execution_count": 279,
      "outputs": [
        {
          "output_type": "execute_result",
          "data": {
            "text/plain": [
              "'वाह शितल पोस्ट साझा गर्न का धन्यवाद ? ? ?'"
            ],
            "application/vnd.google.colaboratory.intrinsic+json": {
              "type": "string"
            }
          },
          "metadata": {},
          "execution_count": 279
        }
      ]
    },
    {
      "cell_type": "markdown",
      "source": [
        "# Data Loader"
      ],
      "metadata": {
        "id": "sgckjfSTfUZ3"
      }
    },
    {
      "cell_type": "code",
      "source": [
        "import torch\n",
        "from torch import nn\n",
        "from torch.utils.data import DataLoader, TensorDataset\n",
        "\n",
        "torch.manual_seed(50)\n",
        "torch.cuda.manual_seed(50)\n",
        "\n",
        "torch.__version__"
      ],
      "metadata": {
        "colab": {
          "base_uri": "https://localhost:8080/",
          "height": 35
        },
        "id": "tNPiSGWAfWHy",
        "outputId": "6d116539-255e-4778-bfd1-b596f3a40d8d"
      },
      "execution_count": 248,
      "outputs": [
        {
          "output_type": "execute_result",
          "data": {
            "text/plain": [
              "'1.13.0+cu116'"
            ],
            "application/vnd.google.colaboratory.intrinsic+json": {
              "type": "string"
            }
          },
          "metadata": {},
          "execution_count": 248
        }
      ]
    },
    {
      "cell_type": "code",
      "source": [
        "train_data = TensorDataset(torch.LongTensor(train_padded), torch.FloatTensor(y_train))\n",
        "valid_data = TensorDataset(torch.LongTensor(val_padded), torch.FloatTensor(y_val))\n",
        "test_data = TensorDataset(torch.LongTensor(test_padded), torch.FloatTensor(y_test))\n",
        "\n",
        "BATCH_SIZE = 32\n",
        "train_loader = DataLoader(train_data, batch_size = BATCH_SIZE, shuffle = True, drop_last = False)\n",
        "valid_loader = DataLoader(valid_data, batch_size = BATCH_SIZE, shuffle = False, drop_last = False)\n",
        "test_loader = DataLoader(test_data, batch_size = BATCH_SIZE, shuffle = False, drop_last = False)"
      ],
      "metadata": {
        "id": "w_hoiATefWFS"
      },
      "execution_count": 258,
      "outputs": []
    },
    {
      "cell_type": "code",
      "source": [
        "for X, y in train_loader:\n",
        "  print(X)\n",
        "  print(y)\n",
        "  break"
      ],
      "metadata": {
        "id": "sZi6znjifWCx"
      },
      "execution_count": null,
      "outputs": []
    },
    {
      "cell_type": "markdown",
      "source": [
        "# Model"
      ],
      "metadata": {
        "id": "6WSnCI74Utif"
      }
    },
    {
      "cell_type": "code",
      "source": [
        "device = \"cuda\" if torch.cuda.is_available() else \"cpu\"\n",
        "device"
      ],
      "metadata": {
        "colab": {
          "base_uri": "https://localhost:8080/",
          "height": 35
        },
        "id": "iEiJlzu3Tpsg",
        "outputId": "7dc9e475-1833-4c60-843c-59d6d9c60c68"
      },
      "execution_count": 118,
      "outputs": [
        {
          "output_type": "execute_result",
          "data": {
            "text/plain": [
              "'cpu'"
            ],
            "application/vnd.google.colaboratory.intrinsic+json": {
              "type": "string"
            }
          },
          "metadata": {},
          "execution_count": 118
        }
      ]
    },
    {
      "cell_type": "code",
      "source": [
        "class SentimentalModelV3(nn.Module):\n",
        "  def __init__(self, output_size, vocab_size, embedding_dim, hidden_dim, n_layers = 1, drop_prob = 0.3, bidirectional = False, batch_size = 32, padded_seq_len = 10):\n",
        "    super().__init__()\n",
        "    self.batch_size = batch_size\n",
        "    self.output_size = output_size\n",
        "    self.n_layers = n_layers\n",
        "    self.hidden_dim = hidden_dim\n",
        "    self.padded_seq_len = padded_seq_len\n",
        "\n",
        "    self.embedding = nn.Embedding(num_embeddings = vocab_size, embedding_dim = embedding_dim)\n",
        "    self.lstm = nn.LSTM(input_size = embedding_dim, hidden_size = hidden_dim, num_layers = n_layers, dropout = drop_prob, batch_first = True, bidirectional = bidirectional)\n",
        "\n",
        "    self.dropout = nn.Dropout(0.3)\n",
        "\n",
        "    #Linear and activation layer\n",
        "    self.fc1=nn.Linear(self.hidden_dim * self.padded_seq_len, 64)\n",
        "    self.fc2=nn.Linear(64, 16)\n",
        "    self.fc3=nn.Linear(16,output_size)\n",
        "    self.Relu = nn.ReLU()\n",
        "\n",
        "  def forward(self, one_hot, hn, cn):\n",
        "    embed = self.embedding(one_hot)\n",
        "    lstm_out, hidden = self.lstm(embed)\n",
        "\n",
        "    #stack up the lstm output\n",
        "    lstm_out = lstm_out.reshape(shape = (lstm_out.shape[0], lstm_out.shape[1] * lstm_out.shape[2]))\n",
        "    # dropout and fully connected layers\n",
        "    out = self.dropout(lstm_out)\n",
        "    out = self.Relu(out)\n",
        "    out = self.Relu(self.fc1(out))\n",
        "    out = self.Relu(self.fc2(out))\n",
        "    out = self.fc3(out)\n",
        "\n",
        "    return out\n",
        "\n",
        "  def initCellState(self):\n",
        "    h =  torch.zeros(self.n_layers , self.batch_size , self.hidden_dim).to(device)\n",
        "    c =  torch.zeros(self.n_layers , self.batch_size , self.hidden_dim).to(device)\n",
        "    return h, c"
      ],
      "metadata": {
        "id": "PUKdlWU3YOcj"
      },
      "execution_count": 174,
      "outputs": []
    },
    {
      "cell_type": "code",
      "source": [
        "model_v3 = SentimentalModelV3(output_size = 3, \n",
        "                              vocab_size = UNIQUE_WORD_COUNT, \n",
        "                              embedding_dim = 64, \n",
        "                              hidden_dim = 32, \n",
        "                              n_layers = 5, \n",
        "                              drop_prob = 0.3, \n",
        "                              padded_seq_len = MAX_PAD_LENGTH).to(device)"
      ],
      "metadata": {
        "id": "UqsKE5vnjck6"
      },
      "execution_count": 175,
      "outputs": []
    },
    {
      "cell_type": "code",
      "source": [
        "model_v3\n",
        "hn, cn = model_v3.initCellState()"
      ],
      "metadata": {
        "id": "6Ti9ku_QkV-2"
      },
      "execution_count": 176,
      "outputs": []
    },
    {
      "cell_type": "code",
      "source": [
        "hn.shape"
      ],
      "metadata": {
        "colab": {
          "base_uri": "https://localhost:8080/"
        },
        "id": "q6Fy8nOm4Y2E",
        "outputId": "c42f6023-43d1-4eb8-d84b-dd095bf9f308"
      },
      "execution_count": 177,
      "outputs": [
        {
          "output_type": "execute_result",
          "data": {
            "text/plain": [
              "torch.Size([5, 32, 32])"
            ]
          },
          "metadata": {},
          "execution_count": 177
        }
      ]
    },
    {
      "cell_type": "code",
      "source": [
        "cn.shape"
      ],
      "metadata": {
        "colab": {
          "base_uri": "https://localhost:8080/"
        },
        "id": "IGw-bE0C4Zqa",
        "outputId": "e38dcdcc-56e3-481f-e520-415e4c5d87e0"
      },
      "execution_count": 178,
      "outputs": [
        {
          "output_type": "execute_result",
          "data": {
            "text/plain": [
              "torch.Size([5, 32, 32])"
            ]
          },
          "metadata": {},
          "execution_count": 178
        }
      ]
    },
    {
      "cell_type": "code",
      "source": [
        "X.shape"
      ],
      "metadata": {
        "colab": {
          "base_uri": "https://localhost:8080/"
        },
        "id": "gYdOJWB_mH4o",
        "outputId": "30658b75-215e-452f-a5b8-31c57d36dc4e"
      },
      "execution_count": 179,
      "outputs": [
        {
          "output_type": "execute_result",
          "data": {
            "text/plain": [
              "torch.Size([32, 10])"
            ]
          },
          "metadata": {},
          "execution_count": 179
        }
      ]
    },
    {
      "cell_type": "code",
      "source": [
        "X, y = next(iter(train_loader))\n",
        "model_v3.eval()\n",
        "with torch.inference_mode():\n",
        "  pred = model_v3(X, hn, cn)\n",
        "\n",
        "pred.shape"
      ],
      "metadata": {
        "colab": {
          "base_uri": "https://localhost:8080/"
        },
        "id": "ZRoW0ewW7epX",
        "outputId": "55dd6d47-2d16-41cb-c5ca-ead31997454e"
      },
      "execution_count": 180,
      "outputs": [
        {
          "output_type": "execute_result",
          "data": {
            "text/plain": [
              "torch.Size([32, 3])"
            ]
          },
          "metadata": {},
          "execution_count": 180
        }
      ]
    },
    {
      "cell_type": "code",
      "source": [
        "embedding = nn.Embedding(num_embeddings = UNIQUE_WORD_COUNT, embedding_dim = 64)\n",
        "embed = embedding(X)\n",
        "print(f\"From Embedding layer output: {embed.shape}\")\n",
        "\n",
        "lstm = nn.LSTM(input_size = 64, hidden_size = 32, num_layers = 2, dropout = 0.3, batch_first = True, bidirectional = False)\n",
        "lstm_out, (hn, cn) = lstm(embed)\n",
        "print(f\"lstm output shape : {lstm_out.shape}\")\n",
        "lstm_out = lstm_out.reshape(shape = (32, 32 * 10))\n",
        "print(lstm_out.shape)\n",
        "\n",
        "fc1=nn.Linear(in_features = 320, out_features = 64)\n",
        "fc1(lstm_out).shape"
      ],
      "metadata": {
        "colab": {
          "base_uri": "https://localhost:8080/"
        },
        "id": "t_-QnACKme_J",
        "outputId": "a674eb0d-a855-4343-b326-1cf1ab88a6d6"
      },
      "execution_count": 181,
      "outputs": [
        {
          "output_type": "stream",
          "name": "stdout",
          "text": [
            "From Embedding layer output: torch.Size([32, 10, 64])\n",
            "lstm output shape : torch.Size([32, 10, 32])\n",
            "torch.Size([32, 320])\n"
          ]
        },
        {
          "output_type": "execute_result",
          "data": {
            "text/plain": [
              "torch.Size([32, 64])"
            ]
          },
          "metadata": {},
          "execution_count": 181
        }
      ]
    },
    {
      "cell_type": "markdown",
      "source": [
        "# Training, Validation and Testing loop"
      ],
      "metadata": {
        "id": "OKARHK7n8Xoa"
      }
    },
    {
      "cell_type": "code",
      "source": [
        "def train_step(model: torch.nn.Module, \n",
        "               dataloader: torch.utils.data.DataLoader, \n",
        "               loss_fn: torch.nn.Module, \n",
        "               optimizer: torch.optim.Optimizer):\n",
        "  hn, cn = model.initCellState()\n",
        "  # put the model in train mode\n",
        "  model.train()\n",
        "\n",
        "  # setup the train loss and train accuracy values\n",
        "  train_loss, train_acc  = 0, 0\n",
        "\n",
        "  # Loop through the data loader data batches\n",
        "  for batch, (X, y) in enumerate(dataloader):\n",
        "    # send data to target device\n",
        "    X, y = X.to(device), y.to(device)\n",
        "    # Forward pass\n",
        "    y_pred = model(X, hn, cn)\n",
        "\n",
        "    # calculate and accumulate loss\n",
        "    loss = loss_fn(y_pred, y)\n",
        "    train_loss += loss.item()\n",
        "\n",
        "    # detach the cell state as it is not the parameter to be optimizerd\n",
        "    hn = hn.detach()\n",
        "    cn = cn.detach()\n",
        "\n",
        "    # optimzer zero grad\n",
        "    optimizer.zero_grad()\n",
        "\n",
        "    # Loss backward\n",
        "    loss.backward()\n",
        "\n",
        "    # optimizer step\n",
        "    optimizer.step()\n",
        "\n",
        "    # calculate the accumulate accuracy metric across all batches\n",
        "    y_pred_class = torch.argmax(torch.softmax(y_pred, dim = 1), dim = 1)\n",
        "    y_true_class = torch.argmax(torch.softmax(y, dim = 1), dim = 1)\n",
        "    train_acc += (y_pred_class == y_true_class).sum().item() / len(y_pred)\n",
        "  \n",
        "  train_loss = train_loss / len(dataloader)\n",
        "  train_acc = train_acc / len(dataloader)\n",
        "\n",
        "  return train_loss, train_acc\n"
      ],
      "metadata": {
        "id": "3Yw8Sc03zQzL"
      },
      "execution_count": 197,
      "outputs": []
    },
    {
      "cell_type": "code",
      "source": [
        "def val_step(model: torch.nn.Module, \n",
        "              dataloader: torch.utils.data.DataLoader, \n",
        "              loss_fn: torch.nn.Module):\n",
        "  hn, cn = model.initCellState()\n",
        "  model.eval()\n",
        "  val_loss, val_acc = 0, 0\n",
        "  with torch.inference_mode():\n",
        "    for batch, (X, y) in enumerate(dataloader):\n",
        "      X, y = X.to(device), y.to(device)\n",
        "\n",
        "      # forward pass\n",
        "      val_pred_logits = model(X, hn, cn)\n",
        "\n",
        "      # calculate and accumulate loss\n",
        "      loss = loss_fn(val_pred_logits, y)\n",
        "      val_loss += loss.item()\n",
        "\n",
        "      # calculate and accumulate accuracy\n",
        "      y_pred_class = torch.argmax(torch.softmax(val_pred_logits, dim = 1), dim = 1)\n",
        "      y_true_class = torch.argmax(torch.softmax(y, dim = 1), dim = 1)\n",
        "      val_acc += (y_pred_class == y_true_class).sum().item() / len(val_pred_logits)\n",
        "\n",
        "  val_loss = val_loss / len(dataloader)\n",
        "  val_acc = val_acc / len(dataloader)\n",
        "  return val_loss, val_acc\n"
      ],
      "metadata": {
        "id": "VszJ4V8iAUSQ"
      },
      "execution_count": 198,
      "outputs": []
    },
    {
      "cell_type": "code",
      "source": [
        "from tqdm.auto import tqdm\n",
        "\n",
        "def train(model: torch.nn.Module, \n",
        "          train_dataloader: torch.utils.data.DataLoader, \n",
        "          test_dataloader: torch.utils.data.DataLoader, \n",
        "          optimizer: torch.optim.Optimizer, \n",
        "          loss_fn: torch.nn.Module, \n",
        "          epochs: int = 5):\n",
        "  results = {\n",
        "      \"train_loss\" : [],\n",
        "      \"train_acc\" : [], \n",
        "      \"val_loss\" : [], \n",
        "      \"val_acc\" : []\n",
        "  }\n",
        "\n",
        "  for epoch in tqdm(range(epochs)):\n",
        "    train_loss, train_acc = train_step(model = model, \n",
        "                                       dataloader = train_dataloader, \n",
        "                                       loss_fn = loss_fn, \n",
        "                                       optimizer = optimizer)\n",
        "    \n",
        "    val_loss, val_acc = val_step(model = model, \n",
        "                                    dataloader = test_dataloader, \n",
        "                                    loss_fn = loss_fn)\n",
        "    \n",
        "    print(\n",
        "        f\"Epoch: {epoch+1} | \"\n",
        "        f\"train_loss: {train_loss:.4f} | \"\n",
        "        f\"train_acc: {train_acc:.4f} | \"\n",
        "        f\"val_loss: {val_loss:.4f} | \"\n",
        "        f\"val_acc: {val_acc:.4f}\"\n",
        "    )\n",
        "\n",
        "    results[\"train_loss\"].append(train_loss)\n",
        "    results[\"train_acc\"].append(train_acc)\n",
        "    results[\"val_loss\"].append(val_loss)\n",
        "    results[\"val_acc\"].append(val_acc)\n",
        "  return results"
      ],
      "metadata": {
        "id": "icO5kLU7-_bM"
      },
      "execution_count": 199,
      "outputs": []
    },
    {
      "cell_type": "code",
      "source": [
        "torch.manual_seed(42)\n",
        "torch.cuda.manual_seed(42)\n",
        "\n",
        "NUM_EPOCHS = 5\n",
        "\n",
        "model_v3 = SentimentalModelV3(output_size = 3, \n",
        "                              vocab_size = UNIQUE_WORD_COUNT, \n",
        "                              embedding_dim = 128, \n",
        "                              hidden_dim = 64, \n",
        "                              n_layers = 5, \n",
        "                              drop_prob = 0.3, \n",
        "                              padded_seq_len = 10, \n",
        "                              bidirectional = False).to(device)\n",
        "\n",
        "loss_fn = nn.CrossEntropyLoss()\n",
        "optimizer = torch.optim.Adam(params=model_v3.parameters(), lr=0.001)"
      ],
      "metadata": {
        "id": "DHJGqowF_GMI"
      },
      "execution_count": 200,
      "outputs": []
    },
    {
      "cell_type": "code",
      "source": [
        "model_v3_results = train(model = model_v3, train_dataloader = train_loader, test_dataloader = test_loader, optimizer = optimizer, loss_fn = loss_fn, epochs = 20)"
      ],
      "metadata": {
        "colab": {
          "base_uri": "https://localhost:8080/",
          "height": 396,
          "referenced_widgets": [
            "362b521f212445dab9bd4fb82b8cffc5",
            "c881b3b93b5d4e5fbd7fbeb11cb3d529",
            "65f07046899d41b79c994accd5b03b19",
            "ab2eaa8d137f4687ba39c3464655481d",
            "7fb549d9c2cf47d1aae34cee97f2c3c0",
            "043e7c03c6eb48a7b2b226ddfe99c09b",
            "8b8e145121a34cce9dae945a7ad34c75",
            "1d0315862b834519b2a5c2e0b09af1f3",
            "58f7df05324f47d8b194c21f77078c3b",
            "c71a3e68a3c9420da30560ab7c35778c",
            "11a874f7f73546b7aee4ea142e0ab3a9"
          ]
        },
        "id": "5uaHe8tkAxB4",
        "outputId": "7c070ebf-41b0-4b3c-9cd7-1428b90b5666"
      },
      "execution_count": 204,
      "outputs": [
        {
          "output_type": "display_data",
          "data": {
            "text/plain": [
              "  0%|          | 0/20 [00:00<?, ?it/s]"
            ],
            "application/vnd.jupyter.widget-view+json": {
              "version_major": 2,
              "version_minor": 0,
              "model_id": "362b521f212445dab9bd4fb82b8cffc5"
            }
          },
          "metadata": {}
        },
        {
          "output_type": "stream",
          "name": "stdout",
          "text": [
            "Epoch: 1 | train_loss: 0.1656 | train_acc: 0.9411 | val_loss: 1.7982 | val_acc: 0.6098\n",
            "Epoch: 2 | train_loss: 0.1570 | train_acc: 0.9426 | val_loss: 1.7549 | val_acc: 0.6276\n",
            "Epoch: 3 | train_loss: 0.1447 | train_acc: 0.9411 | val_loss: 1.7965 | val_acc: 0.6106\n",
            "Epoch: 4 | train_loss: 0.1388 | train_acc: 0.9472 | val_loss: 1.7142 | val_acc: 0.6151\n",
            "Epoch: 5 | train_loss: 0.1322 | train_acc: 0.9506 | val_loss: 2.0345 | val_acc: 0.6151\n",
            "Epoch: 6 | train_loss: 0.1246 | train_acc: 0.9511 | val_loss: 1.7794 | val_acc: 0.5972\n",
            "Epoch: 7 | train_loss: 0.1231 | train_acc: 0.9548 | val_loss: 1.7962 | val_acc: 0.6195\n",
            "Epoch: 8 | train_loss: 0.1103 | train_acc: 0.9557 | val_loss: 2.1709 | val_acc: 0.6195\n",
            "Epoch: 9 | train_loss: 0.1081 | train_acc: 0.9534 | val_loss: 2.1936 | val_acc: 0.5980\n",
            "Epoch: 10 | train_loss: 0.0864 | train_acc: 0.9588 | val_loss: 2.3488 | val_acc: 0.5847\n",
            "Epoch: 11 | train_loss: 0.0808 | train_acc: 0.9610 | val_loss: 2.5265 | val_acc: 0.5928\n",
            "Epoch: 12 | train_loss: 0.0872 | train_acc: 0.9622 | val_loss: 2.6526 | val_acc: 0.5964\n",
            "Epoch: 13 | train_loss: 0.0945 | train_acc: 0.9631 | val_loss: 2.3447 | val_acc: 0.5741\n",
            "Epoch: 14 | train_loss: 0.1771 | train_acc: 0.9408 | val_loss: 1.6309 | val_acc: 0.6017\n",
            "Epoch: 15 | train_loss: 0.1295 | train_acc: 0.9497 | val_loss: 1.7944 | val_acc: 0.5838\n",
            "Epoch: 16 | train_loss: 0.0980 | train_acc: 0.9551 | val_loss: 1.8896 | val_acc: 0.6009\n",
            "Epoch: 17 | train_loss: 0.0859 | train_acc: 0.9607 | val_loss: 2.2876 | val_acc: 0.5741\n",
            "Epoch: 18 | train_loss: 0.0914 | train_acc: 0.9574 | val_loss: 2.1197 | val_acc: 0.5785\n",
            "Epoch: 19 | train_loss: 0.0879 | train_acc: 0.9610 | val_loss: 2.3484 | val_acc: 0.6009\n",
            "Epoch: 20 | train_loss: 0.0777 | train_acc: 0.9665 | val_loss: 2.5135 | val_acc: 0.5830\n"
          ]
        }
      ]
    },
    {
      "cell_type": "code",
      "source": [
        "!pip install torchmetrics"
      ],
      "metadata": {
        "colab": {
          "base_uri": "https://localhost:8080/"
        },
        "id": "U4QjlG17dB3R",
        "outputId": "ee98ae1b-4c14-4ef0-b138-83688e24a666"
      },
      "execution_count": 304,
      "outputs": [
        {
          "output_type": "stream",
          "name": "stdout",
          "text": [
            "Looking in indexes: https://pypi.org/simple, https://us-python.pkg.dev/colab-wheels/public/simple/\n",
            "Collecting torchmetrics\n",
            "  Downloading torchmetrics-0.11.0-py3-none-any.whl (512 kB)\n",
            "\u001b[K     |████████████████████████████████| 512 kB 5.1 MB/s \n",
            "\u001b[?25hRequirement already satisfied: torch>=1.8.1 in /usr/local/lib/python3.8/dist-packages (from torchmetrics) (1.13.0+cu116)\n",
            "Requirement already satisfied: typing-extensions in /usr/local/lib/python3.8/dist-packages (from torchmetrics) (4.4.0)\n",
            "Requirement already satisfied: packaging in /usr/local/lib/python3.8/dist-packages (from torchmetrics) (21.3)\n",
            "Requirement already satisfied: numpy>=1.17.2 in /usr/local/lib/python3.8/dist-packages (from torchmetrics) (1.21.6)\n",
            "Requirement already satisfied: pyparsing!=3.0.5,>=2.0.2 in /usr/local/lib/python3.8/dist-packages (from packaging->torchmetrics) (3.0.9)\n",
            "Installing collected packages: torchmetrics\n",
            "Successfully installed torchmetrics-0.11.0\n"
          ]
        }
      ]
    },
    {
      "cell_type": "markdown",
      "source": [
        "# Test Data Evaluation"
      ],
      "metadata": {
        "id": "Q1RLauxoJiR1"
      }
    },
    {
      "cell_type": "code",
      "source": [
        "def test_step(model: torch.nn.Module, \n",
        "              dataloader: torch.utils.data.DataLoader, \n",
        "              loss_fn: torch.nn.Module):\n",
        "  hn, cn = model.initCellState()\n",
        "  model.eval()\n",
        "  test_loss, test_acc = 0, 0\n",
        "\n",
        "  test_pred, test_true = [], []\n",
        "  \n",
        "  with torch.inference_mode():\n",
        "    for batch, (X, y) in enumerate(dataloader):\n",
        "      X, y = X.to(device), y.to(device)\n",
        "\n",
        "      # forward pass\n",
        "      val_pred_logits = model(X, hn, cn)\n",
        "\n",
        "      # calculate and accumulate loss\n",
        "      loss = loss_fn(val_pred_logits, y)\n",
        "      test_loss += loss.item()\n",
        "\n",
        "      # calculate and accumulate accuracy\n",
        "      y_pred_class = torch.argmax(torch.softmax(val_pred_logits, dim = 1), dim = 1)\n",
        "      y_true_class = torch.argmax(torch.softmax(y, dim = 1), dim = 1)\n",
        "      test_acc += (y_pred_class == y_true_class).sum().item() / len(val_pred_logits)\n",
        "      \n",
        "      test_pred.append(y_pred_class.cpu())\n",
        "      test_true.append(y_true_class.cpu())\n",
        "\n",
        "  test_loss = test_loss / len(dataloader)\n",
        "  test_acc = test_acc / len(dataloader)\n",
        "  return test_loss, test_acc, torch.cat(test_pred), torch.cat(test_true)"
      ],
      "metadata": {
        "id": "NI7xD6-KSPq7"
      },
      "execution_count": 305,
      "outputs": []
    },
    {
      "cell_type": "code",
      "source": [
        "test_loss, test_acc, test_pred, test_true = test_step(model_v3, test_loader, loss_fn)\n",
        "test_loss, test_acc"
      ],
      "metadata": {
        "id": "QJ0gvhQnCAY8",
        "colab": {
          "base_uri": "https://localhost:8080/"
        },
        "outputId": "8a9143a1-7923-4438-a9c3-d467c04c7116"
      },
      "execution_count": 306,
      "outputs": [
        {
          "output_type": "execute_result",
          "data": {
            "text/plain": [
              "(2.5134925161089217, 0.5830026455026455)"
            ]
          },
          "metadata": {},
          "execution_count": 306
        }
      ]
    },
    {
      "cell_type": "code",
      "source": [
        "test_pred"
      ],
      "metadata": {
        "colab": {
          "base_uri": "https://localhost:8080/"
        },
        "id": "wVePQC49eUh9",
        "outputId": "9ce6bb5e-eca7-45c1-b853-1eab703d8af8"
      },
      "execution_count": 308,
      "outputs": [
        {
          "output_type": "execute_result",
          "data": {
            "text/plain": [
              "tensor([0, 2, 0, 2, 0, 1, 1, 0, 2, 2, 0, 1, 2, 1, 1, 2, 1, 1, 0, 2, 0, 1, 2, 1,\n",
              "        2, 1, 2, 0, 0, 0, 1, 0, 2, 0, 1, 1, 2, 1, 2, 0, 0, 2, 1, 1, 1, 2, 2, 0,\n",
              "        0, 0, 2, 2, 0, 0, 1, 1, 2, 1, 2, 1, 0, 0, 2, 1, 2, 2, 2, 0, 1, 1, 0, 1,\n",
              "        0, 1, 0, 0, 0, 2, 1, 0, 2, 2, 1, 2, 1, 1, 2, 1, 1, 1, 1, 0, 2, 0, 0, 2,\n",
              "        2, 0, 1, 2, 1, 1, 0, 1, 0, 2, 2, 2, 0, 2, 2, 1, 1, 1, 0, 2, 0, 2, 0, 2,\n",
              "        2, 1, 2, 0, 2, 0, 2, 1, 1, 1, 2, 2, 2, 2, 0, 2, 0, 1, 1, 2, 2, 1, 0, 1,\n",
              "        0, 1, 2, 1, 0, 2, 1, 2, 1, 0, 1, 2, 0, 2, 1, 1, 1, 0, 2, 0, 0, 2, 1, 0,\n",
              "        2, 0, 2, 0, 2, 2, 0, 1, 2, 2, 0, 1, 2, 1, 1, 1, 2, 2, 2, 1, 2, 1, 2, 0,\n",
              "        1, 2, 2, 0, 0, 2, 2, 1, 1, 0, 1, 1, 0, 0, 1, 1, 0, 1, 2, 2, 0, 1, 1, 1,\n",
              "        2, 0, 0])"
            ]
          },
          "metadata": {},
          "execution_count": 308
        }
      ]
    },
    {
      "cell_type": "code",
      "source": [
        "test_true"
      ],
      "metadata": {
        "colab": {
          "base_uri": "https://localhost:8080/"
        },
        "id": "QCV5HkQ5eV8_",
        "outputId": "36437961-6522-46f9-aee1-0f351ab863fa"
      },
      "execution_count": 309,
      "outputs": [
        {
          "output_type": "execute_result",
          "data": {
            "text/plain": [
              "tensor([0, 2, 2, 0, 2, 0, 2, 0, 0, 2, 2, 2, 0, 1, 1, 2, 1, 1, 0, 2, 0, 1, 0, 2,\n",
              "        2, 1, 0, 0, 0, 0, 1, 0, 2, 0, 0, 1, 0, 1, 2, 1, 2, 2, 1, 1, 1, 2, 2, 2,\n",
              "        0, 0, 0, 0, 0, 2, 1, 2, 2, 0, 2, 0, 2, 2, 2, 1, 1, 0, 2, 1, 2, 0, 0, 2,\n",
              "        2, 2, 1, 0, 0, 2, 1, 0, 0, 2, 1, 0, 1, 0, 2, 2, 1, 2, 1, 0, 2, 1, 0, 0,\n",
              "        0, 0, 2, 0, 1, 2, 0, 1, 0, 0, 2, 2, 2, 1, 0, 2, 1, 1, 0, 0, 1, 2, 0, 2,\n",
              "        2, 1, 2, 0, 0, 0, 2, 1, 2, 1, 2, 2, 2, 2, 0, 0, 2, 1, 1, 2, 2, 0, 0, 1,\n",
              "        1, 1, 1, 1, 0, 0, 2, 2, 1, 0, 1, 0, 2, 0, 1, 1, 1, 1, 2, 0, 0, 0, 1, 0,\n",
              "        2, 0, 0, 0, 0, 2, 2, 1, 0, 2, 2, 1, 1, 0, 1, 2, 0, 0, 1, 1, 2, 1, 1, 0,\n",
              "        1, 2, 2, 2, 1, 2, 2, 1, 0, 2, 1, 1, 2, 0, 2, 2, 0, 2, 2, 1, 0, 1, 1, 2,\n",
              "        1, 2, 2])"
            ]
          },
          "metadata": {},
          "execution_count": 309
        }
      ]
    },
    {
      "cell_type": "code",
      "source": [
        "from sklearn.metrics import confusion_matrix, classification_report"
      ],
      "metadata": {
        "id": "ouE980HserYw"
      },
      "execution_count": 311,
      "outputs": []
    },
    {
      "cell_type": "code",
      "source": [
        "test_pred = list(test_pred)\n",
        "test_true = list(test_true)\n",
        "cm = confusion_matrix(y_true = test_true, y_pred = test_pred)\n",
        "cm_heatmap = sns.heatmap(cm, annot = True)\n",
        "cm_heatmap.set(xlabel = \"Predicted\", ylabel = \"True\", title = \"Confusion matrix for the model\")\n",
        "plt.show()"
      ],
      "metadata": {
        "colab": {
          "base_uri": "https://localhost:8080/",
          "height": 410
        },
        "id": "7QaS2j8LdOpA",
        "outputId": "16633ef2-6417-4f43-f51e-2ae131623683"
      },
      "execution_count": 313,
      "outputs": [
        {
          "output_type": "display_data",
          "data": {
            "text/plain": [
              "<Figure size 720x432 with 2 Axes>"
            ],
            "image/png": "[encoded data removed]"
          },
          "metadata": {}
        }
      ]
    },
    {
      "cell_type": "code",
      "source": [
        "print(classification_report(y_true = test_true, y_pred = test_pred, target_names = ['Negative', 'Positive', 'Neutral']))"
      ],
      "metadata": {
        "colab": {
          "base_uri": "https://localhost:8080/"
        },
        "id": "T2id0YY3e6vf",
        "outputId": "78803244-15d8-41d0-c988-8a247c6c516e"
      },
      "execution_count": 314,
      "outputs": [
        {
          "output_type": "stream",
          "name": "stdout",
          "text": [
            "              precision    recall  f1-score   support\n",
            "\n",
            "    Negative       0.58      0.51      0.54        75\n",
            "    Positive       0.63      0.75      0.69        64\n",
            "     Neutral       0.54      0.53      0.53        80\n",
            "\n",
            "    accuracy                           0.58       219\n",
            "   macro avg       0.58      0.59      0.59       219\n",
            "weighted avg       0.58      0.58      0.58       219\n",
            "\n"
          ]
        }
      ]
    },
    {
      "cell_type": "markdown",
      "source": [
        "# Test your own data"
      ],
      "metadata": {
        "id": "984gKCCzTSoU"
      }
    },
    {
      "cell_type": "code",
      "source": [
        "!pip install nepali-unicode-converter"
      ],
      "metadata": {
        "colab": {
          "base_uri": "https://localhost:8080/"
        },
        "id": "6C_6k3WxJuEQ",
        "outputId": "38107080-92de-4b4e-a52e-656db42abd6d"
      },
      "execution_count": 205,
      "outputs": [
        {
          "output_type": "stream",
          "name": "stdout",
          "text": [
            "Looking in indexes: https://pypi.org/simple, https://us-python.pkg.dev/colab-wheels/public/simple/\n",
            "Collecting nepali-unicode-converter\n",
            "  Downloading nepali_unicode_converter-1.0.3-py3-none-any.whl (5.1 kB)\n",
            "Installing collected packages: nepali-unicode-converter\n",
            "Successfully installed nepali-unicode-converter-1.0.3\n"
          ]
        }
      ]
    },
    {
      "cell_type": "code",
      "source": [
        "from nepali_unicode_converter.convert import Converter\n",
        "\n",
        "converter = Converter()"
      ],
      "metadata": {
        "colab": {
          "base_uri": "https://localhost:8080/"
        },
        "id": "YKoVrvn0TZay",
        "outputId": "1cdcc198-dccd-49bc-e43c-a2803a1d0fb5"
      },
      "execution_count": 206,
      "outputs": [
        {
          "output_type": "stream",
          "name": "stdout",
          "text": [
            "आहा ! कति राम्रो। जे होस् गजब को रहेxअ\n"
          ]
        }
      ]
    },
    {
      "cell_type": "code",
      "source": [
        "def testOwnString(own_string, model, padded_length = 10):\n",
        "  # preprocessing of own_string to padded string\n",
        "  own_string = text_preprocessing(own_string)\n",
        "  own_string_list = [own_string]\n",
        "  own_string_series = pd.Series(own_string_list)\n",
        "  own_string_sequences = tokenizer.texts_to_sequences(own_string_series)\n",
        "  own_string_padded = pad_sequences(own_string_sequences, maxlen = padded_length, padding = \"post\", truncating = \"post\")\n",
        "  print(own_string_padded)\n",
        "\n",
        "  # conversion to pytorch tensor\n",
        "  X = torch.tensor(own_string_padded)\n",
        "  hn, cn = model_v3.initCellState()\n",
        "  model_v3.eval()\n",
        "  with torch.inference_mode():\n",
        "    pred = model_v3(X, hn, cn)\n",
        "    pred_probabilities = torch.softmax(pred, dim = 1)\n",
        "    pred_label = torch.argmax(pred_probabilities, dim = 1)\n",
        "  return pred_probabilities, pred_label.item()"
      ],
      "metadata": {
        "id": "F3EwQcYzTa3B"
      },
      "execution_count": 292,
      "outputs": []
    },
    {
      "cell_type": "code",
      "source": [
        "mystring = 'aahaa ! kati raamro. je hos gajaba ko rahexa'\n",
        "own_string = converter.convert(mystring)\n",
        "print(own_string)\n",
        "testOwnString(own_string, model = model_v3)"
      ],
      "metadata": {
        "colab": {
          "base_uri": "https://localhost:8080/"
        },
        "id": "zlpZyVBdTc_Y",
        "outputId": "fd796cfb-78c6-4bd2-e260-7d3de85d9e5a"
      },
      "execution_count": 297,
      "outputs": [
        {
          "output_type": "stream",
          "name": "stdout",
          "text": [
            "आहा ! कति राम्रो। जे होस् गजब को रहेxअ\n",
            "[[ 539 2777    0    0    0    0    0    0    0    0]]\n"
          ]
        },
        {
          "output_type": "execute_result",
          "data": {
            "text/plain": [
              "(tensor([[3.5098e-05, 9.9993e-01, 3.1061e-05]]), 1)"
            ]
          },
          "metadata": {},
          "execution_count": 297
        }
      ]
    },
    {
      "cell_type": "code",
      "source": [
        "own_string = \"देश मा चुनाव मा भोट हाल्ने नैसर्गिक अधिकार बन्चित गरिए\"\n",
        "testOwnString(own_string, model = model_v3)"
      ],
      "metadata": {
        "colab": {
          "base_uri": "https://localhost:8080/"
        },
        "id": "EmMNZzsWVJ4V",
        "outputId": "d1dba35a-b367-46fd-b5d4-b3d463102da1"
      },
      "execution_count": 294,
      "outputs": [
        {
          "output_type": "stream",
          "name": "stdout",
          "text": [
            "[[  7 230 435 168 674 436 437 275   0   0]]\n"
          ]
        },
        {
          "output_type": "execute_result",
          "data": {
            "text/plain": [
              "(tensor([[9.9768e-01, 3.1832e-05, 2.2834e-03]]), 0)"
            ]
          },
          "metadata": {},
          "execution_count": 294
        }
      ]
    },
    {
      "cell_type": "code",
      "source": [
        "own_string = \"वाह जे होस् गजब को रहेxअ\"\n",
        "testOwnString(own_string, model = model_v3)"
      ],
      "metadata": {
        "colab": {
          "base_uri": "https://localhost:8080/"
        },
        "id": "LnaTLPxqZZ4w",
        "outputId": "242d2522-b534-4e5e-bb3e-d356e65728eb"
      },
      "execution_count": 295,
      "outputs": [
        {
          "output_type": "stream",
          "name": "stdout",
          "text": [
            "[[ 803  539 2777    0    0    0    0    0    0    0]]\n"
          ]
        },
        {
          "output_type": "execute_result",
          "data": {
            "text/plain": [
              "(tensor([[3.9784e-06, 9.9999e-01, 3.4854e-06]]), 1)"
            ]
          },
          "metadata": {},
          "execution_count": 295
        }
      ]
    },
    {
      "cell_type": "code",
      "source": [
        "mystring = 'mero naama niraajana ho'\n",
        "own_string = converter.convert(mystring)\n",
        "print(own_string)\n",
        "testOwnString(own_string, model = model_v3, padded_length = MAX_PAD_LENGTH)"
      ],
      "metadata": {
        "colab": {
          "base_uri": "https://localhost:8080/"
        },
        "id": "_L2RXhFrbhVH",
        "outputId": "9e1e8065-dd69-4d17-b7c3-bddeb9e44c62"
      },
      "execution_count": 303,
      "outputs": [
        {
          "output_type": "stream",
          "name": "stdout",
          "text": [
            "मेरो नाम निराजन हो\n",
            "[[79  0  0  0  0  0  0  0  0  0]]\n"
          ]
        },
        {
          "output_type": "execute_result",
          "data": {
            "text/plain": [
              "(tensor([[0.2794, 0.4425, 0.2782]]), 1)"
            ]
          },
          "metadata": {},
          "execution_count": 303
        }
      ]
    },
    {
      "cell_type": "code",
      "source": [],
      "metadata": {
        "id": "vw3c83UxcOZA"
      },
      "execution_count": null,
      "outputs": []
    }
  ]
}
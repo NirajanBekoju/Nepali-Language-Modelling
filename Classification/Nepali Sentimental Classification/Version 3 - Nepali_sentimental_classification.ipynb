{
  "nbformat": 4,
  "nbformat_minor": 0,
  "metadata": {
    "colab": {
      "provenance": []
    },
    "kernelspec": {
      "name": "python3",
      "display_name": "Python 3"
    },
    "language_info": {
      "name": "python"
    },
    "widgets": {
      "application/vnd.jupyter.widget-state+json": {
        "119c0950f58e45399be2d89ffeb4acf9": {
          "model_module": "@jupyter-widgets/controls",
          "model_name": "HBoxModel",
          "model_module_version": "1.5.0",
          "state": {
            "_dom_classes": [],
            "_model_module": "@jupyter-widgets/controls",
            "_model_module_version": "1.5.0",
            "_model_name": "HBoxModel",
            "_view_count": null,
            "_view_module": "@jupyter-widgets/controls",
            "_view_module_version": "1.5.0",
            "_view_name": "HBoxView",
            "box_style": "",
            "children": [
              "IPY_MODEL_e85de2085cc549baa91eff01522c049a",
              "IPY_MODEL_17fa680d8a5f4797831f9285b828da4d",
              "IPY_MODEL_0c9f2dcc35f943f597c35bc54e961dc0"
            ],
            "layout": "IPY_MODEL_c01019b91d764dc99c8b628a61097374"
          }
        },
        "e85de2085cc549baa91eff01522c049a": {
          "model_module": "@jupyter-widgets/controls",
          "model_name": "HTMLModel",
          "model_module_version": "1.5.0",
          "state": {
            "_dom_classes": [],
            "_model_module": "@jupyter-widgets/controls",
            "_model_module_version": "1.5.0",
            "_model_name": "HTMLModel",
            "_view_count": null,
            "_view_module": "@jupyter-widgets/controls",
            "_view_module_version": "1.5.0",
            "_view_name": "HTMLView",
            "description": "",
            "description_tooltip": null,
            "layout": "IPY_MODEL_6409e79a85d040ed953d23be73327899",
            "placeholder": "​",
            "style": "IPY_MODEL_c841729a08b243cea01e2ba5d630f98d",
            "value": "100%"
          }
        },
        "17fa680d8a5f4797831f9285b828da4d": {
          "model_module": "@jupyter-widgets/controls",
          "model_name": "FloatProgressModel",
          "model_module_version": "1.5.0",
          "state": {
            "_dom_classes": [],
            "_model_module": "@jupyter-widgets/controls",
            "_model_module_version": "1.5.0",
            "_model_name": "FloatProgressModel",
            "_view_count": null,
            "_view_module": "@jupyter-widgets/controls",
            "_view_module_version": "1.5.0",
            "_view_name": "ProgressView",
            "bar_style": "success",
            "description": "",
            "description_tooltip": null,
            "layout": "IPY_MODEL_e645fe4c720e4789be700c6602a0a183",
            "max": 15,
            "min": 0,
            "orientation": "horizontal",
            "style": "IPY_MODEL_121a63147c1d4ac587e2990eb75f179d",
            "value": 15
          }
        },
        "0c9f2dcc35f943f597c35bc54e961dc0": {
          "model_module": "@jupyter-widgets/controls",
          "model_name": "HTMLModel",
          "model_module_version": "1.5.0",
          "state": {
            "_dom_classes": [],
            "_model_module": "@jupyter-widgets/controls",
            "_model_module_version": "1.5.0",
            "_model_name": "HTMLModel",
            "_view_count": null,
            "_view_module": "@jupyter-widgets/controls",
            "_view_module_version": "1.5.0",
            "_view_name": "HTMLView",
            "description": "",
            "description_tooltip": null,
            "layout": "IPY_MODEL_6a269db7703a4e7a9ce17eadd758ca7b",
            "placeholder": "​",
            "style": "IPY_MODEL_3b38b3c681934186810501f82551dfed",
            "value": " 15/15 [00:14&lt;00:00,  1.05it/s]"
          }
        },
        "c01019b91d764dc99c8b628a61097374": {
          "model_module": "@jupyter-widgets/base",
          "model_name": "LayoutModel",
          "model_module_version": "1.2.0",
          "state": {
            "_model_module": "@jupyter-widgets/base",
            "_model_module_version": "1.2.0",
            "_model_name": "LayoutModel",
            "_view_count": null,
            "_view_module": "@jupyter-widgets/base",
            "_view_module_version": "1.2.0",
            "_view_name": "LayoutView",
            "align_content": null,
            "align_items": null,
            "align_self": null,
            "border": null,
            "bottom": null,
            "display": null,
            "flex": null,
            "flex_flow": null,
            "grid_area": null,
            "grid_auto_columns": null,
            "grid_auto_flow": null,
            "grid_auto_rows": null,
            "grid_column": null,
            "grid_gap": null,
            "grid_row": null,
            "grid_template_areas": null,
            "grid_template_columns": null,
            "grid_template_rows": null,
            "height": null,
            "justify_content": null,
            "justify_items": null,
            "left": null,
            "margin": null,
            "max_height": null,
            "max_width": null,
            "min_height": null,
            "min_width": null,
            "object_fit": null,
            "object_position": null,
            "order": null,
            "overflow": null,
            "overflow_x": null,
            "overflow_y": null,
            "padding": null,
            "right": null,
            "top": null,
            "visibility": null,
            "width": null
          }
        },
        "6409e79a85d040ed953d23be73327899": {
          "model_module": "@jupyter-widgets/base",
          "model_name": "LayoutModel",
          "model_module_version": "1.2.0",
          "state": {
            "_model_module": "@jupyter-widgets/base",
            "_model_module_version": "1.2.0",
            "_model_name": "LayoutModel",
            "_view_count": null,
            "_view_module": "@jupyter-widgets/base",
            "_view_module_version": "1.2.0",
            "_view_name": "LayoutView",
            "align_content": null,
            "align_items": null,
            "align_self": null,
            "border": null,
            "bottom": null,
            "display": null,
            "flex": null,
            "flex_flow": null,
            "grid_area": null,
            "grid_auto_columns": null,
            "grid_auto_flow": null,
            "grid_auto_rows": null,
            "grid_column": null,
            "grid_gap": null,
            "grid_row": null,
            "grid_template_areas": null,
            "grid_template_columns": null,
            "grid_template_rows": null,
            "height": null,
            "justify_content": null,
            "justify_items": null,
            "left": null,
            "margin": null,
            "max_height": null,
            "max_width": null,
            "min_height": null,
            "min_width": null,
            "object_fit": null,
            "object_position": null,
            "order": null,
            "overflow": null,
            "overflow_x": null,
            "overflow_y": null,
            "padding": null,
            "right": null,
            "top": null,
            "visibility": null,
            "width": null
          }
        },
        "c841729a08b243cea01e2ba5d630f98d": {
          "model_module": "@jupyter-widgets/controls",
          "model_name": "DescriptionStyleModel",
          "model_module_version": "1.5.0",
          "state": {
            "_model_module": "@jupyter-widgets/controls",
            "_model_module_version": "1.5.0",
            "_model_name": "DescriptionStyleModel",
            "_view_count": null,
            "_view_module": "@jupyter-widgets/base",
            "_view_module_version": "1.2.0",
            "_view_name": "StyleView",
            "description_width": ""
          }
        },
        "e645fe4c720e4789be700c6602a0a183": {
          "model_module": "@jupyter-widgets/base",
          "model_name": "LayoutModel",
          "model_module_version": "1.2.0",
          "state": {
            "_model_module": "@jupyter-widgets/base",
            "_model_module_version": "1.2.0",
            "_model_name": "LayoutModel",
            "_view_count": null,
            "_view_module": "@jupyter-widgets/base",
            "_view_module_version": "1.2.0",
            "_view_name": "LayoutView",
            "align_content": null,
            "align_items": null,
            "align_self": null,
            "border": null,
            "bottom": null,
            "display": null,
            "flex": null,
            "flex_flow": null,
            "grid_area": null,
            "grid_auto_columns": null,
            "grid_auto_flow": null,
            "grid_auto_rows": null,
            "grid_column": null,
            "grid_gap": null,
            "grid_row": null,
            "grid_template_areas": null,
            "grid_template_columns": null,
            "grid_template_rows": null,
            "height": null,
            "justify_content": null,
            "justify_items": null,
            "left": null,
            "margin": null,
            "max_height": null,
            "max_width": null,
            "min_height": null,
            "min_width": null,
            "object_fit": null,
            "object_position": null,
            "order": null,
            "overflow": null,
            "overflow_x": null,
            "overflow_y": null,
            "padding": null,
            "right": null,
            "top": null,
            "visibility": null,
            "width": null
          }
        },
        "121a63147c1d4ac587e2990eb75f179d": {
          "model_module": "@jupyter-widgets/controls",
          "model_name": "ProgressStyleModel",
          "model_module_version": "1.5.0",
          "state": {
            "_model_module": "@jupyter-widgets/controls",
            "_model_module_version": "1.5.0",
            "_model_name": "ProgressStyleModel",
            "_view_count": null,
            "_view_module": "@jupyter-widgets/base",
            "_view_module_version": "1.2.0",
            "_view_name": "StyleView",
            "bar_color": null,
            "description_width": ""
          }
        },
        "6a269db7703a4e7a9ce17eadd758ca7b": {
          "model_module": "@jupyter-widgets/base",
          "model_name": "LayoutModel",
          "model_module_version": "1.2.0",
          "state": {
            "_model_module": "@jupyter-widgets/base",
            "_model_module_version": "1.2.0",
            "_model_name": "LayoutModel",
            "_view_count": null,
            "_view_module": "@jupyter-widgets/base",
            "_view_module_version": "1.2.0",
            "_view_name": "LayoutView",
            "align_content": null,
            "align_items": null,
            "align_self": null,
            "border": null,
            "bottom": null,
            "display": null,
            "flex": null,
            "flex_flow": null,
            "grid_area": null,
            "grid_auto_columns": null,
            "grid_auto_flow": null,
            "grid_auto_rows": null,
            "grid_column": null,
            "grid_gap": null,
            "grid_row": null,
            "grid_template_areas": null,
            "grid_template_columns": null,
            "grid_template_rows": null,
            "height": null,
            "justify_content": null,
            "justify_items": null,
            "left": null,
            "margin": null,
            "max_height": null,
            "max_width": null,
            "min_height": null,
            "min_width": null,
            "object_fit": null,
            "object_position": null,
            "order": null,
            "overflow": null,
            "overflow_x": null,
            "overflow_y": null,
            "padding": null,
            "right": null,
            "top": null,
            "visibility": null,
            "width": null
          }
        },
        "3b38b3c681934186810501f82551dfed": {
          "model_module": "@jupyter-widgets/controls",
          "model_name": "DescriptionStyleModel",
          "model_module_version": "1.5.0",
          "state": {
            "_model_module": "@jupyter-widgets/controls",
            "_model_module_version": "1.5.0",
            "_model_name": "DescriptionStyleModel",
            "_view_count": null,
            "_view_module": "@jupyter-widgets/base",
            "_view_module_version": "1.2.0",
            "_view_name": "StyleView",
            "description_width": ""
          }
        }
      }
    }
  },
  "cells": [
    {
      "cell_type": "code",
      "execution_count": 380,
      "metadata": {
        "colab": {
          "base_uri": "https://localhost:8080/"
        },
        "id": "7cyXpURCMRpf",
        "outputId": "6f64e2b2-e103-4f73-fb99-be0bca282063"
      },
      "outputs": [
        {
          "output_type": "stream",
          "name": "stderr",
          "text": [
            "[nltk_data] Downloading package stopwords to /root/nltk_data...\n",
            "[nltk_data]   Package stopwords is already up-to-date!\n"
          ]
        }
      ],
      "source": [
        "import numpy as np\n",
        "import pandas as pd\n",
        "import matplotlib.pyplot as plt\n",
        "import seaborn as sns\n",
        "%matplotlib inline\n",
        "sns.set(rc={\"figure.figsize\":(10, 6)})\n",
        "\n",
        "import nltk\n",
        "nltk.download('stopwords')\n",
        "from nltk.corpus import stopwords"
      ]
    },
    {
      "cell_type": "code",
      "source": [
        "# Null data has been handled in previous version\n",
        "data_file_path = \"/content/drive/MyDrive/Colab Notebooks/NLP/Classification/Nepali Sentimental Classification/not_null_sentimental_data.csv\"\n",
        "data = pd.read_csv(data_file_path)"
      ],
      "metadata": {
        "id": "AXSkNLNLNKXy"
      },
      "execution_count": 381,
      "outputs": []
    },
    {
      "cell_type": "code",
      "source": [
        "data.sample(3)"
      ],
      "metadata": {
        "colab": {
          "base_uri": "https://localhost:8080/",
          "height": 143
        },
        "id": "7E0IW-JJRrJ_",
        "outputId": "f5731155-0126-48f7-c996-65384b9ae33b"
      },
      "execution_count": 382,
      "outputs": [
        {
          "output_type": "execute_result",
          "data": {
            "text/plain": [
              "      Unnamed: 0                    Data Label\n",
              "1674        1675  हाम्रो घरमा पनि टिभि छ     2\n",
              "444          445     राम्रो भन्नी ठान्नु     1\n",
              "203          204            ठूलो गल्ती छ     2"
            ],
            "text/html": [
              "\n",
              "  <div id=\"df-a8771f86-f3f6-4166-88d7-d40814177ae6\">\n",
              "    <div class=\"colab-df-container\">\n",
              "      <div>\n",
              "<style scoped>\n",
              "    .dataframe tbody tr th:only-of-type {\n",
              "        vertical-align: middle;\n",
              "    }\n",
              "\n",
              "    .dataframe tbody tr th {\n",
              "        vertical-align: top;\n",
              "    }\n",
              "\n",
              "    .dataframe thead th {\n",
              "        text-align: right;\n",
              "    }\n",
              "</style>\n",
              "<table border=\"1\" class=\"dataframe\">\n",
              "  <thead>\n",
              "    <tr style=\"text-align: right;\">\n",
              "      <th></th>\n",
              "      <th>Unnamed: 0</th>\n",
              "      <th>Data</th>\n",
              "      <th>Label</th>\n",
              "    </tr>\n",
              "  </thead>\n",
              "  <tbody>\n",
              "    <tr>\n",
              "      <th>1674</th>\n",
              "      <td>1675</td>\n",
              "      <td>हाम्रो घरमा पनि टिभि छ</td>\n",
              "      <td>2</td>\n",
              "    </tr>\n",
              "    <tr>\n",
              "      <th>444</th>\n",
              "      <td>445</td>\n",
              "      <td>राम्रो भन्नी ठान्नु</td>\n",
              "      <td>1</td>\n",
              "    </tr>\n",
              "    <tr>\n",
              "      <th>203</th>\n",
              "      <td>204</td>\n",
              "      <td>ठूलो गल्ती छ</td>\n",
              "      <td>2</td>\n",
              "    </tr>\n",
              "  </tbody>\n",
              "</table>\n",
              "</div>\n",
              "      <button class=\"colab-df-convert\" onclick=\"convertToInteractive('df-a8771f86-f3f6-4166-88d7-d40814177ae6')\"\n",
              "              title=\"Convert this dataframe to an interactive table.\"\n",
              "              style=\"display:none;\">\n",
              "        \n",
              "  <svg xmlns=\"http://www.w3.org/2000/svg\" height=\"24px\"viewBox=\"0 0 24 24\"\n",
              "       width=\"24px\">\n",
              "    <path d=\"M0 0h24v24H0V0z\" fill=\"none\"/>\n",
              "    <path d=\"M18.56 5.44l.94 2.06.94-2.06 2.06-.94-2.06-.94-.94-2.06-.94 2.06-2.06.94zm-11 1L8.5 8.5l.94-2.06 2.06-.94-2.06-.94L8.5 2.5l-.94 2.06-2.06.94zm10 10l.94 2.06.94-2.06 2.06-.94-2.06-.94-.94-2.06-.94 2.06-2.06.94z\"/><path d=\"M17.41 7.96l-1.37-1.37c-.4-.4-.92-.59-1.43-.59-.52 0-1.04.2-1.43.59L10.3 9.45l-7.72 7.72c-.78.78-.78 2.05 0 2.83L4 21.41c.39.39.9.59 1.41.59.51 0 1.02-.2 1.41-.59l7.78-7.78 2.81-2.81c.8-.78.8-2.07 0-2.86zM5.41 20L4 18.59l7.72-7.72 1.47 1.35L5.41 20z\"/>\n",
              "  </svg>\n",
              "      </button>\n",
              "      \n",
              "  <style>\n",
              "    .colab-df-container {\n",
              "      display:flex;\n",
              "      flex-wrap:wrap;\n",
              "      gap: 12px;\n",
              "    }\n",
              "\n",
              "    .colab-df-convert {\n",
              "      background-color: #E8F0FE;\n",
              "      border: none;\n",
              "      border-radius: 50%;\n",
              "      cursor: pointer;\n",
              "      display: none;\n",
              "      fill: #1967D2;\n",
              "      height: 32px;\n",
              "      padding: 0 0 0 0;\n",
              "      width: 32px;\n",
              "    }\n",
              "\n",
              "    .colab-df-convert:hover {\n",
              "      background-color: #E2EBFA;\n",
              "      box-shadow: 0px 1px 2px rgba(60, 64, 67, 0.3), 0px 1px 3px 1px rgba(60, 64, 67, 0.15);\n",
              "      fill: #174EA6;\n",
              "    }\n",
              "\n",
              "    [theme=dark] .colab-df-convert {\n",
              "      background-color: #3B4455;\n",
              "      fill: #D2E3FC;\n",
              "    }\n",
              "\n",
              "    [theme=dark] .colab-df-convert:hover {\n",
              "      background-color: #434B5C;\n",
              "      box-shadow: 0px 1px 3px 1px rgba(0, 0, 0, 0.15);\n",
              "      filter: drop-shadow(0px 1px 2px rgba(0, 0, 0, 0.3));\n",
              "      fill: #FFFFFF;\n",
              "    }\n",
              "  </style>\n",
              "\n",
              "      <script>\n",
              "        const buttonEl =\n",
              "          document.querySelector('#df-a8771f86-f3f6-4166-88d7-d40814177ae6 button.colab-df-convert');\n",
              "        buttonEl.style.display =\n",
              "          google.colab.kernel.accessAllowed ? 'block' : 'none';\n",
              "\n",
              "        async function convertToInteractive(key) {\n",
              "          const element = document.querySelector('#df-a8771f86-f3f6-4166-88d7-d40814177ae6');\n",
              "          const dataTable =\n",
              "            await google.colab.kernel.invokeFunction('convertToInteractive',\n",
              "                                                     [key], {});\n",
              "          if (!dataTable) return;\n",
              "\n",
              "          const docLinkHtml = 'Like what you see? Visit the ' +\n",
              "            '<a target=\"_blank\" href=https://colab.research.google.com/notebooks/data_table.ipynb>data table notebook</a>'\n",
              "            + ' to learn more about interactive tables.';\n",
              "          element.innerHTML = '';\n",
              "          dataTable['output_type'] = 'display_data';\n",
              "          await google.colab.output.renderOutput(dataTable, element);\n",
              "          const docLink = document.createElement('div');\n",
              "          docLink.innerHTML = docLinkHtml;\n",
              "          element.appendChild(docLink);\n",
              "        }\n",
              "      </script>\n",
              "    </div>\n",
              "  </div>\n",
              "  "
            ]
          },
          "metadata": {},
          "execution_count": 382
        }
      ]
    },
    {
      "cell_type": "code",
      "source": [
        "data.drop(labels = [\"Unnamed: 0\"], axis = 1, inplace = True)"
      ],
      "metadata": {
        "id": "trwkL6ZWRtac"
      },
      "execution_count": 383,
      "outputs": []
    },
    {
      "cell_type": "code",
      "source": [
        "data.head()"
      ],
      "metadata": {
        "colab": {
          "base_uri": "https://localhost:8080/",
          "height": 206
        },
        "id": "C1b1U4p7R9ex",
        "outputId": "9ea4133b-c9a5-4080-952d-4cae09dae73d"
      },
      "execution_count": 384,
      "outputs": [
        {
          "output_type": "execute_result",
          "data": {
            "text/plain": [
              "                                                Data Label\n",
              "0                                यो समान राम्रो रहेछ     1\n",
              "1                                   समान राम्रो रहेछ     1\n",
              "2                                        राम्रो रहेछ     1\n",
              "3  यो घडी मलाइ साँच्चिकै सुहाउछ । म यसलाई खरीद गर...     1\n",
              "4                                   साँच्चिकै सुहाउछ     1"
            ],
            "text/html": [
              "\n",
              "  <div id=\"df-c6c20f99-7b6c-4305-a4ce-910f2e245a6a\">\n",
              "    <div class=\"colab-df-container\">\n",
              "      <div>\n",
              "<style scoped>\n",
              "    .dataframe tbody tr th:only-of-type {\n",
              "        vertical-align: middle;\n",
              "    }\n",
              "\n",
              "    .dataframe tbody tr th {\n",
              "        vertical-align: top;\n",
              "    }\n",
              "\n",
              "    .dataframe thead th {\n",
              "        text-align: right;\n",
              "    }\n",
              "</style>\n",
              "<table border=\"1\" class=\"dataframe\">\n",
              "  <thead>\n",
              "    <tr style=\"text-align: right;\">\n",
              "      <th></th>\n",
              "      <th>Data</th>\n",
              "      <th>Label</th>\n",
              "    </tr>\n",
              "  </thead>\n",
              "  <tbody>\n",
              "    <tr>\n",
              "      <th>0</th>\n",
              "      <td>यो समान राम्रो रहेछ</td>\n",
              "      <td>1</td>\n",
              "    </tr>\n",
              "    <tr>\n",
              "      <th>1</th>\n",
              "      <td>समान राम्रो रहेछ</td>\n",
              "      <td>1</td>\n",
              "    </tr>\n",
              "    <tr>\n",
              "      <th>2</th>\n",
              "      <td>राम्रो रहेछ</td>\n",
              "      <td>1</td>\n",
              "    </tr>\n",
              "    <tr>\n",
              "      <th>3</th>\n",
              "      <td>यो घडी मलाइ साँच्चिकै सुहाउछ । म यसलाई खरीद गर...</td>\n",
              "      <td>1</td>\n",
              "    </tr>\n",
              "    <tr>\n",
              "      <th>4</th>\n",
              "      <td>साँच्चिकै सुहाउछ</td>\n",
              "      <td>1</td>\n",
              "    </tr>\n",
              "  </tbody>\n",
              "</table>\n",
              "</div>\n",
              "      <button class=\"colab-df-convert\" onclick=\"convertToInteractive('df-c6c20f99-7b6c-4305-a4ce-910f2e245a6a')\"\n",
              "              title=\"Convert this dataframe to an interactive table.\"\n",
              "              style=\"display:none;\">\n",
              "        \n",
              "  <svg xmlns=\"http://www.w3.org/2000/svg\" height=\"24px\"viewBox=\"0 0 24 24\"\n",
              "       width=\"24px\">\n",
              "    <path d=\"M0 0h24v24H0V0z\" fill=\"none\"/>\n",
              "    <path d=\"M18.56 5.44l.94 2.06.94-2.06 2.06-.94-2.06-.94-.94-2.06-.94 2.06-2.06.94zm-11 1L8.5 8.5l.94-2.06 2.06-.94-2.06-.94L8.5 2.5l-.94 2.06-2.06.94zm10 10l.94 2.06.94-2.06 2.06-.94-2.06-.94-.94-2.06-.94 2.06-2.06.94z\"/><path d=\"M17.41 7.96l-1.37-1.37c-.4-.4-.92-.59-1.43-.59-.52 0-1.04.2-1.43.59L10.3 9.45l-7.72 7.72c-.78.78-.78 2.05 0 2.83L4 21.41c.39.39.9.59 1.41.59.51 0 1.02-.2 1.41-.59l7.78-7.78 2.81-2.81c.8-.78.8-2.07 0-2.86zM5.41 20L4 18.59l7.72-7.72 1.47 1.35L5.41 20z\"/>\n",
              "  </svg>\n",
              "      </button>\n",
              "      \n",
              "  <style>\n",
              "    .colab-df-container {\n",
              "      display:flex;\n",
              "      flex-wrap:wrap;\n",
              "      gap: 12px;\n",
              "    }\n",
              "\n",
              "    .colab-df-convert {\n",
              "      background-color: #E8F0FE;\n",
              "      border: none;\n",
              "      border-radius: 50%;\n",
              "      cursor: pointer;\n",
              "      display: none;\n",
              "      fill: #1967D2;\n",
              "      height: 32px;\n",
              "      padding: 0 0 0 0;\n",
              "      width: 32px;\n",
              "    }\n",
              "\n",
              "    .colab-df-convert:hover {\n",
              "      background-color: #E2EBFA;\n",
              "      box-shadow: 0px 1px 2px rgba(60, 64, 67, 0.3), 0px 1px 3px 1px rgba(60, 64, 67, 0.15);\n",
              "      fill: #174EA6;\n",
              "    }\n",
              "\n",
              "    [theme=dark] .colab-df-convert {\n",
              "      background-color: #3B4455;\n",
              "      fill: #D2E3FC;\n",
              "    }\n",
              "\n",
              "    [theme=dark] .colab-df-convert:hover {\n",
              "      background-color: #434B5C;\n",
              "      box-shadow: 0px 1px 3px 1px rgba(0, 0, 0, 0.15);\n",
              "      filter: drop-shadow(0px 1px 2px rgba(0, 0, 0, 0.3));\n",
              "      fill: #FFFFFF;\n",
              "    }\n",
              "  </style>\n",
              "\n",
              "      <script>\n",
              "        const buttonEl =\n",
              "          document.querySelector('#df-c6c20f99-7b6c-4305-a4ce-910f2e245a6a button.colab-df-convert');\n",
              "        buttonEl.style.display =\n",
              "          google.colab.kernel.accessAllowed ? 'block' : 'none';\n",
              "\n",
              "        async function convertToInteractive(key) {\n",
              "          const element = document.querySelector('#df-c6c20f99-7b6c-4305-a4ce-910f2e245a6a');\n",
              "          const dataTable =\n",
              "            await google.colab.kernel.invokeFunction('convertToInteractive',\n",
              "                                                     [key], {});\n",
              "          if (!dataTable) return;\n",
              "\n",
              "          const docLinkHtml = 'Like what you see? Visit the ' +\n",
              "            '<a target=\"_blank\" href=https://colab.research.google.com/notebooks/data_table.ipynb>data table notebook</a>'\n",
              "            + ' to learn more about interactive tables.';\n",
              "          element.innerHTML = '';\n",
              "          dataTable['output_type'] = 'display_data';\n",
              "          await google.colab.output.renderOutput(dataTable, element);\n",
              "          const docLink = document.createElement('div');\n",
              "          docLink.innerHTML = docLinkHtml;\n",
              "          element.appendChild(docLink);\n",
              "        }\n",
              "      </script>\n",
              "    </div>\n",
              "  </div>\n",
              "  "
            ]
          },
          "metadata": {},
          "execution_count": 384
        }
      ]
    },
    {
      "cell_type": "code",
      "source": [
        "data[data.isnull().any(axis=1)]"
      ],
      "metadata": {
        "colab": {
          "base_uri": "https://localhost:8080/",
          "height": 49
        },
        "id": "4H-reA_mSC5_",
        "outputId": "6d63d7f7-d16f-4ee2-cf9c-0730ad075565"
      },
      "execution_count": 385,
      "outputs": [
        {
          "output_type": "execute_result",
          "data": {
            "text/plain": [
              "Empty DataFrame\n",
              "Columns: [Data, Label]\n",
              "Index: []"
            ],
            "text/html": [
              "\n",
              "  <div id=\"df-cd94049b-0c6f-4357-81cf-b2d3ae606b26\">\n",
              "    <div class=\"colab-df-container\">\n",
              "      <div>\n",
              "<style scoped>\n",
              "    .dataframe tbody tr th:only-of-type {\n",
              "        vertical-align: middle;\n",
              "    }\n",
              "\n",
              "    .dataframe tbody tr th {\n",
              "        vertical-align: top;\n",
              "    }\n",
              "\n",
              "    .dataframe thead th {\n",
              "        text-align: right;\n",
              "    }\n",
              "</style>\n",
              "<table border=\"1\" class=\"dataframe\">\n",
              "  <thead>\n",
              "    <tr style=\"text-align: right;\">\n",
              "      <th></th>\n",
              "      <th>Data</th>\n",
              "      <th>Label</th>\n",
              "    </tr>\n",
              "  </thead>\n",
              "  <tbody>\n",
              "  </tbody>\n",
              "</table>\n",
              "</div>\n",
              "      <button class=\"colab-df-convert\" onclick=\"convertToInteractive('df-cd94049b-0c6f-4357-81cf-b2d3ae606b26')\"\n",
              "              title=\"Convert this dataframe to an interactive table.\"\n",
              "              style=\"display:none;\">\n",
              "        \n",
              "  <svg xmlns=\"http://www.w3.org/2000/svg\" height=\"24px\"viewBox=\"0 0 24 24\"\n",
              "       width=\"24px\">\n",
              "    <path d=\"M0 0h24v24H0V0z\" fill=\"none\"/>\n",
              "    <path d=\"M18.56 5.44l.94 2.06.94-2.06 2.06-.94-2.06-.94-.94-2.06-.94 2.06-2.06.94zm-11 1L8.5 8.5l.94-2.06 2.06-.94-2.06-.94L8.5 2.5l-.94 2.06-2.06.94zm10 10l.94 2.06.94-2.06 2.06-.94-2.06-.94-.94-2.06-.94 2.06-2.06.94z\"/><path d=\"M17.41 7.96l-1.37-1.37c-.4-.4-.92-.59-1.43-.59-.52 0-1.04.2-1.43.59L10.3 9.45l-7.72 7.72c-.78.78-.78 2.05 0 2.83L4 21.41c.39.39.9.59 1.41.59.51 0 1.02-.2 1.41-.59l7.78-7.78 2.81-2.81c.8-.78.8-2.07 0-2.86zM5.41 20L4 18.59l7.72-7.72 1.47 1.35L5.41 20z\"/>\n",
              "  </svg>\n",
              "      </button>\n",
              "      \n",
              "  <style>\n",
              "    .colab-df-container {\n",
              "      display:flex;\n",
              "      flex-wrap:wrap;\n",
              "      gap: 12px;\n",
              "    }\n",
              "\n",
              "    .colab-df-convert {\n",
              "      background-color: #E8F0FE;\n",
              "      border: none;\n",
              "      border-radius: 50%;\n",
              "      cursor: pointer;\n",
              "      display: none;\n",
              "      fill: #1967D2;\n",
              "      height: 32px;\n",
              "      padding: 0 0 0 0;\n",
              "      width: 32px;\n",
              "    }\n",
              "\n",
              "    .colab-df-convert:hover {\n",
              "      background-color: #E2EBFA;\n",
              "      box-shadow: 0px 1px 2px rgba(60, 64, 67, 0.3), 0px 1px 3px 1px rgba(60, 64, 67, 0.15);\n",
              "      fill: #174EA6;\n",
              "    }\n",
              "\n",
              "    [theme=dark] .colab-df-convert {\n",
              "      background-color: #3B4455;\n",
              "      fill: #D2E3FC;\n",
              "    }\n",
              "\n",
              "    [theme=dark] .colab-df-convert:hover {\n",
              "      background-color: #434B5C;\n",
              "      box-shadow: 0px 1px 3px 1px rgba(0, 0, 0, 0.15);\n",
              "      filter: drop-shadow(0px 1px 2px rgba(0, 0, 0, 0.3));\n",
              "      fill: #FFFFFF;\n",
              "    }\n",
              "  </style>\n",
              "\n",
              "      <script>\n",
              "        const buttonEl =\n",
              "          document.querySelector('#df-cd94049b-0c6f-4357-81cf-b2d3ae606b26 button.colab-df-convert');\n",
              "        buttonEl.style.display =\n",
              "          google.colab.kernel.accessAllowed ? 'block' : 'none';\n",
              "\n",
              "        async function convertToInteractive(key) {\n",
              "          const element = document.querySelector('#df-cd94049b-0c6f-4357-81cf-b2d3ae606b26');\n",
              "          const dataTable =\n",
              "            await google.colab.kernel.invokeFunction('convertToInteractive',\n",
              "                                                     [key], {});\n",
              "          if (!dataTable) return;\n",
              "\n",
              "          const docLinkHtml = 'Like what you see? Visit the ' +\n",
              "            '<a target=\"_blank\" href=https://colab.research.google.com/notebooks/data_table.ipynb>data table notebook</a>'\n",
              "            + ' to learn more about interactive tables.';\n",
              "          element.innerHTML = '';\n",
              "          dataTable['output_type'] = 'display_data';\n",
              "          await google.colab.output.renderOutput(dataTable, element);\n",
              "          const docLink = document.createElement('div');\n",
              "          docLink.innerHTML = docLinkHtml;\n",
              "          element.appendChild(docLink);\n",
              "        }\n",
              "      </script>\n",
              "    </div>\n",
              "  </div>\n",
              "  "
            ]
          },
          "metadata": {},
          "execution_count": 385
        }
      ]
    },
    {
      "cell_type": "code",
      "source": [
        "data.info()"
      ],
      "metadata": {
        "colab": {
          "base_uri": "https://localhost:8080/"
        },
        "id": "nILLrD53SNk-",
        "outputId": "fdd748c4-3884-4254-84bc-19f87187bcd3"
      },
      "execution_count": 386,
      "outputs": [
        {
          "output_type": "stream",
          "name": "stdout",
          "text": [
            "<class 'pandas.core.frame.DataFrame'>\n",
            "RangeIndex: 2186 entries, 0 to 2185\n",
            "Data columns (total 2 columns):\n",
            " #   Column  Non-Null Count  Dtype \n",
            "---  ------  --------------  ----- \n",
            " 0   Data    2186 non-null   object\n",
            " 1   Label   2186 non-null   object\n",
            "dtypes: object(2)\n",
            "memory usage: 34.3+ KB\n"
          ]
        }
      ]
    },
    {
      "cell_type": "code",
      "source": [
        "data[\"Label\"] = data[\"Label\"].astype(int)"
      ],
      "metadata": {
        "id": "uIhWuQ97UMRO"
      },
      "execution_count": 387,
      "outputs": []
    },
    {
      "cell_type": "code",
      "source": [
        "data.Label.value_counts()"
      ],
      "metadata": {
        "colab": {
          "base_uri": "https://localhost:8080/"
        },
        "id": "2rF6sk38UaOm",
        "outputId": "e9b54cc7-7b64-4f44-db56-78f72cc0ac44"
      },
      "execution_count": 388,
      "outputs": [
        {
          "output_type": "execute_result",
          "data": {
            "text/plain": [
              "2    770\n",
              "0    717\n",
              "1    699\n",
              "Name: Label, dtype: int64"
            ]
          },
          "metadata": {},
          "execution_count": 388
        }
      ]
    },
    {
      "cell_type": "markdown",
      "source": [
        "# Text Preprocessing"
      ],
      "metadata": {
        "id": "TbImXuCDSULL"
      }
    },
    {
      "cell_type": "code",
      "source": [
        "!pip install nepalitokenizer\n",
        "!pip install nepali-stemmer"
      ],
      "metadata": {
        "colab": {
          "base_uri": "https://localhost:8080/"
        },
        "id": "Qk461Af7SXjd",
        "outputId": "3cff0c56-e8c4-4fb9-a096-93034d3389b9"
      },
      "execution_count": 389,
      "outputs": [
        {
          "output_type": "stream",
          "name": "stdout",
          "text": [
            "Looking in indexes: https://pypi.org/simple, https://us-python.pkg.dev/colab-wheels/public/simple/\n",
            "Requirement already satisfied: nepalitokenizer in /usr/local/lib/python3.8/dist-packages (1.8.6.0)\n",
            "Looking in indexes: https://pypi.org/simple, https://us-python.pkg.dev/colab-wheels/public/simple/\n",
            "Requirement already satisfied: nepali-stemmer in /usr/local/lib/python3.8/dist-packages (0.0.2)\n"
          ]
        }
      ]
    },
    {
      "cell_type": "code",
      "source": [
        "from nepali_stemmer.stemmer import NepStemmer\n",
        "from nepalitokenizer import NepaliTokenizer\n",
        "nepstem = NepStemmer()\n",
        "tokenize = NepaliTokenizer()\n",
        "\n",
        "def text_preprocessing(text, nepali_stopwords = stopwords.words('nepali')):\n",
        "  # Tokenize the reviews\n",
        "  text = tokenize.tokenizer(text)\n",
        "  # Remove the nepali stopwords\n",
        "  text = [word for word in text if word not in nepali_stopwords]\n",
        "  text = ' '.join(text)\n",
        "  # Stemming the nepali words\n",
        "  text = nepstem.stem(text)\n",
        "  # Remove the leading and trailing spaces\n",
        "  text = text.split()\n",
        "  text = ' '.join(text)  \n",
        "  return text"
      ],
      "metadata": {
        "id": "dsfPvQE-SQqi"
      },
      "execution_count": 390,
      "outputs": []
    },
    {
      "cell_type": "code",
      "source": [
        "X = data[\"Data\"].apply(text_preprocessing)\n",
        "y = data[\"Label\"] "
      ],
      "metadata": {
        "id": "lzNFmwBDSa-x"
      },
      "execution_count": 391,
      "outputs": []
    },
    {
      "cell_type": "markdown",
      "source": [
        "### Problem : ramro is removed during tokenization in preprocessing"
      ],
      "metadata": {
        "id": "BDu7xIH0Snvh"
      }
    },
    {
      "cell_type": "code",
      "source": [
        "X[:5]"
      ],
      "metadata": {
        "colab": {
          "base_uri": "https://localhost:8080/"
        },
        "id": "Fq217d1kSdKZ",
        "outputId": "ebfe7719-33ab-4634-fc5b-3b450a7e90d7"
      },
      "execution_count": 392,
      "outputs": [
        {
          "output_type": "execute_result",
          "data": {
            "text/plain": [
              "0                                              समान\n",
              "1                                              समान\n",
              "2                                                  \n",
              "3    घडी मलाइ साँच्चि कै सुहाउछ यस लाई खरीद गर्नेछु\n",
              "4                                 साँच्चि कै सुहाउछ\n",
              "Name: Data, dtype: object"
            ]
          },
          "metadata": {},
          "execution_count": 392
        }
      ]
    },
    {
      "cell_type": "markdown",
      "source": [
        "# Train, Validation and Test Split"
      ],
      "metadata": {
        "id": "Zj9Xq1b3SvpB"
      }
    },
    {
      "cell_type": "code",
      "source": [
        "from sklearn.model_selection import train_test_split\n",
        "X_train, X_test, y_train, y_test = train_test_split(X, y, test_size=0.2, random_state = 101)\n",
        "X_val, X_test, y_val, y_test = train_test_split(X_test, y_test, test_size = 0.5, random_state = 101)"
      ],
      "metadata": {
        "id": "1NpO3cAESvY5"
      },
      "execution_count": 393,
      "outputs": []
    },
    {
      "cell_type": "code",
      "source": [
        "print(f\"Train size =  {len(X_train)}\")\n",
        "print(f\"Validation size =  {len(X_val)}\")\n",
        "print(f\"Test size =  {len(X_test)}\")"
      ],
      "metadata": {
        "colab": {
          "base_uri": "https://localhost:8080/"
        },
        "id": "DniXFNyjSgDt",
        "outputId": "883ba723-f6dd-47e0-efc0-bdfa6ba7f5af"
      },
      "execution_count": 394,
      "outputs": [
        {
          "output_type": "stream",
          "name": "stdout",
          "text": [
            "Train size =  1748\n",
            "Validation size =  219\n",
            "Test size =  219\n"
          ]
        }
      ]
    },
    {
      "cell_type": "code",
      "source": [
        "print(len(y_train), len(y_val), len(y_test))"
      ],
      "metadata": {
        "colab": {
          "base_uri": "https://localhost:8080/"
        },
        "id": "LahfrLKoS0g2",
        "outputId": "29533719-3f31-4377-9ab7-4f42db619aee"
      },
      "execution_count": 395,
      "outputs": [
        {
          "output_type": "stream",
          "name": "stdout",
          "text": [
            "1748 219 219\n"
          ]
        }
      ]
    },
    {
      "cell_type": "markdown",
      "source": [
        "# One Hot Encoding"
      ],
      "metadata": {
        "id": "7lsPN3XuS-Id"
      }
    },
    {
      "cell_type": "code",
      "source": [
        "UNIQUE_WORD_COUNT = 3179\n",
        "MAX_PAD_LENGTH = 10"
      ],
      "metadata": {
        "id": "ri-G7GHlTB8d"
      },
      "execution_count": 396,
      "outputs": []
    },
    {
      "cell_type": "code",
      "source": [
        "from keras.preprocessing.text import Tokenizer\n",
        "from keras_preprocessing.sequence import pad_sequences\n",
        "tokenizer = Tokenizer(num_words = UNIQUE_WORD_COUNT)\n",
        "tokenizer.fit_on_texts(X_train)"
      ],
      "metadata": {
        "id": "XmnhKCrLS1xc"
      },
      "execution_count": 397,
      "outputs": []
    },
    {
      "cell_type": "code",
      "source": [
        "train_sequences = tokenizer.texts_to_sequences(X_train)\n",
        "print(train_sequences[0])\n",
        "train_padded = pad_sequences(train_sequences, maxlen = MAX_PAD_LENGTH, padding = 'post', truncating = 'post')\n",
        "print(train_padded[0])"
      ],
      "metadata": {
        "colab": {
          "base_uri": "https://localhost:8080/"
        },
        "id": "HQoW6IilTIXx",
        "outputId": "7ffcd813-5717-4e67-b690-10953648e84f"
      },
      "execution_count": 398,
      "outputs": [
        {
          "output_type": "stream",
          "name": "stdout",
          "text": [
            "[2028, 7, 542, 252, 543]\n",
            "[2028    7  542  252  543    0    0    0    0    0]\n"
          ]
        }
      ]
    },
    {
      "cell_type": "code",
      "source": [
        "val_sequences = tokenizer.texts_to_sequences(X_val)\n",
        "print(val_sequences[0])\n",
        "val_padded = pad_sequences(val_sequences, maxlen = MAX_PAD_LENGTH, padding = \"post\", truncating = \"post\")\n",
        "print(val_padded[0])"
      ],
      "metadata": {
        "colab": {
          "base_uri": "https://localhost:8080/"
        },
        "id": "cwgaQftCTX0u",
        "outputId": "aebb22fe-4226-41c5-f787-54cc7cef637e"
      },
      "execution_count": 399,
      "outputs": [
        {
          "output_type": "stream",
          "name": "stdout",
          "text": [
            "[2516, 66, 40]\n",
            "[2516   66   40    0    0    0    0    0    0    0]\n"
          ]
        }
      ]
    },
    {
      "cell_type": "code",
      "source": [
        "test_sequences = tokenizer.texts_to_sequences(X_test)\n",
        "print(test_sequences[0])\n",
        "test_padded = pad_sequences(test_sequences, maxlen = MAX_PAD_LENGTH, padding = \"post\", truncating = \"post\")\n",
        "print(test_padded[0])"
      ],
      "metadata": {
        "colab": {
          "base_uri": "https://localhost:8080/"
        },
        "id": "rWQoSkSETeHw",
        "outputId": "9855833a-aea4-4bb2-8410-059b56cd77ce"
      },
      "execution_count": 400,
      "outputs": [
        {
          "output_type": "stream",
          "name": "stdout",
          "text": [
            "[20, 2517, 407, 794, 2518]\n",
            "[  20 2517  407  794 2518    0    0    0    0    0]\n"
          ]
        }
      ]
    },
    {
      "cell_type": "code",
      "source": [
        "y_train = pd.get_dummies(y_train).values\n",
        "y_val = pd.get_dummies(y_val).values\n",
        "y_test = pd.get_dummies(y_test).values"
      ],
      "metadata": {
        "id": "IQv9JYwmThYO"
      },
      "execution_count": 401,
      "outputs": []
    },
    {
      "cell_type": "code",
      "source": [
        "y_train"
      ],
      "metadata": {
        "colab": {
          "base_uri": "https://localhost:8080/"
        },
        "id": "6gZirjN-TngQ",
        "outputId": "13c4a729-1a3b-41bd-a4d8-a8e336f17dd5"
      },
      "execution_count": 402,
      "outputs": [
        {
          "output_type": "execute_result",
          "data": {
            "text/plain": [
              "array([[0, 0, 1],\n",
              "       [0, 1, 0],\n",
              "       [0, 0, 1],\n",
              "       ...,\n",
              "       [0, 0, 1],\n",
              "       [0, 1, 0],\n",
              "       [1, 0, 0]], dtype=uint8)"
            ]
          },
          "metadata": {},
          "execution_count": 402
        }
      ]
    },
    {
      "cell_type": "markdown",
      "source": [
        "# Data Loader"
      ],
      "metadata": {
        "id": "sgckjfSTfUZ3"
      }
    },
    {
      "cell_type": "code",
      "source": [
        "import torch\n",
        "from torch import nn\n",
        "from torch.utils.data import DataLoader, TensorDataset\n",
        "\n",
        "torch.__version__"
      ],
      "metadata": {
        "colab": {
          "base_uri": "https://localhost:8080/",
          "height": 35
        },
        "id": "tNPiSGWAfWHy",
        "outputId": "92f6a8c1-6257-411a-af54-1e961b1b586b"
      },
      "execution_count": 403,
      "outputs": [
        {
          "output_type": "execute_result",
          "data": {
            "text/plain": [
              "'1.13.0+cu116'"
            ],
            "application/vnd.google.colaboratory.intrinsic+json": {
              "type": "string"
            }
          },
          "metadata": {},
          "execution_count": 403
        }
      ]
    },
    {
      "cell_type": "code",
      "source": [
        "train_data = TensorDataset(torch.LongTensor(train_padded), torch.FloatTensor(y_train))\n",
        "valid_data = TensorDataset(torch.LongTensor(val_padded), torch.FloatTensor(y_val))\n",
        "test_data = TensorDataset(torch.LongTensor(test_padded), torch.FloatTensor(y_test))\n",
        "\n",
        "BATCH_SIZE = 32\n",
        "train_loader = DataLoader(train_data, batch_size = BATCH_SIZE, shuffle = True, drop_last = True)\n",
        "valid_loader = DataLoader(valid_data, batch_size = BATCH_SIZE, shuffle = False, drop_last = True)\n",
        "test_loader = DataLoader(test_data, batch_size = BATCH_SIZE, shuffle = False, drop_last = True)"
      ],
      "metadata": {
        "id": "w_hoiATefWFS"
      },
      "execution_count": 404,
      "outputs": []
    },
    {
      "cell_type": "code",
      "source": [
        "(next(iter(train_loader)))"
      ],
      "metadata": {
        "id": "sZi6znjifWCx",
        "colab": {
          "base_uri": "https://localhost:8080/"
        },
        "outputId": "109742c8-630a-40f4-8baa-e881e845a8ae"
      },
      "execution_count": 405,
      "outputs": [
        {
          "output_type": "execute_result",
          "data": {
            "text/plain": [
              "[tensor([[1554, 2519,   64,    0,    0,    0,    0,    0,    0,    0],\n",
              "         [  29,    0,    0,    0,    0,    0,    0,    0,    0,    0],\n",
              "         [1655,    4,    0,    0,    0,    0,    0,    0,    0,    0],\n",
              "         [ 508,    0,    0,    0,    0,    0,    0,    0,    0,    0],\n",
              "         [1376, 1377, 1378, 1958, 1959,    0,    0,    0,    0,    0],\n",
              "         [ 369, 3166, 3167, 3168,  378,   45, 1020, 1021,    0,    0],\n",
              "         [  99,   55, 1982, 1983,  887,    1,   57, 3038,  575,    0],\n",
              "         [1353,   34,  472,  473,    0,    0,    0,    0,    0,    0],\n",
              "         [ 863,   29, 1801,   15,  864,   17,    2, 1004,    0,    0],\n",
              "         [ 755, 1701,   28,  144, 2637,  145,   78,    0,    0,    0],\n",
              "         [ 403,  777,   17,    0,    0,    0,    0,    0,    0,    0],\n",
              "         [ 253, 2406,    0,    0,    0,    0,    0,    0,    0,    0],\n",
              "         [  63, 2805,    1,  929,  554,    0,    0,    0,    0,    0],\n",
              "         [ 366,    1,  262,  263,    0,    0,    0,    0,    0,    0],\n",
              "         [ 598,    0,    0,    0,    0,    0,    0,    0,    0,    0],\n",
              "         [1036,  609, 1037,  117, 1038, 1039,    0,    0,    0,    0],\n",
              "         [ 334,    1, 2020,    0,    0,    0,    0,    0,    0,    0],\n",
              "         [   8,  203,    7,    0,    0,    0,    0,    0,    0,    0],\n",
              "         [  44, 1090,    0,    0,    0,    0,    0,    0,    0,    0],\n",
              "         [ 755,  267, 2370, 2371, 2372, 2373, 1409, 2374, 2375, 2376],\n",
              "         [  19,    0,    0,    0,    0,    0,    0,    0,    0,    0],\n",
              "         [1860,   97,    0,    0,    0,    0,    0,    0,    0,    0],\n",
              "         [ 599, 1015,  600, 2078,   19,   18,    2, 1016,  267, 1017],\n",
              "         [ 619,    0,    0,    0,    0,    0,    0,    0,    0,    0],\n",
              "         [1351,    7,    2,   71,  316,  317, 1352,    0,    0,    0],\n",
              "         [1006, 1007,    0,    0,    0,    0,    0,    0,    0,    0],\n",
              "         [1074,    5, 1075,    6,  397,    6,  398,  399,    0,    0],\n",
              "         [ 363, 2201, 1208,    3, 1209,    3,   80, 1210,    1, 1211],\n",
              "         [1284, 1285, 1286,  703,    0,    0,    0,    0,    0,    0],\n",
              "         [  52,   55,   85,    9,    3,   66,  262,   11,    0,    0],\n",
              "         [   8,    1,  510, 1580,  133,    1,  256,    5, 1581,    2],\n",
              "         [1284, 1285, 1286,    0,    0,    0,    0,    0,    0,    0]]),\n",
              " tensor([[0., 0., 1.],\n",
              "         [0., 1., 0.],\n",
              "         [1., 0., 0.],\n",
              "         [1., 0., 0.],\n",
              "         [0., 1., 0.],\n",
              "         [0., 0., 1.],\n",
              "         [0., 0., 1.],\n",
              "         [0., 0., 1.],\n",
              "         [0., 1., 0.],\n",
              "         [0., 1., 0.],\n",
              "         [0., 1., 0.],\n",
              "         [0., 0., 1.],\n",
              "         [0., 1., 0.],\n",
              "         [1., 0., 0.],\n",
              "         [0., 1., 0.],\n",
              "         [0., 0., 1.],\n",
              "         [0., 0., 1.],\n",
              "         [0., 0., 1.],\n",
              "         [1., 0., 0.],\n",
              "         [0., 1., 0.],\n",
              "         [0., 0., 1.],\n",
              "         [0., 0., 1.],\n",
              "         [1., 0., 0.],\n",
              "         [0., 0., 1.],\n",
              "         [0., 0., 1.],\n",
              "         [0., 0., 1.],\n",
              "         [0., 1., 0.],\n",
              "         [0., 0., 1.],\n",
              "         [1., 0., 0.],\n",
              "         [0., 0., 1.],\n",
              "         [0., 1., 0.],\n",
              "         [0., 0., 1.]])]"
            ]
          },
          "metadata": {},
          "execution_count": 405
        }
      ]
    },
    {
      "cell_type": "markdown",
      "source": [
        "# Model"
      ],
      "metadata": {
        "id": "6WSnCI74Utif"
      }
    },
    {
      "cell_type": "code",
      "source": [
        "device = \"cuda\" if torch.cuda.is_available() else \"cpu\"\n",
        "device"
      ],
      "metadata": {
        "colab": {
          "base_uri": "https://localhost:8080/",
          "height": 35
        },
        "id": "iEiJlzu3Tpsg",
        "outputId": "392451c7-58d5-4d65-de3f-993bc970e588"
      },
      "execution_count": 406,
      "outputs": [
        {
          "output_type": "execute_result",
          "data": {
            "text/plain": [
              "'cpu'"
            ],
            "application/vnd.google.colaboratory.intrinsic+json": {
              "type": "string"
            }
          },
          "metadata": {},
          "execution_count": 406
        }
      ]
    },
    {
      "cell_type": "code",
      "source": [
        "class SentimentalModelV3(nn.Module):\n",
        "  def __init__(self, output_size, vocab_size, embedding_dim, hidden_dim, n_layers = 1, drop_prob = 0.3, bidirectional = False, batch_size = 32, padded_seq_len = 10):\n",
        "    super().__init__()\n",
        "    self.batch_size = batch_size\n",
        "    self.output_size = output_size\n",
        "    self.n_layers = n_layers\n",
        "    self.hidden_dim = hidden_dim\n",
        "    self.padded_seq_len = padded_seq_len\n",
        "\n",
        "    self.embedding = nn.Embedding(num_embeddings = vocab_size, embedding_dim = embedding_dim)\n",
        "    self.lstm = nn.LSTM(input_size = embedding_dim, hidden_size = hidden_dim, num_layers = n_layers, dropout = drop_prob, batch_first = True, bidirectional = bidirectional)\n",
        "\n",
        "    self.dropout = nn.Dropout(0.3)\n",
        "\n",
        "    #Linear and activation layer\n",
        "    self.fc1=nn.Linear(self.hidden_dim * self.padded_seq_len, 64)\n",
        "    self.fc2=nn.Linear(64, 16)\n",
        "    self.fc3=nn.Linear(16,output_size)\n",
        "    self.Relu = nn.ReLU()\n",
        "\n",
        "  def forward(self, one_hot, hn, cn):\n",
        "    embed = self.embedding(one_hot)\n",
        "    lstm_out, hidden = self.lstm(embed)\n",
        "\n",
        "    #stack up the lstm output\n",
        "    lstm_out = lstm_out.reshape(shape = (self.batch_size, lstm_out.shape[1] * lstm_out.shape[2]))\n",
        "    # dropout and fully connected layers\n",
        "    out = self.dropout(lstm_out)\n",
        "    out = self.Relu(out)\n",
        "    out = self.Relu(self.fc1(out))\n",
        "    out = self.Relu(self.fc2(out))\n",
        "    out = self.fc3(out)\n",
        "\n",
        "    return out\n",
        "\n",
        "  def initCellState(self):\n",
        "    h =  torch.zeros(self.n_layers , self.batch_size , self.hidden_dim).to(device)\n",
        "    c =  torch.zeros(self.n_layers , self.batch_size , self.hidden_dim).to(device)\n",
        "    return h, c"
      ],
      "metadata": {
        "id": "PUKdlWU3YOcj"
      },
      "execution_count": 482,
      "outputs": []
    },
    {
      "cell_type": "code",
      "source": [
        "model_v3 = SentimentalModelV3(output_size = 3, \n",
        "                              vocab_size = UNIQUE_WORD_COUNT, \n",
        "                              embedding_dim = 64, \n",
        "                              hidden_dim = 32, \n",
        "                              n_layers = 5, \n",
        "                              drop_prob = 0.3, \n",
        "                              padded_seq_len = 10).to(device)"
      ],
      "metadata": {
        "id": "UqsKE5vnjck6"
      },
      "execution_count": 483,
      "outputs": []
    },
    {
      "cell_type": "code",
      "source": [
        "model_v3\n",
        "hn, cn = model_v3.initCellState()"
      ],
      "metadata": {
        "id": "6Ti9ku_QkV-2"
      },
      "execution_count": 484,
      "outputs": []
    },
    {
      "cell_type": "code",
      "source": [
        "hn.shape"
      ],
      "metadata": {
        "colab": {
          "base_uri": "https://localhost:8080/"
        },
        "id": "q6Fy8nOm4Y2E",
        "outputId": "35463ff9-9b8a-4cdd-f44f-d0434fd0ca52"
      },
      "execution_count": 485,
      "outputs": [
        {
          "output_type": "execute_result",
          "data": {
            "text/plain": [
              "torch.Size([5, 32, 32])"
            ]
          },
          "metadata": {},
          "execution_count": 485
        }
      ]
    },
    {
      "cell_type": "code",
      "source": [
        "cn.shape"
      ],
      "metadata": {
        "colab": {
          "base_uri": "https://localhost:8080/"
        },
        "id": "IGw-bE0C4Zqa",
        "outputId": "ccaab98c-dd23-413c-9670-ea50b4a3dfd9"
      },
      "execution_count": 486,
      "outputs": [
        {
          "output_type": "execute_result",
          "data": {
            "text/plain": [
              "torch.Size([5, 32, 32])"
            ]
          },
          "metadata": {},
          "execution_count": 486
        }
      ]
    },
    {
      "cell_type": "code",
      "source": [
        "X.shape"
      ],
      "metadata": {
        "colab": {
          "base_uri": "https://localhost:8080/"
        },
        "id": "gYdOJWB_mH4o",
        "outputId": "8ab67939-fb9c-48f2-8e74-4338d01fee83"
      },
      "execution_count": 487,
      "outputs": [
        {
          "output_type": "execute_result",
          "data": {
            "text/plain": [
              "torch.Size([32, 10])"
            ]
          },
          "metadata": {},
          "execution_count": 487
        }
      ]
    },
    {
      "cell_type": "code",
      "source": [
        "X, y = next(iter(train_loader))\n",
        "model_v3.eval()\n",
        "with torch.inference_mode():\n",
        "  pred = model_v3(X, hn, cn)\n",
        "\n",
        "pred.shape"
      ],
      "metadata": {
        "colab": {
          "base_uri": "https://localhost:8080/"
        },
        "id": "ZRoW0ewW7epX",
        "outputId": "8d5216d1-c248-4ffe-881a-343281a6e627"
      },
      "execution_count": 488,
      "outputs": [
        {
          "output_type": "execute_result",
          "data": {
            "text/plain": [
              "torch.Size([32, 3])"
            ]
          },
          "metadata": {},
          "execution_count": 488
        }
      ]
    },
    {
      "cell_type": "code",
      "source": [
        "embedding = nn.Embedding(num_embeddings = UNIQUE_WORD_COUNT, embedding_dim = 64)\n",
        "embed = embedding(X)\n",
        "print(f\"From Embedding layer output: {embed.shape}\")\n",
        "\n",
        "lstm = nn.LSTM(input_size = 64, hidden_size = 32, num_layers = 2, dropout = 0.3, batch_first = True, bidirectional = False)\n",
        "lstm_out, (hn, cn) = lstm(embed)\n",
        "print(f\"lstm output shape : {lstm_out.shape}\")\n",
        "lstm_out = lstm_out.reshape(shape = (32, 32 * 10))\n",
        "print(lstm_out.shape)\n",
        "\n",
        "fc1=nn.Linear(in_features = 320, out_features = 64)\n",
        "fc1(lstm_out).shape"
      ],
      "metadata": {
        "colab": {
          "base_uri": "https://localhost:8080/"
        },
        "id": "t_-QnACKme_J",
        "outputId": "b08b149c-102a-489d-ec5b-6934349a7977"
      },
      "execution_count": 489,
      "outputs": [
        {
          "output_type": "stream",
          "name": "stdout",
          "text": [
            "From Embedding layer output: torch.Size([32, 10, 64])\n",
            "lstm output shape : torch.Size([32, 10, 32])\n",
            "torch.Size([32, 320])\n"
          ]
        },
        {
          "output_type": "execute_result",
          "data": {
            "text/plain": [
              "torch.Size([32, 64])"
            ]
          },
          "metadata": {},
          "execution_count": 489
        }
      ]
    },
    {
      "cell_type": "markdown",
      "source": [
        "# Training and Testing loop"
      ],
      "metadata": {
        "id": "OKARHK7n8Xoa"
      }
    },
    {
      "cell_type": "code",
      "source": [
        "def train_step(model: torch.nn.Module, \n",
        "               dataloader: torch.utils.data.DataLoader, \n",
        "               loss_fn: torch.nn.Module, \n",
        "               optimizer: torch.optim.Optimizer):\n",
        "  hn, cn = model.initCellState()\n",
        "  # put the model in train mode\n",
        "  model.train()\n",
        "\n",
        "  # setup the train loss and train accuracy values\n",
        "  train_loss, train_acc  = 0, 0\n",
        "\n",
        "  # Loop through the data loader data batches\n",
        "  for batch, (X, y) in enumerate(dataloader):\n",
        "    # send data to target device\n",
        "    X, y = X.to(device), y.to(device)\n",
        "\n",
        "    # Forward pass\n",
        "    y_pred = model(X, hn, cn)\n",
        "\n",
        "    # calculate and accumulate loss\n",
        "    loss = loss_fn(y_pred, y)\n",
        "    train_loss += loss.item()\n",
        "\n",
        "    # optimzer zero grad\n",
        "    optimizer.zero_grad()\n",
        "\n",
        "    # Loss backward\n",
        "    loss.backward()\n",
        "\n",
        "    # optimizer step\n",
        "    optimizer.step()\n",
        "\n",
        "    # calculate the accumulate accuracy metric across all batches\n",
        "    y_pred_class = torch.argmax(torch.softmax(y_pred, dim = 1), dim = 1)\n",
        "    y_true_class = torch.argmax(torch.softmax(y, dim = 1), dim = 1)\n",
        "    train_acc += (y_pred_class == y_true_class).sum().item() / len(y_pred)\n",
        "  \n",
        "  train_loss = train_loss / len(dataloader)\n",
        "  train_acc = train_acc / len(dataloader)\n",
        "\n",
        "  return train_loss, train_acc\n"
      ],
      "metadata": {
        "id": "3Yw8Sc03zQzL"
      },
      "execution_count": 490,
      "outputs": []
    },
    {
      "cell_type": "code",
      "source": [
        "def test_step(model: torch.nn.Module, \n",
        "              dataloader: torch.utils.data.DataLoader, \n",
        "              loss_fn: torch.nn.Module):\n",
        "  hn, cn = model.initCellState()\n",
        "  model.eval()\n",
        "  test_loss, test_acc = 0, 0\n",
        "  with torch.inference_mode():\n",
        "    for batch, (X, y) in enumerate(dataloader):\n",
        "      X, y = X.to(device), y.to(device)\n",
        "\n",
        "      # forward pass\n",
        "      test_pred_logits = model(X, hn, cn)\n",
        "\n",
        "      # calculate and accumulate loss\n",
        "      loss = loss_fn(test_pred_logits, y)\n",
        "      test_loss += loss.item()\n",
        "\n",
        "      # calculate and accumulate accuracy\n",
        "      y_pred_class = torch.argmax(torch.softmax(test_pred_logits, dim = 1), dim = 1)\n",
        "      y_true_class = torch.argmax(torch.softmax(y, dim = 1), dim = 1)\n",
        "      test_acc += (y_pred_class == y_true_class).sum().item() / len(test_pred_logits)\n",
        "\n",
        "  test_loss = test_loss / len(dataloader)\n",
        "  test_acc = test_acc / len(dataloader)\n",
        "  return test_loss, test_acc\n"
      ],
      "metadata": {
        "id": "8ufawCETz2sI"
      },
      "execution_count": 491,
      "outputs": []
    },
    {
      "cell_type": "code",
      "source": [
        "from tqdm.auto import tqdm\n",
        "\n",
        "def train(model: torch.nn.Module, \n",
        "          train_dataloader: torch.utils.data.DataLoader, \n",
        "          test_dataloader: torch.utils.data.DataLoader, \n",
        "          optimizer: torch.optim.Optimizer, \n",
        "          loss_fn: torch.nn.Module, \n",
        "          epochs: int = 5):\n",
        "  results = {\n",
        "      \"train_loss\" : [],\n",
        "      \"train_acc\" : [], \n",
        "      \"test_loss\" : [], \n",
        "      \"test_acc\" : []\n",
        "  }\n",
        "\n",
        "  for epoch in tqdm(range(epochs)):\n",
        "    train_loss, train_acc = train_step(model = model, \n",
        "                                       dataloader = train_dataloader, \n",
        "                                       loss_fn = loss_fn, \n",
        "                                       optimizer = optimizer)\n",
        "    \n",
        "    test_loss, test_acc = test_step(model = model, \n",
        "                                    dataloader = test_dataloader, \n",
        "                                    loss_fn = loss_fn)\n",
        "    \n",
        "    print(\n",
        "        f\"Epoch: {epoch+1} | \"\n",
        "        f\"train_loss: {train_loss:.4f} | \"\n",
        "        f\"train_acc: {train_acc:.4f} | \"\n",
        "        f\"test_loss: {test_loss:.4f} | \"\n",
        "        f\"test_acc: {test_acc:.4f}\"\n",
        "    )\n",
        "\n",
        "    results[\"train_loss\"].append(train_loss)\n",
        "    results[\"train_acc\"].append(train_acc)\n",
        "    results[\"test_loss\"].append(test_loss)\n",
        "    results[\"test_acc\"].append(test_acc)\n",
        "  return results"
      ],
      "metadata": {
        "id": "icO5kLU7-_bM"
      },
      "execution_count": 492,
      "outputs": []
    },
    {
      "cell_type": "code",
      "source": [
        "torch.manual_seed(42)\n",
        "torch.cuda.manual_seed(42)\n",
        "\n",
        "NUM_EPOCHS = 5\n",
        "\n",
        "model_v3 = SentimentalModelV3(output_size = 3, \n",
        "                              vocab_size = UNIQUE_WORD_COUNT, \n",
        "                              embedding_dim = 64, \n",
        "                              hidden_dim = 32, \n",
        "                              n_layers = 5, \n",
        "                              drop_prob = 0.3, \n",
        "                              padded_seq_len = 10).to(device)\n",
        "\n",
        "loss_fn = nn.CrossEntropyLoss()\n",
        "optimizer = torch.optim.Adam(params=model_v3.parameters(), lr=0.001)"
      ],
      "metadata": {
        "id": "DHJGqowF_GMI"
      },
      "execution_count": 493,
      "outputs": []
    },
    {
      "cell_type": "code",
      "source": [
        "model_v3_results = train(model = model_v3, train_dataloader = train_loader, test_dataloader = test_loader, optimizer = optimizer, loss_fn = loss_fn, epochs = 15)"
      ],
      "metadata": {
        "colab": {
          "base_uri": "https://localhost:8080/",
          "height": 309,
          "referenced_widgets": [
            "119c0950f58e45399be2d89ffeb4acf9",
            "e85de2085cc549baa91eff01522c049a",
            "17fa680d8a5f4797831f9285b828da4d",
            "0c9f2dcc35f943f597c35bc54e961dc0",
            "c01019b91d764dc99c8b628a61097374",
            "6409e79a85d040ed953d23be73327899",
            "c841729a08b243cea01e2ba5d630f98d",
            "e645fe4c720e4789be700c6602a0a183",
            "121a63147c1d4ac587e2990eb75f179d",
            "6a269db7703a4e7a9ce17eadd758ca7b",
            "3b38b3c681934186810501f82551dfed"
          ]
        },
        "id": "5uaHe8tkAxB4",
        "outputId": "5b539b5c-f317-412a-b042-f9dd7f58b4fe"
      },
      "execution_count": 494,
      "outputs": [
        {
          "output_type": "display_data",
          "data": {
            "text/plain": [
              "  0%|          | 0/15 [00:00<?, ?it/s]"
            ],
            "application/vnd.jupyter.widget-view+json": {
              "version_major": 2,
              "version_minor": 0,
              "model_id": "119c0950f58e45399be2d89ffeb4acf9"
            }
          },
          "metadata": {}
        },
        {
          "output_type": "stream",
          "name": "stdout",
          "text": [
            "Epoch: 1 | train_loss: 1.0988 | train_acc: 0.3490 | test_loss: 1.0957 | test_acc: 0.3438\n",
            "Epoch: 2 | train_loss: 1.0977 | train_acc: 0.3524 | test_loss: 1.0974 | test_acc: 0.3438\n",
            "Epoch: 3 | train_loss: 1.0810 | train_acc: 0.3854 | test_loss: 1.1136 | test_acc: 0.3385\n",
            "Epoch: 4 | train_loss: 1.0186 | train_acc: 0.4664 | test_loss: 1.1109 | test_acc: 0.4271\n",
            "Epoch: 5 | train_loss: 0.9313 | train_acc: 0.5174 | test_loss: 1.1209 | test_acc: 0.4115\n",
            "Epoch: 6 | train_loss: 0.8797 | train_acc: 0.5463 | test_loss: 1.1629 | test_acc: 0.4167\n",
            "Epoch: 7 | train_loss: 0.7855 | train_acc: 0.6105 | test_loss: 1.2699 | test_acc: 0.4323\n",
            "Epoch: 8 | train_loss: 0.7172 | train_acc: 0.6291 | test_loss: 1.2820 | test_acc: 0.4844\n",
            "Epoch: 9 | train_loss: 0.6819 | train_acc: 0.6476 | test_loss: 1.2999 | test_acc: 0.4583\n",
            "Epoch: 10 | train_loss: 0.6383 | train_acc: 0.6696 | test_loss: 1.4460 | test_acc: 0.4844\n",
            "Epoch: 11 | train_loss: 0.5966 | train_acc: 0.7043 | test_loss: 1.4596 | test_acc: 0.5156\n",
            "Epoch: 12 | train_loss: 0.5514 | train_acc: 0.7569 | test_loss: 1.4391 | test_acc: 0.5104\n",
            "Epoch: 13 | train_loss: 0.5273 | train_acc: 0.7662 | test_loss: 1.5105 | test_acc: 0.4792\n",
            "Epoch: 14 | train_loss: 0.4573 | train_acc: 0.8113 | test_loss: 1.4930 | test_acc: 0.5208\n",
            "Epoch: 15 | train_loss: 0.4339 | train_acc: 0.8275 | test_loss: 1.5370 | test_acc: 0.5312\n"
          ]
        }
      ]
    },
    {
      "cell_type": "code",
      "source": [],
      "metadata": {
        "id": "QJ0gvhQnCAY8"
      },
      "execution_count": 494,
      "outputs": []
    }
  ]
}
{
  "nbformat": 4,
  "nbformat_minor": 0,
  "metadata": {
    "colab": {
      "provenance": [],
      "collapsed_sections": []
    },
    "kernelspec": {
      "name": "python3",
      "display_name": "Python 3"
    },
    "language_info": {
      "name": "python"
    }
  },
  "cells": [
    {
      "cell_type": "code",
      "execution_count": null,
      "metadata": {
        "id": "CpU5Mk7vQry-"
      },
      "outputs": [],
      "source": [
        "import pandas as pd\n",
        "import matplotlib.pyplot as plt\n",
        "import seaborn as sns\n",
        "%matplotlib inline"
      ]
    },
    {
      "cell_type": "code",
      "source": [
        "sns.set(rc={\"figure.figsize\":(10, 6)})"
      ],
      "metadata": {
        "id": "v70md0BUSkJ8"
      },
      "execution_count": null,
      "outputs": []
    },
    {
      "cell_type": "markdown",
      "source": [
        "# Exploratory Data Analysis and Visualization"
      ],
      "metadata": {
        "id": "tdlvjKSzSCxT"
      }
    },
    {
      "cell_type": "code",
      "source": [
        "data = pd.read_csv(\"/content/drive/MyDrive/Colab Notebooks/NLP/Classification/Nepali Movie Review Classificaion/nepalimoviereviews.csv\")"
      ],
      "metadata": {
        "id": "apUoE6dgQ3yh"
      },
      "execution_count": null,
      "outputs": []
    },
    {
      "cell_type": "code",
      "source": [
        "data.sample(10)"
      ],
      "metadata": {
        "colab": {
          "base_uri": "https://localhost:8080/",
          "height": 363
        },
        "id": "7EYB6Bt3RFhq",
        "outputId": "626abe19-b842-484d-a14b-9b0a185019bd"
      },
      "execution_count": null,
      "outputs": [
        {
          "output_type": "execute_result",
          "data": {
            "text/plain": [
              "                                               Reviews  Emotion\n",
              "387  यस्तो झल्ला फ्लिम हेर्न भन्दा त कार्टुन हेरिन्छ ।      0.0\n",
              "36                                       कथा राम्रो छ।      1.0\n",
              "82                        कति राम्रोहो यो फिलम धन्यबाद      1.0\n",
              "568  संदेश मुलुक प्रेरणादायी कथा बस्तु, निकै राम्रो...      1.0\n",
              "483  वाह मजा आयो क्या राम्रो र सिम्पल कहानी ।अति सु...      1.0\n",
              "601    धेरै रमाइलो यो फिलिम हेर्दता मोलाई नै खेलम भको       1.0\n",
              "313       सक्छस भने पुरै नेपालीमा बना अनि राम्रो भन्छु      0.0\n",
              "212  सहि लाग्यो मुभी पैसाले मातिएर इज्जत लुट्दै हिन...      1.0\n",
              "395                   सारै राम्रो फिल्म छ गजब राम्रो छ      1.0\n",
              "518  जे होस चलचित्र राम्रै बनेको रहेछ ।बधाई छ ।प्रड...      1.0"
            ],
            "text/html": [
              "\n",
              "  <div id=\"df-b3ee4bb7-08fa-4627-9ac3-bf24a392a293\">\n",
              "    <div class=\"colab-df-container\">\n",
              "      <div>\n",
              "<style scoped>\n",
              "    .dataframe tbody tr th:only-of-type {\n",
              "        vertical-align: middle;\n",
              "    }\n",
              "\n",
              "    .dataframe tbody tr th {\n",
              "        vertical-align: top;\n",
              "    }\n",
              "\n",
              "    .dataframe thead th {\n",
              "        text-align: right;\n",
              "    }\n",
              "</style>\n",
              "<table border=\"1\" class=\"dataframe\">\n",
              "  <thead>\n",
              "    <tr style=\"text-align: right;\">\n",
              "      <th></th>\n",
              "      <th>Reviews</th>\n",
              "      <th>Emotion</th>\n",
              "    </tr>\n",
              "  </thead>\n",
              "  <tbody>\n",
              "    <tr>\n",
              "      <th>387</th>\n",
              "      <td>यस्तो झल्ला फ्लिम हेर्न भन्दा त कार्टुन हेरिन्छ ।</td>\n",
              "      <td>0.0</td>\n",
              "    </tr>\n",
              "    <tr>\n",
              "      <th>36</th>\n",
              "      <td>कथा राम्रो छ।</td>\n",
              "      <td>1.0</td>\n",
              "    </tr>\n",
              "    <tr>\n",
              "      <th>82</th>\n",
              "      <td>कति राम्रोहो यो फिलम धन्यबाद</td>\n",
              "      <td>1.0</td>\n",
              "    </tr>\n",
              "    <tr>\n",
              "      <th>568</th>\n",
              "      <td>संदेश मुलुक प्रेरणादायी कथा बस्तु, निकै राम्रो...</td>\n",
              "      <td>1.0</td>\n",
              "    </tr>\n",
              "    <tr>\n",
              "      <th>483</th>\n",
              "      <td>वाह मजा आयो क्या राम्रो र सिम्पल कहानी ।अति सु...</td>\n",
              "      <td>1.0</td>\n",
              "    </tr>\n",
              "    <tr>\n",
              "      <th>601</th>\n",
              "      <td>धेरै रमाइलो यो फिलिम हेर्दता मोलाई नै खेलम भको</td>\n",
              "      <td>1.0</td>\n",
              "    </tr>\n",
              "    <tr>\n",
              "      <th>313</th>\n",
              "      <td>सक्छस भने पुरै नेपालीमा बना अनि राम्रो भन्छु</td>\n",
              "      <td>0.0</td>\n",
              "    </tr>\n",
              "    <tr>\n",
              "      <th>212</th>\n",
              "      <td>सहि लाग्यो मुभी पैसाले मातिएर इज्जत लुट्दै हिन...</td>\n",
              "      <td>1.0</td>\n",
              "    </tr>\n",
              "    <tr>\n",
              "      <th>395</th>\n",
              "      <td>सारै राम्रो फिल्म छ गजब राम्रो छ</td>\n",
              "      <td>1.0</td>\n",
              "    </tr>\n",
              "    <tr>\n",
              "      <th>518</th>\n",
              "      <td>जे होस चलचित्र राम्रै बनेको रहेछ ।बधाई छ ।प्रड...</td>\n",
              "      <td>1.0</td>\n",
              "    </tr>\n",
              "  </tbody>\n",
              "</table>\n",
              "</div>\n",
              "      <button class=\"colab-df-convert\" onclick=\"convertToInteractive('df-b3ee4bb7-08fa-4627-9ac3-bf24a392a293')\"\n",
              "              title=\"Convert this dataframe to an interactive table.\"\n",
              "              style=\"display:none;\">\n",
              "        \n",
              "  <svg xmlns=\"http://www.w3.org/2000/svg\" height=\"24px\"viewBox=\"0 0 24 24\"\n",
              "       width=\"24px\">\n",
              "    <path d=\"M0 0h24v24H0V0z\" fill=\"none\"/>\n",
              "    <path d=\"M18.56 5.44l.94 2.06.94-2.06 2.06-.94-2.06-.94-.94-2.06-.94 2.06-2.06.94zm-11 1L8.5 8.5l.94-2.06 2.06-.94-2.06-.94L8.5 2.5l-.94 2.06-2.06.94zm10 10l.94 2.06.94-2.06 2.06-.94-2.06-.94-.94-2.06-.94 2.06-2.06.94z\"/><path d=\"M17.41 7.96l-1.37-1.37c-.4-.4-.92-.59-1.43-.59-.52 0-1.04.2-1.43.59L10.3 9.45l-7.72 7.72c-.78.78-.78 2.05 0 2.83L4 21.41c.39.39.9.59 1.41.59.51 0 1.02-.2 1.41-.59l7.78-7.78 2.81-2.81c.8-.78.8-2.07 0-2.86zM5.41 20L4 18.59l7.72-7.72 1.47 1.35L5.41 20z\"/>\n",
              "  </svg>\n",
              "      </button>\n",
              "      \n",
              "  <style>\n",
              "    .colab-df-container {\n",
              "      display:flex;\n",
              "      flex-wrap:wrap;\n",
              "      gap: 12px;\n",
              "    }\n",
              "\n",
              "    .colab-df-convert {\n",
              "      background-color: #E8F0FE;\n",
              "      border: none;\n",
              "      border-radius: 50%;\n",
              "      cursor: pointer;\n",
              "      display: none;\n",
              "      fill: #1967D2;\n",
              "      height: 32px;\n",
              "      padding: 0 0 0 0;\n",
              "      width: 32px;\n",
              "    }\n",
              "\n",
              "    .colab-df-convert:hover {\n",
              "      background-color: #E2EBFA;\n",
              "      box-shadow: 0px 1px 2px rgba(60, 64, 67, 0.3), 0px 1px 3px 1px rgba(60, 64, 67, 0.15);\n",
              "      fill: #174EA6;\n",
              "    }\n",
              "\n",
              "    [theme=dark] .colab-df-convert {\n",
              "      background-color: #3B4455;\n",
              "      fill: #D2E3FC;\n",
              "    }\n",
              "\n",
              "    [theme=dark] .colab-df-convert:hover {\n",
              "      background-color: #434B5C;\n",
              "      box-shadow: 0px 1px 3px 1px rgba(0, 0, 0, 0.15);\n",
              "      filter: drop-shadow(0px 1px 2px rgba(0, 0, 0, 0.3));\n",
              "      fill: #FFFFFF;\n",
              "    }\n",
              "  </style>\n",
              "\n",
              "      <script>\n",
              "        const buttonEl =\n",
              "          document.querySelector('#df-b3ee4bb7-08fa-4627-9ac3-bf24a392a293 button.colab-df-convert');\n",
              "        buttonEl.style.display =\n",
              "          google.colab.kernel.accessAllowed ? 'block' : 'none';\n",
              "\n",
              "        async function convertToInteractive(key) {\n",
              "          const element = document.querySelector('#df-b3ee4bb7-08fa-4627-9ac3-bf24a392a293');\n",
              "          const dataTable =\n",
              "            await google.colab.kernel.invokeFunction('convertToInteractive',\n",
              "                                                     [key], {});\n",
              "          if (!dataTable) return;\n",
              "\n",
              "          const docLinkHtml = 'Like what you see? Visit the ' +\n",
              "            '<a target=\"_blank\" href=https://colab.research.google.com/notebooks/data_table.ipynb>data table notebook</a>'\n",
              "            + ' to learn more about interactive tables.';\n",
              "          element.innerHTML = '';\n",
              "          dataTable['output_type'] = 'display_data';\n",
              "          await google.colab.output.renderOutput(dataTable, element);\n",
              "          const docLink = document.createElement('div');\n",
              "          docLink.innerHTML = docLinkHtml;\n",
              "          element.appendChild(docLink);\n",
              "        }\n",
              "      </script>\n",
              "    </div>\n",
              "  </div>\n",
              "  "
            ]
          },
          "metadata": {},
          "execution_count": 7
        }
      ]
    },
    {
      "cell_type": "code",
      "source": [
        "data.info()"
      ],
      "metadata": {
        "colab": {
          "base_uri": "https://localhost:8080/"
        },
        "id": "Oo8d8qhNRxZo",
        "outputId": "2031a695-cd75-47e0-fbcb-48f47438605e"
      },
      "execution_count": null,
      "outputs": [
        {
          "output_type": "stream",
          "name": "stdout",
          "text": [
            "<class 'pandas.core.frame.DataFrame'>\n",
            "RangeIndex: 604 entries, 0 to 603\n",
            "Data columns (total 2 columns):\n",
            " #   Column   Non-Null Count  Dtype  \n",
            "---  ------   --------------  -----  \n",
            " 0   Reviews  602 non-null    object \n",
            " 1   Emotion  602 non-null    float64\n",
            "dtypes: float64(1), object(1)\n",
            "memory usage: 9.6+ KB\n"
          ]
        }
      ]
    },
    {
      "cell_type": "code",
      "source": [
        "print(f\"There are {data.Emotion.nunique()} types of emotion.\" )"
      ],
      "metadata": {
        "colab": {
          "base_uri": "https://localhost:8080/"
        },
        "id": "5MKLMcufReMJ",
        "outputId": "a6d7a699-1a33-4433-9c49-0aa05d88cf5d"
      },
      "execution_count": null,
      "outputs": [
        {
          "output_type": "stream",
          "name": "stdout",
          "text": [
            "There are 2 types of emotion.\n"
          ]
        }
      ]
    },
    {
      "cell_type": "code",
      "source": [
        "sns.countplot(data.Emotion)"
      ],
      "metadata": {
        "colab": {
          "base_uri": "https://localhost:8080/",
          "height": 466
        },
        "id": "Kh16B4Z3RltM",
        "outputId": "028d595e-f77b-4627-b515-dae33c72be88"
      },
      "execution_count": null,
      "outputs": [
        {
          "output_type": "stream",
          "name": "stderr",
          "text": [
            "/usr/local/lib/python3.7/dist-packages/seaborn/_decorators.py:43: FutureWarning: Pass the following variable as a keyword arg: x. From version 0.12, the only valid positional argument will be `data`, and passing other arguments without an explicit keyword will result in an error or misinterpretation.\n",
            "  FutureWarning\n"
          ]
        },
        {
          "output_type": "execute_result",
          "data": {
            "text/plain": [
              "<matplotlib.axes._subplots.AxesSubplot at 0x7f9e10700990>"
            ]
          },
          "metadata": {},
          "execution_count": 18
        },
        {
          "output_type": "display_data",
          "data": {
            "text/plain": [
              "<Figure size 720x432 with 1 Axes>"
            ],
            "image/png": "[encoded data removed]"
          },
          "metadata": {}
        }
      ]
    },
    {
      "cell_type": "code",
      "source": [
        "data.Emotion.value_counts()"
      ],
      "metadata": {
        "colab": {
          "base_uri": "https://localhost:8080/"
        },
        "id": "E9tnuHUgTWsd",
        "outputId": "a3a79922-b042-4e66-d75a-071cb14191a6"
      },
      "execution_count": null,
      "outputs": [
        {
          "output_type": "execute_result",
          "data": {
            "text/plain": [
              "1.0    367\n",
              "0.0    235\n",
              "Name: Emotion, dtype: int64"
            ]
          },
          "metadata": {},
          "execution_count": 21
        }
      ]
    },
    {
      "cell_type": "markdown",
      "source": [
        "# Text Preprocessing\n",
        "\n",
        "*   Tokenize the words\n",
        "*   Remove stopwords\n",
        "*   stemming or lemmatization\n",
        "\n"
      ],
      "metadata": {
        "id": "ph0O_lQOU5ey"
      }
    },
    {
      "cell_type": "code",
      "source": [
        "import nltk\n",
        "nltk.download('stopwords')\n",
        "from nltk.corpus import stopwords"
      ],
      "metadata": {
        "colab": {
          "base_uri": "https://localhost:8080/"
        },
        "id": "dMFgRT0sUDJU",
        "outputId": "4cf6a5b3-3120-4ec3-d8dd-8a5bacb1f98c"
      },
      "execution_count": null,
      "outputs": [
        {
          "output_type": "stream",
          "name": "stderr",
          "text": [
            "[nltk_data] Downloading package stopwords to /root/nltk_data...\n",
            "[nltk_data]   Package stopwords is already up-to-date!\n"
          ]
        }
      ]
    },
    {
      "cell_type": "code",
      "source": [
        "print(stopwords.words('nepali'))"
      ],
      "metadata": {
        "colab": {
          "base_uri": "https://localhost:8080/"
        },
        "id": "rlD1GLvOVRan",
        "outputId": "eda0f5fd-7e40-484f-c59a-62eb7f6c9dae"
      },
      "execution_count": null,
      "outputs": [
        {
          "output_type": "stream",
          "name": "stdout",
          "text": [
            "['छ', 'र', 'पनि', 'छन्', 'लागि', 'भएको', 'गरेको', 'भने', 'गर्न', 'गर्ने', 'हो', 'तथा', 'यो', 'रहेको', 'उनले', 'थियो', 'हुने', 'गरेका', 'थिए', 'गर्दै', 'तर', 'नै', 'को', 'मा', 'हुन्', 'भन्ने', 'हुन', 'गरी', 'त', 'हुन्छ', 'अब', 'के', 'रहेका', 'गरेर', 'छैन', 'दिए', 'भए', 'यस', 'ले', 'गर्नु', 'औं', 'सो', 'त्यो', 'कि', 'जुन', 'यी', 'का', 'गरि', 'ती', 'न', 'छु', 'छौं', 'लाई', 'नि', 'उप', 'अक्सर', 'आदि', 'कसरी', 'क्रमशः', 'चाले', 'अगाडी', 'अझै', 'अनुसार', 'अन्तर्गत', 'अन्य', 'अन्यत्र', 'अन्यथा', 'अरु', 'अरुलाई', 'अर्को', 'अर्थात', 'अर्थात्', 'अलग', 'आए', 'आजको', 'ओठ', 'आत्म', 'आफू', 'आफूलाई', 'आफ्नै', 'आफ्नो', 'आयो', 'उदाहरण', 'उनको', 'उहालाई', 'एउटै', 'एक', 'एकदम', 'कतै', 'कम से कम', 'कसै', 'कसैले', 'कहाँबाट', 'कहिलेकाहीं', 'का', 'किन', 'किनभने', 'कुनै', 'कुरा', 'कृपया', 'केही', 'कोही', 'गए', 'गरौं', 'गर्छ', 'गर्छु', 'गर्नुपर्छ', 'गयौ', 'गैर', 'चार', 'चाहनुहुन्छ', 'चाहन्छु', 'चाहिए', 'छू', 'जताततै', 'जब', 'जबकि', 'जसको', 'जसबाट', 'जसमा', 'जसलाई', 'जसले', 'जस्तै', 'जस्तो', 'जस्तोसुकै', 'जहाँ', 'जान', 'जाहिर', 'जे', 'जो', 'ठीक', 'तत्काल', 'तदनुसार', 'तपाईको', 'तपाई', 'पर्याप्त', 'पहिले', 'पहिलो', 'पहिल्यै', 'पाँच', 'पाँचौं', 'तल', 'तापनी', 'तिनी', 'तिनीहरू', 'तिनीहरुको', 'तिनिहरुलाई', 'तिमी', 'तिर', 'तीन', 'तुरुन्तै', 'तेस्रो', 'तेस्कारण', 'पूर्व', 'प्रति', 'प्रतेक', 'प्लस', 'फेरी', 'बने', 'त्सपछि', 'त्सैले', 'त्यहाँ', 'थिएन', 'दिनुभएको', 'दिनुहुन्छ', 'दुई', 'देखि', 'बरु', 'बारे', 'बाहिर', 'देखिन्छ', 'देखियो', 'देखे', 'देखेको', 'देखेर', 'दोस्रो', 'धेरै', 'नजिकै', 'नत्र', 'नयाँ', 'निम्ति', 'बाहेक', 'बीच', 'बीचमा', 'भन', 'निम्न', 'निम्नानुसार', 'निर्दिष्ट', 'नौ', 'पक्का', 'पक्कै', 'पछि', 'पछिल्लो', 'पटक', 'पर्छ', 'पर्थ्यो', 'भन्छन्', 'भन्', 'भन्छु', 'भन्दा', 'भन्नुभयो', 'भर', 'भित्र', 'भित्री', 'म', 'मलाई', 'मात्र', 'माथि', 'मुख्य', 'मेरो', 'यति', 'यथोचित', 'यदि', 'यद्यपि', 'यसको', 'यसपछि', 'यसबाहेक', 'यसरी', 'यसो', 'यस्तो', 'यहाँ', 'यहाँसम्म', 'या', 'रही', 'राखे', 'राख्छ', 'राम्रो', 'रूप', 'लगभग', 'वरीपरी', 'वास्तवमा', 'बिरुद्ध', 'बिशेष', 'सायद', 'शायद', 'संग', 'संगै', 'सक्छ', 'सट्टा', 'सधै', 'सबै', 'सबैलाई', 'समय', 'सम्भव', 'सम्म', 'सही', 'साँच्चै', 'सात', 'साथ', 'साथै', 'सारा', 'सोही', 'स्पष्ट', 'हरे', 'हरेक']\n"
          ]
        }
      ]
    },
    {
      "cell_type": "code",
      "source": [
        "!!pip install git+https://github.com/sushil79g/Nepali_nlp.git"
      ],
      "metadata": {
        "colab": {
          "base_uri": "https://localhost:8080/",
          "height": 1000
        },
        "id": "qXVA07XVX9iC",
        "outputId": "daa76c09-7b3e-4df4-d69f-78b63a3bc5d2"
      },
      "execution_count": null,
      "outputs": [
        {
          "output_type": "display_data",
          "data": {
            "application/vnd.colab-display-data+json": {
              "pip_warning": {
                "packages": [
                  "PIL",
                  "idna",
                  "nltk",
                  "requests",
                  "rsa",
                  "urllib3",
                  "yaml"
                ]
              }
            }
          },
          "metadata": {}
        },
        {
          "output_type": "execute_result",
          "data": {
            "text/plain": [
              "['Looking in indexes: https://pypi.org/simple, https://us-python.pkg.dev/colab-wheels/public/simple/',\n",
              " 'Collecting git+https://github.com/sushil79g/Nepali_nlp.git',\n",
              " '  Cloning https://github.com/sushil79g/Nepali_nlp.git to /tmp/pip-req-build-01mdc47u',\n",
              " '  Running command git clone -q https://github.com/sushil79g/Nepali_nlp.git /tmp/pip-req-build-01mdc47u',\n",
              " 'Collecting gensim==3.7.3',\n",
              " '  Downloading gensim-3.7.3-cp37-cp37m-manylinux1_x86_64.whl (24.2 MB)',\n",
              " '\\x1b[?25l',\n",
              " '\\x1b[K     |                                | 10 kB 21.9 MB/s eta 0:00:02',\n",
              " '\\x1b[K     |                                | 20 kB 26.3 MB/s eta 0:00:01',\n",
              " '\\x1b[K     |                                | 30 kB 12.7 MB/s eta 0:00:02',\n",
              " '\\x1b[K     |                                | 40 kB 9.2 MB/s eta 0:00:03',\n",
              " '\\x1b[K     |                                | 51 kB 4.1 MB/s eta 0:00:06',\n",
              " '\\x1b[K     |                                | 61 kB 4.9 MB/s eta 0:00:05',\n",
              " '\\x1b[K     |                                | 71 kB 5.5 MB/s eta 0:00:05',\n",
              " '\\x1b[K     |                                | 81 kB 4.3 MB/s eta 0:00:06',\n",
              " '\\x1b[K     |▏                               | 92 kB 4.8 MB/s eta 0:00:06',\n",
              " '\\x1b[K     |▏                               | 102 kB 5.3 MB/s eta 0:00:05',\n",
              " '\\x1b[K     |▏                               | 112 kB 5.3 MB/s eta 0:00:05',\n",
              " '\\x1b[K     |▏                               | 122 kB 5.3 MB/s eta 0:00:05',\n",
              " '\\x1b[K     |▏                               | 133 kB 5.3 MB/s eta 0:00:05',\n",
              " '\\x1b[K     |▏                               | 143 kB 5.3 MB/s eta 0:00:05',\n",
              " '\\x1b[K     |▏                               | 153 kB 5.3 MB/s eta 0:00:05',\n",
              " '\\x1b[K     |▏                               | 163 kB 5.3 MB/s eta 0:00:05',\n",
              " '\\x1b[K     |▎                               | 174 kB 5.3 MB/s eta 0:00:05',\n",
              " '\\x1b[K     |▎                               | 184 kB 5.3 MB/s eta 0:00:05',\n",
              " '\\x1b[K     |▎                               | 194 kB 5.3 MB/s eta 0:00:05',\n",
              " '\\x1b[K     |▎                               | 204 kB 5.3 MB/s eta 0:00:05',\n",
              " '\\x1b[K     |▎                               | 215 kB 5.3 MB/s eta 0:00:05',\n",
              " '\\x1b[K     |▎                               | 225 kB 5.3 MB/s eta 0:00:05',\n",
              " '\\x1b[K     |▎                               | 235 kB 5.3 MB/s eta 0:00:05',\n",
              " '\\x1b[K     |▎                               | 245 kB 5.3 MB/s eta 0:00:05',\n",
              " '\\x1b[K     |▍                               | 256 kB 5.3 MB/s eta 0:00:05',\n",
              " '\\x1b[K     |▍                               | 266 kB 5.3 MB/s eta 0:00:05',\n",
              " '\\x1b[K     |▍                               | 276 kB 5.3 MB/s eta 0:00:05',\n",
              " '\\x1b[K     |▍                               | 286 kB 5.3 MB/s eta 0:00:05',\n",
              " '\\x1b[K     |▍                               | 296 kB 5.3 MB/s eta 0:00:05',\n",
              " '\\x1b[K     |▍                               | 307 kB 5.3 MB/s eta 0:00:05',\n",
              " '\\x1b[K     |▍                               | 317 kB 5.3 MB/s eta 0:00:05',\n",
              " '\\x1b[K     |▍                               | 327 kB 5.3 MB/s eta 0:00:05',\n",
              " '\\x1b[K     |▌                               | 337 kB 5.3 MB/s eta 0:00:05',\n",
              " '\\x1b[K     |▌                               | 348 kB 5.3 MB/s eta 0:00:05',\n",
              " '\\x1b[K     |▌                               | 358 kB 5.3 MB/s eta 0:00:05',\n",
              " '\\x1b[K     |▌                               | 368 kB 5.3 MB/s eta 0:00:05',\n",
              " '\\x1b[K     |▌                               | 378 kB 5.3 MB/s eta 0:00:05',\n",
              " '\\x1b[K     |▌                               | 389 kB 5.3 MB/s eta 0:00:05',\n",
              " '\\x1b[K     |▌                               | 399 kB 5.3 MB/s eta 0:00:05',\n",
              " '\\x1b[K     |▌                               | 409 kB 5.3 MB/s eta 0:00:05',\n",
              " '\\x1b[K     |▌                               | 419 kB 5.3 MB/s eta 0:00:05',\n",
              " '\\x1b[K     |▋                               | 430 kB 5.3 MB/s eta 0:00:05',\n",
              " '\\x1b[K     |▋                               | 440 kB 5.3 MB/s eta 0:00:05',\n",
              " '\\x1b[K     |▋                               | 450 kB 5.3 MB/s eta 0:00:05',\n",
              " '\\x1b[K     |▋                               | 460 kB 5.3 MB/s eta 0:00:05',\n",
              " '\\x1b[K     |▋                               | 471 kB 5.3 MB/s eta 0:00:05',\n",
              " '\\x1b[K     |▋                               | 481 kB 5.3 MB/s eta 0:00:05',\n",
              " '\\x1b[K     |▋                               | 491 kB 5.3 MB/s eta 0:00:05',\n",
              " '\\x1b[K     |▋                               | 501 kB 5.3 MB/s eta 0:00:05',\n",
              " '\\x1b[K     |▊                               | 512 kB 5.3 MB/s eta 0:00:05',\n",
              " '\\x1b[K     |▊                               | 522 kB 5.3 MB/s eta 0:00:05',\n",
              " '\\x1b[K     |▊                               | 532 kB 5.3 MB/s eta 0:00:05',\n",
              " '\\x1b[K     |▊                               | 542 kB 5.3 MB/s eta 0:00:05',\n",
              " '\\x1b[K     |▊                               | 552 kB 5.3 MB/s eta 0:00:05',\n",
              " '\\x1b[K     |▊                               | 563 kB 5.3 MB/s eta 0:00:05',\n",
              " '\\x1b[K     |▊                               | 573 kB 5.3 MB/s eta 0:00:05',\n",
              " '\\x1b[K     |▊                               | 583 kB 5.3 MB/s eta 0:00:05',\n",
              " '\\x1b[K     |▉                               | 593 kB 5.3 MB/s eta 0:00:05',\n",
              " '\\x1b[K     |▉                               | 604 kB 5.3 MB/s eta 0:00:05',\n",
              " '\\x1b[K     |▉                               | 614 kB 5.3 MB/s eta 0:00:05',\n",
              " '\\x1b[K     |▉                               | 624 kB 5.3 MB/s eta 0:00:05',\n",
              " '\\x1b[K     |▉                               | 634 kB 5.3 MB/s eta 0:00:05',\n",
              " '\\x1b[K     |▉                               | 645 kB 5.3 MB/s eta 0:00:05',\n",
              " '\\x1b[K     |▉                               | 655 kB 5.3 MB/s eta 0:00:05',\n",
              " '\\x1b[K     |▉                               | 665 kB 5.3 MB/s eta 0:00:05',\n",
              " '\\x1b[K     |█                               | 675 kB 5.3 MB/s eta 0:00:05',\n",
              " '\\x1b[K     |█                               | 686 kB 5.3 MB/s eta 0:00:05',\n",
              " '\\x1b[K     |█                               | 696 kB 5.3 MB/s eta 0:00:05',\n",
              " '\\x1b[K     |█                               | 706 kB 5.3 MB/s eta 0:00:05',\n",
              " '\\x1b[K     |█                               | 716 kB 5.3 MB/s eta 0:00:05',\n",
              " '\\x1b[K     |█                               | 727 kB 5.3 MB/s eta 0:00:05',\n",
              " '\\x1b[K     |█                               | 737 kB 5.3 MB/s eta 0:00:05',\n",
              " '\\x1b[K     |█                               | 747 kB 5.3 MB/s eta 0:00:05',\n",
              " '\\x1b[K     |█                               | 757 kB 5.3 MB/s eta 0:00:05',\n",
              " '\\x1b[K     |█                               | 768 kB 5.3 MB/s eta 0:00:05',\n",
              " '\\x1b[K     |█                               | 778 kB 5.3 MB/s eta 0:00:05',\n",
              " '\\x1b[K     |█                               | 788 kB 5.3 MB/s eta 0:00:05',\n",
              " '\\x1b[K     |█                               | 798 kB 5.3 MB/s eta 0:00:05',\n",
              " '\\x1b[K     |█                               | 808 kB 5.3 MB/s eta 0:00:05',\n",
              " '\\x1b[K     |█                               | 819 kB 5.3 MB/s eta 0:00:05',\n",
              " '\\x1b[K     |█                               | 829 kB 5.3 MB/s eta 0:00:05',\n",
              " '\\x1b[K     |█                               | 839 kB 5.3 MB/s eta 0:00:05',\n",
              " '\\x1b[K     |█▏                              | 849 kB 5.3 MB/s eta 0:00:05',\n",
              " '\\x1b[K     |█▏                              | 860 kB 5.3 MB/s eta 0:00:05',\n",
              " '\\x1b[K     |█▏                              | 870 kB 5.3 MB/s eta 0:00:05',\n",
              " '\\x1b[K     |█▏                              | 880 kB 5.3 MB/s eta 0:00:05',\n",
              " '\\x1b[K     |█▏                              | 890 kB 5.3 MB/s eta 0:00:05',\n",
              " '\\x1b[K     |█▏                              | 901 kB 5.3 MB/s eta 0:00:05',\n",
              " '\\x1b[K     |█▏                              | 911 kB 5.3 MB/s eta 0:00:05',\n",
              " '\\x1b[K     |█▏                              | 921 kB 5.3 MB/s eta 0:00:05',\n",
              " '\\x1b[K     |█▎                              | 931 kB 5.3 MB/s eta 0:00:05',\n",
              " '\\x1b[K     |█▎                              | 942 kB 5.3 MB/s eta 0:00:05',\n",
              " '\\x1b[K     |█▎                              | 952 kB 5.3 MB/s eta 0:00:05',\n",
              " '\\x1b[K     |█▎                              | 962 kB 5.3 MB/s eta 0:00:05',\n",
              " '\\x1b[K     |█▎                              | 972 kB 5.3 MB/s eta 0:00:05',\n",
              " '\\x1b[K     |█▎                              | 983 kB 5.3 MB/s eta 0:00:05',\n",
              " '\\x1b[K     |█▎                              | 993 kB 5.3 MB/s eta 0:00:05',\n",
              " '\\x1b[K     |█▎                              | 1.0 MB 5.3 MB/s eta 0:00:05',\n",
              " '\\x1b[K     |█▍                              | 1.0 MB 5.3 MB/s eta 0:00:05',\n",
              " '\\x1b[K     |█▍                              | 1.0 MB 5.3 MB/s eta 0:00:05',\n",
              " '\\x1b[K     |█▍                              | 1.0 MB 5.3 MB/s eta 0:00:05',\n",
              " '\\x1b[K     |█▍                              | 1.0 MB 5.3 MB/s eta 0:00:05',\n",
              " '\\x1b[K     |█▍                              | 1.1 MB 5.3 MB/s eta 0:00:05',\n",
              " '\\x1b[K     |█▍                              | 1.1 MB 5.3 MB/s eta 0:00:05',\n",
              " '\\x1b[K     |█▍                              | 1.1 MB 5.3 MB/s eta 0:00:05',\n",
              " '\\x1b[K     |█▍                              | 1.1 MB 5.3 MB/s eta 0:00:05',\n",
              " '\\x1b[K     |█▌                              | 1.1 MB 5.3 MB/s eta 0:00:05',\n",
              " '\\x1b[K     |█▌                              | 1.1 MB 5.3 MB/s eta 0:00:05',\n",
              " '\\x1b[K     |█▌                              | 1.1 MB 5.3 MB/s eta 0:00:05',\n",
              " '\\x1b[K     |█▌                              | 1.1 MB 5.3 MB/s eta 0:00:05',\n",
              " '\\x1b[K     |█▌                              | 1.1 MB 5.3 MB/s eta 0:00:05',\n",
              " '\\x1b[K     |█▌                              | 1.1 MB 5.3 MB/s eta 0:00:05',\n",
              " '\\x1b[K     |█▌                              | 1.2 MB 5.3 MB/s eta 0:00:05',\n",
              " '\\x1b[K     |█▌                              | 1.2 MB 5.3 MB/s eta 0:00:05',\n",
              " '\\x1b[K     |█▋                              | 1.2 MB 5.3 MB/s eta 0:00:05',\n",
              " '\\x1b[K     |█▋                              | 1.2 MB 5.3 MB/s eta 0:00:05',\n",
              " '\\x1b[K     |█▋                              | 1.2 MB 5.3 MB/s eta 0:00:05',\n",
              " '\\x1b[K     |█▋                              | 1.2 MB 5.3 MB/s eta 0:00:05',\n",
              " '\\x1b[K     |█▋                              | 1.2 MB 5.3 MB/s eta 0:00:05',\n",
              " '\\x1b[K     |█▋                              | 1.2 MB 5.3 MB/s eta 0:00:05',\n",
              " '\\x1b[K     |█▋                              | 1.2 MB 5.3 MB/s eta 0:00:05',\n",
              " '\\x1b[K     |█▋                              | 1.2 MB 5.3 MB/s eta 0:00:05',\n",
              " '\\x1b[K     |█▋                              | 1.3 MB 5.3 MB/s eta 0:00:05',\n",
              " '\\x1b[K     |█▊                              | 1.3 MB 5.3 MB/s eta 0:00:05',\n",
              " '\\x1b[K     |█▊                              | 1.3 MB 5.3 MB/s eta 0:00:05',\n",
              " '\\x1b[K     |█▊                              | 1.3 MB 5.3 MB/s eta 0:00:05',\n",
              " '\\x1b[K     |█▊                              | 1.3 MB 5.3 MB/s eta 0:00:05',\n",
              " '\\x1b[K     |█▊                              | 1.3 MB 5.3 MB/s eta 0:00:05',\n",
              " '\\x1b[K     |█▊                              | 1.3 MB 5.3 MB/s eta 0:00:05',\n",
              " '\\x1b[K     |█▊                              | 1.3 MB 5.3 MB/s eta 0:00:05',\n",
              " '\\x1b[K     |█▊                              | 1.3 MB 5.3 MB/s eta 0:00:05',\n",
              " '\\x1b[K     |█▉                              | 1.4 MB 5.3 MB/s eta 0:00:05',\n",
              " '\\x1b[K     |█▉                              | 1.4 MB 5.3 MB/s eta 0:00:05',\n",
              " '\\x1b[K     |█▉                              | 1.4 MB 5.3 MB/s eta 0:00:05',\n",
              " '\\x1b[K     |█▉                              | 1.4 MB 5.3 MB/s eta 0:00:05',\n",
              " '\\x1b[K     |█▉                              | 1.4 MB 5.3 MB/s eta 0:00:05',\n",
              " '\\x1b[K     |█▉                              | 1.4 MB 5.3 MB/s eta 0:00:05',\n",
              " '\\x1b[K     |█▉                              | 1.4 MB 5.3 MB/s eta 0:00:05',\n",
              " '\\x1b[K     |█▉                              | 1.4 MB 5.3 MB/s eta 0:00:05',\n",
              " '\\x1b[K     |██                              | 1.4 MB 5.3 MB/s eta 0:00:05',\n",
              " '\\x1b[K     |██                              | 1.4 MB 5.3 MB/s eta 0:00:05',\n",
              " '\\x1b[K     |██                              | 1.5 MB 5.3 MB/s eta 0:00:05',\n",
              " '\\x1b[K     |██                              | 1.5 MB 5.3 MB/s eta 0:00:05',\n",
              " '\\x1b[K     |██                              | 1.5 MB 5.3 MB/s eta 0:00:05',\n",
              " '\\x1b[K     |██                              | 1.5 MB 5.3 MB/s eta 0:00:05',\n",
              " '\\x1b[K     |██                              | 1.5 MB 5.3 MB/s eta 0:00:05',\n",
              " '\\x1b[K     |██                              | 1.5 MB 5.3 MB/s eta 0:00:05',\n",
              " '\\x1b[K     |██                              | 1.5 MB 5.3 MB/s eta 0:00:05',\n",
              " '\\x1b[K     |██                              | 1.5 MB 5.3 MB/s eta 0:00:05',\n",
              " '\\x1b[K     |██                              | 1.5 MB 5.3 MB/s eta 0:00:05',\n",
              " '\\x1b[K     |██                              | 1.5 MB 5.3 MB/s eta 0:00:05',\n",
              " '\\x1b[K     |██                              | 1.6 MB 5.3 MB/s eta 0:00:05',\n",
              " '\\x1b[K     |██                              | 1.6 MB 5.3 MB/s eta 0:00:05',\n",
              " '\\x1b[K     |██                              | 1.6 MB 5.3 MB/s eta 0:00:05',\n",
              " '\\x1b[K     |██                              | 1.6 MB 5.3 MB/s eta 0:00:05',\n",
              " '\\x1b[K     |██▏                             | 1.6 MB 5.3 MB/s eta 0:00:05',\n",
              " '\\x1b[K     |██▏                             | 1.6 MB 5.3 MB/s eta 0:00:05',\n",
              " '\\x1b[K     |██▏                             | 1.6 MB 5.3 MB/s eta 0:00:05',\n",
              " '\\x1b[K     |██▏                             | 1.6 MB 5.3 MB/s eta 0:00:05',\n",
              " '\\x1b[K     |██▏                             | 1.6 MB 5.3 MB/s eta 0:00:05',\n",
              " '\\x1b[K     |██▏                             | 1.6 MB 5.3 MB/s eta 0:00:05',\n",
              " '\\x1b[K     |██▏                             | 1.7 MB 5.3 MB/s eta 0:00:05',\n",
              " '\\x1b[K     |██▏                             | 1.7 MB 5.3 MB/s eta 0:00:05',\n",
              " '\\x1b[K     |██▏                             | 1.7 MB 5.3 MB/s eta 0:00:05',\n",
              " '\\x1b[K     |██▎                             | 1.7 MB 5.3 MB/s eta 0:00:05',\n",
              " '\\x1b[K     |██▎                             | 1.7 MB 5.3 MB/s eta 0:00:05',\n",
              " '\\x1b[K     |██▎                             | 1.7 MB 5.3 MB/s eta 0:00:05',\n",
              " '\\x1b[K     |██▎                             | 1.7 MB 5.3 MB/s eta 0:00:05',\n",
              " '\\x1b[K     |██▎                             | 1.7 MB 5.3 MB/s eta 0:00:05',\n",
              " '\\x1b[K     |██▎                             | 1.7 MB 5.3 MB/s eta 0:00:05',\n",
              " '\\x1b[K     |██▎                             | 1.8 MB 5.3 MB/s eta 0:00:05',\n",
              " '\\x1b[K     |██▎                             | 1.8 MB 5.3 MB/s eta 0:00:05',\n",
              " '\\x1b[K     |██▍                             | 1.8 MB 5.3 MB/s eta 0:00:05',\n",
              " '\\x1b[K     |██▍                             | 1.8 MB 5.3 MB/s eta 0:00:05',\n",
              " '\\x1b[K     |██▍                             | 1.8 MB 5.3 MB/s eta 0:00:05',\n",
              " '\\x1b[K     |██▍                             | 1.8 MB 5.3 MB/s eta 0:00:05',\n",
              " '\\x1b[K     |██▍                             | 1.8 MB 5.3 MB/s eta 0:00:05',\n",
              " '\\x1b[K     |██▍                             | 1.8 MB 5.3 MB/s eta 0:00:05',\n",
              " '\\x1b[K     |██▍                             | 1.8 MB 5.3 MB/s eta 0:00:05',\n",
              " '\\x1b[K     |██▍                             | 1.8 MB 5.3 MB/s eta 0:00:05',\n",
              " '\\x1b[K     |██▌                             | 1.9 MB 5.3 MB/s eta 0:00:05',\n",
              " '\\x1b[K     |██▌                             | 1.9 MB 5.3 MB/s eta 0:00:05',\n",
              " '\\x1b[K     |██▌                             | 1.9 MB 5.3 MB/s eta 0:00:05',\n",
              " '\\x1b[K     |██▌                             | 1.9 MB 5.3 MB/s eta 0:00:05',\n",
              " '\\x1b[K     |██▌                             | 1.9 MB 5.3 MB/s eta 0:00:05',\n",
              " '\\x1b[K     |██▌                             | 1.9 MB 5.3 MB/s eta 0:00:05',\n",
              " '\\x1b[K     |██▌                             | 1.9 MB 5.3 MB/s eta 0:00:05',\n",
              " '\\x1b[K     |██▌                             | 1.9 MB 5.3 MB/s eta 0:00:05',\n",
              " '\\x1b[K     |██▋                             | 1.9 MB 5.3 MB/s eta 0:00:05',\n",
              " '\\x1b[K     |██▋                             | 1.9 MB 5.3 MB/s eta 0:00:05',\n",
              " '\\x1b[K     |██▋                             | 2.0 MB 5.3 MB/s eta 0:00:05',\n",
              " '\\x1b[K     |██▋                             | 2.0 MB 5.3 MB/s eta 0:00:05',\n",
              " '\\x1b[K     |██▋                             | 2.0 MB 5.3 MB/s eta 0:00:05',\n",
              " '\\x1b[K     |██▋                             | 2.0 MB 5.3 MB/s eta 0:00:05',\n",
              " '\\x1b[K     |██▋                             | 2.0 MB 5.3 MB/s eta 0:00:05',\n",
              " '\\x1b[K     |██▋                             | 2.0 MB 5.3 MB/s eta 0:00:05',\n",
              " '\\x1b[K     |██▊                             | 2.0 MB 5.3 MB/s eta 0:00:05',\n",
              " '\\x1b[K     |██▊                             | 2.0 MB 5.3 MB/s eta 0:00:05',\n",
              " '\\x1b[K     |██▊                             | 2.0 MB 5.3 MB/s eta 0:00:05',\n",
              " '\\x1b[K     |██▊                             | 2.0 MB 5.3 MB/s eta 0:00:05',\n",
              " '\\x1b[K     |██▊                             | 2.1 MB 5.3 MB/s eta 0:00:05',\n",
              " '\\x1b[K     |██▊                             | 2.1 MB 5.3 MB/s eta 0:00:05',\n",
              " '\\x1b[K     |██▊                             | 2.1 MB 5.3 MB/s eta 0:00:05',\n",
              " '\\x1b[K     |██▊                             | 2.1 MB 5.3 MB/s eta 0:00:05',\n",
              " '\\x1b[K     |██▊                             | 2.1 MB 5.3 MB/s eta 0:00:05',\n",
              " '\\x1b[K     |██▉                             | 2.1 MB 5.3 MB/s eta 0:00:05',\n",
              " '\\x1b[K     |██▉                             | 2.1 MB 5.3 MB/s eta 0:00:05',\n",
              " '\\x1b[K     |██▉                             | 2.1 MB 5.3 MB/s eta 0:00:05',\n",
              " '\\x1b[K     |██▉                             | 2.1 MB 5.3 MB/s eta 0:00:05',\n",
              " '\\x1b[K     |██▉                             | 2.2 MB 5.3 MB/s eta 0:00:05',\n",
              " '\\x1b[K     |██▉                             | 2.2 MB 5.3 MB/s eta 0:00:05',\n",
              " '\\x1b[K     |██▉                             | 2.2 MB 5.3 MB/s eta 0:00:05',\n",
              " '\\x1b[K     |██▉                             | 2.2 MB 5.3 MB/s eta 0:00:05',\n",
              " '\\x1b[K     |███                             | 2.2 MB 5.3 MB/s eta 0:00:05',\n",
              " '\\x1b[K     |███                             | 2.2 MB 5.3 MB/s eta 0:00:05',\n",
              " '\\x1b[K     |███                             | 2.2 MB 5.3 MB/s eta 0:00:05',\n",
              " '\\x1b[K     |███                             | 2.2 MB 5.3 MB/s eta 0:00:05',\n",
              " '\\x1b[K     |███                             | 2.2 MB 5.3 MB/s eta 0:00:05',\n",
              " '\\x1b[K     |███                             | 2.2 MB 5.3 MB/s eta 0:00:05',\n",
              " '\\x1b[K     |███                             | 2.3 MB 5.3 MB/s eta 0:00:05',\n",
              " '\\x1b[K     |███                             | 2.3 MB 5.3 MB/s eta 0:00:05',\n",
              " '\\x1b[K     |███                             | 2.3 MB 5.3 MB/s eta 0:00:05',\n",
              " '\\x1b[K     |███                             | 2.3 MB 5.3 MB/s eta 0:00:05',\n",
              " '\\x1b[K     |███                             | 2.3 MB 5.3 MB/s eta 0:00:05',\n",
              " '\\x1b[K     |███                             | 2.3 MB 5.3 MB/s eta 0:00:05',\n",
              " '\\x1b[K     |███                             | 2.3 MB 5.3 MB/s eta 0:00:05',\n",
              " '\\x1b[K     |███                             | 2.3 MB 5.3 MB/s eta 0:00:05',\n",
              " '\\x1b[K     |███                             | 2.3 MB 5.3 MB/s eta 0:00:05',\n",
              " '\\x1b[K     |███                             | 2.3 MB 5.3 MB/s eta 0:00:05',\n",
              " '\\x1b[K     |███▏                            | 2.4 MB 5.3 MB/s eta 0:00:05',\n",
              " '\\x1b[K     |███▏                            | 2.4 MB 5.3 MB/s eta 0:00:05',\n",
              " '\\x1b[K     |███▏                            | 2.4 MB 5.3 MB/s eta 0:00:05',\n",
              " '\\x1b[K     |███▏                            | 2.4 MB 5.3 MB/s eta 0:00:05',\n",
              " '\\x1b[K     |███▏                            | 2.4 MB 5.3 MB/s eta 0:00:05',\n",
              " '\\x1b[K     |███▏                            | 2.4 MB 5.3 MB/s eta 0:00:05',\n",
              " '\\x1b[K     |███▏                            | 2.4 MB 5.3 MB/s eta 0:00:05',\n",
              " '\\x1b[K     |███▏                            | 2.4 MB 5.3 MB/s eta 0:00:05',\n",
              " '\\x1b[K     |███▎                            | 2.4 MB 5.3 MB/s eta 0:00:05',\n",
              " '\\x1b[K     |███▎                            | 2.4 MB 5.3 MB/s eta 0:00:05',\n",
              " '\\x1b[K     |███▎                            | 2.5 MB 5.3 MB/s eta 0:00:05',\n",
              " '\\x1b[K     |███▎                            | 2.5 MB 5.3 MB/s eta 0:00:05',\n",
              " '\\x1b[K     |███▎                            | 2.5 MB 5.3 MB/s eta 0:00:05',\n",
              " '\\x1b[K     |███▎                            | 2.5 MB 5.3 MB/s eta 0:00:05',\n",
              " '\\x1b[K     |███▎                            | 2.5 MB 5.3 MB/s eta 0:00:05',\n",
              " '\\x1b[K     |███▎                            | 2.5 MB 5.3 MB/s eta 0:00:05',\n",
              " '\\x1b[K     |███▎                            | 2.5 MB 5.3 MB/s eta 0:00:05',\n",
              " '\\x1b[K     |███▍                            | 2.5 MB 5.3 MB/s eta 0:00:05',\n",
              " '\\x1b[K     |███▍                            | 2.5 MB 5.3 MB/s eta 0:00:05',\n",
              " '\\x1b[K     |███▍                            | 2.5 MB 5.3 MB/s eta 0:00:05',\n",
              " '\\x1b[K     |███▍                            | 2.6 MB 5.3 MB/s eta 0:00:05',\n",
              " '\\x1b[K     |███▍                            | 2.6 MB 5.3 MB/s eta 0:00:05',\n",
              " '\\x1b[K     |███▍                            | 2.6 MB 5.3 MB/s eta 0:00:05',\n",
              " '\\x1b[K     |███▍                            | 2.6 MB 5.3 MB/s eta 0:00:05',\n",
              " '\\x1b[K     |███▍                            | 2.6 MB 5.3 MB/s eta 0:00:05',\n",
              " '\\x1b[K     |███▌                            | 2.6 MB 5.3 MB/s eta 0:00:05',\n",
              " '\\x1b[K     |███▌                            | 2.6 MB 5.3 MB/s eta 0:00:05',\n",
              " '\\x1b[K     |███▌                            | 2.6 MB 5.3 MB/s eta 0:00:05',\n",
              " '\\x1b[K     |███▌                            | 2.6 MB 5.3 MB/s eta 0:00:05',\n",
              " '\\x1b[K     |███▌                            | 2.7 MB 5.3 MB/s eta 0:00:05',\n",
              " '\\x1b[K     |███▌                            | 2.7 MB 5.3 MB/s eta 0:00:05',\n",
              " '\\x1b[K     |███▌                            | 2.7 MB 5.3 MB/s eta 0:00:05',\n",
              " '\\x1b[K     |███▌                            | 2.7 MB 5.3 MB/s eta 0:00:05',\n",
              " '\\x1b[K     |███▋                            | 2.7 MB 5.3 MB/s eta 0:00:05',\n",
              " '\\x1b[K     |███▋                            | 2.7 MB 5.3 MB/s eta 0:00:05',\n",
              " '\\x1b[K     |███▋                            | 2.7 MB 5.3 MB/s eta 0:00:05',\n",
              " '\\x1b[K     |███▋                            | 2.7 MB 5.3 MB/s eta 0:00:05',\n",
              " '\\x1b[K     |███▋                            | 2.7 MB 5.3 MB/s eta 0:00:05',\n",
              " '\\x1b[K     |███▋                            | 2.7 MB 5.3 MB/s eta 0:00:05',\n",
              " '\\x1b[K     |███▋                            | 2.8 MB 5.3 MB/s eta 0:00:05',\n",
              " '\\x1b[K     |███▋                            | 2.8 MB 5.3 MB/s eta 0:00:05',\n",
              " '\\x1b[K     |███▊                            | 2.8 MB 5.3 MB/s eta 0:00:05',\n",
              " '\\x1b[K     |███▊                            | 2.8 MB 5.3 MB/s eta 0:00:05',\n",
              " '\\x1b[K     |███▊                            | 2.8 MB 5.3 MB/s eta 0:00:05',\n",
              " '\\x1b[K     |███▊                            | 2.8 MB 5.3 MB/s eta 0:00:05',\n",
              " '\\x1b[K     |███▊                            | 2.8 MB 5.3 MB/s eta 0:00:05',\n",
              " '\\x1b[K     |███▊                            | 2.8 MB 5.3 MB/s eta 0:00:05',\n",
              " '\\x1b[K     |███▊                            | 2.8 MB 5.3 MB/s eta 0:00:05',\n",
              " '\\x1b[K     |███▊                            | 2.8 MB 5.3 MB/s eta 0:00:05',\n",
              " '\\x1b[K     |███▉                            | 2.9 MB 5.3 MB/s eta 0:00:05',\n",
              " '\\x1b[K     |███▉                            | 2.9 MB 5.3 MB/s eta 0:00:05',\n",
              " '\\x1b[K     |███▉                            | 2.9 MB 5.3 MB/s eta 0:00:05',\n",
              " '\\x1b[K     |███▉                            | 2.9 MB 5.3 MB/s eta 0:00:05',\n",
              " '\\x1b[K     |███▉                            | 2.9 MB 5.3 MB/s eta 0:00:05',\n",
              " '\\x1b[K     |███▉                            | 2.9 MB 5.3 MB/s eta 0:00:05',\n",
              " '\\x1b[K     |███▉                            | 2.9 MB 5.3 MB/s eta 0:00:05',\n",
              " '\\x1b[K     |███▉                            | 2.9 MB 5.3 MB/s eta 0:00:05',\n",
              " '\\x1b[K     |███▉                            | 2.9 MB 5.3 MB/s eta 0:00:05',\n",
              " '\\x1b[K     |████                            | 2.9 MB 5.3 MB/s eta 0:00:05',\n",
              " '\\x1b[K     |████                            | 3.0 MB 5.3 MB/s eta 0:00:05',\n",
              " '\\x1b[K     |████                            | 3.0 MB 5.3 MB/s eta 0:00:05',\n",
              " '\\x1b[K     |████                            | 3.0 MB 5.3 MB/s eta 0:00:05',\n",
              " '\\x1b[K     |████                            | 3.0 MB 5.3 MB/s eta 0:00:05',\n",
              " '\\x1b[K     |████                            | 3.0 MB 5.3 MB/s eta 0:00:05',\n",
              " '\\x1b[K     |████                            | 3.0 MB 5.3 MB/s eta 0:00:05',\n",
              " '\\x1b[K     |████                            | 3.0 MB 5.3 MB/s eta 0:00:05',\n",
              " '\\x1b[K     |████                            | 3.0 MB 5.3 MB/s eta 0:00:05',\n",
              " '\\x1b[K     |████                            | 3.0 MB 5.3 MB/s eta 0:00:05',\n",
              " '\\x1b[K     |████                            | 3.1 MB 5.3 MB/s eta 0:00:05',\n",
              " '\\x1b[K     |████                            | 3.1 MB 5.3 MB/s eta 0:00:05',\n",
              " '\\x1b[K     |████                            | 3.1 MB 5.3 MB/s eta 0:00:05',\n",
              " '\\x1b[K     |████                            | 3.1 MB 5.3 MB/s eta 0:00:05',\n",
              " '\\x1b[K     |████                            | 3.1 MB 5.3 MB/s eta 0:00:05',\n",
              " '\\x1b[K     |████                            | 3.1 MB 5.3 MB/s eta 0:00:05',\n",
              " '\\x1b[K     |████▏                           | 3.1 MB 5.3 MB/s eta 0:00:05',\n",
              " '\\x1b[K     |████▏                           | 3.1 MB 5.3 MB/s eta 0:00:05',\n",
              " '\\x1b[K     |████▏                           | 3.1 MB 5.3 MB/s eta 0:00:05',\n",
              " '\\x1b[K     |████▏                           | 3.1 MB 5.3 MB/s eta 0:00:04',\n",
              " '\\x1b[K     |████▏                           | 3.2 MB 5.3 MB/s eta 0:00:04',\n",
              " '\\x1b[K     |████▏                           | 3.2 MB 5.3 MB/s eta 0:00:04',\n",
              " '\\x1b[K     |████▏                           | 3.2 MB 5.3 MB/s eta 0:00:04',\n",
              " '\\x1b[K     |████▏                           | 3.2 MB 5.3 MB/s eta 0:00:04',\n",
              " '\\x1b[K     |████▎                           | 3.2 MB 5.3 MB/s eta 0:00:04',\n",
              " '\\x1b[K     |████▎                           | 3.2 MB 5.3 MB/s eta 0:00:04',\n",
              " '\\x1b[K     |████▎                           | 3.2 MB 5.3 MB/s eta 0:00:04',\n",
              " '\\x1b[K     |████▎                           | 3.2 MB 5.3 MB/s eta 0:00:04',\n",
              " '\\x1b[K     |████▎                           | 3.2 MB 5.3 MB/s eta 0:00:04',\n",
              " '\\x1b[K     |████▎                           | 3.2 MB 5.3 MB/s eta 0:00:04',\n",
              " '\\x1b[K     |████▎                           | 3.3 MB 5.3 MB/s eta 0:00:04',\n",
              " '\\x1b[K     |████▎                           | 3.3 MB 5.3 MB/s eta 0:00:04',\n",
              " '\\x1b[K     |████▍                           | 3.3 MB 5.3 MB/s eta 0:00:04',\n",
              " '\\x1b[K     |████▍                           | 3.3 MB 5.3 MB/s eta 0:00:04',\n",
              " '\\x1b[K     |████▍                           | 3.3 MB 5.3 MB/s eta 0:00:04',\n",
              " '\\x1b[K     |████▍                           | 3.3 MB 5.3 MB/s eta 0:00:04',\n",
              " '\\x1b[K     |████▍                           | 3.3 MB 5.3 MB/s eta 0:00:04',\n",
              " '\\x1b[K     |████▍                           | 3.3 MB 5.3 MB/s eta 0:00:04',\n",
              " '\\x1b[K     |████▍                           | 3.3 MB 5.3 MB/s eta 0:00:04',\n",
              " '\\x1b[K     |████▍                           | 3.3 MB 5.3 MB/s eta 0:00:04',\n",
              " '\\x1b[K     |████▍                           | 3.4 MB 5.3 MB/s eta 0:00:04',\n",
              " '\\x1b[K     |████▌                           | 3.4 MB 5.3 MB/s eta 0:00:04',\n",
              " '\\x1b[K     |████▌                           | 3.4 MB 5.3 MB/s eta 0:00:04',\n",
              " '\\x1b[K     |████▌                           | 3.4 MB 5.3 MB/s eta 0:00:04',\n",
              " '\\x1b[K     |████▌                           | 3.4 MB 5.3 MB/s eta 0:00:04',\n",
              " '\\x1b[K     |████▌                           | 3.4 MB 5.3 MB/s eta 0:00:04',\n",
              " '\\x1b[K     |████▌                           | 3.4 MB 5.3 MB/s eta 0:00:04',\n",
              " '\\x1b[K     |████▌                           | 3.4 MB 5.3 MB/s eta 0:00:04',\n",
              " '\\x1b[K     |████▌                           | 3.4 MB 5.3 MB/s eta 0:00:04',\n",
              " '\\x1b[K     |████▋                           | 3.5 MB 5.3 MB/s eta 0:00:04',\n",
              " '\\x1b[K     |████▋                           | 3.5 MB 5.3 MB/s eta 0:00:04',\n",
              " '\\x1b[K     |████▋                           | 3.5 MB 5.3 MB/s eta 0:00:04',\n",
              " '\\x1b[K     |████▋                           | 3.5 MB 5.3 MB/s eta 0:00:04',\n",
              " '\\x1b[K     |████▋                           | 3.5 MB 5.3 MB/s eta 0:00:04',\n",
              " '\\x1b[K     |████▋                           | 3.5 MB 5.3 MB/s eta 0:00:04',\n",
              " '\\x1b[K     |████▋                           | 3.5 MB 5.3 MB/s eta 0:00:04',\n",
              " '\\x1b[K     |████▋                           | 3.5 MB 5.3 MB/s eta 0:00:04',\n",
              " '\\x1b[K     |████▊                           | 3.5 MB 5.3 MB/s eta 0:00:04',\n",
              " '\\x1b[K     |████▊                           | 3.5 MB 5.3 MB/s eta 0:00:04',\n",
              " '\\x1b[K     |████▊                           | 3.6 MB 5.3 MB/s eta 0:00:04',\n",
              " '\\x1b[K     |████▊                           | 3.6 MB 5.3 MB/s eta 0:00:04',\n",
              " '\\x1b[K     |████▊                           | 3.6 MB 5.3 MB/s eta 0:00:04',\n",
              " '\\x1b[K     |████▊                           | 3.6 MB 5.3 MB/s eta 0:00:04',\n",
              " '\\x1b[K     |████▊                           | 3.6 MB 5.3 MB/s eta 0:00:04',\n",
              " '\\x1b[K     |████▊                           | 3.6 MB 5.3 MB/s eta 0:00:04',\n",
              " '\\x1b[K     |████▉                           | 3.6 MB 5.3 MB/s eta 0:00:04',\n",
              " '\\x1b[K     |████▉                           | 3.6 MB 5.3 MB/s eta 0:00:04',\n",
              " '\\x1b[K     |████▉                           | 3.6 MB 5.3 MB/s eta 0:00:04',\n",
              " '\\x1b[K     |████▉                           | 3.6 MB 5.3 MB/s eta 0:00:04',\n",
              " '\\x1b[K     |████▉                           | 3.7 MB 5.3 MB/s eta 0:00:04',\n",
              " '\\x1b[K     |████▉                           | 3.7 MB 5.3 MB/s eta 0:00:04',\n",
              " '\\x1b[K     |████▉                           | 3.7 MB 5.3 MB/s eta 0:00:04',\n",
              " '\\x1b[K     |████▉                           | 3.7 MB 5.3 MB/s eta 0:00:04',\n",
              " '\\x1b[K     |█████                           | 3.7 MB 5.3 MB/s eta 0:00:04',\n",
              " '\\x1b[K     |█████                           | 3.7 MB 5.3 MB/s eta 0:00:04',\n",
              " '\\x1b[K     |█████                           | 3.7 MB 5.3 MB/s eta 0:00:04',\n",
              " '\\x1b[K     |█████                           | 3.7 MB 5.3 MB/s eta 0:00:04',\n",
              " '\\x1b[K     |█████                           | 3.7 MB 5.3 MB/s eta 0:00:04',\n",
              " '\\x1b[K     |█████                           | 3.7 MB 5.3 MB/s eta 0:00:04',\n",
              " '\\x1b[K     |█████                           | 3.8 MB 5.3 MB/s eta 0:00:04',\n",
              " '\\x1b[K     |█████                           | 3.8 MB 5.3 MB/s eta 0:00:04',\n",
              " '\\x1b[K     |█████                           | 3.8 MB 5.3 MB/s eta 0:00:04',\n",
              " '\\x1b[K     |█████                           | 3.8 MB 5.3 MB/s eta 0:00:04',\n",
              " '\\x1b[K     |█████                           | 3.8 MB 5.3 MB/s eta 0:00:04',\n",
              " '\\x1b[K     |█████                           | 3.8 MB 5.3 MB/s eta 0:00:04',\n",
              " '\\x1b[K     |█████                           | 3.8 MB 5.3 MB/s eta 0:00:04',\n",
              " '\\x1b[K     |█████                           | 3.8 MB 5.3 MB/s eta 0:00:04',\n",
              " '\\x1b[K     |█████                           | 3.8 MB 5.3 MB/s eta 0:00:04',\n",
              " '\\x1b[K     |█████                           | 3.9 MB 5.3 MB/s eta 0:00:04',\n",
              " '\\x1b[K     |█████                           | 3.9 MB 5.3 MB/s eta 0:00:04',\n",
              " '\\x1b[K     |█████▏                          | 3.9 MB 5.3 MB/s eta 0:00:04',\n",
              " '\\x1b[K     |█████▏                          | 3.9 MB 5.3 MB/s eta 0:00:04',\n",
              " '\\x1b[K     |█████▏                          | 3.9 MB 5.3 MB/s eta 0:00:04',\n",
              " '\\x1b[K     |█████▏                          | 3.9 MB 5.3 MB/s eta 0:00:04',\n",
              " '\\x1b[K     |█████▏                          | 3.9 MB 5.3 MB/s eta 0:00:04',\n",
              " '\\x1b[K     |█████▏                          | 3.9 MB 5.3 MB/s eta 0:00:04',\n",
              " '\\x1b[K     |█████▏                          | 3.9 MB 5.3 MB/s eta 0:00:04',\n",
              " '\\x1b[K     |█████▏                          | 3.9 MB 5.3 MB/s eta 0:00:04',\n",
              " '\\x1b[K     |█████▎                          | 4.0 MB 5.3 MB/s eta 0:00:04',\n",
              " '\\x1b[K     |█████▎                          | 4.0 MB 5.3 MB/s eta 0:00:04',\n",
              " '\\x1b[K     |█████▎                          | 4.0 MB 5.3 MB/s eta 0:00:04',\n",
              " '\\x1b[K     |█████▎                          | 4.0 MB 5.3 MB/s eta 0:00:04',\n",
              " '\\x1b[K     |█████▎                          | 4.0 MB 5.3 MB/s eta 0:00:04',\n",
              " '\\x1b[K     |█████▎                          | 4.0 MB 5.3 MB/s eta 0:00:04',\n",
              " '\\x1b[K     |█████▎                          | 4.0 MB 5.3 MB/s eta 0:00:04',\n",
              " '\\x1b[K     |█████▎                          | 4.0 MB 5.3 MB/s eta 0:00:04',\n",
              " '\\x1b[K     |█████▍                          | 4.0 MB 5.3 MB/s eta 0:00:04',\n",
              " '\\x1b[K     |█████▍                          | 4.0 MB 5.3 MB/s eta 0:00:04',\n",
              " '\\x1b[K     |█████▍                          | 4.1 MB 5.3 MB/s eta 0:00:04',\n",
              " '\\x1b[K     |█████▍                          | 4.1 MB 5.3 MB/s eta 0:00:04',\n",
              " '\\x1b[K     |█████▍                          | 4.1 MB 5.3 MB/s eta 0:00:04',\n",
              " '\\x1b[K     |█████▍                          | 4.1 MB 5.3 MB/s eta 0:00:04',\n",
              " '\\x1b[K     |█████▍                          | 4.1 MB 5.3 MB/s eta 0:00:04',\n",
              " '\\x1b[K     |█████▍                          | 4.1 MB 5.3 MB/s eta 0:00:04',\n",
              " '\\x1b[K     |█████▌                          | 4.1 MB 5.3 MB/s eta 0:00:04',\n",
              " '\\x1b[K     |█████▌                          | 4.1 MB 5.3 MB/s eta 0:00:04',\n",
              " '\\x1b[K     |█████▌                          | 4.1 MB 5.3 MB/s eta 0:00:04',\n",
              " '\\x1b[K     |█████▌                          | 4.1 MB 5.3 MB/s eta 0:00:04',\n",
              " '\\x1b[K     |█████▌                          | 4.2 MB 5.3 MB/s eta 0:00:04',\n",
              " '\\x1b[K     |█████▌                          | 4.2 MB 5.3 MB/s eta 0:00:04',\n",
              " '\\x1b[K     |█████▌                          | 4.2 MB 5.3 MB/s eta 0:00:04',\n",
              " '\\x1b[K     |█████▌                          | 4.2 MB 5.3 MB/s eta 0:00:04',\n",
              " '\\x1b[K     |█████▌                          | 4.2 MB 5.3 MB/s eta 0:00:04',\n",
              " '\\x1b[K     |█████▋                          | 4.2 MB 5.3 MB/s eta 0:00:04',\n",
              " '\\x1b[K     |█████▋                          | 4.2 MB 5.3 MB/s eta 0:00:04',\n",
              " '\\x1b[K     |█████▋                          | 4.2 MB 5.3 MB/s eta 0:00:04',\n",
              " '\\x1b[K     |█████▋                          | 4.2 MB 5.3 MB/s eta 0:00:04',\n",
              " '\\x1b[K     |█████▋                          | 4.2 MB 5.3 MB/s eta 0:00:04',\n",
              " '\\x1b[K     |█████▋                          | 4.3 MB 5.3 MB/s eta 0:00:04',\n",
              " '\\x1b[K     |█████▋                          | 4.3 MB 5.3 MB/s eta 0:00:04',\n",
              " '\\x1b[K     |█████▋                          | 4.3 MB 5.3 MB/s eta 0:00:04',\n",
              " '\\x1b[K     |█████▊                          | 4.3 MB 5.3 MB/s eta 0:00:04',\n",
              " '\\x1b[K     |█████▊                          | 4.3 MB 5.3 MB/s eta 0:00:04',\n",
              " '\\x1b[K     |█████▊                          | 4.3 MB 5.3 MB/s eta 0:00:04',\n",
              " '\\x1b[K     |█████▊                          | 4.3 MB 5.3 MB/s eta 0:00:04',\n",
              " '\\x1b[K     |█████▊                          | 4.3 MB 5.3 MB/s eta 0:00:04',\n",
              " '\\x1b[K     |█████▊                          | 4.3 MB 5.3 MB/s eta 0:00:04',\n",
              " '\\x1b[K     |█████▊                          | 4.4 MB 5.3 MB/s eta 0:00:04',\n",
              " '\\x1b[K     |█████▊                          | 4.4 MB 5.3 MB/s eta 0:00:04',\n",
              " '\\x1b[K     |█████▉                          | 4.4 MB 5.3 MB/s eta 0:00:04',\n",
              " '\\x1b[K     |█████▉                          | 4.4 MB 5.3 MB/s eta 0:00:04',\n",
              " '\\x1b[K     |█████▉                          | 4.4 MB 5.3 MB/s eta 0:00:04',\n",
              " '\\x1b[K     |█████▉                          | 4.4 MB 5.3 MB/s eta 0:00:04',\n",
              " '\\x1b[K     |█████▉                          | 4.4 MB 5.3 MB/s eta 0:00:04',\n",
              " '\\x1b[K     |█████▉                          | 4.4 MB 5.3 MB/s eta 0:00:04',\n",
              " '\\x1b[K     |█████▉                          | 4.4 MB 5.3 MB/s eta 0:00:04',\n",
              " '\\x1b[K     |█████▉                          | 4.4 MB 5.3 MB/s eta 0:00:04',\n",
              " '\\x1b[K     |██████                          | 4.5 MB 5.3 MB/s eta 0:00:04',\n",
              " '\\x1b[K     |██████                          | 4.5 MB 5.3 MB/s eta 0:00:04',\n",
              " '\\x1b[K     |██████                          | 4.5 MB 5.3 MB/s eta 0:00:04',\n",
              " '\\x1b[K     |██████                          | 4.5 MB 5.3 MB/s eta 0:00:04',\n",
              " '\\x1b[K     |██████                          | 4.5 MB 5.3 MB/s eta 0:00:04',\n",
              " '\\x1b[K     |██████                          | 4.5 MB 5.3 MB/s eta 0:00:04',\n",
              " '\\x1b[K     |██████                          | 4.5 MB 5.3 MB/s eta 0:00:04',\n",
              " '\\x1b[K     |██████                          | 4.5 MB 5.3 MB/s eta 0:00:04',\n",
              " '\\x1b[K     |██████                          | 4.5 MB 5.3 MB/s eta 0:00:04',\n",
              " '\\x1b[K     |██████                          | 4.5 MB 5.3 MB/s eta 0:00:04',\n",
              " '\\x1b[K     |██████                          | 4.6 MB 5.3 MB/s eta 0:00:04',\n",
              " '\\x1b[K     |██████                          | 4.6 MB 5.3 MB/s eta 0:00:04',\n",
              " '\\x1b[K     |██████                          | 4.6 MB 5.3 MB/s eta 0:00:04',\n",
              " '\\x1b[K     |██████                          | 4.6 MB 5.3 MB/s eta 0:00:04',\n",
              " '\\x1b[K     |██████                          | 4.6 MB 5.3 MB/s eta 0:00:04',\n",
              " '\\x1b[K     |██████                          | 4.6 MB 5.3 MB/s eta 0:00:04',\n",
              " '\\x1b[K     |██████                          | 4.6 MB 5.3 MB/s eta 0:00:04',\n",
              " '\\x1b[K     |██████▏                         | 4.6 MB 5.3 MB/s eta 0:00:04',\n",
              " '\\x1b[K     |██████▏                         | 4.6 MB 5.3 MB/s eta 0:00:04',\n",
              " '\\x1b[K     |██████▏                         | 4.6 MB 5.3 MB/s eta 0:00:04',\n",
              " '\\x1b[K     |██████▏                         | 4.7 MB 5.3 MB/s eta 0:00:04',\n",
              " '\\x1b[K     |██████▏                         | 4.7 MB 5.3 MB/s eta 0:00:04',\n",
              " '\\x1b[K     |██████▏                         | 4.7 MB 5.3 MB/s eta 0:00:04',\n",
              " '\\x1b[K     |██████▏                         | 4.7 MB 5.3 MB/s eta 0:00:04',\n",
              " '\\x1b[K     |██████▏                         | 4.7 MB 5.3 MB/s eta 0:00:04',\n",
              " '\\x1b[K     |██████▎                         | 4.7 MB 5.3 MB/s eta 0:00:04',\n",
              " '\\x1b[K     |██████▎                         | 4.7 MB 5.3 MB/s eta 0:00:04',\n",
              " '\\x1b[K     |██████▎                         | 4.7 MB 5.3 MB/s eta 0:00:04',\n",
              " '\\x1b[K     |██████▎                         | 4.7 MB 5.3 MB/s eta 0:00:04',\n",
              " '\\x1b[K     |██████▎                         | 4.8 MB 5.3 MB/s eta 0:00:04',\n",
              " '\\x1b[K     |██████▎                         | 4.8 MB 5.3 MB/s eta 0:00:04',\n",
              " '\\x1b[K     |██████▎                         | 4.8 MB 5.3 MB/s eta 0:00:04',\n",
              " '\\x1b[K     |██████▎                         | 4.8 MB 5.3 MB/s eta 0:00:04',\n",
              " '\\x1b[K     |██████▍                         | 4.8 MB 5.3 MB/s eta 0:00:04',\n",
              " '\\x1b[K     |██████▍                         | 4.8 MB 5.3 MB/s eta 0:00:04',\n",
              " '\\x1b[K     |██████▍                         | 4.8 MB 5.3 MB/s eta 0:00:04',\n",
              " '\\x1b[K     |██████▍                         | 4.8 MB 5.3 MB/s eta 0:00:04',\n",
              " '\\x1b[K     |██████▍                         | 4.8 MB 5.3 MB/s eta 0:00:04',\n",
              " '\\x1b[K     |██████▍                         | 4.8 MB 5.3 MB/s eta 0:00:04',\n",
              " '\\x1b[K     |██████▍                         | 4.9 MB 5.3 MB/s eta 0:00:04',\n",
              " '\\x1b[K     |██████▍                         | 4.9 MB 5.3 MB/s eta 0:00:04',\n",
              " '\\x1b[K     |██████▌                         | 4.9 MB 5.3 MB/s eta 0:00:04',\n",
              " '\\x1b[K     |██████▌                         | 4.9 MB 5.3 MB/s eta 0:00:04',\n",
              " '\\x1b[K     |██████▌                         | 4.9 MB 5.3 MB/s eta 0:00:04',\n",
              " '\\x1b[K     |██████▌                         | 4.9 MB 5.3 MB/s eta 0:00:04',\n",
              " '\\x1b[K     |██████▌                         | 4.9 MB 5.3 MB/s eta 0:00:04',\n",
              " '\\x1b[K     |██████▌                         | 4.9 MB 5.3 MB/s eta 0:00:04',\n",
              " '\\x1b[K     |██████▌                         | 4.9 MB 5.3 MB/s eta 0:00:04',\n",
              " '\\x1b[K     |██████▌                         | 4.9 MB 5.3 MB/s eta 0:00:04',\n",
              " '\\x1b[K     |██████▌                         | 5.0 MB 5.3 MB/s eta 0:00:04',\n",
              " '\\x1b[K     |██████▋                         | 5.0 MB 5.3 MB/s eta 0:00:04',\n",
              " '\\x1b[K     |██████▋                         | 5.0 MB 5.3 MB/s eta 0:00:04',\n",
              " '\\x1b[K     |██████▋                         | 5.0 MB 5.3 MB/s eta 0:00:04',\n",
              " '\\x1b[K     |██████▋                         | 5.0 MB 5.3 MB/s eta 0:00:04',\n",
              " '\\x1b[K     |██████▋                         | 5.0 MB 5.3 MB/s eta 0:00:04',\n",
              " '\\x1b[K     |██████▋                         | 5.0 MB 5.3 MB/s eta 0:00:04',\n",
              " '\\x1b[K     |██████▋                         | 5.0 MB 5.3 MB/s eta 0:00:04',\n",
              " '\\x1b[K     |██████▋                         | 5.0 MB 5.3 MB/s eta 0:00:04',\n",
              " '\\x1b[K     |██████▊                         | 5.0 MB 5.3 MB/s eta 0:00:04',\n",
              " '\\x1b[K     |██████▊                         | 5.1 MB 5.3 MB/s eta 0:00:04',\n",
              " '\\x1b[K     |██████▊                         | 5.1 MB 5.3 MB/s eta 0:00:04',\n",
              " '\\x1b[K     |██████▊                         | 5.1 MB 5.3 MB/s eta 0:00:04',\n",
              " '\\x1b[K     |██████▊                         | 5.1 MB 5.3 MB/s eta 0:00:04',\n",
              " '\\x1b[K     |██████▊                         | 5.1 MB 5.3 MB/s eta 0:00:04',\n",
              " '\\x1b[K     |██████▊                         | 5.1 MB 5.3 MB/s eta 0:00:04',\n",
              " '\\x1b[K     |██████▊                         | 5.1 MB 5.3 MB/s eta 0:00:04',\n",
              " '\\x1b[K     |██████▉                         | 5.1 MB 5.3 MB/s eta 0:00:04',\n",
              " '\\x1b[K     |██████▉                         | 5.1 MB 5.3 MB/s eta 0:00:04',\n",
              " '\\x1b[K     |██████▉                         | 5.2 MB 5.3 MB/s eta 0:00:04',\n",
              " '\\x1b[K     |██████▉                         | 5.2 MB 5.3 MB/s eta 0:00:04',\n",
              " '\\x1b[K     |██████▉                         | 5.2 MB 5.3 MB/s eta 0:00:04',\n",
              " '\\x1b[K     |██████▉                         | 5.2 MB 5.3 MB/s eta 0:00:04',\n",
              " '\\x1b[K     |██████▉                         | 5.2 MB 5.3 MB/s eta 0:00:04',\n",
              " '\\x1b[K     |██████▉                         | 5.2 MB 5.3 MB/s eta 0:00:04',\n",
              " '\\x1b[K     |███████                         | 5.2 MB 5.3 MB/s eta 0:00:04',\n",
              " '\\x1b[K     |███████                         | 5.2 MB 5.3 MB/s eta 0:00:04',\n",
              " '\\x1b[K     |███████                         | 5.2 MB 5.3 MB/s eta 0:00:04',\n",
              " '\\x1b[K     |███████                         | 5.2 MB 5.3 MB/s eta 0:00:04',\n",
              " '\\x1b[K     |███████                         | 5.3 MB 5.3 MB/s eta 0:00:04',\n",
              " '\\x1b[K     |███████                         | 5.3 MB 5.3 MB/s eta 0:00:04',\n",
              " '\\x1b[K     |███████                         | 5.3 MB 5.3 MB/s eta 0:00:04',\n",
              " '\\x1b[K     |███████                         | 5.3 MB 5.3 MB/s eta 0:00:04',\n",
              " '\\x1b[K     |███████                         | 5.3 MB 5.3 MB/s eta 0:00:04',\n",
              " '\\x1b[K     |███████                         | 5.3 MB 5.3 MB/s eta 0:00:04',\n",
              " '\\x1b[K     |███████                         | 5.3 MB 5.3 MB/s eta 0:00:04',\n",
              " '\\x1b[K     |███████                         | 5.3 MB 5.3 MB/s eta 0:00:04',\n",
              " '\\x1b[K     |███████                         | 5.3 MB 5.3 MB/s eta 0:00:04',\n",
              " '\\x1b[K     |███████                         | 5.3 MB 5.3 MB/s eta 0:00:04',\n",
              " '\\x1b[K     |███████                         | 5.4 MB 5.3 MB/s eta 0:00:04',\n",
              " '\\x1b[K     |███████                         | 5.4 MB 5.3 MB/s eta 0:00:04',\n",
              " '\\x1b[K     |███████                         | 5.4 MB 5.3 MB/s eta 0:00:04',\n",
              " '\\x1b[K     |███████▏                        | 5.4 MB 5.3 MB/s eta 0:00:04',\n",
              " '\\x1b[K     |███████▏                        | 5.4 MB 5.3 MB/s eta 0:00:04',\n",
              " '\\x1b[K     |███████▏                        | 5.4 MB 5.3 MB/s eta 0:00:04',\n",
              " '\\x1b[K     |███████▏                        | 5.4 MB 5.3 MB/s eta 0:00:04',\n",
              " '\\x1b[K     |███████▏                        | 5.4 MB 5.3 MB/s eta 0:00:04',\n",
              " '\\x1b[K     |███████▏                        | 5.4 MB 5.3 MB/s eta 0:00:04',\n",
              " '\\x1b[K     |███████▏                        | 5.4 MB 5.3 MB/s eta 0:00:04',\n",
              " '\\x1b[K     |███████▏                        | 5.5 MB 5.3 MB/s eta 0:00:04',\n",
              " '\\x1b[K     |███████▎                        | 5.5 MB 5.3 MB/s eta 0:00:04',\n",
              " '\\x1b[K     |███████▎                        | 5.5 MB 5.3 MB/s eta 0:00:04',\n",
              " '\\x1b[K     |███████▎                        | 5.5 MB 5.3 MB/s eta 0:00:04',\n",
              " '\\x1b[K     |███████▎                        | 5.5 MB 5.3 MB/s eta 0:00:04',\n",
              " '\\x1b[K     |███████▎                        | 5.5 MB 5.3 MB/s eta 0:00:04',\n",
              " '\\x1b[K     |███████▎                        | 5.5 MB 5.3 MB/s eta 0:00:04',\n",
              " '\\x1b[K     |███████▎                        | 5.5 MB 5.3 MB/s eta 0:00:04',\n",
              " '\\x1b[K     |███████▎                        | 5.5 MB 5.3 MB/s eta 0:00:04',\n",
              " '\\x1b[K     |███████▍                        | 5.6 MB 5.3 MB/s eta 0:00:04',\n",
              " '\\x1b[K     |███████▍                        | 5.6 MB 5.3 MB/s eta 0:00:04',\n",
              " '\\x1b[K     |███████▍                        | 5.6 MB 5.3 MB/s eta 0:00:04',\n",
              " '\\x1b[K     |███████▍                        | 5.6 MB 5.3 MB/s eta 0:00:04',\n",
              " '\\x1b[K     |███████▍                        | 5.6 MB 5.3 MB/s eta 0:00:04',\n",
              " '\\x1b[K     |███████▍                        | 5.6 MB 5.3 MB/s eta 0:00:04',\n",
              " '\\x1b[K     |███████▍                        | 5.6 MB 5.3 MB/s eta 0:00:04',\n",
              " '\\x1b[K     |███████▍                        | 5.6 MB 5.3 MB/s eta 0:00:04',\n",
              " '\\x1b[K     |███████▌                        | 5.6 MB 5.3 MB/s eta 0:00:04',\n",
              " '\\x1b[K     |███████▌                        | 5.6 MB 5.3 MB/s eta 0:00:04',\n",
              " '\\x1b[K     |███████▌                        | 5.7 MB 5.3 MB/s eta 0:00:04',\n",
              " '\\x1b[K     |███████▌                        | 5.7 MB 5.3 MB/s eta 0:00:04',\n",
              " '\\x1b[K     |███████▌                        | 5.7 MB 5.3 MB/s eta 0:00:04',\n",
              " '\\x1b[K     |███████▌                        | 5.7 MB 5.3 MB/s eta 0:00:04',\n",
              " '\\x1b[K     |███████▌                        | 5.7 MB 5.3 MB/s eta 0:00:04',\n",
              " '\\x1b[K     |███████▌                        | 5.7 MB 5.3 MB/s eta 0:00:04',\n",
              " '\\x1b[K     |███████▋                        | 5.7 MB 5.3 MB/s eta 0:00:04',\n",
              " '\\x1b[K     |███████▋                        | 5.7 MB 5.3 MB/s eta 0:00:04',\n",
              " '\\x1b[K     |███████▋                        | 5.7 MB 5.3 MB/s eta 0:00:04',\n",
              " '\\x1b[K     |███████▋                        | 5.7 MB 5.3 MB/s eta 0:00:04',\n",
              " '\\x1b[K     |███████▋                        | 5.8 MB 5.3 MB/s eta 0:00:04',\n",
              " '\\x1b[K     |███████▋                        | 5.8 MB 5.3 MB/s eta 0:00:04',\n",
              " '\\x1b[K     |███████▋                        | 5.8 MB 5.3 MB/s eta 0:00:04',\n",
              " '\\x1b[K     |███████▋                        | 5.8 MB 5.3 MB/s eta 0:00:04',\n",
              " '\\x1b[K     |███████▋                        | 5.8 MB 5.3 MB/s eta 0:00:04',\n",
              " '\\x1b[K     |███████▊                        | 5.8 MB 5.3 MB/s eta 0:00:04',\n",
              " '\\x1b[K     |███████▊                        | 5.8 MB 5.3 MB/s eta 0:00:04',\n",
              " '\\x1b[K     |███████▊                        | 5.8 MB 5.3 MB/s eta 0:00:04',\n",
              " '\\x1b[K     |███████▊                        | 5.8 MB 5.3 MB/s eta 0:00:04',\n",
              " '\\x1b[K     |███████▊                        | 5.8 MB 5.3 MB/s eta 0:00:04',\n",
              " '\\x1b[K     |███████▊                        | 5.9 MB 5.3 MB/s eta 0:00:04',\n",
              " '\\x1b[K     |███████▊                        | 5.9 MB 5.3 MB/s eta 0:00:04',\n",
              " '\\x1b[K     |███████▊                        | 5.9 MB 5.3 MB/s eta 0:00:04',\n",
              " '\\x1b[K     |███████▉                        | 5.9 MB 5.3 MB/s eta 0:00:04',\n",
              " '\\x1b[K     |███████▉                        | 5.9 MB 5.3 MB/s eta 0:00:04',\n",
              " '\\x1b[K     |███████▉                        | 5.9 MB 5.3 MB/s eta 0:00:04',\n",
              " '\\x1b[K     |███████▉                        | 5.9 MB 5.3 MB/s eta 0:00:04',\n",
              " '\\x1b[K     |███████▉                        | 5.9 MB 5.3 MB/s eta 0:00:04',\n",
              " '\\x1b[K     |███████▉                        | 5.9 MB 5.3 MB/s eta 0:00:04',\n",
              " '\\x1b[K     |███████▉                        | 5.9 MB 5.3 MB/s eta 0:00:04',\n",
              " '\\x1b[K     |███████▉                        | 6.0 MB 5.3 MB/s eta 0:00:04',\n",
              " '\\x1b[K     |████████                        | 6.0 MB 5.3 MB/s eta 0:00:04',\n",
              " '\\x1b[K     |████████                        | 6.0 MB 5.3 MB/s eta 0:00:04',\n",
              " '\\x1b[K     |████████                        | 6.0 MB 5.3 MB/s eta 0:00:04',\n",
              " '\\x1b[K     |████████                        | 6.0 MB 5.3 MB/s eta 0:00:04',\n",
              " '\\x1b[K     |████████                        | 6.0 MB 5.3 MB/s eta 0:00:04',\n",
              " '\\x1b[K     |████████                        | 6.0 MB 5.3 MB/s eta 0:00:04',\n",
              " '\\x1b[K     |████████                        | 6.0 MB 5.3 MB/s eta 0:00:04',\n",
              " '\\x1b[K     |████████                        | 6.0 MB 5.3 MB/s eta 0:00:04',\n",
              " '\\x1b[K     |████████                        | 6.1 MB 5.3 MB/s eta 0:00:04',\n",
              " '\\x1b[K     |████████                        | 6.1 MB 5.3 MB/s eta 0:00:04',\n",
              " '\\x1b[K     |████████                        | 6.1 MB 5.3 MB/s eta 0:00:04',\n",
              " '\\x1b[K     |████████                        | 6.1 MB 5.3 MB/s eta 0:00:04',\n",
              " '\\x1b[K     |████████                        | 6.1 MB 5.3 MB/s eta 0:00:04',\n",
              " '\\x1b[K     |████████                        | 6.1 MB 5.3 MB/s eta 0:00:04',\n",
              " '\\x1b[K     |████████                        | 6.1 MB 5.3 MB/s eta 0:00:04',\n",
              " '\\x1b[K     |████████                        | 6.1 MB 5.3 MB/s eta 0:00:04',\n",
              " '\\x1b[K     |████████▏                       | 6.1 MB 5.3 MB/s eta 0:00:04',\n",
              " '\\x1b[K     |████████▏                       | 6.1 MB 5.3 MB/s eta 0:00:04',\n",
              " '\\x1b[K     |████████▏                       | 6.2 MB 5.3 MB/s eta 0:00:04',\n",
              " '\\x1b[K     |████████▏                       | 6.2 MB 5.3 MB/s eta 0:00:04',\n",
              " '\\x1b[K     |████████▏                       | 6.2 MB 5.3 MB/s eta 0:00:04',\n",
              " '\\x1b[K     |████████▏                       | 6.2 MB 5.3 MB/s eta 0:00:04',\n",
              " '\\x1b[K     |████████▏                       | 6.2 MB 5.3 MB/s eta 0:00:04',\n",
              " '\\x1b[K     |████████▏                       | 6.2 MB 5.3 MB/s eta 0:00:04',\n",
              " '\\x1b[K     |████████▏                       | 6.2 MB 5.3 MB/s eta 0:00:04',\n",
              " '\\x1b[K     |████████▎                       | 6.2 MB 5.3 MB/s eta 0:00:04',\n",
              " '\\x1b[K     |████████▎                       | 6.2 MB 5.3 MB/s eta 0:00:04',\n",
              " '\\x1b[K     |████████▎                       | 6.2 MB 5.3 MB/s eta 0:00:04',\n",
              " '\\x1b[K     |████████▎                       | 6.3 MB 5.3 MB/s eta 0:00:04',\n",
              " '\\x1b[K     |████████▎                       | 6.3 MB 5.3 MB/s eta 0:00:04',\n",
              " '\\x1b[K     |████████▎                       | 6.3 MB 5.3 MB/s eta 0:00:04',\n",
              " '\\x1b[K     |████████▎                       | 6.3 MB 5.3 MB/s eta 0:00:04',\n",
              " '\\x1b[K     |████████▎                       | 6.3 MB 5.3 MB/s eta 0:00:04',\n",
              " '\\x1b[K     |████████▍                       | 6.3 MB 5.3 MB/s eta 0:00:04',\n",
              " '\\x1b[K     |████████▍                       | 6.3 MB 5.3 MB/s eta 0:00:04',\n",
              " '\\x1b[K     |████████▍                       | 6.3 MB 5.3 MB/s eta 0:00:04',\n",
              " '\\x1b[K     |████████▍                       | 6.3 MB 5.3 MB/s eta 0:00:04',\n",
              " '\\x1b[K     |████████▍                       | 6.3 MB 5.3 MB/s eta 0:00:04',\n",
              " '\\x1b[K     |████████▍                       | 6.4 MB 5.3 MB/s eta 0:00:04',\n",
              " '\\x1b[K     |████████▍                       | 6.4 MB 5.3 MB/s eta 0:00:04',\n",
              " '\\x1b[K     |████████▍                       | 6.4 MB 5.3 MB/s eta 0:00:04',\n",
              " '\\x1b[K     |████████▌                       | 6.4 MB 5.3 MB/s eta 0:00:04',\n",
              " '\\x1b[K     |████████▌                       | 6.4 MB 5.3 MB/s eta 0:00:04',\n",
              " '\\x1b[K     |████████▌                       | 6.4 MB 5.3 MB/s eta 0:00:04',\n",
              " '\\x1b[K     |████████▌                       | 6.4 MB 5.3 MB/s eta 0:00:04',\n",
              " '\\x1b[K     |████████▌                       | 6.4 MB 5.3 MB/s eta 0:00:04',\n",
              " '\\x1b[K     |████████▌                       | 6.4 MB 5.3 MB/s eta 0:00:04',\n",
              " '\\x1b[K     |████████▌                       | 6.5 MB 5.3 MB/s eta 0:00:04',\n",
              " '\\x1b[K     |████████▌                       | 6.5 MB 5.3 MB/s eta 0:00:04',\n",
              " '\\x1b[K     |████████▋                       | 6.5 MB 5.3 MB/s eta 0:00:04',\n",
              " '\\x1b[K     |████████▋                       | 6.5 MB 5.3 MB/s eta 0:00:04',\n",
              " '\\x1b[K     |████████▋                       | 6.5 MB 5.3 MB/s eta 0:00:04',\n",
              " '\\x1b[K     |████████▋                       | 6.5 MB 5.3 MB/s eta 0:00:04',\n",
              " '\\x1b[K     |████████▋                       | 6.5 MB 5.3 MB/s eta 0:00:04',\n",
              " '\\x1b[K     |████████▋                       | 6.5 MB 5.3 MB/s eta 0:00:04',\n",
              " '\\x1b[K     |████████▋                       | 6.5 MB 5.3 MB/s eta 0:00:04',\n",
              " '\\x1b[K     |████████▋                       | 6.5 MB 5.3 MB/s eta 0:00:04',\n",
              " '\\x1b[K     |████████▊                       | 6.6 MB 5.3 MB/s eta 0:00:04',\n",
              " '\\x1b[K     |████████▊                       | 6.6 MB 5.3 MB/s eta 0:00:04',\n",
              " '\\x1b[K     |████████▊                       | 6.6 MB 5.3 MB/s eta 0:00:04',\n",
              " '\\x1b[K     |████████▊                       | 6.6 MB 5.3 MB/s eta 0:00:04',\n",
              " '\\x1b[K     |████████▊                       | 6.6 MB 5.3 MB/s eta 0:00:04',\n",
              " '\\x1b[K     |████████▊                       | 6.6 MB 5.3 MB/s eta 0:00:04',\n",
              " '\\x1b[K     |████████▊                       | 6.6 MB 5.3 MB/s eta 0:00:04',\n",
              " '\\x1b[K     |████████▊                       | 6.6 MB 5.3 MB/s eta 0:00:04',\n",
              " '\\x1b[K     |████████▊                       | 6.6 MB 5.3 MB/s eta 0:00:04',\n",
              " '\\x1b[K     |████████▉                       | 6.6 MB 5.3 MB/s eta 0:00:04',\n",
              " '\\x1b[K     |████████▉                       | 6.7 MB 5.3 MB/s eta 0:00:04',\n",
              " '\\x1b[K     |████████▉                       | 6.7 MB 5.3 MB/s eta 0:00:04',\n",
              " '\\x1b[K     |████████▉                       | 6.7 MB 5.3 MB/s eta 0:00:04',\n",
              " '\\x1b[K     |████████▉                       | 6.7 MB 5.3 MB/s eta 0:00:04',\n",
              " '\\x1b[K     |████████▉                       | 6.7 MB 5.3 MB/s eta 0:00:04',\n",
              " '\\x1b[K     |████████▉                       | 6.7 MB 5.3 MB/s eta 0:00:04',\n",
              " '\\x1b[K     |████████▉                       | 6.7 MB 5.3 MB/s eta 0:00:04',\n",
              " '\\x1b[K     |█████████                       | 6.7 MB 5.3 MB/s eta 0:00:04',\n",
              " '\\x1b[K     |█████████                       | 6.7 MB 5.3 MB/s eta 0:00:04',\n",
              " '\\x1b[K     |█████████                       | 6.7 MB 5.3 MB/s eta 0:00:04',\n",
              " '\\x1b[K     |█████████                       | 6.8 MB 5.3 MB/s eta 0:00:04',\n",
              " '\\x1b[K     |█████████                       | 6.8 MB 5.3 MB/s eta 0:00:04',\n",
              " '\\x1b[K     |█████████                       | 6.8 MB 5.3 MB/s eta 0:00:04',\n",
              " '\\x1b[K     |█████████                       | 6.8 MB 5.3 MB/s eta 0:00:04',\n",
              " '\\x1b[K     |█████████                       | 6.8 MB 5.3 MB/s eta 0:00:04',\n",
              " '\\x1b[K     |█████████                       | 6.8 MB 5.3 MB/s eta 0:00:04',\n",
              " '\\x1b[K     |█████████                       | 6.8 MB 5.3 MB/s eta 0:00:04',\n",
              " '\\x1b[K     |█████████                       | 6.8 MB 5.3 MB/s eta 0:00:04',\n",
              " '\\x1b[K     |█████████                       | 6.8 MB 5.3 MB/s eta 0:00:04',\n",
              " '\\x1b[K     |█████████                       | 6.9 MB 5.3 MB/s eta 0:00:04',\n",
              " '\\x1b[K     |█████████                       | 6.9 MB 5.3 MB/s eta 0:00:04',\n",
              " '\\x1b[K     |█████████                       | 6.9 MB 5.3 MB/s eta 0:00:04',\n",
              " '\\x1b[K     |█████████                       | 6.9 MB 5.3 MB/s eta 0:00:04',\n",
              " '\\x1b[K     |█████████▏                      | 6.9 MB 5.3 MB/s eta 0:00:04',\n",
              " '\\x1b[K     |█████████▏                      | 6.9 MB 5.3 MB/s eta 0:00:04',\n",
              " '\\x1b[K     |█████████▏                      | 6.9 MB 5.3 MB/s eta 0:00:04',\n",
              " '\\x1b[K     |█████████▏                      | 6.9 MB 5.3 MB/s eta 0:00:04',\n",
              " '\\x1b[K     |█████████▏                      | 6.9 MB 5.3 MB/s eta 0:00:04',\n",
              " '\\x1b[K     |█████████▏                      | 6.9 MB 5.3 MB/s eta 0:00:04',\n",
              " '\\x1b[K     |█████████▏                      | 7.0 MB 5.3 MB/s eta 0:00:04',\n",
              " '\\x1b[K     |█████████▏                      | 7.0 MB 5.3 MB/s eta 0:00:04',\n",
              " '\\x1b[K     |█████████▎                      | 7.0 MB 5.3 MB/s eta 0:00:04',\n",
              " '\\x1b[K     |█████████▎                      | 7.0 MB 5.3 MB/s eta 0:00:04',\n",
              " '\\x1b[K     |█████████▎                      | 7.0 MB 5.3 MB/s eta 0:00:04',\n",
              " '\\x1b[K     |█████████▎                      | 7.0 MB 5.3 MB/s eta 0:00:04',\n",
              " '\\x1b[K     |█████████▎                      | 7.0 MB 5.3 MB/s eta 0:00:04',\n",
              " '\\x1b[K     |█████████▎                      | 7.0 MB 5.3 MB/s eta 0:00:04',\n",
              " '\\x1b[K     |█████████▎                      | 7.0 MB 5.3 MB/s eta 0:00:04',\n",
              " '\\x1b[K     |█████████▎                      | 7.0 MB 5.3 MB/s eta 0:00:04',\n",
              " '\\x1b[K     |█████████▎                      | 7.1 MB 5.3 MB/s eta 0:00:04',\n",
              " '\\x1b[K     |█████████▍                      | 7.1 MB 5.3 MB/s eta 0:00:04',\n",
              " '\\x1b[K     |█████████▍                      | 7.1 MB 5.3 MB/s eta 0:00:04',\n",
              " '\\x1b[K     |█████████▍                      | 7.1 MB 5.3 MB/s eta 0:00:04',\n",
              " '\\x1b[K     |█████████▍                      | 7.1 MB 5.3 MB/s eta 0:00:04',\n",
              " '\\x1b[K     |█████████▍                      | 7.1 MB 5.3 MB/s eta 0:00:04',\n",
              " '\\x1b[K     |█████████▍                      | 7.1 MB 5.3 MB/s eta 0:00:04',\n",
              " '\\x1b[K     |█████████▍                      | 7.1 MB 5.3 MB/s eta 0:00:04',\n",
              " '\\x1b[K     |█████████▍                      | 7.1 MB 5.3 MB/s eta 0:00:04',\n",
              " '\\x1b[K     |█████████▌                      | 7.1 MB 5.3 MB/s eta 0:00:04',\n",
              " '\\x1b[K     |█████████▌                      | 7.2 MB 5.3 MB/s eta 0:00:04',\n",
              " '\\x1b[K     |█████████▌                      | 7.2 MB 5.3 MB/s eta 0:00:04',\n",
              " '\\x1b[K     |█████████▌                      | 7.2 MB 5.3 MB/s eta 0:00:04',\n",
              " '\\x1b[K     |█████████▌                      | 7.2 MB 5.3 MB/s eta 0:00:04',\n",
              " '\\x1b[K     |█████████▌                      | 7.2 MB 5.3 MB/s eta 0:00:04',\n",
              " '\\x1b[K     |█████████▌                      | 7.2 MB 5.3 MB/s eta 0:00:04',\n",
              " '\\x1b[K     |█████████▌                      | 7.2 MB 5.3 MB/s eta 0:00:04',\n",
              " '\\x1b[K     |█████████▋                      | 7.2 MB 5.3 MB/s eta 0:00:04',\n",
              " '\\x1b[K     |█████████▋                      | 7.2 MB 5.3 MB/s eta 0:00:04',\n",
              " '\\x1b[K     |█████████▋                      | 7.2 MB 5.3 MB/s eta 0:00:04',\n",
              " '\\x1b[K     |█████████▋                      | 7.3 MB 5.3 MB/s eta 0:00:04',\n",
              " '\\x1b[K     |█████████▋                      | 7.3 MB 5.3 MB/s eta 0:00:04',\n",
              " '\\x1b[K     |█████████▋                      | 7.3 MB 5.3 MB/s eta 0:00:04',\n",
              " '\\x1b[K     |█████████▋                      | 7.3 MB 5.3 MB/s eta 0:00:04',\n",
              " '\\x1b[K     |█████████▋                      | 7.3 MB 5.3 MB/s eta 0:00:04',\n",
              " '\\x1b[K     |█████████▊                      | 7.3 MB 5.3 MB/s eta 0:00:04',\n",
              " '\\x1b[K     |█████████▊                      | 7.3 MB 5.3 MB/s eta 0:00:04',\n",
              " '\\x1b[K     |█████████▊                      | 7.3 MB 5.3 MB/s eta 0:00:04',\n",
              " '\\x1b[K     |█████████▊                      | 7.3 MB 5.3 MB/s eta 0:00:04',\n",
              " '\\x1b[K     |█████████▊                      | 7.4 MB 5.3 MB/s eta 0:00:04',\n",
              " '\\x1b[K     |█████████▊                      | 7.4 MB 5.3 MB/s eta 0:00:04',\n",
              " '\\x1b[K     |█████████▊                      | 7.4 MB 5.3 MB/s eta 0:00:04',\n",
              " '\\x1b[K     |█████████▊                      | 7.4 MB 5.3 MB/s eta 0:00:04',\n",
              " '\\x1b[K     |█████████▉                      | 7.4 MB 5.3 MB/s eta 0:00:04',\n",
              " '\\x1b[K     |█████████▉                      | 7.4 MB 5.3 MB/s eta 0:00:04',\n",
              " '\\x1b[K     |█████████▉                      | 7.4 MB 5.3 MB/s eta 0:00:04',\n",
              " '\\x1b[K     |█████████▉                      | 7.4 MB 5.3 MB/s eta 0:00:04',\n",
              " '\\x1b[K     |█████████▉                      | 7.4 MB 5.3 MB/s eta 0:00:04',\n",
              " '\\x1b[K     |█████████▉                      | 7.4 MB 5.3 MB/s eta 0:00:04',\n",
              " '\\x1b[K     |█████████▉                      | 7.5 MB 5.3 MB/s eta 0:00:04',\n",
              " '\\x1b[K     |█████████▉                      | 7.5 MB 5.3 MB/s eta 0:00:04',\n",
              " '\\x1b[K     |█████████▉                      | 7.5 MB 5.3 MB/s eta 0:00:04',\n",
              " '\\x1b[K     |██████████                      | 7.5 MB 5.3 MB/s eta 0:00:04',\n",
              " '\\x1b[K     |██████████                      | 7.5 MB 5.3 MB/s eta 0:00:04',\n",
              " '\\x1b[K     |██████████                      | 7.5 MB 5.3 MB/s eta 0:00:04',\n",
              " '\\x1b[K     |██████████                      | 7.5 MB 5.3 MB/s eta 0:00:04',\n",
              " '\\x1b[K     |██████████                      | 7.5 MB 5.3 MB/s eta 0:00:04',\n",
              " '\\x1b[K     |██████████                      | 7.5 MB 5.3 MB/s eta 0:00:04',\n",
              " '\\x1b[K     |██████████                      | 7.5 MB 5.3 MB/s eta 0:00:04',\n",
              " '\\x1b[K     |██████████                      | 7.6 MB 5.3 MB/s eta 0:00:04',\n",
              " '\\x1b[K     |██████████                      | 7.6 MB 5.3 MB/s eta 0:00:04',\n",
              " '\\x1b[K     |██████████                      | 7.6 MB 5.3 MB/s eta 0:00:04',\n",
              " '\\x1b[K     |██████████                      | 7.6 MB 5.3 MB/s eta 0:00:04',\n",
              " '\\x1b[K     |██████████                      | 7.6 MB 5.3 MB/s eta 0:00:04',\n",
              " '\\x1b[K     |██████████                      | 7.6 MB 5.3 MB/s eta 0:00:04',\n",
              " '\\x1b[K     |██████████                      | 7.6 MB 5.3 MB/s eta 0:00:04',\n",
              " '\\x1b[K     |██████████                      | 7.6 MB 5.3 MB/s eta 0:00:04',\n",
              " '\\x1b[K     |██████████                      | 7.6 MB 5.3 MB/s eta 0:00:04',\n",
              " '\\x1b[K     |██████████▏                     | 7.6 MB 5.3 MB/s eta 0:00:04',\n",
              " '\\x1b[K     |██████████▏                     | 7.7 MB 5.3 MB/s eta 0:00:04',\n",
              " '\\x1b[K     |██████████▏                     | 7.7 MB 5.3 MB/s eta 0:00:04',\n",
              " '\\x1b[K     |██████████▏                     | 7.7 MB 5.3 MB/s eta 0:00:04',\n",
              " '\\x1b[K     |██████████▏                     | 7.7 MB 5.3 MB/s eta 0:00:04',\n",
              " '\\x1b[K     |██████████▏                     | 7.7 MB 5.3 MB/s eta 0:00:04',\n",
              " '\\x1b[K     |██████████▏                     | 7.7 MB 5.3 MB/s eta 0:00:04',\n",
              " '\\x1b[K     |██████████▏                     | 7.7 MB 5.3 MB/s eta 0:00:04',\n",
              " '\\x1b[K     |██████████▎                     | 7.7 MB 5.3 MB/s eta 0:00:04',\n",
              " '\\x1b[K     |██████████▎                     | 7.7 MB 5.3 MB/s eta 0:00:04',\n",
              " '\\x1b[K     |██████████▎                     | 7.8 MB 5.3 MB/s eta 0:00:04',\n",
              " '\\x1b[K     |██████████▎                     | 7.8 MB 5.3 MB/s eta 0:00:04',\n",
              " '\\x1b[K     |██████████▎                     | 7.8 MB 5.3 MB/s eta 0:00:04',\n",
              " '\\x1b[K     |██████████▎                     | 7.8 MB 5.3 MB/s eta 0:00:04',\n",
              " '\\x1b[K     |██████████▎                     | 7.8 MB 5.3 MB/s eta 0:00:04',\n",
              " '\\x1b[K     |██████████▎                     | 7.8 MB 5.3 MB/s eta 0:00:04',\n",
              " '\\x1b[K     |██████████▍                     | 7.8 MB 5.3 MB/s eta 0:00:04',\n",
              " '\\x1b[K     |██████████▍                     | 7.8 MB 5.3 MB/s eta 0:00:04',\n",
              " '\\x1b[K     |██████████▍                     | 7.8 MB 5.3 MB/s eta 0:00:04',\n",
              " '\\x1b[K     |██████████▍                     | 7.8 MB 5.3 MB/s eta 0:00:04',\n",
              " '\\x1b[K     |██████████▍                     | 7.9 MB 5.3 MB/s eta 0:00:04',\n",
              " '\\x1b[K     |██████████▍                     | 7.9 MB 5.3 MB/s eta 0:00:04',\n",
              " '\\x1b[K     |██████████▍                     | 7.9 MB 5.3 MB/s eta 0:00:04',\n",
              " '\\x1b[K     |██████████▍                     | 7.9 MB 5.3 MB/s eta 0:00:04',\n",
              " '\\x1b[K     |██████████▍                     | 7.9 MB 5.3 MB/s eta 0:00:04',\n",
              " '\\x1b[K     |██████████▌                     | 7.9 MB 5.3 MB/s eta 0:00:04',\n",
              " '\\x1b[K     |██████████▌                     | 7.9 MB 5.3 MB/s eta 0:00:04',\n",
              " '\\x1b[K     |██████████▌                     | 7.9 MB 5.3 MB/s eta 0:00:04',\n",
              " '\\x1b[K     |██████████▌                     | 7.9 MB 5.3 MB/s eta 0:00:04',\n",
              " '\\x1b[K     |██████████▌                     | 7.9 MB 5.3 MB/s eta 0:00:04',\n",
              " '\\x1b[K     |██████████▌                     | 8.0 MB 5.3 MB/s eta 0:00:04',\n",
              " '\\x1b[K     |██████████▌                     | 8.0 MB 5.3 MB/s eta 0:00:04',\n",
              " '\\x1b[K     |██████████▌                     | 8.0 MB 5.3 MB/s eta 0:00:04',\n",
              " '\\x1b[K     |██████████▋                     | 8.0 MB 5.3 MB/s eta 0:00:04',\n",
              " '\\x1b[K     |██████████▋                     | 8.0 MB 5.3 MB/s eta 0:00:04',\n",
              " '\\x1b[K     |██████████▋                     | 8.0 MB 5.3 MB/s eta 0:00:04',\n",
              " '\\x1b[K     |██████████▋                     | 8.0 MB 5.3 MB/s eta 0:00:04',\n",
              " '\\x1b[K     |██████████▋                     | 8.0 MB 5.3 MB/s eta 0:00:04',\n",
              " '\\x1b[K     |██████████▋                     | 8.0 MB 5.3 MB/s eta 0:00:04',\n",
              " '\\x1b[K     |██████████▋                     | 8.0 MB 5.3 MB/s eta 0:00:04',\n",
              " '\\x1b[K     |██████████▋                     | 8.1 MB 5.3 MB/s eta 0:00:04',\n",
              " '\\x1b[K     |██████████▊                     | 8.1 MB 5.3 MB/s eta 0:00:04',\n",
              " '\\x1b[K     |██████████▊                     | 8.1 MB 5.3 MB/s eta 0:00:04',\n",
              " '\\x1b[K     |██████████▊                     | 8.1 MB 5.3 MB/s eta 0:00:04',\n",
              " '\\x1b[K     |██████████▊                     | 8.1 MB 5.3 MB/s eta 0:00:04',\n",
              " '\\x1b[K     |██████████▊                     | 8.1 MB 5.3 MB/s eta 0:00:04',\n",
              " '\\x1b[K     |██████████▊                     | 8.1 MB 5.3 MB/s eta 0:00:04',\n",
              " '\\x1b[K     |██████████▊                     | 8.1 MB 5.3 MB/s eta 0:00:04',\n",
              " '\\x1b[K     |██████████▊                     | 8.1 MB 5.3 MB/s eta 0:00:04',\n",
              " '\\x1b[K     |██████████▉                     | 8.2 MB 5.3 MB/s eta 0:00:04',\n",
              " '\\x1b[K     |██████████▉                     | 8.2 MB 5.3 MB/s eta 0:00:04',\n",
              " '\\x1b[K     |██████████▉                     | 8.2 MB 5.3 MB/s eta 0:00:04',\n",
              " '\\x1b[K     |██████████▉                     | 8.2 MB 5.3 MB/s eta 0:00:04',\n",
              " '\\x1b[K     |██████████▉                     | 8.2 MB 5.3 MB/s eta 0:00:04',\n",
              " '\\x1b[K     |██████████▉                     | 8.2 MB 5.3 MB/s eta 0:00:04',\n",
              " '\\x1b[K     |██████████▉                     | 8.2 MB 5.3 MB/s eta 0:00:04',\n",
              " '\\x1b[K     |██████████▉                     | 8.2 MB 5.3 MB/s eta 0:00:04',\n",
              " '\\x1b[K     |███████████                     | 8.2 MB 5.3 MB/s eta 0:00:04',\n",
              " '\\x1b[K     |███████████                     | 8.2 MB 5.3 MB/s eta 0:00:04',\n",
              " '\\x1b[K     |███████████                     | 8.3 MB 5.3 MB/s eta 0:00:04',\n",
              " '\\x1b[K     |███████████                     | 8.3 MB 5.3 MB/s eta 0:00:04',\n",
              " '\\x1b[K     |███████████                     | 8.3 MB 5.3 MB/s eta 0:00:04',\n",
              " '\\x1b[K     |███████████                     | 8.3 MB 5.3 MB/s eta 0:00:04',\n",
              " '\\x1b[K     |███████████                     | 8.3 MB 5.3 MB/s eta 0:00:04',\n",
              " '\\x1b[K     |███████████                     | 8.3 MB 5.3 MB/s eta 0:00:04',\n",
              " '\\x1b[K     |███████████                     | 8.3 MB 5.3 MB/s eta 0:00:04',\n",
              " '\\x1b[K     |███████████                     | 8.3 MB 5.3 MB/s eta 0:00:04',\n",
              " '\\x1b[K     |███████████                     | 8.3 MB 5.3 MB/s eta 0:00:04',\n",
              " '\\x1b[K     |███████████                     | 8.3 MB 5.3 MB/s eta 0:00:04',\n",
              " '\\x1b[K     |███████████                     | 8.4 MB 5.3 MB/s eta 0:00:04',\n",
              " '\\x1b[K     |███████████                     | 8.4 MB 5.3 MB/s eta 0:00:04',\n",
              " '\\x1b[K     |███████████                     | 8.4 MB 5.3 MB/s eta 0:00:04',\n",
              " '\\x1b[K     |███████████                     | 8.4 MB 5.3 MB/s eta 0:00:04',\n",
              " '\\x1b[K     |███████████                     | 8.4 MB 5.3 MB/s eta 0:00:04',\n",
              " '\\x1b[K     |███████████▏                    | 8.4 MB 5.3 MB/s eta 0:00:03',\n",
              " '\\x1b[K     |███████████▏                    | 8.4 MB 5.3 MB/s eta 0:00:03',\n",
              " '\\x1b[K     |███████████▏                    | 8.4 MB 5.3 MB/s eta 0:00:03',\n",
              " '\\x1b[K     |███████████▏                    | 8.4 MB 5.3 MB/s eta 0:00:03',\n",
              " '\\x1b[K     |███████████▏                    | 8.4 MB 5.3 MB/s eta 0:00:03',\n",
              " '\\x1b[K     |███████████▏                    | 8.5 MB 5.3 MB/s eta 0:00:03',\n",
              " '\\x1b[K     |███████████▏                    | 8.5 MB 5.3 MB/s eta 0:00:03',\n",
              " '\\x1b[K     |███████████▏                    | 8.5 MB 5.3 MB/s eta 0:00:03',\n",
              " '\\x1b[K     |███████████▎                    | 8.5 MB 5.3 MB/s eta 0:00:03',\n",
              " '\\x1b[K     |███████████▎                    | 8.5 MB 5.3 MB/s eta 0:00:03',\n",
              " '\\x1b[K     |███████████▎                    | 8.5 MB 5.3 MB/s eta 0:00:03',\n",
              " '\\x1b[K     |███████████▎                    | 8.5 MB 5.3 MB/s eta 0:00:03',\n",
              " '\\x1b[K     |███████████▎                    | 8.5 MB 5.3 MB/s eta 0:00:03',\n",
              " '\\x1b[K     |███████████▎                    | 8.5 MB 5.3 MB/s eta 0:00:03',\n",
              " '\\x1b[K     |███████████▎                    | 8.6 MB 5.3 MB/s eta 0:00:03',\n",
              " '\\x1b[K     |███████████▎                    | 8.6 MB 5.3 MB/s eta 0:00:03',\n",
              " '\\x1b[K     |███████████▍                    | 8.6 MB 5.3 MB/s eta 0:00:03',\n",
              " '\\x1b[K     |███████████▍                    | 8.6 MB 5.3 MB/s eta 0:00:03',\n",
              " '\\x1b[K     |███████████▍                    | 8.6 MB 5.3 MB/s eta 0:00:03',\n",
              " '\\x1b[K     |███████████▍                    | 8.6 MB 5.3 MB/s eta 0:00:03',\n",
              " '\\x1b[K     |███████████▍                    | 8.6 MB 5.3 MB/s eta 0:00:03',\n",
              " '\\x1b[K     |███████████▍                    | 8.6 MB 5.3 MB/s eta 0:00:03',\n",
              " '\\x1b[K     |███████████▍                    | 8.6 MB 5.3 MB/s eta 0:00:03',\n",
              " '\\x1b[K     |███████████▍                    | 8.6 MB 5.3 MB/s eta 0:00:03',\n",
              " '\\x1b[K     |███████████▍                    | 8.7 MB 5.3 MB/s eta 0:00:03',\n",
              " '\\x1b[K     |███████████▌                    | 8.7 MB 5.3 MB/s eta 0:00:03',\n",
              " '\\x1b[K     |███████████▌                    | 8.7 MB 5.3 MB/s eta 0:00:03',\n",
              " '\\x1b[K     |███████████▌                    | 8.7 MB 5.3 MB/s eta 0:00:03',\n",
              " '\\x1b[K     |███████████▌                    | 8.7 MB 5.3 MB/s eta 0:00:03',\n",
              " '\\x1b[K     |███████████▌                    | 8.7 MB 5.3 MB/s eta 0:00:03',\n",
              " '\\x1b[K     |███████████▌                    | 8.7 MB 5.3 MB/s eta 0:00:03',\n",
              " '\\x1b[K     |███████████▌                    | 8.7 MB 5.3 MB/s eta 0:00:03',\n",
              " '\\x1b[K     |███████████▌                    | 8.7 MB 5.3 MB/s eta 0:00:03',\n",
              " '\\x1b[K     |███████████▋                    | 8.7 MB 5.3 MB/s eta 0:00:03',\n",
              " '\\x1b[K     |███████████▋                    | 8.8 MB 5.3 MB/s eta 0:00:03',\n",
              " '\\x1b[K     |███████████▋                    | 8.8 MB 5.3 MB/s eta 0:00:03',\n",
              " '\\x1b[K     |███████████▋                    | 8.8 MB 5.3 MB/s eta 0:00:03',\n",
              " '\\x1b[K     |███████████▋                    | 8.8 MB 5.3 MB/s eta 0:00:03',\n",
              " '\\x1b[K     |███████████▋                    | 8.8 MB 5.3 MB/s eta 0:00:03',\n",
              " '\\x1b[K     |███████████▋                    | 8.8 MB 5.3 MB/s eta 0:00:03',\n",
              " '\\x1b[K     |███████████▋                    | 8.8 MB 5.3 MB/s eta 0:00:03',\n",
              " '\\x1b[K     |███████████▊                    | 8.8 MB 5.3 MB/s eta 0:00:03',\n",
              " '\\x1b[K     |███████████▊                    | 8.8 MB 5.3 MB/s eta 0:00:03',\n",
              " '\\x1b[K     |███████████▊                    | 8.8 MB 5.3 MB/s eta 0:00:03',\n",
              " '\\x1b[K     |███████████▊                    | 8.9 MB 5.3 MB/s eta 0:00:03',\n",
              " '\\x1b[K     |███████████▊                    | 8.9 MB 5.3 MB/s eta 0:00:03',\n",
              " '\\x1b[K     |███████████▊                    | 8.9 MB 5.3 MB/s eta 0:00:03',\n",
              " '\\x1b[K     |███████████▊                    | 8.9 MB 5.3 MB/s eta 0:00:03',\n",
              " '\\x1b[K     |███████████▊                    | 8.9 MB 5.3 MB/s eta 0:00:03',\n",
              " '\\x1b[K     |███████████▉                    | 8.9 MB 5.3 MB/s eta 0:00:03',\n",
              " '\\x1b[K     |███████████▉                    | 8.9 MB 5.3 MB/s eta 0:00:03',\n",
              " '\\x1b[K     |███████████▉                    | 8.9 MB 5.3 MB/s eta 0:00:03',\n",
              " '\\x1b[K     |███████████▉                    | 8.9 MB 5.3 MB/s eta 0:00:03',\n",
              " '\\x1b[K     |███████████▉                    | 8.9 MB 5.3 MB/s eta 0:00:03',\n",
              " '\\x1b[K     |███████████▉                    | 9.0 MB 5.3 MB/s eta 0:00:03',\n",
              " '\\x1b[K     |███████████▉                    | 9.0 MB 5.3 MB/s eta 0:00:03',\n",
              " '\\x1b[K     |███████████▉                    | 9.0 MB 5.3 MB/s eta 0:00:03',\n",
              " '\\x1b[K     |████████████                    | 9.0 MB 5.3 MB/s eta 0:00:03',\n",
              " '\\x1b[K     |████████████                    | 9.0 MB 5.3 MB/s eta 0:00:03',\n",
              " '\\x1b[K     |████████████                    | 9.0 MB 5.3 MB/s eta 0:00:03',\n",
              " '\\x1b[K     |████████████                    | 9.0 MB 5.3 MB/s eta 0:00:03',\n",
              " '\\x1b[K     |████████████                    | 9.0 MB 5.3 MB/s eta 0:00:03',\n",
              " '\\x1b[K     |████████████                    | 9.0 MB 5.3 MB/s eta 0:00:03',\n",
              " '\\x1b[K     |████████████                    | 9.1 MB 5.3 MB/s eta 0:00:03',\n",
              " '\\x1b[K     |████████████                    | 9.1 MB 5.3 MB/s eta 0:00:03',\n",
              " '\\x1b[K     |████████████                    | 9.1 MB 5.3 MB/s eta 0:00:03',\n",
              " '\\x1b[K     |████████████                    | 9.1 MB 5.3 MB/s eta 0:00:03',\n",
              " '\\x1b[K     |████████████                    | 9.1 MB 5.3 MB/s eta 0:00:03',\n",
              " '\\x1b[K     |████████████                    | 9.1 MB 5.3 MB/s eta 0:00:03',\n",
              " '\\x1b[K     |████████████                    | 9.1 MB 5.3 MB/s eta 0:00:03',\n",
              " '\\x1b[K     |████████████                    | 9.1 MB 5.3 MB/s eta 0:00:03',\n",
              " '\\x1b[K     |████████████                    | 9.1 MB 5.3 MB/s eta 0:00:03',\n",
              " '\\x1b[K     |████████████                    | 9.1 MB 5.3 MB/s eta 0:00:03',\n",
              " '\\x1b[K     |████████████                    | 9.2 MB 5.3 MB/s eta 0:00:03',\n",
              " '\\x1b[K     |████████████▏                   | 9.2 MB 5.3 MB/s eta 0:00:03',\n",
              " '\\x1b[K     |████████████▏                   | 9.2 MB 5.3 MB/s eta 0:00:03',\n",
              " '\\x1b[K     |████████████▏                   | 9.2 MB 5.3 MB/s eta 0:00:03',\n",
              " '\\x1b[K     |████████████▏                   | 9.2 MB 5.3 MB/s eta 0:00:03',\n",
              " '\\x1b[K     |████████████▏                   | 9.2 MB 5.3 MB/s eta 0:00:03',\n",
              " '\\x1b[K     |████████████▏                   | 9.2 MB 5.3 MB/s eta 0:00:03',\n",
              " '\\x1b[K     |████████████▏                   | 9.2 MB 5.3 MB/s eta 0:00:03',\n",
              " '\\x1b[K     |████████████▏                   | 9.2 MB 5.3 MB/s eta 0:00:03',\n",
              " '\\x1b[K     |████████████▎                   | 9.2 MB 5.3 MB/s eta 0:00:03',\n",
              " '\\x1b[K     |████████████▎                   | 9.3 MB 5.3 MB/s eta 0:00:03',\n",
              " '\\x1b[K     |████████████▎                   | 9.3 MB 5.3 MB/s eta 0:00:03',\n",
              " '\\x1b[K     |████████████▎                   | 9.3 MB 5.3 MB/s eta 0:00:03',\n",
              " '\\x1b[K     |████████████▎                   | 9.3 MB 5.3 MB/s eta 0:00:03',\n",
              " '\\x1b[K     |████████████▎                   | 9.3 MB 5.3 MB/s eta 0:00:03',\n",
              " '\\x1b[K     |████████████▎                   | 9.3 MB 5.3 MB/s eta 0:00:03',\n",
              " '\\x1b[K     |████████████▎                   | 9.3 MB 5.3 MB/s eta 0:00:03',\n",
              " '\\x1b[K     |████████████▍                   | 9.3 MB 5.3 MB/s eta 0:00:03',\n",
              " '\\x1b[K     |████████████▍                   | 9.3 MB 5.3 MB/s eta 0:00:03',\n",
              " '\\x1b[K     |████████████▍                   | 9.3 MB 5.3 MB/s eta 0:00:03',\n",
              " '\\x1b[K     |████████████▍                   | 9.4 MB 5.3 MB/s eta 0:00:03',\n",
              " '\\x1b[K     |████████████▍                   | 9.4 MB 5.3 MB/s eta 0:00:03',\n",
              " '\\x1b[K     |████████████▍                   | 9.4 MB 5.3 MB/s eta 0:00:03',\n",
              " '\\x1b[K     |████████████▍                   | 9.4 MB 5.3 MB/s eta 0:00:03',\n",
              " '\\x1b[K     |████████████▍                   | 9.4 MB 5.3 MB/s eta 0:00:03',\n",
              " '\\x1b[K     |████████████▌                   | 9.4 MB 5.3 MB/s eta 0:00:03',\n",
              " '\\x1b[K     |████████████▌                   | 9.4 MB 5.3 MB/s eta 0:00:03',\n",
              " '\\x1b[K     |████████████▌                   | 9.4 MB 5.3 MB/s eta 0:00:03',\n",
              " '\\x1b[K     |████████████▌                   | 9.4 MB 5.3 MB/s eta 0:00:03',\n",
              " '\\x1b[K     |████████████▌                   | 9.5 MB 5.3 MB/s eta 0:00:03',\n",
              " '\\x1b[K     |████████████▌                   | 9.5 MB 5.3 MB/s eta 0:00:03',\n",
              " '\\x1b[K     |████████████▌                   | 9.5 MB 5.3 MB/s eta 0:00:03',\n",
              " '\\x1b[K     |████████████▌                   | 9.5 MB 5.3 MB/s eta 0:00:03',\n",
              " '\\x1b[K     |████████████▌                   | 9.5 MB 5.3 MB/s eta 0:00:03',\n",
              " '\\x1b[K     |████████████▋                   | 9.5 MB 5.3 MB/s eta 0:00:03',\n",
              " '\\x1b[K     |████████████▋                   | 9.5 MB 5.3 MB/s eta 0:00:03',\n",
              " '\\x1b[K     |████████████▋                   | 9.5 MB 5.3 MB/s eta 0:00:03',\n",
              " '\\x1b[K     |████████████▋                   | 9.5 MB 5.3 MB/s eta 0:00:03',\n",
              " '\\x1b[K     |████████████▋                   | 9.5 MB 5.3 MB/s eta 0:00:03',\n",
              " '\\x1b[K     |████████████▋                   | 9.6 MB 5.3 MB/s eta 0:00:03',\n",
              " '\\x1b[K     |████████████▋                   | 9.6 MB 5.3 MB/s eta 0:00:03',\n",
              " '\\x1b[K     |████████████▋                   | 9.6 MB 5.3 MB/s eta 0:00:03',\n",
              " '\\x1b[K     |████████████▊                   | 9.6 MB 5.3 MB/s eta 0:00:03',\n",
              " '\\x1b[K     |████████████▊                   | 9.6 MB 5.3 MB/s eta 0:00:03',\n",
              " '\\x1b[K     |████████████▊                   | 9.6 MB 5.3 MB/s eta 0:00:03',\n",
              " '\\x1b[K     |████████████▊                   | 9.6 MB 5.3 MB/s eta 0:00:03',\n",
              " '\\x1b[K     |████████████▊                   | 9.6 MB 5.3 MB/s eta 0:00:03',\n",
              " '\\x1b[K     |████████████▊                   | 9.6 MB 5.3 MB/s eta 0:00:03',\n",
              " '\\x1b[K     |████████████▊                   | 9.6 MB 5.3 MB/s eta 0:00:03',\n",
              " '\\x1b[K     |████████████▊                   | 9.7 MB 5.3 MB/s eta 0:00:03',\n",
              " '\\x1b[K     |████████████▉                   | 9.7 MB 5.3 MB/s eta 0:00:03',\n",
              " '\\x1b[K     |████████████▉                   | 9.7 MB 5.3 MB/s eta 0:00:03',\n",
              " '\\x1b[K     |████████████▉                   | 9.7 MB 5.3 MB/s eta 0:00:03',\n",
              " '\\x1b[K     |████████████▉                   | 9.7 MB 5.3 MB/s eta 0:00:03',\n",
              " '\\x1b[K     |████████████▉                   | 9.7 MB 5.3 MB/s eta 0:00:03',\n",
              " '\\x1b[K     |████████████▉                   | 9.7 MB 5.3 MB/s eta 0:00:03',\n",
              " '\\x1b[K     |████████████▉                   | 9.7 MB 5.3 MB/s eta 0:00:03',\n",
              " '\\x1b[K     |████████████▉                   | 9.7 MB 5.3 MB/s eta 0:00:03',\n",
              " '\\x1b[K     |█████████████                   | 9.7 MB 5.3 MB/s eta 0:00:03',\n",
              " '\\x1b[K     |█████████████                   | 9.8 MB 5.3 MB/s eta 0:00:03',\n",
              " '\\x1b[K     |█████████████                   | 9.8 MB 5.3 MB/s eta 0:00:03',\n",
              " '\\x1b[K     |█████████████                   | 9.8 MB 5.3 MB/s eta 0:00:03',\n",
              " '\\x1b[K     |█████████████                   | 9.8 MB 5.3 MB/s eta 0:00:03',\n",
              " '\\x1b[K     |█████████████                   | 9.8 MB 5.3 MB/s eta 0:00:03',\n",
              " '\\x1b[K     |█████████████                   | 9.8 MB 5.3 MB/s eta 0:00:03',\n",
              " '\\x1b[K     |█████████████                   | 9.8 MB 5.3 MB/s eta 0:00:03',\n",
              " '\\x1b[K     |█████████████                   | 9.8 MB 5.3 MB/s eta 0:00:03',\n",
              " '\\x1b[K     |█████████████                   | 9.8 MB 5.3 MB/s eta 0:00:03',\n",
              " '\\x1b[K     |█████████████                   | 9.9 MB 5.3 MB/s eta 0:00:03',\n",
              " '\\x1b[K     |█████████████                   | 9.9 MB 5.3 MB/s eta 0:00:03',\n",
              " '\\x1b[K     |█████████████                   | 9.9 MB 5.3 MB/s eta 0:00:03',\n",
              " '\\x1b[K     |█████████████                   | 9.9 MB 5.3 MB/s eta 0:00:03',\n",
              " '\\x1b[K     |█████████████                   | 9.9 MB 5.3 MB/s eta 0:00:03',\n",
              " '\\x1b[K     |█████████████                   | 9.9 MB 5.3 MB/s eta 0:00:03',\n",
              " '\\x1b[K     |█████████████                   | 9.9 MB 5.3 MB/s eta 0:00:03',\n",
              " '\\x1b[K     |█████████████▏                  | 9.9 MB 5.3 MB/s eta 0:00:03',\n",
              " '\\x1b[K     |█████████████▏                  | 9.9 MB 5.3 MB/s eta 0:00:03',\n",
              " '\\x1b[K     |█████████████▏                  | 9.9 MB 5.3 MB/s eta 0:00:03',\n",
              " '\\x1b[K     |█████████████▏                  | 10.0 MB 5.3 MB/s eta 0:00:03',\n",
              " '\\x1b[K     |█████████████▏                  | 10.0 MB 5.3 MB/s eta 0:00:03',\n",
              " '\\x1b[K     |█████████████▏                  | 10.0 MB 5.3 MB/s eta 0:00:03',\n",
              " '\\x1b[K     |█████████████▏                  | 10.0 MB 5.3 MB/s eta 0:00:03',\n",
              " '\\x1b[K     |█████████████▏                  | 10.0 MB 5.3 MB/s eta 0:00:03',\n",
              " '\\x1b[K     |█████████████▎                  | 10.0 MB 5.3 MB/s eta 0:00:03',\n",
              " '\\x1b[K     |█████████████▎                  | 10.0 MB 5.3 MB/s eta 0:00:03',\n",
              " '\\x1b[K     |█████████████▎                  | 10.0 MB 5.3 MB/s eta 0:00:03',\n",
              " '\\x1b[K     |█████████████▎                  | 10.0 MB 5.3 MB/s eta 0:00:03',\n",
              " '\\x1b[K     |█████████████▎                  | 10.0 MB 5.3 MB/s eta 0:00:03',\n",
              " '\\x1b[K     |█████████████▎                  | 10.1 MB 5.3 MB/s eta 0:00:03',\n",
              " '\\x1b[K     |█████████████▎                  | 10.1 MB 5.3 MB/s eta 0:00:03',\n",
              " '\\x1b[K     |█████████████▎                  | 10.1 MB 5.3 MB/s eta 0:00:03',\n",
              " '\\x1b[K     |█████████████▍                  | 10.1 MB 5.3 MB/s eta 0:00:03',\n",
              " '\\x1b[K     |█████████████▍                  | 10.1 MB 5.3 MB/s eta 0:00:03',\n",
              " '\\x1b[K     |█████████████▍                  | 10.1 MB 5.3 MB/s eta 0:00:03',\n",
              " '\\x1b[K     |█████████████▍                  | 10.1 MB 5.3 MB/s eta 0:00:03',\n",
              " '\\x1b[K     |█████████████▍                  | 10.1 MB 5.3 MB/s eta 0:00:03',\n",
              " '\\x1b[K     |█████████████▍                  | 10.1 MB 5.3 MB/s eta 0:00:03',\n",
              " '\\x1b[K     |█████████████▍                  | 10.1 MB 5.3 MB/s eta 0:00:03',\n",
              " '\\x1b[K     |█████████████▍                  | 10.2 MB 5.3 MB/s eta 0:00:03',\n",
              " '\\x1b[K     |█████████████▌                  | 10.2 MB 5.3 MB/s eta 0:00:03',\n",
              " ...]"
            ]
          },
          "metadata": {},
          "execution_count": 40
        }
      ]
    },
    {
      "cell_type": "code",
      "source": [
        "from Nepali_nlp import Stem\n",
        "text = \"सरकारका प्रवक्ता प्रदीप ज्ञवालीले पनि गत बिहीबार उनलाई अनशन तोड्न आग्रह गरेका थिए\"\n",
        "Stem().rootify(text)"
      ],
      "metadata": {
        "colab": {
          "base_uri": "https://localhost:8080/"
        },
        "id": "oNKnk5agZcWx",
        "outputId": "21a9831c-95b6-41be-9fc3-0f9f28d87769"
      },
      "execution_count": null,
      "outputs": [
        {
          "output_type": "execute_result",
          "data": {
            "text/plain": [
              "['सरकार',\n",
              " 'प्रवक्ता',\n",
              " 'प्रदीप',\n",
              " 'ज्ञवाली',\n",
              " 'पनि',\n",
              " 'गत',\n",
              " 'बिहीबार',\n",
              " 'उन',\n",
              " 'अनशन',\n",
              " 'तोड्न',\n",
              " 'आग्रह',\n",
              " 'गर',\n",
              " '']"
            ]
          },
          "metadata": {},
          "execution_count": 41
        }
      ]
    },
    {
      "cell_type": "code",
      "source": [
        "text = [\"आग्रह\", \"गरेका\", \"थिए\"]\n",
        "Stem().rootify(text)"
      ],
      "metadata": {
        "colab": {
          "base_uri": "https://localhost:8080/"
        },
        "id": "0SblySc3avgd",
        "outputId": "99add444-500a-42e5-81be-d46c43f97b2d"
      },
      "execution_count": null,
      "outputs": [
        {
          "output_type": "execute_result",
          "data": {
            "text/plain": [
              "['आग्रह', 'गर', '']"
            ]
          },
          "metadata": {},
          "execution_count": 42
        }
      ]
    },
    {
      "cell_type": "code",
      "source": [
        "!pip install nepalitokenizer"
      ],
      "metadata": {
        "colab": {
          "base_uri": "https://localhost:8080/"
        },
        "id": "Us9Vg3Y7VZaP",
        "outputId": "20c0d142-1d30-4add-e94b-e737822ac215"
      },
      "execution_count": null,
      "outputs": [
        {
          "output_type": "stream",
          "name": "stdout",
          "text": [
            "Looking in indexes: https://pypi.org/simple, https://us-python.pkg.dev/colab-wheels/public/simple/\n",
            "Requirement already satisfied: nepalitokenizer in /usr/local/lib/python3.7/dist-packages (1.8.6.0)\n"
          ]
        }
      ]
    },
    {
      "cell_type": "code",
      "source": [
        "from nepalitokenizer import NepaliTokenizer"
      ],
      "metadata": {
        "id": "YFt8GRlnXUyT"
      },
      "execution_count": null,
      "outputs": []
    },
    {
      "cell_type": "code",
      "source": [
        "tokenize = NepaliTokenizer()\n",
        "print(tokenize.tokenizer('के छ खबर तिम्रो ? '))"
      ],
      "metadata": {
        "colab": {
          "base_uri": "https://localhost:8080/"
        },
        "id": "CidDW3egXqub",
        "outputId": "c02d9e17-271b-47ba-dbf4-f6c39970417c"
      },
      "execution_count": null,
      "outputs": [
        {
          "output_type": "stream",
          "name": "stdout",
          "text": [
            "['खबर', 'तिम्रो']\n"
          ]
        }
      ]
    },
    {
      "cell_type": "code",
      "source": [
        "def text_preprocessing(text):\n",
        "  # Tokenize the reviews\n",
        "  text = tokenize.tokenizer(text)\n",
        "  # Remove the nepali stopwords\n",
        "  text = [word for word in text if word not in stopwords.words('nepali')]\n",
        "  # Stemming the nepali words\n",
        "  text = Stem().rootify(text)\n",
        "  text = ' '.join(text)\n",
        "  return text"
      ],
      "metadata": {
        "id": "oGGyWNLyZSJe"
      },
      "execution_count": null,
      "outputs": []
    },
    {
      "cell_type": "code",
      "source": [
        "data.columns"
      ],
      "metadata": {
        "colab": {
          "base_uri": "https://localhost:8080/"
        },
        "id": "ak6UNO_4bTQ2",
        "outputId": "34e44e97-3148-41f3-d29f-f57ad5ae27e5"
      },
      "execution_count": null,
      "outputs": [
        {
          "output_type": "execute_result",
          "data": {
            "text/plain": [
              "Index(['Reviews', 'Emotion'], dtype='object')"
            ]
          },
          "metadata": {},
          "execution_count": 57
        }
      ]
    },
    {
      "cell_type": "code",
      "source": [
        "data.Reviews[0]"
      ],
      "metadata": {
        "colab": {
          "base_uri": "https://localhost:8080/",
          "height": 53
        },
        "id": "e8ev82pUbViy",
        "outputId": "dc5491f0-fe0d-48b0-9442-97170691d69f"
      },
      "execution_count": null,
      "outputs": [
        {
          "output_type": "execute_result",
          "data": {
            "text/plain": [
              "'म एक शिक्षक , शिक्षा क्षेत्रमा रमाएको मान्छे । सामुदायिक विद्यालयमा अध्यापन गराउछु। मलाइ यो चलचित्रले मन नै छोयो । वास्तविक घटना यहि हो कि नेपालका तमाम सामुदायिक विद्यालय यहि समस्या बाट गुज्रीत छन । यस्तै शिक्षा सम्बन्धीको चलचित्र बनोस भनेर अपेक्षा गरेको थिए, आसा पूरा भयो । धन्यवाद सबै लाइ'"
            ],
            "application/vnd.google.colaboratory.intrinsic+json": {
              "type": "string"
            }
          },
          "metadata": {},
          "execution_count": 58
        }
      ]
    },
    {
      "cell_type": "code",
      "source": [
        "text_preprocessing(data.Reviews[0])"
      ],
      "metadata": {
        "colab": {
          "base_uri": "https://localhost:8080/",
          "height": 35
        },
        "id": "SCuZYP07bYwD",
        "outputId": "be4a93dc-805f-4869-8538-81e819e4bee3"
      },
      "execution_count": null,
      "outputs": [
        {
          "output_type": "execute_result",
          "data": {
            "text/plain": [
              "'शिक्षक शिक्षा क्षेत्र रमा मान् सामुदायिक विद्यालय अध्यापन गराउ म चलचित्र मन छो वास्तविक घटना यहि नेपाल तमाम सामुदायिक विद्यालय यहि समस्या गुज्रीत शिक्षा सम्बन्धी चलचित्र बनोस अपेक्षा आसा पूरा धन्यवाद '"
            ],
            "application/vnd.google.colaboratory.intrinsic+json": {
              "type": "string"
            }
          },
          "metadata": {},
          "execution_count": 59
        }
      ]
    },
    {
      "cell_type": "code",
      "source": [
        "data.dropna(inplace = True)"
      ],
      "metadata": {
        "id": "XRfPQX9bbcK0"
      },
      "execution_count": null,
      "outputs": []
    },
    {
      "cell_type": "code",
      "source": [
        "data.info()"
      ],
      "metadata": {
        "colab": {
          "base_uri": "https://localhost:8080/"
        },
        "id": "pBd160sbcecA",
        "outputId": "a75cc3b8-dc35-4d37-e1de-ae8abba253ce"
      },
      "execution_count": null,
      "outputs": [
        {
          "output_type": "stream",
          "name": "stdout",
          "text": [
            "<class 'pandas.core.frame.DataFrame'>\n",
            "Int64Index: 602 entries, 0 to 601\n",
            "Data columns (total 2 columns):\n",
            " #   Column   Non-Null Count  Dtype  \n",
            "---  ------   --------------  -----  \n",
            " 0   Reviews  602 non-null    object \n",
            " 1   Emotion  602 non-null    float64\n",
            "dtypes: float64(1), object(1)\n",
            "memory usage: 14.1+ KB\n"
          ]
        }
      ]
    },
    {
      "cell_type": "code",
      "source": [
        "data.isna().sum()"
      ],
      "metadata": {
        "colab": {
          "base_uri": "https://localhost:8080/"
        },
        "id": "im1Sz-JZcv0-",
        "outputId": "31b759bd-6167-470e-ba5d-c62cd58668ff"
      },
      "execution_count": null,
      "outputs": [
        {
          "output_type": "execute_result",
          "data": {
            "text/plain": [
              "Reviews    0\n",
              "Emotion    0\n",
              "dtype: int64"
            ]
          },
          "metadata": {},
          "execution_count": 64
        }
      ]
    },
    {
      "cell_type": "markdown",
      "source": [
        "# Text Vectorization"
      ],
      "metadata": {
        "id": "pq2FFglYc3IP"
      }
    },
    {
      "cell_type": "code",
      "source": [
        "X = data[\"Reviews\"]\n",
        "y = data[\"Emotion\"]"
      ],
      "metadata": {
        "id": "-VUt4OOJdYI0"
      },
      "execution_count": null,
      "outputs": []
    },
    {
      "cell_type": "code",
      "source": [
        "from sklearn.model_selection import train_test_split\n",
        "X_train, X_test, y_train, y_test = train_test_split(X, y, test_size=0.8, random_state = 101)"
      ],
      "metadata": {
        "id": "46RN1EKxc2nW"
      },
      "execution_count": null,
      "outputs": []
    },
    {
      "cell_type": "code",
      "source": [
        "from sklearn.feature_extraction.text import TfidfVectorizer\n",
        "tfidf = TfidfVectorizer(max_features = 10000, ngram_range = (1, 2))"
      ],
      "metadata": {
        "id": "vsPJGcrndlIA"
      },
      "execution_count": null,
      "outputs": []
    },
    {
      "cell_type": "code",
      "source": [
        "tfidf_vectorizer = tfidf.fit(X_train)"
      ],
      "metadata": {
        "id": "I2qUx1L-eDeL"
      },
      "execution_count": null,
      "outputs": []
    },
    {
      "cell_type": "code",
      "source": [
        "print(len(tfidf_vectorizer.vocabulary_))"
      ],
      "metadata": {
        "colab": {
          "base_uri": "https://localhost:8080/"
        },
        "id": "auhPpiNKeNXt",
        "outputId": "94f5b700-aae2-4c00-857e-4bde29cf4dfd"
      },
      "execution_count": null,
      "outputs": [
        {
          "output_type": "stream",
          "name": "stdout",
          "text": [
            "913\n"
          ]
        }
      ]
    },
    {
      "cell_type": "code",
      "source": [
        "X_train = tfidf_vectorizer.transform(X_train)\n",
        "X_test = tfidf_vectorizer.transform(X_test)"
      ],
      "metadata": {
        "id": "15AAY9pLeH-b"
      },
      "execution_count": null,
      "outputs": []
    },
    {
      "cell_type": "markdown",
      "source": [
        "# Classifier"
      ],
      "metadata": {
        "id": "LPbVLXUEfCnG"
      }
    },
    {
      "cell_type": "code",
      "source": [
        "from sklearn.naive_bayes import MultinomialNB\n",
        "from sklearn import metrics\n",
        "\n",
        "nb_classifier = MultinomialNB()\n",
        "nb_classifier.fit(X_train, y_train)"
      ],
      "metadata": {
        "colab": {
          "base_uri": "https://localhost:8080/"
        },
        "id": "UVbgizHWefpu",
        "outputId": "25fa7b7f-740a-4f55-d8fb-c14d3db07e8e"
      },
      "execution_count": null,
      "outputs": [
        {
          "output_type": "execute_result",
          "data": {
            "text/plain": [
              "MultinomialNB()"
            ]
          },
          "metadata": {},
          "execution_count": 80
        }
      ]
    },
    {
      "cell_type": "code",
      "source": [
        "pred = nb_classifier.predict(X_test)"
      ],
      "metadata": {
        "id": "P5_H5zdEfUUn"
      },
      "execution_count": null,
      "outputs": []
    },
    {
      "cell_type": "code",
      "source": [
        "score = metrics.accuracy_score(y_test, pred)\n",
        "print(f\"Accuracy Score : {score}\")"
      ],
      "metadata": {
        "colab": {
          "base_uri": "https://localhost:8080/"
        },
        "id": "z4DImkT0fZJG",
        "outputId": "1387f177-b751-437e-ea24-74179f21bc3e"
      },
      "execution_count": null,
      "outputs": [
        {
          "output_type": "stream",
          "name": "stdout",
          "text": [
            "Accuracy Score : 0.6141078838174274\n"
          ]
        }
      ]
    },
    {
      "cell_type": "code",
      "source": [
        "cm = metrics.confusion_matrix(y_test, pred)\n",
        "cm"
      ],
      "metadata": {
        "colab": {
          "base_uri": "https://localhost:8080/"
        },
        "id": "k34C0G_ffcfE",
        "outputId": "63e5943f-73bb-474e-8e2c-64baa910f40d"
      },
      "execution_count": null,
      "outputs": [
        {
          "output_type": "execute_result",
          "data": {
            "text/plain": [
              "array([[ 10, 184],\n",
              "       [  2, 286]])"
            ]
          },
          "metadata": {},
          "execution_count": 85
        }
      ]
    },
    {
      "cell_type": "code",
      "source": [],
      "metadata": {
        "id": "j73CTpBXflpZ"
      },
      "execution_count": null,
      "outputs": []
    }
  ]
}
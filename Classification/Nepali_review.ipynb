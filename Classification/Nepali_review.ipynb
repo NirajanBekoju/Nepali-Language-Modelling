{
  "nbformat": 4,
  "nbformat_minor": 0,
  "metadata": {
    "colab": {
      "provenance": [],
      "collapsed_sections": []
    },
    "kernelspec": {
      "name": "python3",
      "display_name": "Python 3"
    },
    "language_info": {
      "name": "python"
    }
  },
  "cells": [
    {
      "cell_type": "code",
      "execution_count": 197,
      "metadata": {
        "id": "CpU5Mk7vQry-"
      },
      "outputs": [],
      "source": [
        "import pandas as pd\n",
        "import matplotlib.pyplot as plt\n",
        "import seaborn as sns\n",
        "%matplotlib inline"
      ]
    },
    {
      "cell_type": "code",
      "source": [
        "sns.set(rc={\"figure.figsize\":(10, 6)})"
      ],
      "metadata": {
        "id": "v70md0BUSkJ8"
      },
      "execution_count": 198,
      "outputs": []
    },
    {
      "cell_type": "markdown",
      "source": [
        "# Exploratory Data Analysis and Visualization"
      ],
      "metadata": {
        "id": "tdlvjKSzSCxT"
      }
    },
    {
      "cell_type": "code",
      "source": [
        "data = pd.read_csv(\"/content/drive/MyDrive/Colab Notebooks/NLP/Classification/Nepali Movie Review Classificaion/nepalimoviereviews.csv\")"
      ],
      "metadata": {
        "id": "apUoE6dgQ3yh"
      },
      "execution_count": 199,
      "outputs": []
    },
    {
      "cell_type": "code",
      "source": [
        "data.sample(10)"
      ],
      "metadata": {
        "colab": {
          "base_uri": "https://localhost:8080/",
          "height": 363
        },
        "id": "7EYB6Bt3RFhq",
        "outputId": "a7d4643a-a58d-4d28-f1d4-c2922fe14eba"
      },
      "execution_count": 200,
      "outputs": [
        {
          "output_type": "execute_result",
          "data": {
            "text/plain": [
              "                                               Reviews  Emotion\n",
              "498  फिलिमले एकदमै मन छोयो र नेपाली चलचित्र उद्योगक...      1.0\n",
              "477  कति सुपथ मुल्यमा बनेको चलचित्र होला पुरै सारा ...      1.0\n",
              "440  हाहा हाहा एस्तो फिलिम त कहिले पनि हेर्नू नपरोस...      0.0\n",
              "33   अहो कस्तो राम्रो अभिनय कस्तो हृदय बिदार्क कथा ...      1.0\n",
              "155                 यस्तै जाबो फील्म त के  हेर्नु है!!      0.0\n",
              "57              अत्यन्तै उतकृस्ट लाग्यो र रहेछ चलचित्र      1.0\n",
              "10   राम्रो छ फिल्म। यत्तीको फिल्म नेपालमा आउनु नै ...      1.0\n",
              "417  धेरै राम्रो फिल्म बनेकोरहेछ जनचेतनाको लागी  धे...      1.0\n",
              "173  यति राम्रो फिलिम त सायद एक जुनि मा एक चोटि मात...      1.0\n",
              "9                    यो फिल्मले मन छोयो एकदमै राम्रो छ      1.0"
            ],
            "text/html": [
              "\n",
              "  <div id=\"df-f4437373-6102-402f-8fd8-b40f27c69929\">\n",
              "    <div class=\"colab-df-container\">\n",
              "      <div>\n",
              "<style scoped>\n",
              "    .dataframe tbody tr th:only-of-type {\n",
              "        vertical-align: middle;\n",
              "    }\n",
              "\n",
              "    .dataframe tbody tr th {\n",
              "        vertical-align: top;\n",
              "    }\n",
              "\n",
              "    .dataframe thead th {\n",
              "        text-align: right;\n",
              "    }\n",
              "</style>\n",
              "<table border=\"1\" class=\"dataframe\">\n",
              "  <thead>\n",
              "    <tr style=\"text-align: right;\">\n",
              "      <th></th>\n",
              "      <th>Reviews</th>\n",
              "      <th>Emotion</th>\n",
              "    </tr>\n",
              "  </thead>\n",
              "  <tbody>\n",
              "    <tr>\n",
              "      <th>498</th>\n",
              "      <td>फिलिमले एकदमै मन छोयो र नेपाली चलचित्र उद्योगक...</td>\n",
              "      <td>1.0</td>\n",
              "    </tr>\n",
              "    <tr>\n",
              "      <th>477</th>\n",
              "      <td>कति सुपथ मुल्यमा बनेको चलचित्र होला पुरै सारा ...</td>\n",
              "      <td>1.0</td>\n",
              "    </tr>\n",
              "    <tr>\n",
              "      <th>440</th>\n",
              "      <td>हाहा हाहा एस्तो फिलिम त कहिले पनि हेर्नू नपरोस...</td>\n",
              "      <td>0.0</td>\n",
              "    </tr>\n",
              "    <tr>\n",
              "      <th>33</th>\n",
              "      <td>अहो कस्तो राम्रो अभिनय कस्तो हृदय बिदार्क कथा ...</td>\n",
              "      <td>1.0</td>\n",
              "    </tr>\n",
              "    <tr>\n",
              "      <th>155</th>\n",
              "      <td>यस्तै जाबो फील्म त के  हेर्नु है!!</td>\n",
              "      <td>0.0</td>\n",
              "    </tr>\n",
              "    <tr>\n",
              "      <th>57</th>\n",
              "      <td>अत्यन्तै उतकृस्ट लाग्यो र रहेछ चलचित्र</td>\n",
              "      <td>1.0</td>\n",
              "    </tr>\n",
              "    <tr>\n",
              "      <th>10</th>\n",
              "      <td>राम्रो छ फिल्म। यत्तीको फिल्म नेपालमा आउनु नै ...</td>\n",
              "      <td>1.0</td>\n",
              "    </tr>\n",
              "    <tr>\n",
              "      <th>417</th>\n",
              "      <td>धेरै राम्रो फिल्म बनेकोरहेछ जनचेतनाको लागी  धे...</td>\n",
              "      <td>1.0</td>\n",
              "    </tr>\n",
              "    <tr>\n",
              "      <th>173</th>\n",
              "      <td>यति राम्रो फिलिम त सायद एक जुनि मा एक चोटि मात...</td>\n",
              "      <td>1.0</td>\n",
              "    </tr>\n",
              "    <tr>\n",
              "      <th>9</th>\n",
              "      <td>यो फिल्मले मन छोयो एकदमै राम्रो छ</td>\n",
              "      <td>1.0</td>\n",
              "    </tr>\n",
              "  </tbody>\n",
              "</table>\n",
              "</div>\n",
              "      <button class=\"colab-df-convert\" onclick=\"convertToInteractive('df-f4437373-6102-402f-8fd8-b40f27c69929')\"\n",
              "              title=\"Convert this dataframe to an interactive table.\"\n",
              "              style=\"display:none;\">\n",
              "        \n",
              "  <svg xmlns=\"http://www.w3.org/2000/svg\" height=\"24px\"viewBox=\"0 0 24 24\"\n",
              "       width=\"24px\">\n",
              "    <path d=\"M0 0h24v24H0V0z\" fill=\"none\"/>\n",
              "    <path d=\"M18.56 5.44l.94 2.06.94-2.06 2.06-.94-2.06-.94-.94-2.06-.94 2.06-2.06.94zm-11 1L8.5 8.5l.94-2.06 2.06-.94-2.06-.94L8.5 2.5l-.94 2.06-2.06.94zm10 10l.94 2.06.94-2.06 2.06-.94-2.06-.94-.94-2.06-.94 2.06-2.06.94z\"/><path d=\"M17.41 7.96l-1.37-1.37c-.4-.4-.92-.59-1.43-.59-.52 0-1.04.2-1.43.59L10.3 9.45l-7.72 7.72c-.78.78-.78 2.05 0 2.83L4 21.41c.39.39.9.59 1.41.59.51 0 1.02-.2 1.41-.59l7.78-7.78 2.81-2.81c.8-.78.8-2.07 0-2.86zM5.41 20L4 18.59l7.72-7.72 1.47 1.35L5.41 20z\"/>\n",
              "  </svg>\n",
              "      </button>\n",
              "      \n",
              "  <style>\n",
              "    .colab-df-container {\n",
              "      display:flex;\n",
              "      flex-wrap:wrap;\n",
              "      gap: 12px;\n",
              "    }\n",
              "\n",
              "    .colab-df-convert {\n",
              "      background-color: #E8F0FE;\n",
              "      border: none;\n",
              "      border-radius: 50%;\n",
              "      cursor: pointer;\n",
              "      display: none;\n",
              "      fill: #1967D2;\n",
              "      height: 32px;\n",
              "      padding: 0 0 0 0;\n",
              "      width: 32px;\n",
              "    }\n",
              "\n",
              "    .colab-df-convert:hover {\n",
              "      background-color: #E2EBFA;\n",
              "      box-shadow: 0px 1px 2px rgba(60, 64, 67, 0.3), 0px 1px 3px 1px rgba(60, 64, 67, 0.15);\n",
              "      fill: #174EA6;\n",
              "    }\n",
              "\n",
              "    [theme=dark] .colab-df-convert {\n",
              "      background-color: #3B4455;\n",
              "      fill: #D2E3FC;\n",
              "    }\n",
              "\n",
              "    [theme=dark] .colab-df-convert:hover {\n",
              "      background-color: #434B5C;\n",
              "      box-shadow: 0px 1px 3px 1px rgba(0, 0, 0, 0.15);\n",
              "      filter: drop-shadow(0px 1px 2px rgba(0, 0, 0, 0.3));\n",
              "      fill: #FFFFFF;\n",
              "    }\n",
              "  </style>\n",
              "\n",
              "      <script>\n",
              "        const buttonEl =\n",
              "          document.querySelector('#df-f4437373-6102-402f-8fd8-b40f27c69929 button.colab-df-convert');\n",
              "        buttonEl.style.display =\n",
              "          google.colab.kernel.accessAllowed ? 'block' : 'none';\n",
              "\n",
              "        async function convertToInteractive(key) {\n",
              "          const element = document.querySelector('#df-f4437373-6102-402f-8fd8-b40f27c69929');\n",
              "          const dataTable =\n",
              "            await google.colab.kernel.invokeFunction('convertToInteractive',\n",
              "                                                     [key], {});\n",
              "          if (!dataTable) return;\n",
              "\n",
              "          const docLinkHtml = 'Like what you see? Visit the ' +\n",
              "            '<a target=\"_blank\" href=https://colab.research.google.com/notebooks/data_table.ipynb>data table notebook</a>'\n",
              "            + ' to learn more about interactive tables.';\n",
              "          element.innerHTML = '';\n",
              "          dataTable['output_type'] = 'display_data';\n",
              "          await google.colab.output.renderOutput(dataTable, element);\n",
              "          const docLink = document.createElement('div');\n",
              "          docLink.innerHTML = docLinkHtml;\n",
              "          element.appendChild(docLink);\n",
              "        }\n",
              "      </script>\n",
              "    </div>\n",
              "  </div>\n",
              "  "
            ]
          },
          "metadata": {},
          "execution_count": 200
        }
      ]
    },
    {
      "cell_type": "code",
      "source": [
        "data.info()"
      ],
      "metadata": {
        "colab": {
          "base_uri": "https://localhost:8080/"
        },
        "id": "Oo8d8qhNRxZo",
        "outputId": "0ab6c806-bacf-4f6c-e07e-59238fa5bb81"
      },
      "execution_count": 201,
      "outputs": [
        {
          "output_type": "stream",
          "name": "stdout",
          "text": [
            "<class 'pandas.core.frame.DataFrame'>\n",
            "RangeIndex: 604 entries, 0 to 603\n",
            "Data columns (total 2 columns):\n",
            " #   Column   Non-Null Count  Dtype  \n",
            "---  ------   --------------  -----  \n",
            " 0   Reviews  602 non-null    object \n",
            " 1   Emotion  602 non-null    float64\n",
            "dtypes: float64(1), object(1)\n",
            "memory usage: 9.6+ KB\n"
          ]
        }
      ]
    },
    {
      "cell_type": "code",
      "source": [
        "print(f\"There are {data.Emotion.nunique()} types of emotion.\" )"
      ],
      "metadata": {
        "colab": {
          "base_uri": "https://localhost:8080/"
        },
        "id": "5MKLMcufReMJ",
        "outputId": "fdd5f053-3b18-47b5-ba01-5ec8aa9ed04d"
      },
      "execution_count": 202,
      "outputs": [
        {
          "output_type": "stream",
          "name": "stdout",
          "text": [
            "There are 2 types of emotion.\n"
          ]
        }
      ]
    },
    {
      "cell_type": "code",
      "source": [
        "sns.countplot(data.Emotion)"
      ],
      "metadata": {
        "colab": {
          "base_uri": "https://localhost:8080/",
          "height": 466
        },
        "id": "Kh16B4Z3RltM",
        "outputId": "f13792d1-7859-468c-f203-0d577ce8a341"
      },
      "execution_count": 203,
      "outputs": [
        {
          "output_type": "stream",
          "name": "stderr",
          "text": [
            "/usr/local/lib/python3.7/dist-packages/seaborn/_decorators.py:43: FutureWarning: Pass the following variable as a keyword arg: x. From version 0.12, the only valid positional argument will be `data`, and passing other arguments without an explicit keyword will result in an error or misinterpretation.\n",
            "  FutureWarning\n"
          ]
        },
        {
          "output_type": "execute_result",
          "data": {
            "text/plain": [
              "<matplotlib.axes._subplots.AxesSubplot at 0x7f09c609de10>"
            ]
          },
          "metadata": {},
          "execution_count": 203
        },
        {
          "output_type": "display_data",
          "data": {
            "text/plain": [
              "<Figure size 720x432 with 1 Axes>"
            ],
            "image/png": "[encoded data removed]"
          },
          "metadata": {}
        }
      ]
    },
    {
      "cell_type": "code",
      "source": [
        "data.Emotion.value_counts()"
      ],
      "metadata": {
        "colab": {
          "base_uri": "https://localhost:8080/"
        },
        "id": "E9tnuHUgTWsd",
        "outputId": "a47d5757-4b2e-4222-da57-2818cde0a493"
      },
      "execution_count": 204,
      "outputs": [
        {
          "output_type": "execute_result",
          "data": {
            "text/plain": [
              "1.0    367\n",
              "0.0    235\n",
              "Name: Emotion, dtype: int64"
            ]
          },
          "metadata": {},
          "execution_count": 204
        }
      ]
    },
    {
      "cell_type": "markdown",
      "source": [
        "# Text Preprocessing\n",
        "\n",
        "*   Tokenize the words\n",
        "*   Remove stopwords\n",
        "*   stemming or lemmatization\n",
        "\n"
      ],
      "metadata": {
        "id": "ph0O_lQOU5ey"
      }
    },
    {
      "cell_type": "code",
      "source": [
        "import nltk\n",
        "nltk.download('stopwords')\n",
        "from nltk.corpus import stopwords"
      ],
      "metadata": {
        "colab": {
          "base_uri": "https://localhost:8080/"
        },
        "id": "dMFgRT0sUDJU",
        "outputId": "465f5f5b-07ee-423a-a26f-9ef3eca6c970"
      },
      "execution_count": 205,
      "outputs": [
        {
          "output_type": "stream",
          "name": "stderr",
          "text": [
            "[nltk_data] Downloading package stopwords to /root/nltk_data...\n",
            "[nltk_data]   Package stopwords is already up-to-date!\n"
          ]
        }
      ]
    },
    {
      "cell_type": "code",
      "source": [
        "print(stopwords.words('nepali'))"
      ],
      "metadata": {
        "colab": {
          "base_uri": "https://localhost:8080/"
        },
        "id": "rlD1GLvOVRan",
        "outputId": "540deca0-5fa8-4d02-c7a6-12633f555003"
      },
      "execution_count": 206,
      "outputs": [
        {
          "output_type": "stream",
          "name": "stdout",
          "text": [
            "['छ', 'र', 'पनि', 'छन्', 'लागि', 'भएको', 'गरेको', 'भने', 'गर्न', 'गर्ने', 'हो', 'तथा', 'यो', 'रहेको', 'उनले', 'थियो', 'हुने', 'गरेका', 'थिए', 'गर्दै', 'तर', 'नै', 'को', 'मा', 'हुन्', 'भन्ने', 'हुन', 'गरी', 'त', 'हुन्छ', 'अब', 'के', 'रहेका', 'गरेर', 'छैन', 'दिए', 'भए', 'यस', 'ले', 'गर्नु', 'औं', 'सो', 'त्यो', 'कि', 'जुन', 'यी', 'का', 'गरि', 'ती', 'न', 'छु', 'छौं', 'लाई', 'नि', 'उप', 'अक्सर', 'आदि', 'कसरी', 'क्रमशः', 'चाले', 'अगाडी', 'अझै', 'अनुसार', 'अन्तर्गत', 'अन्य', 'अन्यत्र', 'अन्यथा', 'अरु', 'अरुलाई', 'अर्को', 'अर्थात', 'अर्थात्', 'अलग', 'आए', 'आजको', 'ओठ', 'आत्म', 'आफू', 'आफूलाई', 'आफ्नै', 'आफ्नो', 'आयो', 'उदाहरण', 'उनको', 'उहालाई', 'एउटै', 'एक', 'एकदम', 'कतै', 'कम से कम', 'कसै', 'कसैले', 'कहाँबाट', 'कहिलेकाहीं', 'का', 'किन', 'किनभने', 'कुनै', 'कुरा', 'कृपया', 'केही', 'कोही', 'गए', 'गरौं', 'गर्छ', 'गर्छु', 'गर्नुपर्छ', 'गयौ', 'गैर', 'चार', 'चाहनुहुन्छ', 'चाहन्छु', 'चाहिए', 'छू', 'जताततै', 'जब', 'जबकि', 'जसको', 'जसबाट', 'जसमा', 'जसलाई', 'जसले', 'जस्तै', 'जस्तो', 'जस्तोसुकै', 'जहाँ', 'जान', 'जाहिर', 'जे', 'जो', 'ठीक', 'तत्काल', 'तदनुसार', 'तपाईको', 'तपाई', 'पर्याप्त', 'पहिले', 'पहिलो', 'पहिल्यै', 'पाँच', 'पाँचौं', 'तल', 'तापनी', 'तिनी', 'तिनीहरू', 'तिनीहरुको', 'तिनिहरुलाई', 'तिमी', 'तिर', 'तीन', 'तुरुन्तै', 'तेस्रो', 'तेस्कारण', 'पूर्व', 'प्रति', 'प्रतेक', 'प्लस', 'फेरी', 'बने', 'त्सपछि', 'त्सैले', 'त्यहाँ', 'थिएन', 'दिनुभएको', 'दिनुहुन्छ', 'दुई', 'देखि', 'बरु', 'बारे', 'बाहिर', 'देखिन्छ', 'देखियो', 'देखे', 'देखेको', 'देखेर', 'दोस्रो', 'धेरै', 'नजिकै', 'नत्र', 'नयाँ', 'निम्ति', 'बाहेक', 'बीच', 'बीचमा', 'भन', 'निम्न', 'निम्नानुसार', 'निर्दिष्ट', 'नौ', 'पक्का', 'पक्कै', 'पछि', 'पछिल्लो', 'पटक', 'पर्छ', 'पर्थ्यो', 'भन्छन्', 'भन्', 'भन्छु', 'भन्दा', 'भन्नुभयो', 'भर', 'भित्र', 'भित्री', 'म', 'मलाई', 'मात्र', 'माथि', 'मुख्य', 'मेरो', 'यति', 'यथोचित', 'यदि', 'यद्यपि', 'यसको', 'यसपछि', 'यसबाहेक', 'यसरी', 'यसो', 'यस्तो', 'यहाँ', 'यहाँसम्म', 'या', 'रही', 'राखे', 'राख्छ', 'राम्रो', 'रूप', 'लगभग', 'वरीपरी', 'वास्तवमा', 'बिरुद्ध', 'बिशेष', 'सायद', 'शायद', 'संग', 'संगै', 'सक्छ', 'सट्टा', 'सधै', 'सबै', 'सबैलाई', 'समय', 'सम्भव', 'सम्म', 'सही', 'साँच्चै', 'सात', 'साथ', 'साथै', 'सारा', 'सोही', 'स्पष्ट', 'हरे', 'हरेक']\n"
          ]
        }
      ]
    },
    {
      "cell_type": "code",
      "source": [
        "!!pip install git+https://github.com/sushil79g/Nepali_nlp.git"
      ],
      "metadata": {
        "colab": {
          "base_uri": "https://localhost:8080/"
        },
        "id": "qXVA07XVX9iC",
        "outputId": "d111aa66-33ef-44cc-f7ec-655d25493f28"
      },
      "execution_count": 207,
      "outputs": [
        {
          "output_type": "execute_result",
          "data": {
            "text/plain": [
              "['Looking in indexes: https://pypi.org/simple, https://us-python.pkg.dev/colab-wheels/public/simple/',\n",
              " 'Collecting git+https://github.com/sushil79g/Nepali_nlp.git',\n",
              " '  Cloning https://github.com/sushil79g/Nepali_nlp.git to /tmp/pip-req-build-ehduxgbd',\n",
              " '  Running command git clone -q https://github.com/sushil79g/Nepali_nlp.git /tmp/pip-req-build-ehduxgbd',\n",
              " 'Requirement already satisfied: gensim==3.7.3 in /usr/local/lib/python3.7/dist-packages (from Nepali-nlp==0.0.0) (3.7.3)',\n",
              " 'Requirement already satisfied: requests==2.22.0 in /usr/local/lib/python3.7/dist-packages (from Nepali-nlp==0.0.0) (2.22.0)',\n",
              " 'Requirement already satisfied: wget==3.2 in /usr/local/lib/python3.7/dist-packages (from Nepali-nlp==0.0.0) (3.2)',\n",
              " 'Requirement already satisfied: beautifulsoup4 in /usr/local/lib/python3.7/dist-packages (from Nepali-nlp==0.0.0) (4.6.3)',\n",
              " 'Requirement already satisfied: news-please in /usr/local/lib/python3.7/dist-packages (from Nepali-nlp==0.0.0) (1.5.22)',\n",
              " 'Requirement already satisfied: pytesseract in /usr/local/lib/python3.7/dist-packages (from Nepali-nlp==0.0.0) (0.3.10)',\n",
              " 'Requirement already satisfied: spello==1.2.0 in /usr/local/lib/python3.7/dist-packages (from Nepali-nlp==0.0.0) (1.2.0)',\n",
              " 'Requirement already satisfied: snowballstemmer in /usr/local/lib/python3.7/dist-packages (from Nepali-nlp==0.0.0) (2.2.0)',\n",
              " 'Requirement already satisfied: tensorflow in /usr/local/lib/python3.7/dist-packages (from Nepali-nlp==0.0.0) (2.9.2)',\n",
              " 'Requirement already satisfied: sentencepiece in /usr/local/lib/python3.7/dist-packages (from Nepali-nlp==0.0.0) (0.1.97)',\n",
              " 'Requirement already satisfied: sklearn in /usr/local/lib/python3.7/dist-packages (from Nepali-nlp==0.0.0) (0.0)',\n",
              " 'Requirement already satisfied: pydload in /usr/local/lib/python3.7/dist-packages (from Nepali-nlp==0.0.0) (1.0.9)',\n",
              " 'Requirement already satisfied: tensorboardX in /usr/local/lib/python3.7/dist-packages (from Nepali-nlp==0.0.0) (2.5.1)',\n",
              " 'Requirement already satisfied: fairseq in /usr/local/lib/python3.7/dist-packages (from Nepali-nlp==0.0.0) (0.12.2)',\n",
              " 'Requirement already satisfied: opencv-python in /usr/local/lib/python3.7/dist-packages (from Nepali-nlp==0.0.0) (4.6.0.66)',\n",
              " 'Requirement already satisfied: transformers in /usr/local/lib/python3.7/dist-packages (from Nepali-nlp==0.0.0) (4.23.1)',\n",
              " 'Requirement already satisfied: smart-open>=1.7.0 in /usr/local/lib/python3.7/dist-packages (from gensim==3.7.3->Nepali-nlp==0.0.0) (5.2.1)',\n",
              " 'Requirement already satisfied: numpy>=1.11.3 in /usr/local/lib/python3.7/dist-packages (from gensim==3.7.3->Nepali-nlp==0.0.0) (1.21.6)',\n",
              " 'Requirement already satisfied: scipy>=0.18.1 in /usr/local/lib/python3.7/dist-packages (from gensim==3.7.3->Nepali-nlp==0.0.0) (1.7.3)',\n",
              " 'Requirement already satisfied: six>=1.5.0 in /usr/local/lib/python3.7/dist-packages (from gensim==3.7.3->Nepali-nlp==0.0.0) (1.15.0)',\n",
              " 'Requirement already satisfied: chardet<3.1.0,>=3.0.2 in /usr/local/lib/python3.7/dist-packages (from requests==2.22.0->Nepali-nlp==0.0.0) (3.0.4)',\n",
              " 'Requirement already satisfied: certifi>=2017.4.17 in /usr/local/lib/python3.7/dist-packages (from requests==2.22.0->Nepali-nlp==0.0.0) (2022.9.24)',\n",
              " 'Requirement already satisfied: idna<2.9,>=2.5 in /usr/local/lib/python3.7/dist-packages (from requests==2.22.0->Nepali-nlp==0.0.0) (2.8)',\n",
              " 'Requirement already satisfied: urllib3!=1.25.0,!=1.25.1,<1.26,>=1.21.1 in /usr/local/lib/python3.7/dist-packages (from requests==2.22.0->Nepali-nlp==0.0.0) (1.25.11)',\n",
              " 'Requirement already satisfied: nltk==3.4.5 in /usr/local/lib/python3.7/dist-packages (from spello==1.2.0->Nepali-nlp==0.0.0) (3.4.5)',\n",
              " 'Requirement already satisfied: torch in /usr/local/lib/python3.7/dist-packages (from fairseq->Nepali-nlp==0.0.0) (1.12.1+cu113)',\n",
              " 'Requirement already satisfied: sacrebleu>=1.4.12 in /usr/local/lib/python3.7/dist-packages (from fairseq->Nepali-nlp==0.0.0) (2.3.1)',\n",
              " 'Requirement already satisfied: omegaconf<2.1 in /usr/local/lib/python3.7/dist-packages (from fairseq->Nepali-nlp==0.0.0) (2.0.6)',\n",
              " 'Requirement already satisfied: cffi in /usr/local/lib/python3.7/dist-packages (from fairseq->Nepali-nlp==0.0.0) (1.15.1)',\n",
              " 'Requirement already satisfied: bitarray in /usr/local/lib/python3.7/dist-packages (from fairseq->Nepali-nlp==0.0.0) (2.6.0)',\n",
              " 'Requirement already satisfied: cython in /usr/local/lib/python3.7/dist-packages (from fairseq->Nepali-nlp==0.0.0) (0.29.32)',\n",
              " 'Requirement already satisfied: regex in /usr/local/lib/python3.7/dist-packages (from fairseq->Nepali-nlp==0.0.0) (2022.6.2)',\n",
              " 'Requirement already satisfied: hydra-core<1.1,>=1.0.7 in /usr/local/lib/python3.7/dist-packages (from fairseq->Nepali-nlp==0.0.0) (1.0.7)',\n",
              " 'Requirement already satisfied: torchaudio>=0.8.0 in /usr/local/lib/python3.7/dist-packages (from fairseq->Nepali-nlp==0.0.0) (0.12.1+cu113)',\n",
              " 'Requirement already satisfied: tqdm in /usr/local/lib/python3.7/dist-packages (from fairseq->Nepali-nlp==0.0.0) (4.64.1)',\n",
              " 'Requirement already satisfied: importlib-resources in /usr/local/lib/python3.7/dist-packages (from hydra-core<1.1,>=1.0.7->fairseq->Nepali-nlp==0.0.0) (5.10.0)',\n",
              " 'Requirement already satisfied: antlr4-python3-runtime==4.8 in /usr/local/lib/python3.7/dist-packages (from hydra-core<1.1,>=1.0.7->fairseq->Nepali-nlp==0.0.0) (4.8)',\n",
              " 'Requirement already satisfied: PyYAML>=5.1.* in /usr/local/lib/python3.7/dist-packages (from omegaconf<2.1->fairseq->Nepali-nlp==0.0.0) (5.4.1)',\n",
              " 'Requirement already satisfied: typing-extensions in /usr/local/lib/python3.7/dist-packages (from omegaconf<2.1->fairseq->Nepali-nlp==0.0.0) (4.1.1)',\n",
              " 'Requirement already satisfied: portalocker in /usr/local/lib/python3.7/dist-packages (from sacrebleu>=1.4.12->fairseq->Nepali-nlp==0.0.0) (2.6.0)',\n",
              " 'Requirement already satisfied: tabulate>=0.8.9 in /usr/local/lib/python3.7/dist-packages (from sacrebleu>=1.4.12->fairseq->Nepali-nlp==0.0.0) (0.8.10)',\n",
              " 'Requirement already satisfied: colorama in /usr/local/lib/python3.7/dist-packages (from sacrebleu>=1.4.12->fairseq->Nepali-nlp==0.0.0) (0.4.4)',\n",
              " 'Requirement already satisfied: lxml in /usr/local/lib/python3.7/dist-packages (from sacrebleu>=1.4.12->fairseq->Nepali-nlp==0.0.0) (4.9.1)',\n",
              " 'Requirement already satisfied: pycparser in /usr/local/lib/python3.7/dist-packages (from cffi->fairseq->Nepali-nlp==0.0.0) (2.21)',\n",
              " 'Requirement already satisfied: zipp>=3.1.0 in /usr/local/lib/python3.7/dist-packages (from importlib-resources->hydra-core<1.1,>=1.0.7->fairseq->Nepali-nlp==0.0.0) (3.9.0)',\n",
              " 'Requirement already satisfied: Scrapy>=1.1.0 in /usr/local/lib/python3.7/dist-packages (from news-please->Nepali-nlp==0.0.0) (2.7.0)',\n",
              " 'Requirement already satisfied: elasticsearch>=2.4 in /usr/local/lib/python3.7/dist-packages (from news-please->Nepali-nlp==0.0.0) (7.17.6)',\n",
              " 'Requirement already satisfied: langdetect>=1.0.7 in /usr/local/lib/python3.7/dist-packages (from news-please->Nepali-nlp==0.0.0) (1.0.9)',\n",
              " 'Requirement already satisfied: hurry.filesize>=0.9 in /usr/local/lib/python3.7/dist-packages (from news-please->Nepali-nlp==0.0.0) (0.9)',\n",
              " 'Requirement already satisfied: PyDispatcher>=2.0.5 in /usr/local/lib/python3.7/dist-packages (from news-please->Nepali-nlp==0.0.0) (2.0.6)',\n",
              " 'Requirement already satisfied: PyMySQL>=0.7.9 in /usr/local/lib/python3.7/dist-packages (from news-please->Nepali-nlp==0.0.0) (1.0.2)',\n",
              " 'Requirement already satisfied: awscli>=1.11.117 in /usr/local/lib/python3.7/dist-packages (from news-please->Nepali-nlp==0.0.0) (1.25.95)',\n",
              " 'Requirement already satisfied: psycopg2-binary>=2.8.4 in /usr/local/lib/python3.7/dist-packages (from news-please->Nepali-nlp==0.0.0) (2.9.4)',\n",
              " 'Requirement already satisfied: readability-lxml>=0.6.2 in /usr/local/lib/python3.7/dist-packages (from news-please->Nepali-nlp==0.0.0) (0.8.1)',\n",
              " 'Requirement already satisfied: dotmap>=1.2.17 in /usr/local/lib/python3.7/dist-packages (from news-please->Nepali-nlp==0.0.0) (1.3.30)',\n",
              " 'Requirement already satisfied: ago>=0.0.9 in /usr/local/lib/python3.7/dist-packages (from news-please->Nepali-nlp==0.0.0) (0.0.95)',\n",
              " 'Requirement already satisfied: python-dateutil>=2.4.0 in /usr/local/lib/python3.7/dist-packages (from news-please->Nepali-nlp==0.0.0) (2.8.2)',\n",
              " 'Requirement already satisfied: hjson>=1.5.8 in /usr/local/lib/python3.7/dist-packages (from news-please->Nepali-nlp==0.0.0) (3.1.0)',\n",
              " 'Requirement already satisfied: warcio>=1.3.3 in /usr/local/lib/python3.7/dist-packages (from news-please->Nepali-nlp==0.0.0) (1.7.4)',\n",
              " 'Requirement already satisfied: newspaper3k>=0.2.8 in /usr/local/lib/python3.7/dist-packages (from news-please->Nepali-nlp==0.0.0) (0.2.8)',\n",
              " 'Requirement already satisfied: bs4 in /usr/local/lib/python3.7/dist-packages (from news-please->Nepali-nlp==0.0.0) (0.0.1)',\n",
              " 'Requirement already satisfied: cchardet>=2.1.7 in /usr/local/lib/python3.7/dist-packages (from news-please->Nepali-nlp==0.0.0) (2.1.7)',\n",
              " 'Requirement already satisfied: plac>=0.9.6 in /usr/local/lib/python3.7/dist-packages (from news-please->Nepali-nlp==0.0.0) (1.3.5)',\n",
              " 'Requirement already satisfied: botocore==1.27.94 in /usr/local/lib/python3.7/dist-packages (from awscli>=1.11.117->news-please->Nepali-nlp==0.0.0) (1.27.94)',\n",
              " 'Requirement already satisfied: rsa<4.8,>=3.1.2 in /usr/local/lib/python3.7/dist-packages (from awscli>=1.11.117->news-please->Nepali-nlp==0.0.0) (4.7.2)',\n",
              " 'Requirement already satisfied: docutils<0.17,>=0.10 in /usr/local/lib/python3.7/dist-packages (from awscli>=1.11.117->news-please->Nepali-nlp==0.0.0) (0.16)',\n",
              " 'Requirement already satisfied: s3transfer<0.7.0,>=0.6.0 in /usr/local/lib/python3.7/dist-packages (from awscli>=1.11.117->news-please->Nepali-nlp==0.0.0) (0.6.0)',\n",
              " 'Requirement already satisfied: jmespath<2.0.0,>=0.7.1 in /usr/local/lib/python3.7/dist-packages (from botocore==1.27.94->awscli>=1.11.117->news-please->Nepali-nlp==0.0.0) (1.0.1)',\n",
              " 'Requirement already satisfied: setuptools in /usr/local/lib/python3.7/dist-packages (from hurry.filesize>=0.9->news-please->Nepali-nlp==0.0.0) (57.4.0)',\n",
              " 'Requirement already satisfied: tldextract>=2.0.1 in /usr/local/lib/python3.7/dist-packages (from newspaper3k>=0.2.8->news-please->Nepali-nlp==0.0.0) (3.4.0)',\n",
              " 'Requirement already satisfied: feedparser>=5.2.1 in /usr/local/lib/python3.7/dist-packages (from newspaper3k>=0.2.8->news-please->Nepali-nlp==0.0.0) (6.0.10)',\n",
              " 'Requirement already satisfied: feedfinder2>=0.0.4 in /usr/local/lib/python3.7/dist-packages (from newspaper3k>=0.2.8->news-please->Nepali-nlp==0.0.0) (0.0.4)',\n",
              " 'Requirement already satisfied: Pillow>=3.3.0 in /usr/local/lib/python3.7/dist-packages (from newspaper3k>=0.2.8->news-please->Nepali-nlp==0.0.0) (9.2.0)',\n",
              " 'Requirement already satisfied: tinysegmenter==0.3 in /usr/local/lib/python3.7/dist-packages (from newspaper3k>=0.2.8->news-please->Nepali-nlp==0.0.0) (0.3)',\n",
              " 'Requirement already satisfied: cssselect>=0.9.2 in /usr/local/lib/python3.7/dist-packages (from newspaper3k>=0.2.8->news-please->Nepali-nlp==0.0.0) (1.1.0)',\n",
              " 'Requirement already satisfied: jieba3k>=0.35.1 in /usr/local/lib/python3.7/dist-packages (from newspaper3k>=0.2.8->news-please->Nepali-nlp==0.0.0) (0.35.1)',\n",
              " 'Requirement already satisfied: sgmllib3k in /usr/local/lib/python3.7/dist-packages (from feedparser>=5.2.1->newspaper3k>=0.2.8->news-please->Nepali-nlp==0.0.0) (1.0.0)',\n",
              " 'Requirement already satisfied: pyasn1>=0.1.3 in /usr/local/lib/python3.7/dist-packages (from rsa<4.8,>=3.1.2->awscli>=1.11.117->news-please->Nepali-nlp==0.0.0) (0.4.8)',\n",
              " 'Requirement already satisfied: Twisted>=18.9.0 in /usr/local/lib/python3.7/dist-packages (from Scrapy>=1.1.0->news-please->Nepali-nlp==0.0.0) (22.8.0)',\n",
              " 'Requirement already satisfied: queuelib>=1.4.2 in /usr/local/lib/python3.7/dist-packages (from Scrapy>=1.1.0->news-please->Nepali-nlp==0.0.0) (1.6.2)',\n",
              " 'Requirement already satisfied: pyOpenSSL>=21.0.0 in /usr/local/lib/python3.7/dist-packages (from Scrapy>=1.1.0->news-please->Nepali-nlp==0.0.0) (22.1.0)',\n",
              " 'Requirement already satisfied: w3lib>=1.17.0 in /usr/local/lib/python3.7/dist-packages (from Scrapy>=1.1.0->news-please->Nepali-nlp==0.0.0) (2.0.1)',\n",
              " 'Requirement already satisfied: itemloaders>=1.0.1 in /usr/local/lib/python3.7/dist-packages (from Scrapy>=1.1.0->news-please->Nepali-nlp==0.0.0) (1.0.6)',\n",
              " 'Requirement already satisfied: service-identity>=18.1.0 in /usr/local/lib/python3.7/dist-packages (from Scrapy>=1.1.0->news-please->Nepali-nlp==0.0.0) (21.1.0)',\n",
              " 'Requirement already satisfied: protego>=0.1.15 in /usr/local/lib/python3.7/dist-packages (from Scrapy>=1.1.0->news-please->Nepali-nlp==0.0.0) (0.2.1)',\n",
              " 'Requirement already satisfied: zope.interface>=5.1.0 in /usr/local/lib/python3.7/dist-packages (from Scrapy>=1.1.0->news-please->Nepali-nlp==0.0.0) (5.5.0)',\n",
              " 'Requirement already satisfied: packaging in /usr/local/lib/python3.7/dist-packages (from Scrapy>=1.1.0->news-please->Nepali-nlp==0.0.0) (21.3)',\n",
              " 'Requirement already satisfied: itemadapter>=0.1.0 in /usr/local/lib/python3.7/dist-packages (from Scrapy>=1.1.0->news-please->Nepali-nlp==0.0.0) (0.7.0)',\n",
              " 'Requirement already satisfied: parsel>=1.5.0 in /usr/local/lib/python3.7/dist-packages (from Scrapy>=1.1.0->news-please->Nepali-nlp==0.0.0) (1.6.0)',\n",
              " 'Requirement already satisfied: cryptography>=3.3 in /usr/local/lib/python3.7/dist-packages (from Scrapy>=1.1.0->news-please->Nepali-nlp==0.0.0) (38.0.1)',\n",
              " 'Requirement already satisfied: attrs>=19.1.0 in /usr/local/lib/python3.7/dist-packages (from service-identity>=18.1.0->Scrapy>=1.1.0->news-please->Nepali-nlp==0.0.0) (22.1.0)',\n",
              " 'Requirement already satisfied: pyasn1-modules in /usr/local/lib/python3.7/dist-packages (from service-identity>=18.1.0->Scrapy>=1.1.0->news-please->Nepali-nlp==0.0.0) (0.2.8)',\n",
              " 'Requirement already satisfied: filelock>=3.0.8 in /usr/local/lib/python3.7/dist-packages (from tldextract>=2.0.1->newspaper3k>=0.2.8->news-please->Nepali-nlp==0.0.0) (3.8.0)',\n",
              " 'Requirement already satisfied: requests-file>=1.4 in /usr/local/lib/python3.7/dist-packages (from tldextract>=2.0.1->newspaper3k>=0.2.8->news-please->Nepali-nlp==0.0.0) (1.5.1)',\n",
              " 'Requirement already satisfied: constantly>=15.1 in /usr/local/lib/python3.7/dist-packages (from Twisted>=18.9.0->Scrapy>=1.1.0->news-please->Nepali-nlp==0.0.0) (15.1.0)',\n",
              " 'Requirement already satisfied: Automat>=0.8.0 in /usr/local/lib/python3.7/dist-packages (from Twisted>=18.9.0->Scrapy>=1.1.0->news-please->Nepali-nlp==0.0.0) (20.2.0)',\n",
              " 'Requirement already satisfied: incremental>=21.3.0 in /usr/local/lib/python3.7/dist-packages (from Twisted>=18.9.0->Scrapy>=1.1.0->news-please->Nepali-nlp==0.0.0) (22.10.0)',\n",
              " 'Requirement already satisfied: hyperlink>=17.1.1 in /usr/local/lib/python3.7/dist-packages (from Twisted>=18.9.0->Scrapy>=1.1.0->news-please->Nepali-nlp==0.0.0) (21.0.0)',\n",
              " 'Requirement already satisfied: pyparsing!=3.0.5,>=2.0.2 in /usr/local/lib/python3.7/dist-packages (from packaging->Scrapy>=1.1.0->news-please->Nepali-nlp==0.0.0) (3.0.9)',\n",
              " 'Requirement already satisfied: progressbar2 in /usr/local/lib/python3.7/dist-packages (from pydload->Nepali-nlp==0.0.0) (3.38.0)',\n",
              " 'Requirement already satisfied: python-utils>=2.3.0 in /usr/local/lib/python3.7/dist-packages (from progressbar2->pydload->Nepali-nlp==0.0.0) (3.3.3)',\n",
              " 'Requirement already satisfied: scikit-learn in /usr/local/lib/python3.7/dist-packages (from sklearn->Nepali-nlp==0.0.0) (1.0.2)',\n",
              " 'Requirement already satisfied: joblib>=0.11 in /usr/local/lib/python3.7/dist-packages (from scikit-learn->sklearn->Nepali-nlp==0.0.0) (1.2.0)',\n",
              " 'Requirement already satisfied: threadpoolctl>=2.0.0 in /usr/local/lib/python3.7/dist-packages (from scikit-learn->sklearn->Nepali-nlp==0.0.0) (3.1.0)',\n",
              " 'Requirement already satisfied: protobuf<=3.20.1,>=3.8.0 in /usr/local/lib/python3.7/dist-packages (from tensorboardX->Nepali-nlp==0.0.0) (3.17.3)',\n",
              " 'Requirement already satisfied: absl-py>=1.0.0 in /usr/local/lib/python3.7/dist-packages (from tensorflow->Nepali-nlp==0.0.0) (1.3.0)',\n",
              " 'Requirement already satisfied: libclang>=13.0.0 in /usr/local/lib/python3.7/dist-packages (from tensorflow->Nepali-nlp==0.0.0) (14.0.6)',\n",
              " 'Requirement already satisfied: h5py>=2.9.0 in /usr/local/lib/python3.7/dist-packages (from tensorflow->Nepali-nlp==0.0.0) (3.1.0)',\n",
              " 'Requirement already satisfied: grpcio<2.0,>=1.24.3 in /usr/local/lib/python3.7/dist-packages (from tensorflow->Nepali-nlp==0.0.0) (1.49.1)',\n",
              " 'Requirement already satisfied: flatbuffers<2,>=1.12 in /usr/local/lib/python3.7/dist-packages (from tensorflow->Nepali-nlp==0.0.0) (1.12)',\n",
              " 'Requirement already satisfied: tensorflow-io-gcs-filesystem>=0.23.1 in /usr/local/lib/python3.7/dist-packages (from tensorflow->Nepali-nlp==0.0.0) (0.27.0)',\n",
              " 'Requirement already satisfied: wrapt>=1.11.0 in /usr/local/lib/python3.7/dist-packages (from tensorflow->Nepali-nlp==0.0.0) (1.14.1)',\n",
              " 'Requirement already satisfied: opt-einsum>=2.3.2 in /usr/local/lib/python3.7/dist-packages (from tensorflow->Nepali-nlp==0.0.0) (3.3.0)',\n",
              " 'Requirement already satisfied: keras-preprocessing>=1.1.1 in /usr/local/lib/python3.7/dist-packages (from tensorflow->Nepali-nlp==0.0.0) (1.1.2)',\n",
              " 'Requirement already satisfied: astunparse>=1.6.0 in /usr/local/lib/python3.7/dist-packages (from tensorflow->Nepali-nlp==0.0.0) (1.6.3)',\n",
              " 'Requirement already satisfied: termcolor>=1.1.0 in /usr/local/lib/python3.7/dist-packages (from tensorflow->Nepali-nlp==0.0.0) (2.0.1)',\n",
              " 'Requirement already satisfied: tensorboard<2.10,>=2.9 in /usr/local/lib/python3.7/dist-packages (from tensorflow->Nepali-nlp==0.0.0) (2.9.1)',\n",
              " 'Requirement already satisfied: gast<=0.4.0,>=0.2.1 in /usr/local/lib/python3.7/dist-packages (from tensorflow->Nepali-nlp==0.0.0) (0.4.0)',\n",
              " 'Requirement already satisfied: google-pasta>=0.1.1 in /usr/local/lib/python3.7/dist-packages (from tensorflow->Nepali-nlp==0.0.0) (0.2.0)',\n",
              " 'Requirement already satisfied: tensorflow-estimator<2.10.0,>=2.9.0rc0 in /usr/local/lib/python3.7/dist-packages (from tensorflow->Nepali-nlp==0.0.0) (2.9.0)',\n",
              " 'Requirement already satisfied: keras<2.10.0,>=2.9.0rc0 in /usr/local/lib/python3.7/dist-packages (from tensorflow->Nepali-nlp==0.0.0) (2.9.0)',\n",
              " 'Requirement already satisfied: wheel<1.0,>=0.23.0 in /usr/local/lib/python3.7/dist-packages (from astunparse>=1.6.0->tensorflow->Nepali-nlp==0.0.0) (0.37.1)',\n",
              " 'Requirement already satisfied: cached-property in /usr/local/lib/python3.7/dist-packages (from h5py>=2.9.0->tensorflow->Nepali-nlp==0.0.0) (1.5.2)',\n",
              " 'Requirement already satisfied: google-auth<3,>=1.6.3 in /usr/local/lib/python3.7/dist-packages (from tensorboard<2.10,>=2.9->tensorflow->Nepali-nlp==0.0.0) (1.35.0)',\n",
              " 'Requirement already satisfied: google-auth-oauthlib<0.5,>=0.4.1 in /usr/local/lib/python3.7/dist-packages (from tensorboard<2.10,>=2.9->tensorflow->Nepali-nlp==0.0.0) (0.4.6)',\n",
              " 'Requirement already satisfied: tensorboard-plugin-wit>=1.6.0 in /usr/local/lib/python3.7/dist-packages (from tensorboard<2.10,>=2.9->tensorflow->Nepali-nlp==0.0.0) (1.8.1)',\n",
              " 'Requirement already satisfied: tensorboard-data-server<0.7.0,>=0.6.0 in /usr/local/lib/python3.7/dist-packages (from tensorboard<2.10,>=2.9->tensorflow->Nepali-nlp==0.0.0) (0.6.1)',\n",
              " 'Requirement already satisfied: werkzeug>=1.0.1 in /usr/local/lib/python3.7/dist-packages (from tensorboard<2.10,>=2.9->tensorflow->Nepali-nlp==0.0.0) (1.0.1)',\n",
              " 'Requirement already satisfied: markdown>=2.6.8 in /usr/local/lib/python3.7/dist-packages (from tensorboard<2.10,>=2.9->tensorflow->Nepali-nlp==0.0.0) (3.4.1)',\n",
              " 'Requirement already satisfied: cachetools<5.0,>=2.0.0 in /usr/local/lib/python3.7/dist-packages (from google-auth<3,>=1.6.3->tensorboard<2.10,>=2.9->tensorflow->Nepali-nlp==0.0.0) (4.2.4)',\n",
              " 'Requirement already satisfied: requests-oauthlib>=0.7.0 in /usr/local/lib/python3.7/dist-packages (from google-auth-oauthlib<0.5,>=0.4.1->tensorboard<2.10,>=2.9->tensorflow->Nepali-nlp==0.0.0) (1.3.1)',\n",
              " 'Requirement already satisfied: importlib-metadata>=4.4 in /usr/local/lib/python3.7/dist-packages (from markdown>=2.6.8->tensorboard<2.10,>=2.9->tensorflow->Nepali-nlp==0.0.0) (4.13.0)',\n",
              " 'Requirement already satisfied: oauthlib>=3.0.0 in /usr/local/lib/python3.7/dist-packages (from requests-oauthlib>=0.7.0->google-auth-oauthlib<0.5,>=0.4.1->tensorboard<2.10,>=2.9->tensorflow->Nepali-nlp==0.0.0) (3.2.1)',\n",
              " 'Requirement already satisfied: tokenizers!=0.11.3,<0.14,>=0.11.1 in /usr/local/lib/python3.7/dist-packages (from transformers->Nepali-nlp==0.0.0) (0.13.1)',\n",
              " 'Requirement already satisfied: huggingface-hub<1.0,>=0.10.0 in /usr/local/lib/python3.7/dist-packages (from transformers->Nepali-nlp==0.0.0) (0.10.1)']"
            ]
          },
          "metadata": {},
          "execution_count": 207
        }
      ]
    },
    {
      "cell_type": "code",
      "source": [
        "from Nepali_nlp import Stem\n",
        "text = \"सरकारका प्रवक्ता प्रदीप ज्ञवालीले पनि गत बिहीबार उनलाई अनशन तोड्न आग्रह गरेका थिए\"\n",
        "Stem().rootify(text)"
      ],
      "metadata": {
        "colab": {
          "base_uri": "https://localhost:8080/"
        },
        "id": "oNKnk5agZcWx",
        "outputId": "eca9ef91-7922-474e-f2ea-b2e835e25259"
      },
      "execution_count": 208,
      "outputs": [
        {
          "output_type": "execute_result",
          "data": {
            "text/plain": [
              "['सरकार',\n",
              " 'प्रवक्ता',\n",
              " 'प्रदीप',\n",
              " 'ज्ञवाली',\n",
              " 'पनि',\n",
              " 'गत',\n",
              " 'बिहीबार',\n",
              " 'उन',\n",
              " 'अनशन',\n",
              " 'तोड्न',\n",
              " 'आग्रह',\n",
              " 'गर',\n",
              " '']"
            ]
          },
          "metadata": {},
          "execution_count": 208
        }
      ]
    },
    {
      "cell_type": "code",
      "source": [
        "text = [\"आग्रह\", \"गरेका\", \"थिए\"]\n",
        "Stem().rootify(text)"
      ],
      "metadata": {
        "colab": {
          "base_uri": "https://localhost:8080/"
        },
        "id": "0SblySc3avgd",
        "outputId": "6af71771-394b-48fc-f50c-5df39221ab15"
      },
      "execution_count": 209,
      "outputs": [
        {
          "output_type": "execute_result",
          "data": {
            "text/plain": [
              "['आग्रह', 'गर', '']"
            ]
          },
          "metadata": {},
          "execution_count": 209
        }
      ]
    },
    {
      "cell_type": "code",
      "source": [
        "!pip install nepalitokenizer"
      ],
      "metadata": {
        "colab": {
          "base_uri": "https://localhost:8080/"
        },
        "id": "Us9Vg3Y7VZaP",
        "outputId": "f1543fda-8eb3-4252-b12a-905e30fb5cf6"
      },
      "execution_count": 210,
      "outputs": [
        {
          "output_type": "stream",
          "name": "stdout",
          "text": [
            "Looking in indexes: https://pypi.org/simple, https://us-python.pkg.dev/colab-wheels/public/simple/\n",
            "Requirement already satisfied: nepalitokenizer in /usr/local/lib/python3.7/dist-packages (1.8.6.0)\n"
          ]
        }
      ]
    },
    {
      "cell_type": "code",
      "source": [
        "from nepalitokenizer import NepaliTokenizer"
      ],
      "metadata": {
        "id": "YFt8GRlnXUyT"
      },
      "execution_count": 211,
      "outputs": []
    },
    {
      "cell_type": "code",
      "source": [
        "tokenize = NepaliTokenizer()\n",
        "print(tokenize.tokenizer('के छ खबर तिम्रो ? '))"
      ],
      "metadata": {
        "colab": {
          "base_uri": "https://localhost:8080/"
        },
        "id": "CidDW3egXqub",
        "outputId": "bc73b405-4a21-4d75-8a1b-c85efdd89e23"
      },
      "execution_count": 212,
      "outputs": [
        {
          "output_type": "stream",
          "name": "stdout",
          "text": [
            "['खबर', 'तिम्रो']\n"
          ]
        }
      ]
    },
    {
      "cell_type": "code",
      "source": [
        "def text_preprocessing(text):\n",
        "  # Tokenize the reviews\n",
        "  text = tokenize.tokenizer(text)\n",
        "  # Remove the nepali stopwords\n",
        "  text = [word for word in text if word not in stopwords.words('nepali')]\n",
        "  # Stemming the nepali words\n",
        "  text = Stem().rootify(text)\n",
        "  text = ' '.join(text)\n",
        "  # Remove the leading and trailing spaces\n",
        "  text = text.split()\n",
        "  text = ' '.join(text)\n",
        "  \n",
        "  return text"
      ],
      "metadata": {
        "id": "oGGyWNLyZSJe"
      },
      "execution_count": 213,
      "outputs": []
    },
    {
      "cell_type": "code",
      "source": [
        "data.columns"
      ],
      "metadata": {
        "colab": {
          "base_uri": "https://localhost:8080/"
        },
        "id": "ak6UNO_4bTQ2",
        "outputId": "adb75042-eb24-43f4-a8cf-2c01f1f91e64"
      },
      "execution_count": 214,
      "outputs": [
        {
          "output_type": "execute_result",
          "data": {
            "text/plain": [
              "Index(['Reviews', 'Emotion'], dtype='object')"
            ]
          },
          "metadata": {},
          "execution_count": 214
        }
      ]
    },
    {
      "cell_type": "code",
      "source": [
        "data.Reviews[0]"
      ],
      "metadata": {
        "colab": {
          "base_uri": "https://localhost:8080/",
          "height": 53
        },
        "id": "e8ev82pUbViy",
        "outputId": "0e91f0ae-c425-4a5e-ea45-a1d7fbcc6f2d"
      },
      "execution_count": 215,
      "outputs": [
        {
          "output_type": "execute_result",
          "data": {
            "text/plain": [
              "'म एक शिक्षक , शिक्षा क्षेत्रमा रमाएको मान्छे । सामुदायिक विद्यालयमा अध्यापन गराउछु। मलाइ यो चलचित्रले मन नै छोयो । वास्तविक घटना यहि हो कि नेपालका तमाम सामुदायिक विद्यालय यहि समस्या बाट गुज्रीत छन । यस्तै शिक्षा सम्बन्धीको चलचित्र बनोस भनेर अपेक्षा गरेको थिए, आसा पूरा भयो । धन्यवाद सबै लाइ'"
            ],
            "application/vnd.google.colaboratory.intrinsic+json": {
              "type": "string"
            }
          },
          "metadata": {},
          "execution_count": 215
        }
      ]
    },
    {
      "cell_type": "code",
      "source": [
        "text_preprocessing(data.Reviews[0])"
      ],
      "metadata": {
        "colab": {
          "base_uri": "https://localhost:8080/",
          "height": 35
        },
        "id": "SCuZYP07bYwD",
        "outputId": "e180e5a4-beb1-4265-8329-737d689163ed"
      },
      "execution_count": 216,
      "outputs": [
        {
          "output_type": "execute_result",
          "data": {
            "text/plain": [
              "'शिक्षक शिक्षा क्षेत्र रमा मान् सामुदायिक विद्यालय अध्यापन गराउ म चलचित्र मन छो वास्तविक घटना यहि नेपाल तमाम सामुदायिक विद्यालय यहि समस्या गुज्रीत शिक्षा सम्बन्धी चलचित्र बनोस अपेक्षा आसा पूरा धन्यवाद'"
            ],
            "application/vnd.google.colaboratory.intrinsic+json": {
              "type": "string"
            }
          },
          "metadata": {},
          "execution_count": 216
        }
      ]
    },
    {
      "cell_type": "code",
      "source": [
        "data.dropna(inplace = True)"
      ],
      "metadata": {
        "id": "XRfPQX9bbcK0"
      },
      "execution_count": 217,
      "outputs": []
    },
    {
      "cell_type": "code",
      "source": [
        "data.info()"
      ],
      "metadata": {
        "colab": {
          "base_uri": "https://localhost:8080/"
        },
        "id": "pBd160sbcecA",
        "outputId": "55e2d486-5b3e-4050-82a8-dcff9179f591"
      },
      "execution_count": 218,
      "outputs": [
        {
          "output_type": "stream",
          "name": "stdout",
          "text": [
            "<class 'pandas.core.frame.DataFrame'>\n",
            "Int64Index: 602 entries, 0 to 601\n",
            "Data columns (total 2 columns):\n",
            " #   Column   Non-Null Count  Dtype  \n",
            "---  ------   --------------  -----  \n",
            " 0   Reviews  602 non-null    object \n",
            " 1   Emotion  602 non-null    float64\n",
            "dtypes: float64(1), object(1)\n",
            "memory usage: 14.1+ KB\n"
          ]
        }
      ]
    },
    {
      "cell_type": "code",
      "source": [
        "data.isna().sum()"
      ],
      "metadata": {
        "colab": {
          "base_uri": "https://localhost:8080/"
        },
        "id": "im1Sz-JZcv0-",
        "outputId": "72e13a0f-4555-4f89-fc3d-30dbd9e33dae"
      },
      "execution_count": 219,
      "outputs": [
        {
          "output_type": "execute_result",
          "data": {
            "text/plain": [
              "Reviews    0\n",
              "Emotion    0\n",
              "dtype: int64"
            ]
          },
          "metadata": {},
          "execution_count": 219
        }
      ]
    },
    {
      "cell_type": "markdown",
      "source": [
        "# Text Vectorization"
      ],
      "metadata": {
        "id": "pq2FFglYc3IP"
      }
    },
    {
      "cell_type": "code",
      "source": [
        "X = data[\"Reviews\"].apply(text_preprocessing)\n",
        "y = data[\"Emotion\"]"
      ],
      "metadata": {
        "id": "-VUt4OOJdYI0"
      },
      "execution_count": 220,
      "outputs": []
    },
    {
      "cell_type": "code",
      "source": [
        "X[0]"
      ],
      "metadata": {
        "colab": {
          "base_uri": "https://localhost:8080/",
          "height": 35
        },
        "id": "a80FBpc6Pp1M",
        "outputId": "7be7068a-26f4-4b7e-99da-9df0eaea7637"
      },
      "execution_count": 221,
      "outputs": [
        {
          "output_type": "execute_result",
          "data": {
            "text/plain": [
              "'शिक्षक शिक्षा क्षेत्र रमा मान् सामुदायिक विद्यालय अध्यापन गराउ म चलचित्र मन छो वास्तविक घटना यहि नेपाल तमाम सामुदायिक विद्यालय यहि समस्या गुज्रीत शिक्षा सम्बन्धी चलचित्र बनोस अपेक्षा आसा पूरा धन्यवाद'"
            ],
            "application/vnd.google.colaboratory.intrinsic+json": {
              "type": "string"
            }
          },
          "metadata": {},
          "execution_count": 221
        }
      ]
    },
    {
      "cell_type": "code",
      "source": [
        "from sklearn.model_selection import train_test_split\n",
        "X_train, X_test, y_train, y_test = train_test_split(X, y, test_size=0.2, random_state = 101)"
      ],
      "metadata": {
        "id": "46RN1EKxc2nW"
      },
      "execution_count": 222,
      "outputs": []
    },
    {
      "cell_type": "code",
      "source": [
        "from sklearn.feature_extraction.text import TfidfVectorizer\n",
        "tfidf = TfidfVectorizer(max_features = 10000, ngram_range = (1, 2))"
      ],
      "metadata": {
        "id": "vsPJGcrndlIA"
      },
      "execution_count": 223,
      "outputs": []
    },
    {
      "cell_type": "code",
      "source": [
        "tfidf_vectorizer = tfidf.fit(X_train)"
      ],
      "metadata": {
        "id": "I2qUx1L-eDeL"
      },
      "execution_count": 224,
      "outputs": []
    },
    {
      "cell_type": "code",
      "source": [
        "print(len(tfidf_vectorizer.vocabulary_))"
      ],
      "metadata": {
        "colab": {
          "base_uri": "https://localhost:8080/"
        },
        "id": "auhPpiNKeNXt",
        "outputId": "289c3844-d3e6-4197-fb04-d2eec042f7c0"
      },
      "execution_count": 225,
      "outputs": [
        {
          "output_type": "stream",
          "name": "stdout",
          "text": [
            "607\n"
          ]
        }
      ]
    },
    {
      "cell_type": "code",
      "source": [
        "X_train = tfidf_vectorizer.transform(X_train)\n",
        "X_test = tfidf_vectorizer.transform(X_test)"
      ],
      "metadata": {
        "id": "15AAY9pLeH-b"
      },
      "execution_count": 226,
      "outputs": []
    },
    {
      "cell_type": "markdown",
      "source": [
        "# Classifier"
      ],
      "metadata": {
        "id": "LPbVLXUEfCnG"
      }
    },
    {
      "cell_type": "code",
      "source": [
        "from sklearn.naive_bayes import MultinomialNB\n",
        "from sklearn import metrics\n",
        "\n",
        "nb_classifier = MultinomialNB()\n",
        "nb_classifier.fit(X_train, y_train)"
      ],
      "metadata": {
        "colab": {
          "base_uri": "https://localhost:8080/"
        },
        "id": "UVbgizHWefpu",
        "outputId": "dbb4dac0-ad06-449b-d619-82221de179a2"
      },
      "execution_count": 227,
      "outputs": [
        {
          "output_type": "execute_result",
          "data": {
            "text/plain": [
              "MultinomialNB()"
            ]
          },
          "metadata": {},
          "execution_count": 227
        }
      ]
    },
    {
      "cell_type": "code",
      "source": [
        "pred = nb_classifier.predict(X_test)"
      ],
      "metadata": {
        "id": "P5_H5zdEfUUn"
      },
      "execution_count": 228,
      "outputs": []
    },
    {
      "cell_type": "code",
      "source": [
        "score = metrics.accuracy_score(y_test, pred)\n",
        "print(f\"Accuracy Score : {score}\")"
      ],
      "metadata": {
        "colab": {
          "base_uri": "https://localhost:8080/"
        },
        "id": "z4DImkT0fZJG",
        "outputId": "2c099c04-b75f-44e4-8026-836c53cf369c"
      },
      "execution_count": null,
      "outputs": [
        {
          "output_type": "stream",
          "name": "stdout",
          "text": [
            "Accuracy Score : 0.6058091286307054\n"
          ]
        }
      ]
    },
    {
      "cell_type": "code",
      "source": [
        "cm = metrics.confusion_matrix(y_test, pred)\n",
        "cm"
      ],
      "metadata": {
        "colab": {
          "base_uri": "https://localhost:8080/"
        },
        "id": "k34C0G_ffcfE",
        "outputId": "182f5ec2-7c8e-4b38-f51f-73172dcd0cf4"
      },
      "execution_count": null,
      "outputs": [
        {
          "output_type": "execute_result",
          "data": {
            "text/plain": [
              "array([[  6, 188],\n",
              "       [  2, 286]])"
            ]
          },
          "metadata": {},
          "execution_count": 55
        }
      ]
    },
    {
      "cell_type": "markdown",
      "source": [
        "# Text Classification using LSTM layer"
      ],
      "metadata": {
        "id": "AV5Pf_BwO2zN"
      }
    },
    {
      "cell_type": "code",
      "source": [
        "from collections import Counter\n",
        "def count_words(text):\n",
        "  \"\"\"\n",
        "  Count unique words\n",
        "  \"\"\"\n",
        "  count = Counter()\n",
        "  for sentence in text:\n",
        "    for word in sentence.split():\n",
        "      count[word] += 1\n",
        "  return count\n"
      ],
      "metadata": {
        "id": "Z2NHx6aGQwuI"
      },
      "execution_count": null,
      "outputs": []
    },
    {
      "cell_type": "code",
      "source": [
        "X[1]"
      ],
      "metadata": {
        "colab": {
          "base_uri": "https://localhost:8080/",
          "height": 35
        },
        "id": "4bH3fRd2O2lv",
        "outputId": "65eb0095-1020-4685-e82b-8f6ec8a48cbb"
      },
      "execution_count": null,
      "outputs": [
        {
          "output_type": "execute_result",
          "data": {
            "text/plain": [
              "'सरकारी स्कूल कलेज पढेर करीब बर्ष बिभिन्न बोडिङ्ग स्कूल पढा शिक्षक सरकारी स्कूल हु फिल्म सन्देशमुलक सबै हेर्नुहोला'"
            ],
            "application/vnd.google.colaboratory.intrinsic+json": {
              "type": "string"
            }
          },
          "metadata": {},
          "execution_count": 64
        }
      ]
    },
    {
      "cell_type": "code",
      "source": [
        "type(X)"
      ],
      "metadata": {
        "colab": {
          "base_uri": "https://localhost:8080/"
        },
        "id": "viH93I7lRl05",
        "outputId": "13473be5-0fc2-4e9a-a915-294643432302"
      },
      "execution_count": null,
      "outputs": [
        {
          "output_type": "execute_result",
          "data": {
            "text/plain": [
              "pandas.core.series.Series"
            ]
          },
          "metadata": {},
          "execution_count": 66
        }
      ]
    },
    {
      "cell_type": "code",
      "source": [
        "X[100]"
      ],
      "metadata": {
        "colab": {
          "base_uri": "https://localhost:8080/",
          "height": 35
        },
        "id": "-WGgDvu0STa5",
        "outputId": "501ae6c8-94fc-4b30-ee89-99c3878c8de8"
      },
      "execution_count": null,
      "outputs": [
        {
          "output_type": "execute_result",
          "data": {
            "text/plain": [
              "'फिल्म सारै मन पराे फिल्म हेरन पाईयाेस्'"
            ],
            "application/vnd.google.colaboratory.intrinsic+json": {
              "type": "string"
            }
          },
          "metadata": {},
          "execution_count": 81
        }
      ]
    },
    {
      "cell_type": "code",
      "source": [
        "counter = count_words(X)"
      ],
      "metadata": {
        "id": "j73CTpBXflpZ"
      },
      "execution_count": null,
      "outputs": []
    },
    {
      "cell_type": "code",
      "source": [
        "counter"
      ],
      "metadata": {
        "colab": {
          "base_uri": "https://localhost:8080/"
        },
        "id": "SDLSq8vCTREu",
        "outputId": "ab8141ad-a7d4-4bf3-b576-b48d366b748b"
      },
      "execution_count": null,
      "outputs": [
        {
          "output_type": "execute_result",
          "data": {
            "text/plain": [
              "Counter({'शिक्षक': 2,\n",
              "         'शिक्षा': 7,\n",
              "         'क्षेत्र': 3,\n",
              "         'रमा': 1,\n",
              "         'मान्': 13,\n",
              "         'सामुदायिक': 3,\n",
              "         'विद्यालय': 3,\n",
              "         'अध्यापन': 1,\n",
              "         'गराउ': 1,\n",
              "         'म': 8,\n",
              "         'चलचित्र': 78,\n",
              "         'मन': 92,\n",
              "         'छो': 19,\n",
              "         'वास्तविक': 9,\n",
              "         'घटना': 4,\n",
              "         'यहि': 6,\n",
              "         'नेपाल': 20,\n",
              "         'तमाम': 1,\n",
              "         'समस्या': 4,\n",
              "         'गुज्रीत': 1,\n",
              "         'सम्बन्धी': 3,\n",
              "         'बनोस': 1,\n",
              "         'अपेक्षा': 2,\n",
              "         'आसा': 1,\n",
              "         'पूरा': 6,\n",
              "         'धन्यवाद': 11,\n",
              "         'सरकारी': 4,\n",
              "         'स्कूल': 3,\n",
              "         'कलेज': 1,\n",
              "         'पढेर': 3,\n",
              "         'करीब': 1,\n",
              "         'बर्ष': 1,\n",
              "         'बिभिन्न': 1,\n",
              "         'बोडिङ्ग': 1,\n",
              "         'पढा': 1,\n",
              "         'हु': 13,\n",
              "         'फिल्म': 353,\n",
              "         'सन्देशमुलक': 4,\n",
              "         'सबै': 4,\n",
              "         'हेर्नुहोला': 1,\n",
              "         'शिव': 1,\n",
              "         'मन्दिर': 1,\n",
              "         'देख्न': 2,\n",
              "         'पा': 18,\n",
              "         'ठाउ': 2,\n",
              "         'सम्पुर्ण': 4,\n",
              "         'टिम': 17,\n",
              "         'विशेष': 4,\n",
              "         'केदार': 1,\n",
              "         'काली': 1,\n",
              "         'आ': 8,\n",
              "         'मारुनी': 3,\n",
              "         'विति': 1,\n",
              "         'सामान्य': 2,\n",
              "         'नाचनी': 1,\n",
              "         'आधारित': 12,\n",
              "         'कथा': 70,\n",
              "         'यती': 6,\n",
              "         'कहानी': 12,\n",
              "         'थिईन': 1,\n",
              "         'जव': 2,\n",
              "         'हेर': 34,\n",
              "         'साचै': 3,\n",
              "         'नेपाली': 98,\n",
              "         'इन्ड्रस्टी': 2,\n",
              "         'फड': 2,\n",
              "         'मार': 2,\n",
              "         'लाग्': 74,\n",
              "         'सवै': 1,\n",
              "         'हेर्न': 38,\n",
              "         'अनुरोध': 1,\n",
              "         'गर्द': 3,\n",
              "         'रेटिङ': 1,\n",
              "         'स्टार': 1,\n",
              "         'फ्लिम': 17,\n",
              "         'हेरिसकेपछी': 1,\n",
              "         'दर्सक': 3,\n",
              "         'साम्राज्ञि': 1,\n",
              "         'माया': 16,\n",
              "         'गर्': 4,\n",
              "         'उहा': 1,\n",
              "         'अभिनय': 26,\n",
              "         'जति': 14,\n",
              "         'तारिफ': 2,\n",
              "         'क': 7,\n",
              "         'एकद': 15,\n",
              "         'असल': 2,\n",
              "         'सङ्गत': 1,\n",
              "         'खराब': 1,\n",
              "         'घटनाक्रम': 1,\n",
              "         'छोटो': 1,\n",
              "         'भएपनि': 1,\n",
              "         'यतार्थ': 2,\n",
              "         'l': 2,\n",
              "         'धन्यबाद': 6,\n",
              "         'आगामी': 1,\n",
              "         'दिन': 2,\n",
              "         'लघु': 1,\n",
              "         'पाइयोस': 1,\n",
              "         'शुभकामना': 9,\n",
              "         'उपनियाश': 1,\n",
              "         'बनाउ': 39,\n",
              "         'बुचार': 1,\n",
              "         'बना': 27,\n",
              "         'भय': 9,\n",
              "         'कलकार': 2,\n",
              "         'छनोट': 1,\n",
              "         'उमेर': 1,\n",
              "         'पर': 10,\n",
              "         'बसन्ती': 1,\n",
              "         'बन्न': 6,\n",
              "         'सकेन': 3,\n",
              "         'ब': 25,\n",
              "         'सम्म': 4,\n",
              "         'खाते': 1,\n",
              "         'हावादारि': 1,\n",
              "         'छेउ': 2,\n",
              "         'टुप्पो': 4,\n",
              "         'कठै': 3,\n",
              "         'बिचारा': 1,\n",
              "         'निर्देशक': 5,\n",
              "         'कस्ता': 4,\n",
              "         'कलाकार': 28,\n",
              "         'इतिहास': 8,\n",
              "         'मजाक': 1,\n",
              "         'बनाइदि': 1,\n",
              "         'पहिला': 3,\n",
              "         'अध्यान': 1,\n",
              "         'हावा': 11,\n",
              "         'काहा': 1,\n",
              "         'पाहु': 1,\n",
              "         'हल': 10,\n",
              "         'दर्शक': 4,\n",
              "         'छि': 18,\n",
              "         'लाज': 3,\n",
              "         'किताब': 2,\n",
              "         'हेर्': 39,\n",
              "         'यत्ती': 3,\n",
              "         'आउ': 5,\n",
              "         'साच्चि': 4,\n",
              "         'तेस': 2,\n",
              "         'झन्डा': 3,\n",
              "         'सुन': 3,\n",
              "         'सुगन्ध': 3,\n",
              "         'थपिद': 2,\n",
              "         'दामि': 9,\n",
              "         'युटुब': 2,\n",
              "         'अनमोल': 1,\n",
              "         'अरु': 1,\n",
              "         'ठिक': 9,\n",
              "         'पात्र': 7,\n",
              "         'खै': 5,\n",
              "         'भ': 9,\n",
              "         'लागेन': 17,\n",
              "         'लिएर': 1,\n",
              "         'प': 2,\n",
              "         'थियोे': 1,\n",
              "         'बाटो': 1,\n",
              "         'टीपेर': 1,\n",
              "         'ल्य': 1,\n",
              "         'क्या': 8,\n",
              "         'डाइमंड': 1,\n",
              "         'शमशेर': 1,\n",
              "         'बेज्जत': 1,\n",
              "         'हल्': 1,\n",
              "         'रोए': 1,\n",
              "         'बस्तु': 15,\n",
              "         'भाग': 1,\n",
              "         'उतम': 1,\n",
              "         'उचित': 1,\n",
              "         'झल्लो': 2,\n",
              "         'फिलिम': 93,\n",
              "         'हजुर': 7,\n",
              "         'एस्तै': 1,\n",
              "         'जानू': 1,\n",
              "         'हामि': 2,\n",
              "         'रमाइलो': 9,\n",
              "         'गरैदि': 1,\n",
              "         'ल': 4,\n",
              "         'आलु': 2,\n",
              "         'मोभी': 6,\n",
              "         'प्रतीप': 1,\n",
              "         'हेरे': 17,\n",
              "         'पर्दिप': 1,\n",
              "         'चाई': 2,\n",
              "         'पागल': 5,\n",
              "         'खेल': 2,\n",
              "         'यत्रो': 1,\n",
              "         'सुपर': 4,\n",
              "         'स्टार्': 1,\n",
              "         'केरा': 1,\n",
              "         'राम्राे': 7,\n",
              "         'है': 15,\n",
              "         'कमिडि': 1,\n",
              "         'राेमान्टिक': 1,\n",
              "         'थुइक्क': 1,\n",
              "         'पैसा': 10,\n",
              "         'अनाथ': 1,\n",
              "         'बालबालि': 1,\n",
              "         'सहयोग': 1,\n",
              "         'धर्म': 1,\n",
              "         'नमिठो': 1,\n",
              "         'स्वर': 1,\n",
              "         'हिरुनी': 1,\n",
              "         'अरे': 1,\n",
              "         'वाह': 7,\n",
              "         'अत्ति': 1,\n",
              "         'सन्देशमूलक': 1,\n",
              "         'सलाम': 5,\n",
              "         'ज्ञानबर्दक': 1,\n",
              "         'चेतनामूलक': 1,\n",
              "         'निर्माता': 1,\n",
              "         'मनपर': 2,\n",
              "         'सि': 6,\n",
              "         'जगत': 2,\n",
              "         'शाय': 1,\n",
              "         'उत्कृष्ट': 19,\n",
              "         'आजसम्म': 2,\n",
              "         'अहो': 1,\n",
              "         'हृदय': 4,\n",
              "         'बिदार्क': 1,\n",
              "         'साच्ची': 1,\n",
              "         'बल्ल': 5,\n",
              "         'दम': 4,\n",
              "         'हिरो': 21,\n",
              "         'रोल': 4,\n",
              "         'फास्टर': 1,\n",
              "         'जरूरी': 1,\n",
              "         'अहिल': 6,\n",
              "         'तरुना': 2,\n",
              "         'तन्नेरी': 2,\n",
              "         'गम्भीर': 2,\n",
              "         'विषय': 4,\n",
              "         'उठान': 4,\n",
              "         'सम्पूर्ण': 8,\n",
              "         'निरमाण': 1,\n",
              "         'टीम': 2,\n",
              "         'बधाई': 11,\n",
              "         'आख': 2,\n",
              "         'चिम्लेर': 2,\n",
              "         'साथि': 5,\n",
              "         'बिश्वास': 3,\n",
              "         'नहु': 5,\n",
              "         'कुरा': 7,\n",
              "         'सत्य': 5,\n",
              "         'बुडा': 1,\n",
              "         'बुडि': 1,\n",
              "         'साटासाट': 2,\n",
              "         'त्यसै': 4,\n",
              "         'खुशी': 4,\n",
              "         'पाठ': 4,\n",
              "         'सिका': 4,\n",
              "         'होस': 3,\n",
              "         'मुबि': 12,\n",
              "         'बबाल': 8,\n",
              "         'यार': 21,\n",
              "         'साह्रै': 2,\n",
              "         'तेति': 6,\n",
              "         'चै': 8,\n",
              "         'दामी': 10,\n",
              "         'यस्त्': 2,\n",
              "         'फिलीम': 12,\n",
              "         'नबनाउ': 4,\n",
              "         'सारै': 27,\n",
              "         'मत': 3,\n",
              "         'लास्टै': 4,\n",
              "         'हासे': 1,\n",
              "         'नाई': 2,\n",
              "         'हेरिसक': 1,\n",
              "         'हेर्नुहोस': 1,\n",
              "         'आस्': 1,\n",
              "         'लागो': 5,\n",
              "         'चिन्ता': 1,\n",
              "         'दुर': 2,\n",
              "         'बनाउन': 14,\n",
              "         'खाेज': 2,\n",
              "         'नपुग': 4,\n",
              "         'दाल': 2,\n",
              "         'नुन': 4,\n",
              "         'जस्ताे': 6,\n",
              "         'सार्है': 5,\n",
              "         'स्कृप्ट': 1,\n",
              "         'राईटर': 1,\n",
              "         'डाईलग': 1,\n",
              "         'मास्टर': 1,\n",
              "         'गोद्': 1,\n",
              "         'रय': 1,\n",
              "         'ताइ': 5,\n",
              "         'तुइ': 8,\n",
              "         'जुनि': 4,\n",
              "         'चोटि': 6,\n",
              "         'बन्': 9,\n",
              "         'पाइँदैन': 2,\n",
              "         'हेरिरह': 1,\n",
              "         'अती': 4,\n",
              "         'अत्यन्तै': 4,\n",
              "         'उतकृस्ट': 1,\n",
              "         'मार्मिक': 7,\n",
              "         'जिवन्त': 2,\n",
              "         'बिपिन': 1,\n",
              "         'कार्': 1,\n",
              "         'जि': 5,\n",
              "         'अति': 22,\n",
              "         'नेपालि': 9,\n",
              "         'स्टेज': 1,\n",
              "         'मानचित्र': 1,\n",
              "         'बोक': 7,\n",
              "         'उत्कृस्ट': 2,\n",
              "         'बकवास': 5,\n",
              "         'हँसाउ': 1,\n",
              "         'वाइयात': 3,\n",
              "         'लभ': 4,\n",
              "         'स्टोरी': 7,\n",
              "         'गुणा': 1,\n",
              "         'समाज': 14,\n",
              "         'गाउ': 2,\n",
              "         'ईमानदार': 1,\n",
              "         'जिवन': 2,\n",
              "         'असलि': 1,\n",
              "         'यथार्थ': 13,\n",
              "         'जीवन': 4,\n",
              "         'सग': 1,\n",
              "         'मेल': 4,\n",
              "         'खा': 4,\n",
              "         'तितो': 4,\n",
              "         'मूभि': 1,\n",
              "         'मिल्': 2,\n",
              "         'सिक्': 3,\n",
              "         'सच्चा': 2,\n",
              "         'यथार्थता': 2,\n",
              "         'देखाउन': 2,\n",
              "         'खोज': 5,\n",
              "         'ताल': 2,\n",
              "         'यस्ताे': 3,\n",
              "         'जावाे': 1,\n",
              "         'वनाकाे': 1,\n",
              "         'सुन्दर': 3,\n",
              "         'बकबास': 1,\n",
              "         'झुर': 19,\n",
              "         'महाझुर': 1,\n",
              "         'फील्म': 5,\n",
              "         'जे': 2,\n",
              "         'राम्रै': 10,\n",
              "         'काट': 1,\n",
              "         'लाग': 2,\n",
              "         'मिनेट': 3,\n",
              "         'निन्द्रा': 3,\n",
              "         'लागेर': 2,\n",
              "         'सुत': 2,\n",
              "         'उठ': 2,\n",
              "         'सक': 2,\n",
              "         'रहेन': 5,\n",
              "         'एस्तो': 12,\n",
              "         'क्लाईमेक्स': 1,\n",
              "         'दमदार': 1,\n",
              "         'समग्र': 1,\n",
              "         'बनेकाे': 1,\n",
              "         'भनुम': 1,\n",
              "         'बिन्द': 1,\n",
              "         'शब्द': 5,\n",
              "         'बर्णन': 2,\n",
              "         'गर्न': 2,\n",
              "         'हेर्दाहेर्': 3,\n",
              "         'छाँयाङ्कन': 1,\n",
              "         'मज्जा': 8,\n",
              "         'रह': 3,\n",
              "         'राम्रोहो': 1,\n",
              "         'फिलम': 4,\n",
              "         'फिलिम्त': 1,\n",
              "         'योजश्तो': 1,\n",
              "         'थियेन': 1,\n",
              "         'फिल्म्': 2,\n",
              "         'भनेकाे': 2,\n",
              "         'याे': 5,\n",
              "         'हाे': 7,\n",
              "         'अतिनै': 1,\n",
              "         'चलचिञ': 2,\n",
              "         'र': 4,\n",
              "         'मजा': 5,\n",
              "         'उत्तम': 3,\n",
              "         'पाई': 1,\n",
              "         'हैत': 1,\n",
              "         'हास्': 1,\n",
              "         'यर': 1,\n",
              "         'मुड': 1,\n",
              "         'फ्रेस': 2,\n",
              "         'हेरेर': 17,\n",
              "         'खत्रा': 2,\n",
              "         'शास्त्र': 1,\n",
              "         'लेख्न': 2,\n",
              "         'छुट्या': 1,\n",
              "         'जिबन': 3,\n",
              "         'जात्रा': 1,\n",
              "         'होनि': 5,\n",
              "         'साचि': 3,\n",
              "         'भन्': 9,\n",
              "         'छाेयाे': 1,\n",
              "         'सामाजकाे': 1,\n",
              "         'बास्तबिकता': 5,\n",
              "         'रै': 20,\n",
              "         'भोलि': 3,\n",
              "         'लेपाली': 1,\n",
              "         'खोई': 1,\n",
              "         'नमि': 1,\n",
              "         'लौ': 1,\n",
              "         'त्यस': 1,\n",
              "         'केभयोत': 1,\n",
              "         'अन्त्यनै': 1,\n",
              "         'छैनहै': 1,\n",
              "         'केहो': 2,\n",
              "         'पारा': 3,\n",
              "         'वाउ': 1,\n",
              "         'मुबी': 1,\n",
              "         'मनै': 2,\n",
              "         'यशतो': 1,\n",
              "         'भरिन्न': 1,\n",
              "         'हाेकि': 1,\n",
              "         'यक': 1,\n",
              "         'द': 1,\n",
              "         'मुभी': 24,\n",
              "         'पराे': 1,\n",
              "         'हेरन': 2,\n",
              "         'पाईयाेस्': 1,\n",
              "         'आफू': 1,\n",
              "         'आफैँ': 1,\n",
              "         'महानायक': 1,\n",
              "         'ठान्नै': 1,\n",
              "         'झारपात': 1,\n",
              "         'मोबि': 2,\n",
              "         'पाउ': 3,\n",
              "         'भाग्यहो': 1,\n",
              "         'लास्तै': 2,\n",
              "         'इन्जोए': 1,\n",
              "         'गर': 16,\n",
              "         'तेस्काबाजे': 1,\n",
              "         'कमेडी': 6,\n",
              "         'हासी': 1,\n",
              "         'नसक्': 2,\n",
              "         'साच्चै': 4,\n",
              "         'नाम': 12,\n",
              "         'तेस्तै': 3,\n",
              "         'बर्स': 1,\n",
              "         'हासेर': 1,\n",
              "         'बित्': 1,\n",
              "         'छेउन': 4,\n",
              "         'टुप्पा': 1,\n",
              "         'धङ': 1,\n",
              "         'सकिएन': 2,\n",
              "         'नम्बर': 1,\n",
              "         'पुरै': 7,\n",
              "         'हेरी': 2,\n",
              "         'परेन': 8,\n",
              "         'सन्देश': 12,\n",
              "         'दि': 6,\n",
              "         'खाल्': 2,\n",
              "         'समाप्ति': 1,\n",
              "         'सहि': 5,\n",
              "         'ठि': 4,\n",
              "         'महि': 2,\n",
              "         'धन्नेबाद': 2,\n",
              "         'लु': 2,\n",
              "         'तरि': 2,\n",
              "         'चिलिम': 1,\n",
              "         'हसा': 2,\n",
              "         'बाहेक': 1,\n",
              "         'जय': 3,\n",
              "         'किशन': 1,\n",
              "         'बनाएपछी': 1,\n",
              "         'अली': 2,\n",
              "         'चलचीत्र': 2,\n",
              "         'बेइज्जत': 1,\n",
              "         'भिड': 2,\n",
              "         'मेहनत': 2,\n",
              "         'खर्च': 3,\n",
              "         'लास्ट': 8,\n",
              "         'बडाएर': 1,\n",
              "         'अन्त्य': 1,\n",
              "         'हत्तार': 1,\n",
              "         'खत्तम': 1,\n",
              "         'बर्बाद्': 1,\n",
              "         'यौटै': 1,\n",
              "         'डाइलग': 1,\n",
              "         'यक्': 1,\n",
              "         'दुक्': 1,\n",
              "         'भो': 5,\n",
              "         'खेर': 1,\n",
              "         'पारे': 1,\n",
              "         'मूबि': 1,\n",
              "         'हेरिसके': 1,\n",
              "         'हैट': 5,\n",
              "         'कहि': 6,\n",
              "         'थाकिन': 1,\n",
              "         'अन्तरजातीय': 2,\n",
              "         'विवाह': 2,\n",
              "         'रोचक': 2,\n",
              "         'पर्याे': 2,\n",
              "         'मुभि': 7,\n",
              "         'सर': 1,\n",
              "         'एस': 3,\n",
              "         'पन': 5,\n",
              "         'पुस्ता': 4,\n",
              "         'याद': 2,\n",
              "         'स': 1,\n",
              "         'पर्\\u200d': 1,\n",
              "         'चित्त': 3,\n",
              "         'नबुझ': 2,\n",
              "         'बुझेन': 2,\n",
              "         'सामाज': 1,\n",
              "         'चित्रण': 3,\n",
              "         'थाकिन्न': 1,\n",
              "         'खोट': 2,\n",
              "         'लगाउ': 2,\n",
              "         'ठाउँ': 3,\n",
              "         'मुलक': 4,\n",
              "         'जंगली': 1,\n",
              "         'ला': 3,\n",
              "         'हेरि': 2,\n",
              "         'सके': 2,\n",
              "         'कपी': 1,\n",
              "         'राम्रौ': 1,\n",
              "         'मेम्बर': 1,\n",
              "         'फाईट': 3,\n",
              "         'पक्ष': 3,\n",
              "         'नया': 14,\n",
              "         'चिज': 2,\n",
              "         'पाए': 3,\n",
              "         'वोव': 1,\n",
              "         'प्याक': 1,\n",
              "         'लगाएर': 1,\n",
              "         'सुत्': 1,\n",
              "         'निद्रा': 1,\n",
              "         'नलागे': 1,\n",
              "         'हारु': 1,\n",
              "         'दर्साक': 1,\n",
              "         'प्रन्क': 1,\n",
              "         'समय': 8,\n",
              "         'बर्बाद': 7,\n",
              "         'चाहिँ': 9,\n",
              "         'खासै': 5,\n",
              "         'चलेन': 1,\n",
              "         'ट्रेडिङ्': 1,\n",
              "         'खुसी': 4,\n",
              "         'आखा': 3,\n",
              "         'ज्योती': 1,\n",
              "         'गुमा': 1,\n",
              "         'दृस्य': 1,\n",
              "         'भावुक': 2,\n",
              "         'छ्या': 9,\n",
              "         'येस्तो': 6,\n",
              "         'डाटा': 1,\n",
              "         'सत्यानास': 1,\n",
              "         'जाबो': 1,\n",
              "         'हेराइ': 1,\n",
              "         'परो': 1,\n",
              "         'फीलीम': 1,\n",
              "         'नी': 2,\n",
              "         'रुवाएरै': 1,\n",
              "         'छोड्': 1,\n",
              "         'कथाबस्तु': 5,\n",
              "         'नहाली': 1,\n",
              "         'पका': 1,\n",
              "         'मासु': 3,\n",
              "         'कमजोरी': 1,\n",
              "         'नमिल': 1,\n",
              "         'ताईनतुई': 1,\n",
              "         'हिरोइन': 2,\n",
              "         'फ़िल्म': 1,\n",
              "         'पनी': 5,\n",
              "         'अनुहार': 3,\n",
              "         'छ्य': 2,\n",
              "         'बेक्कार': 1,\n",
              "         'घण्टा': 3,\n",
              "         'लस': 2,\n",
              "         'ब्याग': 1,\n",
              "         'राउनड': 1,\n",
              "         'मिउजिक': 2,\n",
              "         'न': 2,\n",
              "         'अफइ': 1,\n",
              "         'बनायेर': 2,\n",
              "         'अाफइ': 1,\n",
              "         'धित': 5,\n",
              "         'मरुन्जेल': 1,\n",
              "         'दाेस': 1,\n",
              "         'नदिउ': 1,\n",
              "         'देश': 5,\n",
              "         'छोइन': 1,\n",
              "         'भन्नी': 1,\n",
              "         'साबित': 1,\n",
              "         'गरा': 1,\n",
              "         'यस्': 5,\n",
              "         'भन': 2,\n",
              "         'हिन्': 5,\n",
              "         'परिवार': 1,\n",
              "         'सङ': 3,\n",
              "         'बसेर': 1,\n",
              "         'उथ्': 1,\n",
              "         'येति': 1,\n",
              "         'सनो': 1,\n",
              "         'छोतो': 1,\n",
              "         'तन्का': 2,\n",
              "         'स्लो': 2,\n",
              "         'आजभोलि': 2,\n",
              "         'मर': 3,\n",
              "         'हिरोनि': 1,\n",
              "         'चेन्ज': 1,\n",
              "         'हमेशा': 1,\n",
              "         'पारिवारिक': 2,\n",
              "         'टचर': 1,\n",
              "         'प्रेसर': 1,\n",
              "         'जोडी': 2,\n",
              "         'जिउ': 1,\n",
              "         'मर्': 1,\n",
              "         'दोसाँध': 1,\n",
              "         'धकेल्': 1,\n",
              "         'सरल': 1,\n",
              "         'मनमुटु': 1,\n",
              "         'बस्न': 1,\n",
              "         'सफल': 4,\n",
              "         'भयन': 3,\n",
              "         'गफ': 1,\n",
              "         'कती': 2,\n",
              "         'उत्कृट': 1,\n",
              "         'कला': 1,\n",
              "         'मौलिक': 2,\n",
              "         'बढाउन': 1,\n",
              "         'खुब': 1,\n",
              "         'हास': 1,\n",
              "         'स्याबास': 1,\n",
              "         'सामाजिक': 6,\n",
              "         'अहिलेसम्म': 3,\n",
              "         'सुपरहिट': 1,\n",
              "         'प्रतिक्षा': 4,\n",
              "         'अबसर': 1,\n",
              "         'जुर्': 1,\n",
              "         'पुरानो': 4,\n",
              "         'रिति': 1,\n",
              "         'रिवाज': 1,\n",
              "         'परिवेश': 3,\n",
              "         'पाइयोस्': 1,\n",
              "         'निर्माण': 3,\n",
              "         'टोली': 1,\n",
              "         'सस्कृति': 1,\n",
              "         'अ': 1,\n",
              "         'ईल': 1,\n",
              "         'लग्दोइन': 1,\n",
              "         'दाई': 1,\n",
              "         'नोइ': 1,\n",
              "         'बेग्लोइ': 1,\n",
              "         'छिटै': 1,\n",
              "         'हेर्नू': 5,\n",
              "         'रुवा': 1,\n",
              "         'ग': 2,\n",
              "         'धूम': 1,\n",
              "         'उति': 4,\n",
              "         'देस': 2,\n",
              "         'स्थिती': 1,\n",
              "         'उतार': 1,\n",
              "         'काथा': 1,\n",
              "         'चल्': 3,\n",
              "         'लास्त': 1,\n",
              "         'चाइ': 3,\n",
              "         'आफु': 1,\n",
              "         'शीत': 1,\n",
              "         'जा': 3,\n",
              "         'प्रेमी': 1,\n",
              "         'आर्': 1,\n",
              "         'पार्ट': 1,\n",
              "         'बाच': 1,\n",
              "         'कहिल्यै': 4,\n",
              "         'बिर्स': 1,\n",
              "         'आमा': 3,\n",
              "         'सन्तान': 2,\n",
              "         'जत्ती': 1,\n",
              "         'मर्दैन': 2,\n",
              "         'ऐ': 1,\n",
              "         'रुप': 2,\n",
              "         'सब': 1,\n",
              "         'समिश्रण': 1,\n",
              "         'हित': 1,\n",
              "         'छुट्टै': 1,\n",
              "         'प्रस्तुती': 1,\n",
              "         'अब्बल': 2,\n",
              "         'बनोस्': 2,\n",
              "         'कता': 1,\n",
              "         'भाषा': 7,\n",
              "         'नत': 4,\n",
              "         'दुःख': 1,\n",
              "         'रोमान्टिक': 2,\n",
              "         'बडो': 1,\n",
              "         'गज्जव': 1,\n",
              "         'गाउँ': 4,\n",
              "         'बिगर': 1,\n",
              "         'सोचाई': 1,\n",
              "         'अाऐन': 1,\n",
              "         'बादाई': 1,\n",
              "         'मध्यम': 1,\n",
              "         'बर्ग': 1,\n",
              "         'शैलीशीत': 1,\n",
              "         'अतेन्त': 1,\n",
              "         'आहा': 4,\n",
              "         'सान्दर्भिक': 5,\n",
              "         'सिन': 5,\n",
              "         'सानो': 4,\n",
              "         'मूवी': 4,\n",
              "         'सच्चि': 1,\n",
              "         'टक्कर': 3,\n",
              "         'छमता': 1,\n",
              "         'यों': 1,\n",
              "         'रु': 1,\n",
              "         'खास': 5,\n",
              "         'पढे': 1,\n",
              "         'लेख': 1,\n",
              "         'शिक्षित': 1,\n",
              "         'युवा': 1,\n",
              "         'वर्ग': 1,\n",
              "         'लायक': 2,\n",
              "         'बास्तब': 1,\n",
              "         'आजकल': 1,\n",
              "         'बुज्दैनन': 1,\n",
              "         'समसामयिक': 5,\n",
              "         'बिसय': 2,\n",
              "         'बुज्': 2,\n",
              "         'सामर्थ्य': 1,\n",
              "         'राख्': 4,\n",
              "         'आँसु': 3,\n",
              "         'थाम्नै': 1,\n",
              "         'मर्मस्पर्शी': 1,\n",
              "         'रूवा': 1,\n",
              "         'छोरा': 2,\n",
              "         'हेर्नै': 2,\n",
              "         'अनगिन्ती': 1,\n",
              "         'झरे': 1,\n",
              "         'पारीवारीक': 1,\n",
              "         'सान्दर्भीक': 1,\n",
              "         'सुपरl': 1,\n",
              "         'बुबा': 1,\n",
              "         'बुज्न': 1,\n",
              "         'मातिएर': 1,\n",
              "         'इज्जत': 2,\n",
              "         'लुट्': 2,\n",
              "         'प्': 1,\n",
              "         'ब्वाए': 1,\n",
              "         'गलफेरन': 2,\n",
              "         'बनाउँन': 2,\n",
              "         'भनि': 2,\n",
              "         'बुझ': 2,\n",
              "         'लासट': 2,\n",
              "         'आएर': 2,\n",
              "         'चाहि': 3,\n",
              "         'केटी': 5,\n",
              "         'केटि': 2,\n",
              "         'जात': 2,\n",
              "         'जना': 1,\n",
              "         'दबल': 1,\n",
              "         'दुबै': 2,\n",
              "         'मिलेर': 2,\n",
              "         'बेकार': 4,\n",
              "         'टायम': 1,\n",
              "         'सत्यनास': 1,\n",
              "         'ताइन': 4,\n",
              "         'रोमान्चक': 1,\n",
              "         'बिपक्ष': 1,\n",
              "         'संधै': 1,\n",
              "         'निष्पक्ष': 1,\n",
              "         'परिवर्तन': 2,\n",
              "         'पी': 1,\n",
              "         'आवाज': 3,\n",
              "         'तै': 2,\n",
              "         'बोरिङ': 1,\n",
              "         'गित': 5,\n",
              "         'पुजा': 1,\n",
              "         'अाकाश': 1,\n",
              "         'जाेडि': 1,\n",
              "         'झनै': 1,\n",
              "         'अभीनय': 1,\n",
              "         'गीत': 5,\n",
              "         'यकद': 1,\n",
              "         'पुआ': 1,\n",
              "         'जिन्दगी': 3,\n",
              "         'मधे': 1,\n",
              "         'धडकन': 1,\n",
              "         'बेस्ट': 1,\n",
              "         'लभस्टोरी': 1,\n",
              "         'रबिन': 1,\n",
              "         'इसा': 1,\n",
              "         'नाटक': 4,\n",
              "         'देख्': 2,\n",
              "         'रितु': 1,\n",
              "         'बद्ला': 1,\n",
              "         'कलाकारकाे': 1,\n",
              "         'लेखक': 2,\n",
              "         'सोचे': 1,\n",
              "         'पाट': 3,\n",
              "         'लेख्': 4,\n",
              "         'कानुन': 3,\n",
              "         'बमोजिम': 3,\n",
              "         'वितरण': 1,\n",
              "         'हर': 1,\n",
              "         'सफलता': 5,\n",
              "         'हासिल': 1,\n",
              "         'सत्यतथ्य': 1,\n",
              "         'नेपािल': 1,\n",
              "         'िफल्म': 1,\n",
              "         'लेभल': 3,\n",
              "         'पुग्': 1,\n",
              "         'मुलुक': 2,\n",
              "         'लेखन': 1,\n",
              "         'निर्देसन': 1,\n",
              "         'लागी': 3,\n",
              "         'हुब्': 1,\n",
              "         'नसोच्': 1,\n",
              "         'अबो': 1,\n",
              "         'सो': 1,\n",
              "         'बदलम': 1,\n",
              "         'सिनेमा': 1,\n",
              "         'सुभकामना': 1,\n",
              "         'सबैइ': 1,\n",
              "         'साउथ': 2,\n",
              "         'बन्या': 1,\n",
              "         'मसला': 2,\n",
              "         'मिक्स्': 1,\n",
              "         'थाले': 1,\n",
              "         'चाह': 1,\n",
              "         'अन्तरास्ट्रिय': 1,\n",
              "         'स्त': 1,\n",
              "         'थाल': 2,\n",
              "         'एकातिर': 1,\n",
              "         'अर्कोतिर': 1,\n",
              "         'ठुलो': 3,\n",
              "         'बजेत': 1,\n",
              "         'बा': 1,\n",
              "         'लगानी': 4,\n",
              "         'उठाउन': 1,\n",
              "         'गार्हो': 1,\n",
              "         'पोष्टर': 1,\n",
              "         'अन्तर्राष्ट्रिय': 1,\n",
              "         'स्तर': 3,\n",
              "         'क्यार्': 1,\n",
              "         'गुदि': 1,\n",
              "         'धमला': 1,\n",
              "         'बुढि': 1,\n",
              "         'टिकटक': 1,\n",
              "         'गतिलो': 4,\n",
              "         'हुनेे': 1,\n",
              "         'टेर्लर': 1,\n",
              "         'उहीँ': 1,\n",
              "         'घिसे': 1,\n",
              "         'पिट': 1,\n",
              "         'पुरा': 3,\n",
              "         'शैली': 2,\n",
              "         'दृश्य': 2,\n",
              "         'ट्रेलर': 2,\n",
              "         'परम्परागत': 1,\n",
              "         'बौध्दिक': 1,\n",
              "         'गज्जब': 1,\n",
              "         'डायलग': 1,\n",
              "         'ब्याक': 2,\n",
              "         'अबस्यक': 1,\n",
              "         'डाइलोग': 1,\n",
              "         'संघ': 2,\n",
              "         'सुनिएन': 1,\n",
              "         'बल': 2,\n",
              "         'हुदैन': 2,\n",
              "         'यस्ता': 7,\n",
              "         'सुर': 1,\n",
              "         'बलिवुड': 1,\n",
              "         'नहेरी': 1,\n",
              "         'सिधै': 1,\n",
              "         'हलिवुड': 1,\n",
              "         'भरिदैन': 1,\n",
              "         'आशु': 2,\n",
              "         'मुहान': 1,\n",
              "         'फुटेर': 1,\n",
              "         'साहै': 1,\n",
              "         'अजै': 1,\n",
              "         'हिट': 6,\n",
              "         'कत्ति': 1,\n",
              "         'भाबुक': 2,\n",
              "         'पल्ट': 2,\n",
              "         'हेरिरहु': 1,\n",
              "         'बोर': 1,\n",
              "         'चित्ता': 1,\n",
              "         'मिल': 4,\n",
              "         'ना': 1,\n",
              "         'छाडा': 1,\n",
              "         'उत्ताउलो': 1,\n",
              "         'बोल्': 2,\n",
              "         'बनाएर': 3,\n",
              "         'पहिल': 1,\n",
              "         'रसा': 1,\n",
              "         'युग': 2,\n",
              "         'प्रभाव': 1,\n",
              "         'हुन्': 3,\n",
              "         'प्रकारान्तर': 1,\n",
              "         'प्रभावशाली': 1,\n",
              "         'भोली': 1,\n",
              "         'टेलीफील्म': 1,\n",
              "         'जमाना': 4,\n",
              "         'अाज': 3,\n",
              "         'मानेर': 1,\n",
              "         'हेरिन्': 1,\n",
              "         'बाल्यकाल': 1,\n",
              "         'मनन': 1,\n",
              "         'दृष्टि': 1,\n",
              "         'काल्पनिक': 1,\n",
              "         'अलिकति': 1,\n",
              "         'मिस': 1,\n",
              "         'दुरुस्तै': 1,\n",
              "         'प्रस्तुत': 1,\n",
              "         'अन्तिम': 5,\n",
              "         'fight': 2,\n",
              "         'त्यति': 1,\n",
              "         'आवस्यक': 1,\n",
              "         'film': 4,\n",
              "         'हुनै': 1,\n",
              "         'मानसिकता': 1,\n",
              "         'अलिकती': 1,\n",
              "         'खल्लो': 1,\n",
              "         'अै': 1,\n",
              "         'फ़िल्म': 3,\n",
              "         'कही': 2,\n",
              "         'साउंड': 1,\n",
              "         'हराय': 1,\n",
              "         'कवाडी': 2,\n",
              "         'फाइट': 2,\n",
              "         'आउँ': 2,\n",
              "         'बेलाँ': 1,\n",
              "         'साउन': 2,\n",
              "         'खतरा': 1,\n",
              "         'नआ': 1,\n",
              "         'रीस': 1,\n",
              "         'ऊठ': 1,\n",
              "         'सिस्टम': 1,\n",
              "         'नभय': 1,\n",
              "         'डाइलक': 1,\n",
              "         'घन्टा': 3,\n",
              "         'साग': 2,\n",
              "         'खाएर': 1,\n",
              "         'पहेलो': 1,\n",
              "         'दार्हा': 1,\n",
              "         'देखाउ': 1,\n",
              "         'sound': 1,\n",
              "         'ओफ्फ': 1,\n",
              "         'सच्याइयोस': 1,\n",
              "         'लागे': 1,\n",
              "         'लासत': 1,\n",
              "         'खोइ': 4,\n",
              "         'देखाएन': 1,\n",
              "         'हिरोईन': 4,\n",
              "         'बुवा': 3,\n",
              "         'एड': 1,\n",
              "         'मिउट': 1,\n",
              "         'कसतो': 1,\n",
              "         'झलव': 1,\n",
              "         'अावज': 1,\n",
              "         'लुट': 1,\n",
              "         'रिमेक': 1,\n",
              "         'कम्ति': 2,\n",
              "         'हिस्तोरी': 1,\n",
              "         'बराबर': 1,\n",
              "         'आवाजै': 1,\n",
              "         'moviko': 1,\n",
              "         'ईज्जत': 1,\n",
              "         'फाल्न': 1,\n",
              "         'राख': 1,\n",
              "         'पावोर': 1,\n",
              "         'फुल': 2,\n",
              "         'कस्लै': 1,\n",
              "         'मोभि': 1,\n",
              "         'हाजिर': 2,\n",
              "         'गरुम': 1,\n",
              "         'यता': 2,\n",
              "         'ठ्याक्': 1,\n",
              "         'आफन्त': 1,\n",
              "         'कपि': 3,\n",
              "         'भन्नू': 3,\n",
              "         'चोर': 1,\n",
              "         'थामेर': 1,\n",
              "         'फर्वाड': 1,\n",
              "         'उस्': 1,\n",
              "         'भुमि': 2,\n",
              "         'सम्बाद': 1,\n",
              "         'निर्देशन': 4,\n",
              "         'केहि': 1,\n",
              "         'तालमेल': 1,\n",
              "         'देखिदैन': 1,\n",
              "         'काहानि': 3,\n",
              "         'प्रस्तुति': 2,\n",
              "         'एक्टिङ': 4,\n",
              "         'तल्लो': 1,\n",
              "         'नायि': 1,\n",
              "         'छा': 1,\n",
              "         'लोभलाग्': 1,\n",
              "         'रोमाञ्चित': 1,\n",
              "         'कन्टेन्ट': 1,\n",
              "         'हीरोइन': 1,\n",
              "         'नौटन्': 1,\n",
              "         'बडी': 1,\n",
              "         'बच्चा': 6,\n",
              "         'कडा': 1,\n",
              "         ...})"
            ]
          },
          "metadata": {},
          "execution_count": 95
        }
      ]
    },
    {
      "cell_type": "code",
      "source": [
        "print(f\"There are {len(counter)} unique words in the corpus\")"
      ],
      "metadata": {
        "colab": {
          "base_uri": "https://localhost:8080/"
        },
        "id": "4afF5z5iQjFG",
        "outputId": "2e9017eb-2084-4d3c-9fb0-cb68cec4db70"
      },
      "execution_count": null,
      "outputs": [
        {
          "output_type": "stream",
          "name": "stdout",
          "text": [
            "There are 1976 unique words in the corpus\n"
          ]
        }
      ]
    },
    {
      "cell_type": "code",
      "source": [
        "num_words = len(counter)\n",
        "# max number of words in a sequence\n",
        "max_length = 12"
      ],
      "metadata": {
        "id": "4B2aYJ5_SDPV"
      },
      "execution_count": null,
      "outputs": []
    },
    {
      "cell_type": "code",
      "source": [
        "from sklearn.model_selection import train_test_split\n",
        "X_train, X_test, y_train, y_test = train_test_split(X, y, test_size=0.2, random_state = 101)"
      ],
      "metadata": {
        "id": "-8Ig51HzSWFn"
      },
      "execution_count": 229,
      "outputs": []
    },
    {
      "cell_type": "code",
      "source": [
        "type(X_train)"
      ],
      "metadata": {
        "colab": {
          "base_uri": "https://localhost:8080/"
        },
        "id": "MFfPAuj_Uj9r",
        "outputId": "4231a931-1c68-47ed-b063-7607dc5c936c"
      },
      "execution_count": 230,
      "outputs": [
        {
          "output_type": "execute_result",
          "data": {
            "text/plain": [
              "pandas.core.series.Series"
            ]
          },
          "metadata": {},
          "execution_count": 230
        }
      ]
    },
    {
      "cell_type": "code",
      "source": [
        "X_train.iloc[0]"
      ],
      "metadata": {
        "id": "lMv1Fr0aUyBj",
        "outputId": "9fe00dff-f3ad-4412-abb5-a5338650cf31",
        "colab": {
          "base_uri": "https://localhost:8080/",
          "height": 35
        }
      },
      "execution_count": 231,
      "outputs": [
        {
          "output_type": "execute_result",
          "data": {
            "text/plain": [
              "'नेपाली फिल्म हेर् परिवर्तन थाल् नेपाली फिल्म'"
            ],
            "application/vnd.google.colaboratory.intrinsic+json": {
              "type": "string"
            }
          },
          "metadata": {},
          "execution_count": 231
        }
      ]
    },
    {
      "cell_type": "code",
      "source": [
        "from keras.preprocessing.text import Tokenizer\n",
        "\n",
        "tokenizer = Tokenizer(num_words = num_words)\n",
        "tokenizer.fit_on_texts(X_train)"
      ],
      "metadata": {
        "id": "NK3eaC-BS26F"
      },
      "execution_count": 232,
      "outputs": []
    },
    {
      "cell_type": "code",
      "source": [
        "word_index = tokenizer.word_index\n",
        "word_index"
      ],
      "metadata": {
        "colab": {
          "base_uri": "https://localhost:8080/"
        },
        "id": "zNunk_laTGhq",
        "outputId": "2cd0bc7e-c6ce-4624-d375-e1dd22b53675"
      },
      "execution_count": 233,
      "outputs": [
        {
          "output_type": "execute_result",
          "data": {
            "text/plain": [
              "{'फिल्म': 1,\n",
              " 'नेपाली': 2,\n",
              " 'फिलिम': 3,\n",
              " 'मन': 4,\n",
              " 'चलचित्र': 5,\n",
              " 'कथा': 6,\n",
              " 'लाग्': 7,\n",
              " 'हेर्': 8,\n",
              " 'बनाउ': 9,\n",
              " 'हेर्न': 10,\n",
              " 'हेर': 11,\n",
              " 'ब': 12,\n",
              " 'बना': 13,\n",
              " 'कलाकार': 14,\n",
              " 'अभिनय': 15,\n",
              " 'यार': 16,\n",
              " 'हिरो': 17,\n",
              " 'मुभी': 18,\n",
              " 'रै': 19,\n",
              " 'झुर': 20,\n",
              " 'छो': 21,\n",
              " 'हेरेर': 22,\n",
              " 'नेपाल': 23,\n",
              " 'गर': 24,\n",
              " 'अति': 25,\n",
              " 'सारै': 26,\n",
              " 'पा': 27,\n",
              " 'एकद': 28,\n",
              " 'छि': 29,\n",
              " 'माया': 30,\n",
              " 'फ्लिम': 31,\n",
              " 'नया': 32,\n",
              " 'उत्कृष्ट': 33,\n",
              " 'टिम': 34,\n",
              " 'हेरे': 35,\n",
              " 'नाम': 36,\n",
              " 'हु': 37,\n",
              " 'एस्तो': 38,\n",
              " 'बस्तु': 39,\n",
              " 'बनाउन': 40,\n",
              " 'आधारित': 41,\n",
              " 'समाज': 42,\n",
              " 'है': 43,\n",
              " 'लागेन': 44,\n",
              " 'जति': 45,\n",
              " 'यथार्थ': 46,\n",
              " 'मुबि': 47,\n",
              " 'बधाई': 48,\n",
              " 'चाहिँ': 49,\n",
              " 'छ्या': 50,\n",
              " 'पर': 51,\n",
              " 'भन्': 52,\n",
              " 'रमाइलो': 53,\n",
              " 'भय': 54,\n",
              " 'शुभकामना': 55,\n",
              " 'नेपालि': 56,\n",
              " 'वास्तविक': 57,\n",
              " 'राम्रै': 58,\n",
              " 'कहानी': 59,\n",
              " 'सन्देश': 60,\n",
              " 'धन्यवाद': 61,\n",
              " 'सम्पूर्ण': 62,\n",
              " 'मज्जा': 63,\n",
              " 'दामि': 64,\n",
              " 'पैसा': 65,\n",
              " 'दामी': 66,\n",
              " 'बन्': 67,\n",
              " 'हल': 68,\n",
              " 'भ': 69,\n",
              " 'पात्र': 70,\n",
              " 'परेन': 71,\n",
              " 'मुभि': 72,\n",
              " 'लास्ट': 73,\n",
              " 'क': 74,\n",
              " 'इतिहास': 75,\n",
              " 'आ': 76,\n",
              " 'हजुर': 77,\n",
              " 'मार्मिक': 78,\n",
              " 'स्टोरी': 79,\n",
              " 'कुरा': 80,\n",
              " 'यस्ता': 81,\n",
              " 'चै': 82,\n",
              " 'कहि': 83,\n",
              " 'मोभी': 84,\n",
              " 'मान्': 85,\n",
              " 'धन्यबाद': 86,\n",
              " 'यती': 87,\n",
              " 'समय': 88,\n",
              " 'खासै': 89,\n",
              " 'तेति': 90,\n",
              " 'रहेन': 91,\n",
              " 'खास': 92,\n",
              " 'तुइ': 93,\n",
              " 'बबाल': 94,\n",
              " 'फिलीम': 95,\n",
              " 'बोक': 96,\n",
              " 'बास्तबिकता': 97,\n",
              " 'सलाम': 98,\n",
              " 'शब्द': 99,\n",
              " 'खोज': 100,\n",
              " 'सान्दर्भिक': 101,\n",
              " 'वाह': 102,\n",
              " 'क्या': 103,\n",
              " 'हिट': 104,\n",
              " 'तुई': 105,\n",
              " 'पागल': 106,\n",
              " 'जि': 107,\n",
              " 'फील्म': 108,\n",
              " 'शिक्षा': 109,\n",
              " 'येस्तो': 110,\n",
              " 'पूरा': 111,\n",
              " 'बन्न': 112,\n",
              " 'हाे': 113,\n",
              " 'राम्राे': 114,\n",
              " 'ठिक': 115,\n",
              " 'कथाबस्तु': 116,\n",
              " 'याे': 117,\n",
              " 'सामाजिक': 118,\n",
              " 'होनि': 119,\n",
              " 'सिन': 120,\n",
              " 'बकवास': 121,\n",
              " 'भाषा': 122,\n",
              " 'साथि': 123,\n",
              " 'जस्ताे': 124,\n",
              " 'साच्चै': 125,\n",
              " 'ताइ': 126,\n",
              " 'र': 127,\n",
              " 'म': 128,\n",
              " 'आउ': 129,\n",
              " 'हावा': 130,\n",
              " 'सफल': 131,\n",
              " 'छेउन': 132,\n",
              " 'अती': 133,\n",
              " 'दि': 134,\n",
              " 'बच्चा': 135,\n",
              " 'पाठ': 136,\n",
              " 'सिका': 137,\n",
              " 'राख्': 138,\n",
              " 'movie': 139,\n",
              " 'सत्य': 140,\n",
              " 'अहिल': 141,\n",
              " 'विषय': 142,\n",
              " 'कहिल्यै': 143,\n",
              " 'लास्टै': 144,\n",
              " 'गित': 145,\n",
              " 'उत्ति': 146,\n",
              " 'साला': 147,\n",
              " 'फिलम': 148,\n",
              " 'टुप्पो': 149,\n",
              " 'film': 150,\n",
              " 'खै': 151,\n",
              " 'हेर्नू': 152,\n",
              " 'सि': 153,\n",
              " 'खोइ': 154,\n",
              " 'सुपर': 155,\n",
              " 'सफलता': 156,\n",
              " 'प्रतिक्षा': 157,\n",
              " 'बल्ल': 158,\n",
              " 'सन्देशमुलक': 159,\n",
              " 'अन्तिम': 160,\n",
              " 'ताई': 161,\n",
              " 'पन': 162,\n",
              " 'नत': 163,\n",
              " 'यहि': 164,\n",
              " 'खाल': 165,\n",
              " 'बर्बाद': 166,\n",
              " 'आहा': 167,\n",
              " 'समसामयिक': 168,\n",
              " 'लभ': 169,\n",
              " 'रोल': 170,\n",
              " 'खुसी': 171,\n",
              " 'सबै': 172,\n",
              " 'कमेडी': 173,\n",
              " 'ल': 174,\n",
              " 'पुस्ता': 175,\n",
              " 'हैट': 176,\n",
              " 'दम': 177,\n",
              " 'सरकारी': 178,\n",
              " 'मुलक': 179,\n",
              " 'धित': 180,\n",
              " 'सानो': 181,\n",
              " 'गीत': 182,\n",
              " 'नुन': 183,\n",
              " 'अत्यन्तै': 184,\n",
              " 'आखा': 185,\n",
              " 'काहानि': 186,\n",
              " 'एक्टिङ': 187,\n",
              " 'स्तर': 188,\n",
              " 'बिना': 189,\n",
              " 'अर्थ': 190,\n",
              " 'भो': 191,\n",
              " 'यत्ती': 192,\n",
              " 'मासु': 193,\n",
              " 'हार्दिक': 194,\n",
              " 'जीवन': 195,\n",
              " 'मेल': 196,\n",
              " 'खा': 197,\n",
              " 'पुरानो': 198,\n",
              " 'घण्टा': 199,\n",
              " 'मिनेट': 200,\n",
              " 'निर्देशन': 201,\n",
              " 'निर्देशक': 202,\n",
              " 'यौटा': 203,\n",
              " 'भासा': 204,\n",
              " 'एस': 205,\n",
              " 'पाउ': 206,\n",
              " 'पक्ष': 207,\n",
              " 'घटना': 208,\n",
              " 'जिन्दगी': 209,\n",
              " 'गर्द': 210,\n",
              " 'कानुन': 211,\n",
              " 'बमोजिम': 212,\n",
              " 'हा': 213,\n",
              " 'गाउँ': 214,\n",
              " 'भयन': 215,\n",
              " 'नाटक': 216,\n",
              " 'मर': 217,\n",
              " 'पारा': 218,\n",
              " 'उठान': 219,\n",
              " 'नहु': 220,\n",
              " 'बिश्वास': 221,\n",
              " 'खुशी': 222,\n",
              " 'जिबन': 223,\n",
              " 'यस्': 224,\n",
              " 'धैरे': 225,\n",
              " 'लागो': 226,\n",
              " 'सङ': 227,\n",
              " 'उति': 228,\n",
              " 'खर्च': 229,\n",
              " 'देश': 230,\n",
              " 'कहाँ': 231,\n",
              " 'मिल': 232,\n",
              " 'निन्द्रा': 233,\n",
              " 'गतिलो': 234,\n",
              " 'सार्है': 235,\n",
              " 'नबनाउ': 236,\n",
              " 'आवाज': 237,\n",
              " 'साचै': 238,\n",
              " 'पाट': 239,\n",
              " 'सम्पुर्ण': 240,\n",
              " 'चल्': 241,\n",
              " 'पन्जा': 242,\n",
              " 'केटी': 243,\n",
              " 'लेख्': 244,\n",
              " 'येस्तै': 245,\n",
              " 'असाध्यै': 246,\n",
              " 'आमा': 247,\n",
              " 'विशेष': 248,\n",
              " 'बेकार': 249,\n",
              " 'चोटि': 250,\n",
              " 'हिरोईन': 251,\n",
              " 'साचि': 252,\n",
              " 'चित्रण': 253,\n",
              " 'ठि': 254,\n",
              " 'अहिलेसम्म': 255,\n",
              " 'सोच': 256,\n",
              " 'पाए': 257,\n",
              " 'निर्माण': 258,\n",
              " 'तेस्तै': 259,\n",
              " 'पुरै': 260,\n",
              " 'स्कूल': 261,\n",
              " 'पनी': 262,\n",
              " 'आशा': 263,\n",
              " 'चाइ': 264,\n",
              " 'बुवा': 265,\n",
              " 'चित्त': 266,\n",
              " 'अाज': 267,\n",
              " 'मारुनी': 268,\n",
              " 'new': 269,\n",
              " 'घन्टा': 270,\n",
              " 'परिवर्तन': 271,\n",
              " 'थाल्': 272,\n",
              " 'हेर्दाहेर्': 273,\n",
              " 'सहि': 274,\n",
              " 'याद': 275,\n",
              " 'जय': 276,\n",
              " 'नपुग': 277,\n",
              " 'संदेश': 278,\n",
              " 'प्रस्तुति': 279,\n",
              " 'लेभल': 280,\n",
              " 'साह्रै': 281,\n",
              " 'लेख्न': 282,\n",
              " 'कपि': 283,\n",
              " 'फ्रेस': 284,\n",
              " 'गर्न': 285,\n",
              " 'नाच': 286,\n",
              " 'सम्म': 287,\n",
              " 'चलचिञ': 288,\n",
              " 'मजा': 289,\n",
              " 'कमेडि': 290,\n",
              " 'लिन': 291,\n",
              " 'सामान्य': 292,\n",
              " 'उत्कृस्ट': 293,\n",
              " 'मेहनत': 294,\n",
              " 'तयार': 295,\n",
              " 'वाइयात': 296,\n",
              " 'बक्वास': 297,\n",
              " 'परिवेश': 298,\n",
              " 'दुर': 299,\n",
              " 'भुमि': 300,\n",
              " 'जा': 301,\n",
              " 'सकिएन': 302,\n",
              " 'साधारण': 303,\n",
              " 'भन्नू': 304,\n",
              " 'टुप्पु': 305,\n",
              " 'महि': 306,\n",
              " 'संघ': 307,\n",
              " 'जनता': 308,\n",
              " 'देखाउन': 309,\n",
              " 'घट': 310,\n",
              " 'प्रगति': 311,\n",
              " 'कम्ति': 312,\n",
              " 'गुना': 313,\n",
              " 'समस्या': 314,\n",
              " 'acting': 315,\n",
              " 'तितो': 316,\n",
              " 'बढि': 317,\n",
              " 'तेस्तो': 318,\n",
              " 'आजभोलि': 319,\n",
              " 'केहो': 320,\n",
              " 'तरुना': 321,\n",
              " 'तन्नेरी': 322,\n",
              " 'गम्भीर': 323,\n",
              " 'दिन': 324,\n",
              " 'पल्ट': 325,\n",
              " 'रहेछन': 326,\n",
              " 'लाग्याे': 327,\n",
              " 'इन्डस्ट्री': 328,\n",
              " 'कालै': 329,\n",
              " 'नाई': 330,\n",
              " 'सुन': 331,\n",
              " 'सुगन्ध': 332,\n",
              " 'फिल्मी': 333,\n",
              " 'ग': 334,\n",
              " 'प': 335,\n",
              " 'आख': 336,\n",
              " 'चिम्लेर': 337,\n",
              " 'साटासाट': 338,\n",
              " 'त्यसै': 339,\n",
              " 'होस': 340,\n",
              " 'झ्याउ': 341,\n",
              " 'मौलिक': 342,\n",
              " 'दर्शक': 343,\n",
              " 'ताइन': 344,\n",
              " 'चाई': 345,\n",
              " 'धनी': 346,\n",
              " 'एउटा': 347,\n",
              " 'गलती': 348,\n",
              " 'अर्को': 349,\n",
              " 'सजाय': 350,\n",
              " 'भावुक': 351,\n",
              " 'रुप': 352,\n",
              " 'फुल': 353,\n",
              " 'ट्रेलर': 354,\n",
              " 'लगानी': 355,\n",
              " 'लाज': 356,\n",
              " 'गर्': 357,\n",
              " 'युग': 358,\n",
              " 'शैली': 359,\n",
              " 'हुन्': 360,\n",
              " 'तन्का': 361,\n",
              " 'यत्ति': 362,\n",
              " 'दुबै': 363,\n",
              " 'थुक्क': 364,\n",
              " 'बजार': 365,\n",
              " 'एनकानुन': 366,\n",
              " 'लेखक': 367,\n",
              " 'पढेर': 368,\n",
              " 'क्षेत्र': 369,\n",
              " 'थाल': 370,\n",
              " 'पाउँ': 371,\n",
              " 'बिषय': 372,\n",
              " 'फिल्म्': 373,\n",
              " 'मिउजिक': 374,\n",
              " 'सुत': 375,\n",
              " 'उठ': 376,\n",
              " 'सक': 377,\n",
              " 'लु': 378,\n",
              " 'धन्नेबाद': 379,\n",
              " 'हिन्': 380,\n",
              " 'अली': 381,\n",
              " 'हिरोइन': 382,\n",
              " 'कस्ता': 383,\n",
              " 'मनै': 384,\n",
              " 'अब्बल': 385,\n",
              " 'युटुब': 386,\n",
              " 'जव': 387,\n",
              " 'इन्ड्रस्टी': 388,\n",
              " 'फड': 389,\n",
              " 'मार': 390,\n",
              " 'जरुरी': 391,\n",
              " 'नेपालिपन': 392,\n",
              " 'लाग': 393,\n",
              " 'छेउ': 394,\n",
              " 'उद्योग': 395,\n",
              " 'भेटाए': 396,\n",
              " 'समेट': 397,\n",
              " 'नगर्नुहोला': 398,\n",
              " 'फ़िल्म': 399,\n",
              " 'छक्': 400,\n",
              " 'हामि': 401,\n",
              " 'पराउ': 402,\n",
              " 'केटि': 403,\n",
              " 'हुदैन': 404,\n",
              " 'यता': 405,\n",
              " 'हाजिर': 406,\n",
              " 'साउन': 407,\n",
              " 'लस': 408,\n",
              " 'काहानी': 409,\n",
              " 'खोट': 410,\n",
              " 'ठाउँ': 411,\n",
              " 'सुन्दर': 412,\n",
              " 'बनायेर': 413,\n",
              " 'खाल्': 414,\n",
              " 'क्लाइमेक्स': 415,\n",
              " 'का': 416,\n",
              " 'मत': 417,\n",
              " 'भिड': 418,\n",
              " 'एक्टिङ्ग': 419,\n",
              " 'नलाग्': 420,\n",
              " 'सुरु': 421,\n",
              " 'दिल': 422,\n",
              " 'काेहि': 423,\n",
              " 'फोहोरी': 424,\n",
              " 'चिज': 425,\n",
              " 'हिरोइन्': 426,\n",
              " 'देख्': 427,\n",
              " 'दर्सक': 428,\n",
              " 'अझ': 429,\n",
              " 'तपाईं': 430,\n",
              " 'बनाएर': 431,\n",
              " 'story': 432,\n",
              " 'अल': 433,\n",
              " 'ठुलो': 434,\n",
              " 'फिल्ल्म': 435,\n",
              " 'भयर': 436,\n",
              " 'न': 437,\n",
              " 'खेल': 438,\n",
              " 'साउथ': 439,\n",
              " 'गरिबी': 440,\n",
              " 'सन्तान': 441,\n",
              " 'छ्': 442,\n",
              " 'टक्कर': 443,\n",
              " 'मसला': 444,\n",
              " 'फाईट': 445,\n",
              " 'साग': 446,\n",
              " 'होईन': 447,\n",
              " 'टीम': 448,\n",
              " 'दाइ': 449,\n",
              " 'आँसु': 450,\n",
              " 'साच्चि': 451,\n",
              " 'अनुहार': 452,\n",
              " 'पुरा': 453,\n",
              " 'प्रयास': 454,\n",
              " 'जात': 455,\n",
              " 'छोरी': 456,\n",
              " 'उत्साहित': 457,\n",
              " 'रामो': 458,\n",
              " 'कलकार': 459,\n",
              " 'सकेन': 460,\n",
              " 'घर': 461,\n",
              " 'कवाडी': 462,\n",
              " 'बुझेन': 463,\n",
              " 'जुनि': 464,\n",
              " 'ताल': 465,\n",
              " 'भनेकाे': 466,\n",
              " 'लगाउ': 467,\n",
              " 'मुवि': 468,\n",
              " 'उत्तम': 469,\n",
              " 'फाइट': 470,\n",
              " 'आउँ': 471,\n",
              " 'चाहि': 472,\n",
              " 'यस्ताे': 473,\n",
              " 'चलचीत्र': 474,\n",
              " 'गजब': 475,\n",
              " 'पहिला': 476,\n",
              " 'जिवन्त': 477,\n",
              " 'आलु': 478,\n",
              " 'सिरियल': 479,\n",
              " 'टाईम': 480,\n",
              " 'फाट': 481,\n",
              " 'जुत्ता': 482,\n",
              " 'पहिचान': 483,\n",
              " 'दृश्य': 484,\n",
              " 'बर्णन': 485,\n",
              " 'रोमान्टिक': 486,\n",
              " 'भोलि': 487,\n",
              " 'हेरुम': 488,\n",
              " 'matter': 489,\n",
              " 'बुझ्': 490,\n",
              " 'मुटु': 491,\n",
              " 'स्कुल': 492,\n",
              " 'हृदय': 493,\n",
              " 'जमाना': 494,\n",
              " 'फिलिमकाे': 495,\n",
              " 'हिराे': 496,\n",
              " 'लास्तै': 497,\n",
              " 'केइ': 498,\n",
              " 'यतार्थ': 499,\n",
              " 'हाहा': 500,\n",
              " 'मनोरन्जन': 501,\n",
              " 'सेम': 502,\n",
              " 'छैना': 503,\n",
              " 'असल': 504,\n",
              " 'l': 505,\n",
              " 'उडी': 506,\n",
              " 'तै': 507,\n",
              " 'बोरिङ': 508,\n",
              " 'कपी': 509,\n",
              " 'मानेर': 510,\n",
              " 'हेरिन्': 511,\n",
              " 'बाल्यकाल': 512,\n",
              " 'मनन': 513,\n",
              " 'सबै\\u200c': 514,\n",
              " 'बीहारि': 515,\n",
              " 'रह्': 516,\n",
              " 'पर्\\u200d': 517,\n",
              " 'किशन': 518,\n",
              " 'खाेज': 519,\n",
              " 'दाल': 520,\n",
              " 'पृथक': 521,\n",
              " 'कथावस्तु': 522,\n",
              " 'सङ्गीत': 523,\n",
              " 'डेन्जर': 524,\n",
              " 'मुलुक': 525,\n",
              " 'प्रेरणादायी': 526,\n",
              " 'पहिल': 527,\n",
              " 'रसा': 528,\n",
              " 'तल्लो': 529,\n",
              " 'नायि': 530,\n",
              " 'छा': 531,\n",
              " 'लोभलाग्': 532,\n",
              " 'रोमाञ्चित': 533,\n",
              " 'कन्टेन्ट': 534,\n",
              " 'गति': 535,\n",
              " 'जम्': 536,\n",
              " 'हजार': 537,\n",
              " 'सस्कृति': 538,\n",
              " 'आउदैन': 539,\n",
              " 'बनाउनो': 540,\n",
              " 'पर्या': 541,\n",
              " 'दक्षिण': 542,\n",
              " 'भा': 543,\n",
              " 'बनाउछ्न': 544,\n",
              " 'माइण्ड': 545,\n",
              " 'वसुल': 546,\n",
              " 'झल्लो': 547,\n",
              " 'रु': 548,\n",
              " 'पढे': 549,\n",
              " 'लेख': 550,\n",
              " 'शिक्षित': 551,\n",
              " 'युवा': 552,\n",
              " 'वर्ग': 553,\n",
              " 'लायक': 554,\n",
              " 'मुद्': 555,\n",
              " 'मिले': 556,\n",
              " 'सकिगोनि': 557,\n",
              " 'केस': 558,\n",
              " 'भरिपुर्ण': 559,\n",
              " 'झल्ला': 560,\n",
              " 'कार्टुन': 561,\n",
              " 'कलङ्क': 562,\n",
              " 'भाई': 563,\n",
              " 'क्लास': 564,\n",
              " 'सगँ': 565,\n",
              " 'पठाईदि': 566,\n",
              " 'नमिल': 567,\n",
              " 'भ्वाइस': 568,\n",
              " 'एडिटिङ': 569,\n",
              " 'तारीफ': 570,\n",
              " 'गरेपनि': 571,\n",
              " 'कर्मी': 572,\n",
              " 'डाइरेक्टर': 573,\n",
              " 'हाहाहा': 574,\n",
              " 'अलिक': 575,\n",
              " 'देखाउनुनी': 576,\n",
              " 'बिल्ला': 577,\n",
              " 'टाईप': 578,\n",
              " 'हैत': 579,\n",
              " 'हास्': 580,\n",
              " 'यर': 581,\n",
              " 'मुड': 582,\n",
              " 'स्टेज': 583,\n",
              " 'मानचित्र': 584,\n",
              " 'अध्ययन': 585,\n",
              " 'अनुसासित': 586,\n",
              " 'मध्यम': 587,\n",
              " 'बर्ग': 588,\n",
              " 'शैलीशीत': 589,\n",
              " 'अतेन्त': 590,\n",
              " 'दृष्टि': 591,\n",
              " 'काल्पनिक': 592,\n",
              " 'अलिकति': 593,\n",
              " 'मिस': 594,\n",
              " 'दुरुस्तै': 595,\n",
              " 'प्रस्तुत': 596,\n",
              " 'थामेर': 597,\n",
              " 'फर्वाड': 598,\n",
              " 'उस्': 599,\n",
              " 'सम्बाद': 600,\n",
              " 'केहि': 601,\n",
              " 'तालमेल': 602,\n",
              " 'देखिदैन': 603,\n",
              " 'sound': 604,\n",
              " 'ओफ्फ': 605,\n",
              " 'सच्याइयोस': 606,\n",
              " 'टुप्पा': 607,\n",
              " 'धङ': 608,\n",
              " 'भनुस': 609,\n",
              " 'भनुन्': 610,\n",
              " 'माग': 611,\n",
              " 'चाहे': 612,\n",
              " 'बनाई': 613,\n",
              " 'thank': 614,\n",
              " 'you': 615,\n",
              " 'सच्चा': 616,\n",
              " 'यथार्थता': 617,\n",
              " 'समाप्ति': 618,\n",
              " 'भोजपुरी': 619,\n",
              " 'मिला': 620,\n",
              " 'माफ': 621,\n",
              " 'अस्पताल': 622,\n",
              " 'छर्लङ': 623,\n",
              " 'प्रस्तुतीकरण': 624,\n",
              " 'अग्रिम': 625,\n",
              " 'व्यक्त': 626,\n",
              " 'पाहिला': 627,\n",
              " 'लम्क': 628,\n",
              " 'जाउन': 629,\n",
              " 'पर्चार': 630,\n",
              " 'स्वाङ': 631,\n",
              " 'लाग्दैन': 632,\n",
              " 'रिमेक': 633,\n",
              " 'हिस्तोरी': 634,\n",
              " 'मिल्': 635,\n",
              " 'यकदम': 636,\n",
              " 'पारिवारिक': 637,\n",
              " 'व्यवहारिक': 638,\n",
              " 'real': 639,\n",
              " 'jasto': 640,\n",
              " 'xaina': 641,\n",
              " 'conversation': 642,\n",
              " 'scrept': 643,\n",
              " 'pade': 644,\n",
              " 'jastai': 645,\n",
              " 'laagxa': 646,\n",
              " 'हुन्छ्न': 647,\n",
              " 'स्टोरिनै': 648,\n",
              " 'acction': 649,\n",
              " 'डरा': 650,\n",
              " 'कोमेडि': 651,\n",
              " 'इनटेस': 652,\n",
              " 'आयन': 653,\n",
              " 'चल': 654,\n",
              " 'हेरेकोभन्': 655,\n",
              " 'आएन': 656,\n",
              " 'खाली': 657,\n",
              " 'टुक्': 658,\n",
              " 'मिलाउन': 659,\n",
              " 'टेक्निकभन्': 660,\n",
              " 'अपना': 661,\n",
              " 'ऐस्तो': 662,\n",
              " 'पोहोत': 663,\n",
              " 'बिगर': 664,\n",
              " 'सोचाई': 665,\n",
              " 'अाऐन': 666,\n",
              " 'बादाई': 667,\n",
              " 'तोरि': 668,\n",
              " 'फाइटिइन': 669,\n",
              " 'भयना': 670,\n",
              " 'साउद': 671,\n",
              " 'इन्डिया': 672,\n",
              " 'बास्ताबिक्ता': 673,\n",
              " 'अङ्गाल': 674,\n",
              " 'मनमुटु': 675,\n",
              " 'बस्न': 676,\n",
              " 'हिरोनि': 677,\n",
              " 'लौ': 678,\n",
              " 'त्यस': 679,\n",
              " 'केभयोत': 680,\n",
              " 'अन्त्यनै': 681,\n",
              " 'छैनहै': 682,\n",
              " 'अरे': 683,\n",
              " 'अत्ति': 684,\n",
              " 'कत्ति': 685,\n",
              " 'भाबुक': 686,\n",
              " 'हेरिरहु': 687,\n",
              " 'बोर': 688,\n",
              " 'दुखदायिक': 689,\n",
              " 'मिलेकाे': 690,\n",
              " 'रमाईलाे': 691,\n",
              " 'बर्स': 692,\n",
              " 'थियेटर': 693,\n",
              " 'जरो': 694,\n",
              " 'नराम्रो': 695,\n",
              " 'नेपािल': 696,\n",
              " 'िफल्म': 697,\n",
              " 'पुग्': 698,\n",
              " 'लिएर': 699,\n",
              " 'थियोे': 700,\n",
              " 'खत्तम': 701,\n",
              " 'बर्बाद्': 702,\n",
              " 'यौटै': 703,\n",
              " 'डाइलग': 704,\n",
              " 'यक्': 705,\n",
              " 'दुक्': 706,\n",
              " 'बुडा': 707,\n",
              " 'बुडि': 708,\n",
              " 'प्रड्युसर': 709,\n",
              " 'ह्या': 710,\n",
              " 'बिज्ञापन': 711,\n",
              " 'गर्दैन': 712,\n",
              " 'हेर्दैन': 713,\n",
              " 'ला': 714,\n",
              " 'बढाउन': 715,\n",
              " 'शास्त्र': 716,\n",
              " 'छुट्या': 717,\n",
              " 'जात्रा': 718,\n",
              " 'कुताई': 719,\n",
              " 'साइद': 720,\n",
              " 'डाईरेक्टर': 721,\n",
              " 'लामो': 722,\n",
              " 'लौरो': 723,\n",
              " 'छाला': 724,\n",
              " 'मुजि': 725,\n",
              " 'गोरु': 726,\n",
              " 'गोबर': 727,\n",
              " 'लात': 728,\n",
              " 'हान्न': 729,\n",
              " 'रा': 730,\n",
              " 'दिपकराज': 731,\n",
              " 'गिरी': 732,\n",
              " 'दिपा': 733,\n",
              " 'सम्बेदनशील': 734,\n",
              " 'विसय': 735,\n",
              " 'उतकृस्ट': 736,\n",
              " 'बनाय': 737,\n",
              " 'बर्थ': 738,\n",
              " 'अब': 739,\n",
              " 'ग्रामीण': 740,\n",
              " 'भेक': 741,\n",
              " 'जस्ता': 742,\n",
              " 'वास्तव': 743,\n",
              " 'प्रतिनिधि': 744,\n",
              " 'न्याय': 745,\n",
              " 'छ्न': 746,\n",
              " 'गरिब': 747,\n",
              " 'ब्याग्या': 748,\n",
              " 'बकबास': 749,\n",
              " 'इन्दियन': 750,\n",
              " 'मिलाउ': 751,\n",
              " 'अल्छी': 752,\n",
              " 'नडुबेर': 753,\n",
              " 'डुब्': 754,\n",
              " 'बडो': 755,\n",
              " 'गज्जव': 756,\n",
              " 'अबसर': 757,\n",
              " 'जुर्': 758,\n",
              " 'कस': 759,\n",
              " 'नपाएर': 760,\n",
              " 'काडा': 761,\n",
              " 'मदेश': 762,\n",
              " 'बिकास': 763,\n",
              " 'कमिना': 764,\n",
              " 'नभका': 765,\n",
              " 'बिगार': 766,\n",
              " 'जाबो': 767,\n",
              " 'quality': 768,\n",
              " 'वाबईयात': 769,\n",
              " 'कलाकारकाे': 770,\n",
              " 'ज्योति': 771,\n",
              " 'देई': 772,\n",
              " 'कन': 773,\n",
              " 'समाप्त': 774,\n",
              " 'प्रभाव': 775,\n",
              " 'प्रकारान्तर': 776,\n",
              " 'प्रभावशाली': 777,\n",
              " 'टुच्च': 778,\n",
              " 'time': 779,\n",
              " 'येति': 780,\n",
              " 'सनो': 781,\n",
              " 'छोतो': 782,\n",
              " 'स्लो': 783,\n",
              " 'फितलो': 784,\n",
              " 'अधुरो': 785,\n",
              " 'अपुरो': 786,\n",
              " 'गण्टा': 787,\n",
              " 'डाका': 788,\n",
              " 'भएरा': 789,\n",
              " 'नसक्': 790,\n",
              " 'टप्पर': 791,\n",
              " 'टुँईयाँ': 792,\n",
              " 'बुझेर': 793,\n",
              " 'लेखे': 794,\n",
              " 'स्तरीयता': 795,\n",
              " 'छनक': 796,\n",
              " 'मिल्न': 797,\n",
              " 'cene': 798,\n",
              " 'देख्न': 799,\n",
              " 'बराबर': 800,\n",
              " 'आवाजै': 801,\n",
              " 'moviko': 802,\n",
              " 'ईज्जत': 803,\n",
              " 'फाल्न': 804,\n",
              " 'राख': 805,\n",
              " 'हाँsय': 806,\n",
              " 'व्याङ्गे': 807,\n",
              " 'समाबेष': 808,\n",
              " 'त्स्थ': 809,\n",
              " 'ब्याङ्गे': 810,\n",
              " 'समावेश': 811,\n",
              " 'राम्ो': 812,\n",
              " 'ब्याग': 813,\n",
              " 'राउनड': 814,\n",
              " 'पुङ': 815,\n",
              " 'पुच्छर': 816,\n",
              " 'मधेशी': 817,\n",
              " 'सुक्': 818,\n",
              " 'लागेर': 819,\n",
              " 'धिकार': 820,\n",
              " 'सक्दैन': 821,\n",
              " 'केवल': 822,\n",
              " 'लब': 823,\n",
              " 'स्कृप्ट': 824,\n",
              " 'राईटर': 825,\n",
              " 'डाईलग': 826,\n",
              " 'मास्टर': 827,\n",
              " 'गोद्': 828,\n",
              " 'यस्त्': 829,\n",
              " 'तरि': 830,\n",
              " 'चिलिम': 831,\n",
              " 'द्जोती': 832,\n",
              " 'स्टाईल': 833,\n",
              " 'धोती': 834,\n",
              " 'हड्डी': 835,\n",
              " 'ज्वरो': 836,\n",
              " 'उठेर': 837,\n",
              " 'थाले': 838,\n",
              " 'चाह': 839,\n",
              " 'डाटा': 840,\n",
              " 'सत्यानास': 841,\n",
              " 'खतरा': 842,\n",
              " 'नआ': 843,\n",
              " 'रीस': 844,\n",
              " 'ऊठ': 845,\n",
              " 'बिल्कुल': 846,\n",
              " 'रह': 847,\n",
              " 'अस्याधै': 848,\n",
              " 'अन्तरजातीय': 849,\n",
              " 'विवाह': 850,\n",
              " 'सम्बन्धी': 851,\n",
              " 'रोचक': 852,\n",
              " 'ताईनतुई': 853,\n",
              " 'बनाउछन': 854,\n",
              " 'कस्ताे': 855,\n",
              " 'लागदैन': 856,\n",
              " 'ऐक्सन': 857,\n",
              " 'डान्स': 858,\n",
              " 'मधे': 859,\n",
              " 'धडकन': 860,\n",
              " 'बेस्ट': 861,\n",
              " 'लभस्टोरी': 862,\n",
              " 'अभीनय': 863,\n",
              " 'यकद': 864,\n",
              " 'पुआ': 865,\n",
              " 'जोडी': 866,\n",
              " 'प्रस्तुती': 867,\n",
              " 'बनोस्': 868,\n",
              " 'अनमोल': 869,\n",
              " 'अरु': 870,\n",
              " 'मौलक': 871,\n",
              " 'चलिचित्र': 872,\n",
              " 'बुबा': 873,\n",
              " 'बुज्न': 874,\n",
              " 'कमजोरी': 875,\n",
              " 'हल्': 876,\n",
              " 'रोए': 877,\n",
              " 'ज्योती': 878,\n",
              " 'गुमा': 879,\n",
              " 'दृस्य': 880,\n",
              " 'राज्नितिग्य': 881,\n",
              " 'सुधार': 882,\n",
              " 'बिसुद्द': 883,\n",
              " 'भन': 884,\n",
              " 'काट': 885,\n",
              " 'खाते': 886,\n",
              " 'हावादारि': 887,\n",
              " 'ठेला': 888,\n",
              " 'नेपालीचलचित्र': 889,\n",
              " 'एस्ता': 890,\n",
              " 'फिलिमहरुअरुपनी': 891,\n",
              " 'पाईयोस्': 892,\n",
              " 'हिन्दि': 893,\n",
              " 'छाेयाे': 894,\n",
              " 'सामाजकाे': 895,\n",
              " 'मूर्ख': 896,\n",
              " 'बुझ्न्': 897,\n",
              " 'नासक्': 898,\n",
              " 'पहिलोपल्ट': 899,\n",
              " 'रहि': 900,\n",
              " 'आति': 901,\n",
              " 'कहानि': 902,\n",
              " 'फ़्यान': 903,\n",
              " 'उर्जा': 904,\n",
              " 'ठ्या': 905,\n",
              " 'चेतावनी': 906,\n",
              " 'दियोके': 907,\n",
              " 'लाउरे': 908,\n",
              " 'हरुशीत': 909,\n",
              " 'लभगर्': 910,\n",
              " 'हिहि': 911,\n",
              " 'नाइस': 912,\n",
              " 'निशानी': 913,\n",
              " 'लाउरेहरुशीत': 914,\n",
              " 'नगर्': 915,\n",
              " 'हौत': 916,\n",
              " 'कतिजना': 917,\n",
              " 'कुरो': 918,\n",
              " 'दबल': 919,\n",
              " 'मिलेर': 920,\n",
              " 'वाओ': 921,\n",
              " 'यक्सन': 922,\n",
              " 'गर्ब': 923,\n",
              " 'सिस्टम': 924,\n",
              " 'नभय': 925,\n",
              " 'डाइलक': 926,\n",
              " 'हास्से': 927,\n",
              " 'लग्': 928,\n",
              " 'छ्य': 929,\n",
              " 'बेक्कार': 930,\n",
              " 'चलेन': 931,\n",
              " 'ट्रेडिङ्': 932,\n",
              " 'हेर्नै': 933,\n",
              " 'वाला': 934,\n",
              " 'बिउज्याउ': 935,\n",
              " 'लाउ': 936,\n",
              " 'करुणा': 937,\n",
              " 'ममतामयि': 938,\n",
              " 'अपरम्पार': 939,\n",
              " 'वितरण': 940,\n",
              " 'हर': 941,\n",
              " 'हासिल': 942,\n",
              " 'परिवार': 943,\n",
              " 'बसेर': 944,\n",
              " 'उथ्': 945,\n",
              " 'प्रदर्शन': 946,\n",
              " 'परा': 947,\n",
              " 'नाश': 948,\n",
              " 'गरिय': 949,\n",
              " 'कतिन': 950,\n",
              " 'नलाएक': 951,\n",
              " 'हासे': 952,\n",
              " 'डर': 953,\n",
              " 'हासेर': 954,\n",
              " 'बित्': 955,\n",
              " 'खत्रा': 956,\n",
              " 'कसतो': 957,\n",
              " 'झलव': 958,\n",
              " 'अावज': 959,\n",
              " 'लुट': 960,\n",
              " 'बडाएर': 961,\n",
              " 'अन्त्य': 962,\n",
              " 'हत्तार': 963,\n",
              " 'छोइन': 964,\n",
              " 'भन्नी': 965,\n",
              " 'साबित': 966,\n",
              " 'गरा': 967,\n",
              " 'साचो': 968,\n",
              " 'नमर्': 969,\n",
              " 'सु': 970,\n",
              " 'उताब': 971,\n",
              " 'चडाब': 972,\n",
              " 'आएनि': 973,\n",
              " 'नछाड्': 974,\n",
              " 'कथाअत्यन्तै': 975,\n",
              " 'चिन': 976,\n",
              " 'नसुहाउ': 977,\n",
              " 'नेता': 978,\n",
              " 'गर्नेलेत': 979,\n",
              " 'झन्': 980,\n",
              " 'कामनै': 981,\n",
              " 'अन्त्यसम्': 982,\n",
              " 'झन': 983,\n",
              " 'भर': 984,\n",
              " 'एक्सन': 985,\n",
              " 'भरपुर': 986,\n",
              " 'हेरिहाल्': 987,\n",
              " 'पछुताउ': 988,\n",
              " 'पुराना': 989,\n",
              " 'चलन': 990,\n",
              " 'केटा': 991,\n",
              " 'मानसिक': 992,\n",
              " 'बिग्रि': 993,\n",
              " 'अनाैठाे': 994,\n",
              " 'राम्म्राे': 995,\n",
              " 'action': 996,\n",
              " 'nai': 997,\n",
              " 'xoina': 998,\n",
              " 'सन्देशमूलक': 999,\n",
              " 'जे': 1000,\n",
              " ...}"
            ]
          },
          "metadata": {},
          "execution_count": 233
        }
      ]
    },
    {
      "cell_type": "code",
      "source": [
        "train_sequences = tokenizer.texts_to_sequences(X_train)"
      ],
      "metadata": {
        "id": "YwFntc_QTKHV"
      },
      "execution_count": 234,
      "outputs": []
    },
    {
      "cell_type": "code",
      "source": [
        "train_sequences[0]"
      ],
      "metadata": {
        "colab": {
          "base_uri": "https://localhost:8080/"
        },
        "id": "mSLXCKj1TjV9",
        "outputId": "7754619d-1688-4d0f-92c9-ded55d20a33b"
      },
      "execution_count": 235,
      "outputs": [
        {
          "output_type": "execute_result",
          "data": {
            "text/plain": [
              "[2, 1, 8, 271, 272, 2, 1]"
            ]
          },
          "metadata": {},
          "execution_count": 235
        }
      ]
    },
    {
      "cell_type": "code",
      "source": [
        "from keras_preprocessing.sequence import pad_sequences\n",
        "\n",
        "train_padded = pad_sequences(train_sequences, maxlen = max_length, padding = 'post', truncating = 'post')"
      ],
      "metadata": {
        "id": "uydsE7PZTkvh"
      },
      "execution_count": 236,
      "outputs": []
    },
    {
      "cell_type": "code",
      "source": [
        "train_padded[0]"
      ],
      "metadata": {
        "colab": {
          "base_uri": "https://localhost:8080/"
        },
        "id": "Vc0MovmNT8z_",
        "outputId": "8c5a5426-1b0d-4a1e-c0a7-a2a0f1968158"
      },
      "execution_count": 237,
      "outputs": [
        {
          "output_type": "execute_result",
          "data": {
            "text/plain": [
              "array([  2,   1,   8, 271, 272,   2,   1,   0,   0,   0,   0,   0],\n",
              "      dtype=int32)"
            ]
          },
          "metadata": {},
          "execution_count": 237
        }
      ]
    },
    {
      "cell_type": "code",
      "source": [
        "test_sequences = tokenizer.texts_to_sequences(X_test)\n",
        "test_padded = pad_sequences(test_sequences, maxlen = max_length, padding = \"post\", truncating = \"post\")"
      ],
      "metadata": {
        "id": "hr-oJRn-UI-F"
      },
      "execution_count": 243,
      "outputs": []
    },
    {
      "cell_type": "code",
      "source": [
        "print(X_train.iloc[0])\n",
        "print(train_sequences[0])"
      ],
      "metadata": {
        "colab": {
          "base_uri": "https://localhost:8080/"
        },
        "id": "On--4IOtUYBr",
        "outputId": "fd38008d-c177-477c-bf75-5c8a947a9acc"
      },
      "execution_count": 244,
      "outputs": [
        {
          "output_type": "stream",
          "name": "stdout",
          "text": [
            "नेपाली फिल्म हेर् परिवर्तन थाल् नेपाली फिल्म\n",
            "[2, 1, 8, 271, 272, 2, 1]\n"
          ]
        }
      ]
    },
    {
      "cell_type": "code",
      "source": [
        "reverse_word_index = dict([(value, key) for (key, value) in word_index.items()])"
      ],
      "metadata": {
        "id": "oQ1A_sHYVCrl"
      },
      "execution_count": 245,
      "outputs": []
    },
    {
      "cell_type": "code",
      "source": [
        "def decode(text):\n",
        "  return \" \".join([reverse_word_index.get(i, \"?\") for i in  text])"
      ],
      "metadata": {
        "id": "0o7nuzK-UeUs"
      },
      "execution_count": 246,
      "outputs": []
    },
    {
      "cell_type": "code",
      "source": [
        "decode(train_sequences[0])"
      ],
      "metadata": {
        "id": "GJVW-IKCVK1-",
        "colab": {
          "base_uri": "https://localhost:8080/",
          "height": 35
        },
        "outputId": "4521a20e-486d-4bc0-c339-40265ada6490"
      },
      "execution_count": 247,
      "outputs": [
        {
          "output_type": "execute_result",
          "data": {
            "text/plain": [
              "'नेपाली फिल्म हेर् परिवर्तन थाल् नेपाली फिल्म'"
            ],
            "application/vnd.google.colaboratory.intrinsic+json": {
              "type": "string"
            }
          },
          "metadata": {},
          "execution_count": 247
        }
      ]
    },
    {
      "cell_type": "code",
      "source": [
        "print(f\"Spape of train {train_padded.shape}\")\n",
        "print(f\"Spape of test {test_padded.shape}\")"
      ],
      "metadata": {
        "id": "-pK1DQQDVOgD",
        "colab": {
          "base_uri": "https://localhost:8080/"
        },
        "outputId": "259b5077-7eda-4bf9-e443-deda5d188cce"
      },
      "execution_count": 248,
      "outputs": [
        {
          "output_type": "stream",
          "name": "stdout",
          "text": [
            "Spape of train (481, 12)\n",
            "Spape of test (121, 12)\n"
          ]
        }
      ]
    },
    {
      "cell_type": "code",
      "source": [
        "from keras.models import Sequential\n",
        "from keras.layers import Embedding, LSTM, Dense, Dropout\n",
        "\n",
        "model = Sequential([\n",
        "    Embedding(num_words, 64, input_length = max_length),\n",
        "    LSTM(64, dropout = 0.1),\n",
        "    Dense(1, activation = 'sigmoid')\n",
        "])\n",
        "\n",
        "model.compile(loss = 'binary_crossentropy', optimizer = 'adam', metrics = ['accuracy'])\n",
        "\n",
        "print(model.summary())"
      ],
      "metadata": {
        "colab": {
          "base_uri": "https://localhost:8080/"
        },
        "id": "PCphuDopaNWT",
        "outputId": "804a7867-9f45-40dd-bf4a-5487ca62833e"
      },
      "execution_count": 249,
      "outputs": [
        {
          "output_type": "stream",
          "name": "stdout",
          "text": [
            "Model: \"sequential_2\"\n",
            "_________________________________________________________________\n",
            " Layer (type)                Output Shape              Param #   \n",
            "=================================================================\n",
            " embedding_2 (Embedding)     (None, 12, 64)            126464    \n",
            "                                                                 \n",
            " lstm_2 (LSTM)               (None, 64)                33024     \n",
            "                                                                 \n",
            " dense_2 (Dense)             (None, 1)                 65        \n",
            "                                                                 \n",
            "=================================================================\n",
            "Total params: 159,553\n",
            "Trainable params: 159,553\n",
            "Non-trainable params: 0\n",
            "_________________________________________________________________\n",
            "None\n"
          ]
        }
      ]
    },
    {
      "cell_type": "code",
      "source": [
        "len(train_padded)"
      ],
      "metadata": {
        "colab": {
          "base_uri": "https://localhost:8080/"
        },
        "id": "vhnS0aJAa7Ba",
        "outputId": "0456ad1c-a016-4429-9e9c-9266801abbf9"
      },
      "execution_count": 250,
      "outputs": [
        {
          "output_type": "execute_result",
          "data": {
            "text/plain": [
              "481"
            ]
          },
          "metadata": {},
          "execution_count": 250
        }
      ]
    },
    {
      "cell_type": "code",
      "source": [
        "len(y_train)"
      ],
      "metadata": {
        "colab": {
          "base_uri": "https://localhost:8080/"
        },
        "id": "ibyeOJeEa8_q",
        "outputId": "8ca00f18-f917-4b12-c064-59f8dac61a00"
      },
      "execution_count": 251,
      "outputs": [
        {
          "output_type": "execute_result",
          "data": {
            "text/plain": [
              "481"
            ]
          },
          "metadata": {},
          "execution_count": 251
        }
      ]
    },
    {
      "cell_type": "code",
      "source": [
        "history = model.fit(train_padded, y_train, epochs = 30, batch_size = 64, validation_data = (test_padded, y_test))"
      ],
      "metadata": {
        "colab": {
          "base_uri": "https://localhost:8080/"
        },
        "id": "DJk0WFl5auvW",
        "outputId": "dfa4d84d-53db-4aae-baab-11905794f930"
      },
      "execution_count": 252,
      "outputs": [
        {
          "output_type": "stream",
          "name": "stdout",
          "text": [
            "Epoch 1/30\n",
            "8/8 [==============================] - 4s 161ms/step - loss: 0.6871 - accuracy: 0.5904 - val_loss: 0.6721 - val_accuracy: 0.6364\n",
            "Epoch 2/30\n",
            "8/8 [==============================] - 0s 18ms/step - loss: 0.6699 - accuracy: 0.6029 - val_loss: 0.6547 - val_accuracy: 0.6364\n",
            "Epoch 3/30\n",
            "8/8 [==============================] - 0s 19ms/step - loss: 0.6505 - accuracy: 0.6029 - val_loss: 0.6536 - val_accuracy: 0.6364\n",
            "Epoch 4/30\n",
            "8/8 [==============================] - 0s 18ms/step - loss: 0.5893 - accuracy: 0.6258 - val_loss: 0.5905 - val_accuracy: 0.6694\n",
            "Epoch 5/30\n",
            "8/8 [==============================] - 0s 18ms/step - loss: 0.3790 - accuracy: 0.8378 - val_loss: 0.4251 - val_accuracy: 0.8347\n",
            "Epoch 6/30\n",
            "8/8 [==============================] - 0s 19ms/step - loss: 0.1586 - accuracy: 0.9626 - val_loss: 0.5664 - val_accuracy: 0.8430\n",
            "Epoch 7/30\n",
            "8/8 [==============================] - 0s 21ms/step - loss: 0.0815 - accuracy: 0.9792 - val_loss: 0.6474 - val_accuracy: 0.8512\n",
            "Epoch 8/30\n",
            "8/8 [==============================] - 0s 21ms/step - loss: 0.0380 - accuracy: 0.9917 - val_loss: 0.6761 - val_accuracy: 0.8512\n",
            "Epoch 9/30\n",
            "8/8 [==============================] - 0s 19ms/step - loss: 0.0230 - accuracy: 0.9958 - val_loss: 0.6565 - val_accuracy: 0.8430\n",
            "Epoch 10/30\n",
            "8/8 [==============================] - 0s 22ms/step - loss: 0.0233 - accuracy: 0.9917 - val_loss: 0.6458 - val_accuracy: 0.8430\n",
            "Epoch 11/30\n",
            "8/8 [==============================] - 0s 19ms/step - loss: 0.0174 - accuracy: 0.9979 - val_loss: 0.6642 - val_accuracy: 0.8430\n",
            "Epoch 12/30\n",
            "8/8 [==============================] - 0s 19ms/step - loss: 0.0154 - accuracy: 0.9979 - val_loss: 0.6219 - val_accuracy: 0.8347\n",
            "Epoch 13/30\n",
            "8/8 [==============================] - 0s 21ms/step - loss: 0.0138 - accuracy: 0.9979 - val_loss: 0.6242 - val_accuracy: 0.8347\n",
            "Epoch 14/30\n",
            "8/8 [==============================] - 0s 19ms/step - loss: 0.0139 - accuracy: 0.9979 - val_loss: 0.6298 - val_accuracy: 0.8347\n",
            "Epoch 15/30\n",
            "8/8 [==============================] - 0s 18ms/step - loss: 0.0136 - accuracy: 0.9958 - val_loss: 0.6168 - val_accuracy: 0.8512\n",
            "Epoch 16/30\n",
            "8/8 [==============================] - 0s 19ms/step - loss: 0.0124 - accuracy: 0.9979 - val_loss: 0.6153 - val_accuracy: 0.8512\n",
            "Epoch 17/30\n",
            "8/8 [==============================] - 0s 19ms/step - loss: 0.0125 - accuracy: 0.9979 - val_loss: 0.6420 - val_accuracy: 0.8512\n",
            "Epoch 18/30\n",
            "8/8 [==============================] - 0s 19ms/step - loss: 0.0090 - accuracy: 0.9979 - val_loss: 0.6234 - val_accuracy: 0.8678\n",
            "Epoch 19/30\n",
            "8/8 [==============================] - 0s 19ms/step - loss: 0.0082 - accuracy: 0.9979 - val_loss: 0.6341 - val_accuracy: 0.8512\n",
            "Epoch 20/30\n",
            "8/8 [==============================] - 0s 19ms/step - loss: 0.0038 - accuracy: 1.0000 - val_loss: 0.6735 - val_accuracy: 0.8430\n",
            "Epoch 21/30\n",
            "8/8 [==============================] - 0s 23ms/step - loss: 0.0042 - accuracy: 1.0000 - val_loss: 0.6832 - val_accuracy: 0.8595\n",
            "Epoch 22/30\n",
            "8/8 [==============================] - 0s 20ms/step - loss: 0.0038 - accuracy: 1.0000 - val_loss: 0.6999 - val_accuracy: 0.8678\n",
            "Epoch 23/30\n",
            "8/8 [==============================] - 0s 22ms/step - loss: 0.0025 - accuracy: 1.0000 - val_loss: 0.7632 - val_accuracy: 0.8430\n",
            "Epoch 24/30\n",
            "8/8 [==============================] - 0s 19ms/step - loss: 0.0053 - accuracy: 0.9979 - val_loss: 0.7929 - val_accuracy: 0.8430\n",
            "Epoch 25/30\n",
            "8/8 [==============================] - 0s 20ms/step - loss: 0.0116 - accuracy: 0.9958 - val_loss: 0.8084 - val_accuracy: 0.8347\n",
            "Epoch 26/30\n",
            "8/8 [==============================] - 0s 21ms/step - loss: 0.0058 - accuracy: 0.9958 - val_loss: 0.8616 - val_accuracy: 0.8264\n",
            "Epoch 27/30\n",
            "8/8 [==============================] - 0s 21ms/step - loss: 0.0024 - accuracy: 1.0000 - val_loss: 0.8797 - val_accuracy: 0.8099\n",
            "Epoch 28/30\n",
            "8/8 [==============================] - 0s 19ms/step - loss: 0.0055 - accuracy: 0.9979 - val_loss: 0.7718 - val_accuracy: 0.8512\n",
            "Epoch 29/30\n",
            "8/8 [==============================] - 0s 20ms/step - loss: 0.0017 - accuracy: 1.0000 - val_loss: 0.7671 - val_accuracy: 0.8595\n",
            "Epoch 30/30\n",
            "8/8 [==============================] - 0s 18ms/step - loss: 0.0019 - accuracy: 1.0000 - val_loss: 0.8170 - val_accuracy: 0.8512\n"
          ]
        }
      ]
    },
    {
      "cell_type": "code",
      "source": [
        "#plot the training and validation accuracy and losss at each epoch\n",
        "loss = history.history['loss']\n",
        "val_loss = history.history['val_loss']\n",
        "epochs = range(1, len(loss) + 1)\n",
        "plt.plot(epochs, loss, 'y', label=\"Training Loss\")\n",
        "plt.plot(epochs, val_loss, 'r', label = \"Validation Loss\")\n",
        "plt.title('Training and Validation Loss')\n",
        "plt.xlabel(\"Epochs\")\n",
        "plt.ylabel(\"Loss\")\n",
        "plt.legend()\n",
        "plt.show()"
      ],
      "metadata": {
        "colab": {
          "base_uri": "https://localhost:8080/",
          "height": 410
        },
        "id": "fPbCbOdYa_mm",
        "outputId": "8591b567-9eb2-4236-b859-e656d659f582"
      },
      "execution_count": 253,
      "outputs": [
        {
          "output_type": "display_data",
          "data": {
            "text/plain": [
              "<Figure size 720x432 with 1 Axes>"
            ],
            "image/png": "[encoded data removed]"
          },
          "metadata": {}
        }
      ]
    },
    {
      "cell_type": "code",
      "source": [
        "acc = history.history['accuracy'] \n",
        "val_acc = history.history['val_accuracy']\n",
        "plt.plot(epochs, acc, 'y', label = \"Traning Accuracy\")\n",
        "plt.plot(epochs, val_acc, 'r', label = \"Validation Accuracy\")\n",
        "plt.title(\"Training and Validation Accuracy\")\n",
        "plt.xlabel(\"Epochs\")\n",
        "plt.ylabel(\"Accuracy\")\n",
        "plt.legend()\n",
        "plt.show()"
      ],
      "metadata": {
        "colab": {
          "base_uri": "https://localhost:8080/",
          "height": 410
        },
        "id": "r78dMbpkbFNs",
        "outputId": "b314b4ed-705a-4f65-b884-0d1beab381c6"
      },
      "execution_count": 254,
      "outputs": [
        {
          "output_type": "display_data",
          "data": {
            "text/plain": [
              "<Figure size 720x432 with 1 Axes>"
            ],
            "image/png": "[encoded data removed]"
          },
          "metadata": {}
        }
      ]
    },
    {
      "cell_type": "code",
      "source": [
        "from sklearn.metrics import confusion_matrix\n",
        "\n",
        "# Predicting the test set results\n",
        "y_pred = model.predict(test_padded)\n",
        "y_pred = (y_pred > 0.5)\n",
        "\n",
        "# Confusion Matrix\n",
        "cm = confusion_matrix(y_test, y_pred)\n",
        "\n",
        "sns.heatmap(cm, annot = True)"
      ],
      "metadata": {
        "colab": {
          "base_uri": "https://localhost:8080/",
          "height": 412
        },
        "id": "NBUHmxS0bHX7",
        "outputId": "ab322e42-4b33-4607-a83a-b115a7a181f2"
      },
      "execution_count": 256,
      "outputs": [
        {
          "output_type": "stream",
          "name": "stdout",
          "text": [
            "4/4 [==============================] - 0s 9ms/step\n"
          ]
        },
        {
          "output_type": "execute_result",
          "data": {
            "text/plain": [
              "<matplotlib.axes._subplots.AxesSubplot at 0x7f09c5eff1d0>"
            ]
          },
          "metadata": {},
          "execution_count": 256
        },
        {
          "output_type": "display_data",
          "data": {
            "text/plain": [
              "<Figure size 720x432 with 2 Axes>"
            ],
            "image/png": "[encoded data removed]"
          },
          "metadata": {}
        }
      ]
    },
    {
      "cell_type": "code",
      "source": [
        "model.save(\"/content/drive/MyDrive/Colab Notebooks/NLP/Classification/Nepali Movie Review Classificaion/reviewV1.h5\")"
      ],
      "metadata": {
        "id": "rpbIODm4bSsx"
      },
      "execution_count": 257,
      "outputs": []
    },
    {
      "cell_type": "code",
      "source": [],
      "metadata": {
        "id": "x3IaltCjbq4G"
      },
      "execution_count": null,
      "outputs": []
    }
  ]
}
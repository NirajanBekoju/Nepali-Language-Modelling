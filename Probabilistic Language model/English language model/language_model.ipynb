{
  "nbformat": 4,
  "nbformat_minor": 0,
  "metadata": {
    "colab": {
      "provenance": [],
      "collapsed_sections": []
    },
    "kernelspec": {
      "name": "python3",
      "display_name": "Python 3"
    },
    "language_info": {
      "name": "python"
    }
  },
  "cells": [
    {
      "cell_type": "markdown",
      "source": [
        "## Language Models: Auto Complete"
      ],
      "metadata": {
        "id": "3JOE2Jn8KV9R"
      }
    },
    {
      "cell_type": "code",
      "execution_count": null,
      "metadata": {
        "colab": {
          "base_uri": "https://localhost:8080/"
        },
        "id": "GupAoPBuKS1B",
        "outputId": "1e27fb5f-b3ef-42ae-cd27-9ef6f5c85cc1"
      },
      "outputs": [
        {
          "output_type": "stream",
          "name": "stderr",
          "text": [
            "[nltk_data] Downloading package punkt to /root/nltk_data...\n",
            "[nltk_data]   Unzipping tokenizers/punkt.zip.\n"
          ]
        },
        {
          "output_type": "execute_result",
          "data": {
            "text/plain": [
              "True"
            ]
          },
          "metadata": {},
          "execution_count": 1
        }
      ],
      "source": [
        "import math\n",
        "import random\n",
        "import numpy as np\n",
        "import pandas as pd\n",
        "import nltk\n",
        "nltk.download('punkt')"
      ]
    },
    {
      "cell_type": "code",
      "source": [
        "with open(\"/content/drive/MyDrive/Colab Notebooks/NLP/Language Modelling/Probabilistic Language modelling/en_US.twitter.txt\") as f:\n",
        "  data = f.read()"
      ],
      "metadata": {
        "id": "yOMRBiHZKfg8"
      },
      "execution_count": null,
      "outputs": []
    },
    {
      "cell_type": "code",
      "source": [
        "print(\"Data type:\", type(data))\n",
        "print(\"Number of letters:\", len(data))\n",
        "print(data[:300])\n",
        "print(\"============\")\n",
        "print(data[-300:])"
      ],
      "metadata": {
        "colab": {
          "base_uri": "https://localhost:8080/"
        },
        "id": "Wr1tojMeK3t_",
        "outputId": "5007c4d3-9f68-49ca-c6b6-6634436925d9"
      },
      "execution_count": null,
      "outputs": [
        {
          "output_type": "stream",
          "name": "stdout",
          "text": [
            "Data type: <class 'str'>\n",
            "Number of letters: 3335477\n",
            "How are you? Btw thanks for the RT. You gonna be in DC anytime soon? Love to see you. Been way, way too long.\n",
            "When you meet someone special... you'll know. Your heart will beat more rapidly and you'll smile for no reason.\n",
            "they've decided its more fun if I don't.\n",
            "So Tired D; Played Lazer Tag & Ran A \n",
            "============\n",
            "ust had one a few weeks back....hopefully we will be back soon! wish you the best yo\n",
            "Colombia is with an 'o'...“: We now ship to 4 countries in South America (fist pump). Please welcome Columbia to the Stunner Family”\n",
            "#GutsiestMovesYouCanMake Giving a cat a bath.\n",
            "Coffee after 5 was a TERRIBLE idea.\n",
            "\n"
          ]
        }
      ]
    },
    {
      "cell_type": "code",
      "source": [
        "def split_to_sentences(data):\n",
        "  sentences = data.split('\\n')\n",
        "  # remove the leading and trailing spaces from each sentences\n",
        "  sentences = [s.strip() for s in sentences]\n",
        "  # drop sentences if they are empty strings\n",
        "  sentences = [s for s in sentences if len(s) > 0]\n",
        "  return sentences"
      ],
      "metadata": {
        "id": "GoVy3v3hLFkS"
      },
      "execution_count": null,
      "outputs": []
    },
    {
      "cell_type": "code",
      "source": [
        "x = data[0:300]\n",
        "x"
      ],
      "metadata": {
        "colab": {
          "base_uri": "https://localhost:8080/",
          "height": 53
        },
        "id": "LcZcY_jGLKaU",
        "outputId": "d1ccefc4-b091-4b14-9436-4f70f9ddd497"
      },
      "execution_count": null,
      "outputs": [
        {
          "output_type": "execute_result",
          "data": {
            "text/plain": [
              "\"How are you? Btw thanks for the RT. You gonna be in DC anytime soon? Love to see you. Been way, way too long.\\nWhen you meet someone special... you'll know. Your heart will beat more rapidly and you'll smile for no reason.\\nthey've decided its more fun if I don't.\\nSo Tired D; Played Lazer Tag & Ran A \""
            ],
            "application/vnd.google.colaboratory.intrinsic+json": {
              "type": "string"
            }
          },
          "metadata": {},
          "execution_count": 5
        }
      ]
    },
    {
      "cell_type": "code",
      "source": [
        "print(x)"
      ],
      "metadata": {
        "colab": {
          "base_uri": "https://localhost:8080/"
        },
        "id": "3ERbawD2L4Nf",
        "outputId": "cc17d072-6a14-4d01-eadb-a72f7a84c647"
      },
      "execution_count": null,
      "outputs": [
        {
          "output_type": "stream",
          "name": "stdout",
          "text": [
            "How are you? Btw thanks for the RT. You gonna be in DC anytime soon? Love to see you. Been way, way too long.\n",
            "When you meet someone special... you'll know. Your heart will beat more rapidly and you'll smile for no reason.\n",
            "they've decided its more fun if I don't.\n",
            "So Tired D; Played Lazer Tag & Ran A \n"
          ]
        }
      ]
    },
    {
      "cell_type": "code",
      "source": [
        "split_to_sentences(x)"
      ],
      "metadata": {
        "colab": {
          "base_uri": "https://localhost:8080/"
        },
        "id": "NwlT2YGwL7Oi",
        "outputId": "b5342318-61f6-4bde-d910-d7fc754d0136"
      },
      "execution_count": null,
      "outputs": [
        {
          "output_type": "execute_result",
          "data": {
            "text/plain": [
              "['How are you? Btw thanks for the RT. You gonna be in DC anytime soon? Love to see you. Been way, way too long.',\n",
              " \"When you meet someone special... you'll know. Your heart will beat more rapidly and you'll smile for no reason.\",\n",
              " \"they've decided its more fun if I don't.\",\n",
              " 'So Tired D; Played Lazer Tag & Ran A']"
            ]
          },
          "metadata": {},
          "execution_count": 7
        }
      ]
    },
    {
      "cell_type": "code",
      "source": [
        "def tokenize_sentences(sentences):\n",
        "  tokenized_sentences = []\n",
        "\n",
        "  for sentence in sentences:\n",
        "    # Convert to lowercase letters\n",
        "    sentence = sentence.lower()\n",
        "   \n",
        "    # Convert into a list of words\n",
        "    tokenized = nltk.word_tokenize(sentence)\n",
        "\n",
        "    # append the list of words to the list of lists\n",
        "    tokenized_sentences.append(tokenized)\n",
        "\n",
        "  return tokenized_sentences\n"
      ],
      "metadata": {
        "id": "ykoYq4ajL_sM"
      },
      "execution_count": null,
      "outputs": []
    },
    {
      "cell_type": "code",
      "source": [
        "sentences = [\"Sky is blue.\", \"Leaves are green.\", \"Roses are red.\"]\n",
        "tokenize_sentences(sentences)"
      ],
      "metadata": {
        "colab": {
          "base_uri": "https://localhost:8080/"
        },
        "id": "ZdHFsxXBNH7x",
        "outputId": "1b023094-9c30-4e62-e3c7-2db8b6afdf7d"
      },
      "execution_count": null,
      "outputs": [
        {
          "output_type": "execute_result",
          "data": {
            "text/plain": [
              "[['sky', 'is', 'blue', '.'],\n",
              " ['leaves', 'are', 'green', '.'],\n",
              " ['roses', 'are', 'red', '.']]"
            ]
          },
          "metadata": {},
          "execution_count": 9
        }
      ]
    },
    {
      "cell_type": "code",
      "source": [
        "def get_tokenized_data(data):\n",
        "  # get the sentences by splitting up the data\n",
        "  sentences = split_to_sentences(data)\n",
        "\n",
        "  # get the list of lists of tokens by tokenizing the sentences\n",
        "  tokenized_sentences = tokenize_sentences(sentences)\n",
        "\n",
        "  return tokenized_sentences\n"
      ],
      "metadata": {
        "id": "GTHC0UIHNLpi"
      },
      "execution_count": null,
      "outputs": []
    },
    {
      "cell_type": "code",
      "source": [
        "x = \"Sky is blue.\\nLeaves are green\\nRoses are red.\"\n",
        "get_tokenized_data(x)"
      ],
      "metadata": {
        "colab": {
          "base_uri": "https://localhost:8080/"
        },
        "id": "lkbxJRP5Nn4d",
        "outputId": "d263af0e-eaa9-4148-cc16-ae5b1688554c"
      },
      "execution_count": null,
      "outputs": [
        {
          "output_type": "execute_result",
          "data": {
            "text/plain": [
              "[['sky', 'is', 'blue', '.'],\n",
              " ['leaves', 'are', 'green'],\n",
              " ['roses', 'are', 'red', '.']]"
            ]
          },
          "metadata": {},
          "execution_count": 11
        }
      ]
    },
    {
      "cell_type": "markdown",
      "source": [
        "## Split into train and test data"
      ],
      "metadata": {
        "id": "lbceWIj-NtVk"
      }
    },
    {
      "cell_type": "code",
      "source": [
        "tokenized_data = get_tokenized_data(data)\n",
        "random.seed(87)\n",
        "random.shuffle(tokenized_data)\n",
        "\n",
        "train_size = int(len(tokenized_data) * 0.8)\n",
        "train_data = tokenized_data[0:train_size]\n",
        "test_data = tokenized_data[train_size:]"
      ],
      "metadata": {
        "id": "KaO-F1YTNqWs"
      },
      "execution_count": null,
      "outputs": []
    },
    {
      "cell_type": "code",
      "source": [
        "print(\"{} data are split into {} train and {} test set\".format(\n",
        "    len(tokenized_data), len(train_data), len(test_data)))\n",
        "\n",
        "print(\"First training sample:\")\n",
        "print(train_data[0])\n",
        "      \n",
        "print(\"First test sample\")\n",
        "print(test_data[0])"
      ],
      "metadata": {
        "colab": {
          "base_uri": "https://localhost:8080/"
        },
        "id": "vzw89EimOEre",
        "outputId": "4fca175f-da25-4f60-eb6b-3e1c9b2ae1c6"
      },
      "execution_count": null,
      "outputs": [
        {
          "output_type": "stream",
          "name": "stdout",
          "text": [
            "47961 data are split into 38368 train and 9593 test set\n",
            "First training sample:\n",
            "['i', 'personally', 'would', 'like', 'as', 'our', 'official', 'glove', 'of', 'the', 'team', 'local', 'company', 'and', 'quality', 'production']\n",
            "First test sample\n",
            "['that', 'picture', 'i', 'just', 'seen', 'whoa', 'dere', '!', '!', '>', '>', '>', '>', '>', '>', '>']\n"
          ]
        }
      ]
    },
    {
      "cell_type": "code",
      "source": [
        "def count_words(tokenized_sentences):\n",
        "  \"\"\"\n",
        "  Count the number of word appearance in the tokenized sentences\n",
        "  \"\"\"\n",
        "\n",
        "  word_counts = {}\n",
        "\n",
        "  for sentence in tokenized_sentences:\n",
        "    for token in sentence:\n",
        "      if token not in word_counts.keys():\n",
        "        word_counts[token] = 1\n",
        "      else:\n",
        "        word_counts[token] += 1\n",
        "  \n",
        "  return word_counts"
      ],
      "metadata": {
        "id": "Zk-9JdI4OMmb"
      },
      "execution_count": null,
      "outputs": []
    },
    {
      "cell_type": "code",
      "source": [
        "tokenized_sentences = [['sky', 'is', 'blue', '.'],\n",
        "                       ['leaves', 'are', 'green', '.'],\n",
        "                       ['roses', 'are', 'red', '.']]\n",
        "count_words(tokenized_sentences)"
      ],
      "metadata": {
        "colab": {
          "base_uri": "https://localhost:8080/"
        },
        "id": "N1aWRZSKOwRz",
        "outputId": "09702c29-5ddb-4006-b908-ed01df87f35b"
      },
      "execution_count": null,
      "outputs": [
        {
          "output_type": "execute_result",
          "data": {
            "text/plain": [
              "{'sky': 1,\n",
              " 'is': 1,\n",
              " 'blue': 1,\n",
              " '.': 3,\n",
              " 'leaves': 1,\n",
              " 'are': 2,\n",
              " 'green': 1,\n",
              " 'roses': 1,\n",
              " 'red': 1}"
            ]
          },
          "metadata": {},
          "execution_count": 15
        }
      ]
    },
    {
      "cell_type": "markdown",
      "source": [
        "## Handlign Out of Vocabulary words"
      ],
      "metadata": {
        "id": "kdd4pwHjO_34"
      }
    },
    {
      "cell_type": "code",
      "source": [
        "def get_words_with_nplus_frequency(tokenized_sentences, count_threshold):\n",
        "  closed_vocab = []\n",
        "\n",
        "  word_counts = count_words(tokenized_sentences)\n",
        "\n",
        "  for word, cnt in word_counts.items():\n",
        "    if cnt >= count_threshold:\n",
        "      closed_vocab.append(word)\n",
        "  \n",
        "  return closed_vocab"
      ],
      "metadata": {
        "id": "MdwZi6CFOyvd"
      },
      "execution_count": null,
      "outputs": []
    },
    {
      "cell_type": "code",
      "source": [
        "tokenized_sentences = [['sky', 'is', 'blue', '.'],\n",
        "                       ['leaves', 'are', 'green', '.'],\n",
        "                       ['roses', 'are', 'red', '.']]\n",
        "tmp_closed_vocab = get_words_with_nplus_frequency(tokenized_sentences, count_threshold=2)\n",
        "print(f\"Closed vocabulary:\")\n",
        "print(tmp_closed_vocab)"
      ],
      "metadata": {
        "colab": {
          "base_uri": "https://localhost:8080/"
        },
        "id": "9rOR3HJYPskF",
        "outputId": "ef55b808-0826-4580-ea3f-c90d606e686a"
      },
      "execution_count": null,
      "outputs": [
        {
          "output_type": "stream",
          "name": "stdout",
          "text": [
            "Closed vocabulary:\n",
            "['.', 'are']\n"
          ]
        }
      ]
    },
    {
      "cell_type": "code",
      "source": [
        "def replace_oov_words_by_unk(tokenized_sentences, vocabulary, unknown_token = \"<unk>\"):\n",
        "  vocabulary = set(vocabulary)\n",
        "\n",
        "  replaced_tokenized_sentences = []\n",
        "\n",
        "  for sentence in tokenized_sentences:\n",
        "    replaced_sentence = []\n",
        "  \n",
        "    for token in sentence:\n",
        "      if token in vocabulary:\n",
        "        replaced_sentence.append(token)\n",
        "      else:\n",
        "        replaced_sentence.append(unknown_token)\n",
        "    \n",
        "    replaced_tokenized_sentences.append(replaced_sentence)\n",
        "\n",
        "  return replaced_tokenized_sentences"
      ],
      "metadata": {
        "id": "DPiAN6CSPvaX"
      },
      "execution_count": null,
      "outputs": []
    },
    {
      "cell_type": "code",
      "source": [
        "tokenized_sentences = [[\"dogs\", \"run\"], [\"cats\", \"sleep\"]]\n",
        "vocabulary = [\"dogs\", \"sleep\"]\n",
        "tmp_replaced_tokenized_sentences = replace_oov_words_by_unk(tokenized_sentences, vocabulary)"
      ],
      "metadata": {
        "id": "witrc4X5Qi6M"
      },
      "execution_count": null,
      "outputs": []
    },
    {
      "cell_type": "code",
      "source": [
        "print(f\"Original sentence:\")\n",
        "print(tokenized_sentences)\n",
        "print(f\"tokenized_sentences with less frequent words converted to '<unk>':\")\n",
        "print(tmp_replaced_tokenized_sentences)"
      ],
      "metadata": {
        "colab": {
          "base_uri": "https://localhost:8080/"
        },
        "id": "vGPiGTDrQskg",
        "outputId": "7935a2f1-05a6-426e-e493-f780392b142e"
      },
      "execution_count": null,
      "outputs": [
        {
          "output_type": "stream",
          "name": "stdout",
          "text": [
            "Original sentence:\n",
            "[['dogs', 'run'], ['cats', 'sleep']]\n",
            "tokenized_sentences with less frequent words converted to '<unk>':\n",
            "[['dogs', '<unk>'], ['<unk>', 'sleep']]\n"
          ]
        }
      ]
    },
    {
      "cell_type": "code",
      "source": [
        "def preprocess_data(train_data, test_data, count_threshold):\n",
        "  vocabulary = get_words_with_nplus_frequency(train_data, count_threshold)\n",
        "\n",
        "  train_data_replaced = replace_oov_words_by_unk(train_data, vocabulary)\n",
        "\n",
        "  test_data_replaced = replace_oov_words_by_unk(test_data, vocabulary)\n",
        "\n",
        "  return train_data_replaced, test_data_replaced, vocabulary"
      ],
      "metadata": {
        "id": "Lv5LYKybQ98d"
      },
      "execution_count": null,
      "outputs": []
    },
    {
      "cell_type": "code",
      "source": [
        "tmp_train = [['sky', 'is', 'blue', '.'], ['leaves', 'are', 'green']]\n",
        "tmp_test = [['roses', 'are', 'red', '.']]\n",
        "\n",
        "tmp_train_repl, tmp_test_repl, tmp_vocab = preprocess_data(tmp_train, tmp_test, count_threshold = 1)\n",
        "\n",
        "print(\"tmp_train_repl\")\n",
        "print(tmp_train_repl)\n",
        "print()\n",
        "print(\"tmp_test_repl\")\n",
        "print(tmp_test_repl)\n",
        "print()\n",
        "print(\"tmp_vocab\")\n",
        "print(tmp_vocab)"
      ],
      "metadata": {
        "colab": {
          "base_uri": "https://localhost:8080/"
        },
        "id": "IJpV9fiYRrKG",
        "outputId": "c2ca0d93-7510-49c4-eeac-544f3c4e1740"
      },
      "execution_count": null,
      "outputs": [
        {
          "output_type": "stream",
          "name": "stdout",
          "text": [
            "tmp_train_repl\n",
            "[['sky', 'is', 'blue', '.'], ['leaves', 'are', 'green']]\n",
            "\n",
            "tmp_test_repl\n",
            "[['<unk>', 'are', '<unk>', '.']]\n",
            "\n",
            "tmp_vocab\n",
            "['sky', 'is', 'blue', '.', 'leaves', 'are', 'green']\n"
          ]
        }
      ]
    },
    {
      "cell_type": "code",
      "source": [
        "minimum_freq = 2\n",
        "train_data_processed, test_data_processed, vocabulary = preprocess_data(train_data, test_data, minimum_freq)"
      ],
      "metadata": {
        "id": "ClqS9QhlRu4o"
      },
      "execution_count": null,
      "outputs": []
    },
    {
      "cell_type": "code",
      "source": [
        "print(\"First preprocessed training sample:\")\n",
        "print(train_data_processed[0])\n",
        "print()\n",
        "print(\"First preprocessed test sample:\")\n",
        "print(test_data_processed[0])\n",
        "print()\n",
        "print(\"First 10 vocabulary:\")\n",
        "print(vocabulary[0:10])\n",
        "print()\n",
        "print(\"Size of vocabulary:\", len(vocabulary))"
      ],
      "metadata": {
        "colab": {
          "base_uri": "https://localhost:8080/"
        },
        "id": "qsGofjWYSXcg",
        "outputId": "895b0f9b-e1d7-499d-d703-6bb8306efa6f"
      },
      "execution_count": null,
      "outputs": [
        {
          "output_type": "stream",
          "name": "stdout",
          "text": [
            "First preprocessed training sample:\n",
            "['i', 'personally', 'would', 'like', 'as', 'our', 'official', 'glove', 'of', 'the', 'team', 'local', 'company', 'and', 'quality', 'production']\n",
            "\n",
            "First preprocessed test sample:\n",
            "['that', 'picture', 'i', 'just', 'seen', 'whoa', 'dere', '!', '!', '>', '>', '>', '>', '>', '>', '>']\n",
            "\n",
            "First 10 vocabulary:\n",
            "['i', 'personally', 'would', 'like', 'as', 'our', 'official', 'glove', 'of', 'the']\n",
            "\n",
            "Size of vocabulary: 14824\n"
          ]
        }
      ]
    },
    {
      "cell_type": "markdown",
      "source": [
        "## Develop a n-gram based language model"
      ],
      "metadata": {
        "id": "NO-yilxWSooe"
      }
    },
    {
      "cell_type": "code",
      "source": [
        "def count_n_grams(data, n, start_token = '<s>', end_token = '</s>'):\n",
        "  \"\"\"\n",
        "  Count all n-grams in the data\n",
        "  \"\"\"\n",
        "\n",
        "  n_grams = {}\n",
        "\n",
        "  for sentence in data:\n",
        "    # prepend start token n times and append end token one time\n",
        "    sentence = [start_token] * n + sentence + [end_token]\n",
        "\n",
        "    # convert list to tuple so that the sequence of words can be used as a key in the dictionary\n",
        "    sentence = tuple(sentence)\n",
        "\n",
        "    # Use value of m to denote the number of n grams in the current sentence\n",
        "    m = len(sentence) if n == 1 else len(sentence) - 1\n",
        "\n",
        "    for i in range(m):\n",
        "      n_gram = sentence[i: i + n]\n",
        "\n",
        "      # check if the n-gram is in the dictionary\n",
        "      # if present, increase the value else set the value of n-gram to 1\n",
        "      if n_gram in n_grams.keys():\n",
        "        n_grams[n_gram] += 1\n",
        "      else:\n",
        "        n_grams[n_gram] = 1 \n",
        "\n",
        "  return n_grams\n"
      ],
      "metadata": {
        "id": "IW-oQogMSaUo"
      },
      "execution_count": null,
      "outputs": []
    },
    {
      "cell_type": "code",
      "source": [
        "sentences = [['i', 'like', 'a', 'cat'],\n",
        "             ['this', 'dog', 'is', 'like', 'a', 'cat']]\n",
        "print(\"Uni-gram:\")\n",
        "print(count_n_grams(sentences, 1))\n",
        "print(\"Bi-gram:\")\n",
        "print(count_n_grams(sentences, 2))"
      ],
      "metadata": {
        "colab": {
          "base_uri": "https://localhost:8080/"
        },
        "id": "qoB-AOiDT8m9",
        "outputId": "0356e519-314c-4511-d7dc-3f45d2655cc3"
      },
      "execution_count": null,
      "outputs": [
        {
          "output_type": "stream",
          "name": "stdout",
          "text": [
            "Uni-gram:\n",
            "{('<s>',): 2, ('i',): 1, ('like',): 2, ('a',): 2, ('cat',): 2, ('</s>',): 2, ('this',): 1, ('dog',): 1, ('is',): 1}\n",
            "Bi-gram:\n",
            "{('<s>', '<s>'): 2, ('<s>', 'i'): 1, ('i', 'like'): 1, ('like', 'a'): 2, ('a', 'cat'): 2, ('cat', '</s>'): 2, ('<s>', 'this'): 1, ('this', 'dog'): 1, ('dog', 'is'): 1, ('is', 'like'): 1}\n"
          ]
        }
      ]
    },
    {
      "cell_type": "code",
      "source": [
        "def estimate_probability(word, previous_n_gram, n_gram_counts, n_plus1_gram_counts, vocabulary_size, k = 1.0):\n",
        "  \"\"\"\n",
        "  Estimate the probabilities of the next word using the n-gram counts with k-smoothing\n",
        "  \"\"\"\n",
        "\n",
        "  # convert the list to tuple to use it as a dictionary key\n",
        "  previous_n_gram = tuple(previous_n_gram)\n",
        "\n",
        "  # set the denominator\n",
        "  # if the previous n-gram exists in the dictionary of n-gram counts, get its coun\n",
        "  # else set the count to zero\n",
        "  # use the dictionary that has counts for n-grams\n",
        "  previous_n_gram_count = n_gram_counts[previous_n_gram] if previous_n_gram in n_gram_counts else 0\n",
        "\n",
        "  # calculate the denominator useing the count fo the previous n gram and apply k-smoothing\n",
        "  denominator = previous_n_gram_count + k * vocabulary_size\n",
        "\n",
        "  # define n plus 1 gram as the previous n-gram plus the current word as a tuple\n",
        "  n_plus1_gram = previous_n_gram + (word, )\n",
        "\n",
        "  # set the count to the count in the dictionary\n",
        "  # 0 if not in the dictionary\n",
        "  # use the dictionary that has counts for the n-gram plus current word\n",
        "  n_plus1_gram_count = n_plus1_gram_counts[n_plus1_gram] if n_plus1_gram in n_plus1_gram_counts else 0\n",
        "\n",
        "  # define the numerator using the counf of the n-gram plus current word and apply smoothing\n",
        "  numerator = n_plus1_gram_count + k\n",
        "\n",
        "  # calculate the probability as the numberator divided by the denominator\n",
        "  probability = numerator / denominator\n",
        "\n",
        "  return probability"
      ],
      "metadata": {
        "id": "Oa3s4078T_vH"
      },
      "execution_count": null,
      "outputs": []
    },
    {
      "cell_type": "code",
      "source": [
        "sentences = [['i', 'like', 'a', 'cat'],\n",
        "             ['this', 'dog', 'is', 'like', 'a', 'cat']]\n",
        "unique_words = list(set(sentences[0] + sentences[1]))\n",
        "\n",
        "unigram_counts = count_n_grams(sentences, 1)\n",
        "bigram_counts = count_n_grams(sentences, 2)\n",
        "tmp_prob = estimate_probability(\"cat\", \"a\", unigram_counts, bigram_counts, len(unique_words), k=1)\n",
        "\n",
        "print(f\"The estimated probability of word 'cat' given the previous n-gram 'a' is: {tmp_prob:.4f}\")"
      ],
      "metadata": {
        "colab": {
          "base_uri": "https://localhost:8080/"
        },
        "id": "kiYkGLPwWGCK",
        "outputId": "2d02f491-ac90-4db7-9557-23b98ca080ed"
      },
      "execution_count": null,
      "outputs": [
        {
          "output_type": "stream",
          "name": "stdout",
          "text": [
            "The estimated probability of word 'cat' given the previous n-gram 'a' is: 0.3333\n"
          ]
        }
      ]
    },
    {
      "cell_type": "markdown",
      "source": [
        "Here, estimated probability = (2 + 1) / (2 + 1 * 7) = 0.33333\n"
      ],
      "metadata": {
        "id": "XQGmA0GxbL8e"
      }
    },
    {
      "cell_type": "code",
      "source": [
        "def estimate_probabilities(previous_n_gram, n_gram_counts, n_plus1_gram_counts, vocabulary, k = 1.0):\n",
        "  \"\"\"\n",
        "  Estimate the probabilities of next words using the n-gram counts with k-smoothing\n",
        "  \"\"\"\n",
        "  # convert the list to tuple to use it as a dictionary key\n",
        "  previous_n_gram = tuple(previous_n_gram)\n",
        "\n",
        "  # add </s> and <unk> to the vocabulary\n",
        "  # <s> is not needed as it should not appear as the next word\n",
        "  vocabulary = vocabulary + [\"</s>\", \"<unk>\"]\n",
        "  vocabular_size = len(vocabulary)\n",
        "\n",
        "  probabilities = {}\n",
        "  for word in vocabulary:\n",
        "    probability = estimate_probability(word, previous_n_gram, n_gram_counts, n_plus1_gram_counts, vocabular_size, k = k)\n",
        "    probabilities[word] = probability\n",
        "  \n",
        "  return probabilities"
      ],
      "metadata": {
        "id": "N1fFJyzjWTgt"
      },
      "execution_count": null,
      "outputs": []
    },
    {
      "cell_type": "code",
      "source": [
        "sentences = [['i', 'like', 'a', 'cat'],\n",
        "             ['this', 'dog', 'is', 'like', 'a', 'cat']]\n",
        "unique_words = list(set(sentences[0] + sentences[1]))\n",
        "unigram_counts = count_n_grams(sentences, 1)\n",
        "bigram_counts = count_n_grams(sentences, 2)\n",
        "estimate_probabilities(\"a\", unigram_counts, bigram_counts, unique_words, k=1)"
      ],
      "metadata": {
        "colab": {
          "base_uri": "https://localhost:8080/"
        },
        "id": "BxACSpT3XEPR",
        "outputId": "be077836-f235-4166-8e91-e5e2dfed356e"
      },
      "execution_count": null,
      "outputs": [
        {
          "output_type": "execute_result",
          "data": {
            "text/plain": [
              "{'cat': 0.2727272727272727,\n",
              " 'a': 0.09090909090909091,\n",
              " 'is': 0.09090909090909091,\n",
              " 'i': 0.09090909090909091,\n",
              " 'dog': 0.09090909090909091,\n",
              " 'like': 0.09090909090909091,\n",
              " 'this': 0.09090909090909091,\n",
              " '</s>': 0.09090909090909091,\n",
              " '<unk>': 0.09090909090909091}"
            ]
          },
          "metadata": {},
          "execution_count": 30
        }
      ]
    },
    {
      "cell_type": "code",
      "source": [
        "unique_words # this the vocabulary in the above case"
      ],
      "metadata": {
        "colab": {
          "base_uri": "https://localhost:8080/"
        },
        "id": "zi7gngUYX1uJ",
        "outputId": "3cb7509a-7d1e-4594-a150-5b6dfefaf3a6"
      },
      "execution_count": null,
      "outputs": [
        {
          "output_type": "execute_result",
          "data": {
            "text/plain": [
              "['cat', 'a', 'is', 'i', 'dog', 'like', 'this']"
            ]
          },
          "metadata": {},
          "execution_count": 31
        }
      ]
    },
    {
      "cell_type": "code",
      "source": [
        "unigram_counts"
      ],
      "metadata": {
        "colab": {
          "base_uri": "https://localhost:8080/"
        },
        "id": "zqxuJzR6ZEa5",
        "outputId": "63178a91-75cb-405a-a809-773b17b0dfc1"
      },
      "execution_count": null,
      "outputs": [
        {
          "output_type": "execute_result",
          "data": {
            "text/plain": [
              "{('<s>',): 2,\n",
              " ('i',): 1,\n",
              " ('like',): 2,\n",
              " ('a',): 2,\n",
              " ('cat',): 2,\n",
              " ('</s>',): 2,\n",
              " ('this',): 1,\n",
              " ('dog',): 1,\n",
              " ('is',): 1}"
            ]
          },
          "metadata": {},
          "execution_count": 32
        }
      ]
    },
    {
      "cell_type": "code",
      "source": [
        "bigram_counts"
      ],
      "metadata": {
        "colab": {
          "base_uri": "https://localhost:8080/"
        },
        "id": "vRuAYix_ZNHp",
        "outputId": "863adf93-de9d-4349-c757-0e018fe36b99"
      },
      "execution_count": null,
      "outputs": [
        {
          "output_type": "execute_result",
          "data": {
            "text/plain": [
              "{('<s>', '<s>'): 2,\n",
              " ('<s>', 'i'): 1,\n",
              " ('i', 'like'): 1,\n",
              " ('like', 'a'): 2,\n",
              " ('a', 'cat'): 2,\n",
              " ('cat', '</s>'): 2,\n",
              " ('<s>', 'this'): 1,\n",
              " ('this', 'dog'): 1,\n",
              " ('dog', 'is'): 1,\n",
              " ('is', 'like'): 1}"
            ]
          },
          "metadata": {},
          "execution_count": 33
        }
      ]
    },
    {
      "cell_type": "code",
      "source": [
        "trigram_counts = count_n_grams(sentences, 3)\n",
        "estimate_probabilities([\"<s>\", \"<s>\"], bigram_counts, trigram_counts, unique_words, k = 1)"
      ],
      "metadata": {
        "colab": {
          "base_uri": "https://localhost:8080/"
        },
        "id": "YcurcpClZRPd",
        "outputId": "d1aabd5d-6a6e-46cd-9b02-33d942e1770b"
      },
      "execution_count": null,
      "outputs": [
        {
          "output_type": "execute_result",
          "data": {
            "text/plain": [
              "{'cat': 0.09090909090909091,\n",
              " 'a': 0.09090909090909091,\n",
              " 'is': 0.09090909090909091,\n",
              " 'i': 0.18181818181818182,\n",
              " 'dog': 0.09090909090909091,\n",
              " 'like': 0.09090909090909091,\n",
              " 'this': 0.18181818181818182,\n",
              " '</s>': 0.09090909090909091,\n",
              " '<unk>': 0.09090909090909091}"
            ]
          },
          "metadata": {},
          "execution_count": 34
        }
      ]
    },
    {
      "cell_type": "code",
      "source": [
        "trigram_counts"
      ],
      "metadata": {
        "colab": {
          "base_uri": "https://localhost:8080/"
        },
        "id": "REGEiL4_axRv",
        "outputId": "4b732fed-b1c6-4b3a-d935-b950354dea85"
      },
      "execution_count": null,
      "outputs": [
        {
          "output_type": "execute_result",
          "data": {
            "text/plain": [
              "{('<s>', '<s>', '<s>'): 2,\n",
              " ('<s>', '<s>', 'i'): 1,\n",
              " ('<s>', 'i', 'like'): 1,\n",
              " ('i', 'like', 'a'): 1,\n",
              " ('like', 'a', 'cat'): 2,\n",
              " ('a', 'cat', '</s>'): 2,\n",
              " ('cat', '</s>'): 2,\n",
              " ('<s>', '<s>', 'this'): 1,\n",
              " ('<s>', 'this', 'dog'): 1,\n",
              " ('this', 'dog', 'is'): 1,\n",
              " ('dog', 'is', 'like'): 1,\n",
              " ('is', 'like', 'a'): 1}"
            ]
          },
          "metadata": {},
          "execution_count": 35
        }
      ]
    },
    {
      "cell_type": "markdown",
      "source": [
        "## Count and probability matrices"
      ],
      "metadata": {
        "id": "lBQQ8vQtirSa"
      }
    },
    {
      "cell_type": "code",
      "source": [
        "def make_count_matrix(n_plus1_gram_counts, vocabulary):\n",
        "  # add </s> and <UNK> to the vocabulary\n",
        "  # <s> is omitted since it should not appear as next word\n",
        "  vocabulary = vocabulary + [\"</s>\", \"<UNK>\"]\n",
        "\n",
        "  # obtain unique n-grams\n",
        "  n_grams = []\n",
        "  for n_plus1_gram in n_plus1_gram_counts.keys():\n",
        "    n_gram = n_plus1_gram[0:-1]\n",
        "    n_grams.append(n_gram)\n",
        "  n_grams = list(set(n_grams))\n",
        "\n",
        "  # mapping from n-gram to row\n",
        "  row_index = {n_gram : i for i, n_gram in enumerate(n_grams)}\n",
        "\n",
        "  # mapping from next word to column\n",
        "  col_index = {word : j for j, word in enumerate(vocabulary)}\n",
        "\n",
        "  nrow = len(n_grams)\n",
        "  ncol = len(vocabulary)\n",
        "  count_matrix = np.zeros((nrow, ncol))\n",
        "  for n_plus1_gram, count in n_plus1_gram_counts.items():\n",
        "    n_gram = n_plus1_gram[0:-1]\n",
        "    word = n_plus1_gram[-1]\n",
        "    if word not in vocabulary:\n",
        "      continue\n",
        "    i = row_index[n_gram]\n",
        "    j = col_index[word]\n",
        "    count_matrix[i, j] = count\n",
        "\n",
        "  count_matrix = pd.DataFrame(count_matrix, index = n_grams, columns = vocabulary)\n",
        "\n",
        "  return count_matrix\n"
      ],
      "metadata": {
        "id": "vArR7snha55X"
      },
      "execution_count": null,
      "outputs": []
    },
    {
      "cell_type": "code",
      "source": [
        "sentences = [['i', 'like', 'a', 'cat'], ['this', 'dog', 'is', 'like', 'a', 'cat']]\n",
        "unique_words = list(set(sentences[0] + sentences[1]))\n",
        "bigram_counts = count_n_grams(sentences, 2)\n",
        "\n",
        "print('bigram counts')\n",
        "display(make_count_matrix(bigram_counts, unique_words))"
      ],
      "metadata": {
        "colab": {
          "base_uri": "https://localhost:8080/",
          "height": 318
        },
        "id": "q4eLDlq9kMIW",
        "outputId": "ca41cc6d-977a-43a8-ac45-69ca294c39b2"
      },
      "execution_count": null,
      "outputs": [
        {
          "output_type": "stream",
          "name": "stdout",
          "text": [
            "bigram counts\n"
          ]
        },
        {
          "output_type": "display_data",
          "data": {
            "text/plain": [
              "         cat    a   is    i  dog  like  this  </s>  <UNK>\n",
              "(like,)  0.0  2.0  0.0  0.0  0.0   0.0   0.0   0.0    0.0\n",
              "(this,)  0.0  0.0  0.0  0.0  1.0   0.0   0.0   0.0    0.0\n",
              "(cat,)   0.0  0.0  0.0  0.0  0.0   0.0   0.0   2.0    0.0\n",
              "(a,)     2.0  0.0  0.0  0.0  0.0   0.0   0.0   0.0    0.0\n",
              "(<s>,)   0.0  0.0  0.0  1.0  0.0   0.0   1.0   0.0    0.0\n",
              "(i,)     0.0  0.0  0.0  0.0  0.0   1.0   0.0   0.0    0.0\n",
              "(is,)    0.0  0.0  0.0  0.0  0.0   1.0   0.0   0.0    0.0\n",
              "(dog,)   0.0  0.0  1.0  0.0  0.0   0.0   0.0   0.0    0.0"
            ],
            "text/html": [
              "\n",
              "  <div id=\"df-34b745de-3044-406a-87b5-34e86fad040c\">\n",
              "    <div class=\"colab-df-container\">\n",
              "      <div>\n",
              "<style scoped>\n",
              "    .dataframe tbody tr th:only-of-type {\n",
              "        vertical-align: middle;\n",
              "    }\n",
              "\n",
              "    .dataframe tbody tr th {\n",
              "        vertical-align: top;\n",
              "    }\n",
              "\n",
              "    .dataframe thead th {\n",
              "        text-align: right;\n",
              "    }\n",
              "</style>\n",
              "<table border=\"1\" class=\"dataframe\">\n",
              "  <thead>\n",
              "    <tr style=\"text-align: right;\">\n",
              "      <th></th>\n",
              "      <th>cat</th>\n",
              "      <th>a</th>\n",
              "      <th>is</th>\n",
              "      <th>i</th>\n",
              "      <th>dog</th>\n",
              "      <th>like</th>\n",
              "      <th>this</th>\n",
              "      <th>&lt;/s&gt;</th>\n",
              "      <th>&lt;UNK&gt;</th>\n",
              "    </tr>\n",
              "  </thead>\n",
              "  <tbody>\n",
              "    <tr>\n",
              "      <th>(like,)</th>\n",
              "      <td>0.0</td>\n",
              "      <td>2.0</td>\n",
              "      <td>0.0</td>\n",
              "      <td>0.0</td>\n",
              "      <td>0.0</td>\n",
              "      <td>0.0</td>\n",
              "      <td>0.0</td>\n",
              "      <td>0.0</td>\n",
              "      <td>0.0</td>\n",
              "    </tr>\n",
              "    <tr>\n",
              "      <th>(this,)</th>\n",
              "      <td>0.0</td>\n",
              "      <td>0.0</td>\n",
              "      <td>0.0</td>\n",
              "      <td>0.0</td>\n",
              "      <td>1.0</td>\n",
              "      <td>0.0</td>\n",
              "      <td>0.0</td>\n",
              "      <td>0.0</td>\n",
              "      <td>0.0</td>\n",
              "    </tr>\n",
              "    <tr>\n",
              "      <th>(cat,)</th>\n",
              "      <td>0.0</td>\n",
              "      <td>0.0</td>\n",
              "      <td>0.0</td>\n",
              "      <td>0.0</td>\n",
              "      <td>0.0</td>\n",
              "      <td>0.0</td>\n",
              "      <td>0.0</td>\n",
              "      <td>2.0</td>\n",
              "      <td>0.0</td>\n",
              "    </tr>\n",
              "    <tr>\n",
              "      <th>(a,)</th>\n",
              "      <td>2.0</td>\n",
              "      <td>0.0</td>\n",
              "      <td>0.0</td>\n",
              "      <td>0.0</td>\n",
              "      <td>0.0</td>\n",
              "      <td>0.0</td>\n",
              "      <td>0.0</td>\n",
              "      <td>0.0</td>\n",
              "      <td>0.0</td>\n",
              "    </tr>\n",
              "    <tr>\n",
              "      <th>(&lt;s&gt;,)</th>\n",
              "      <td>0.0</td>\n",
              "      <td>0.0</td>\n",
              "      <td>0.0</td>\n",
              "      <td>1.0</td>\n",
              "      <td>0.0</td>\n",
              "      <td>0.0</td>\n",
              "      <td>1.0</td>\n",
              "      <td>0.0</td>\n",
              "      <td>0.0</td>\n",
              "    </tr>\n",
              "    <tr>\n",
              "      <th>(i,)</th>\n",
              "      <td>0.0</td>\n",
              "      <td>0.0</td>\n",
              "      <td>0.0</td>\n",
              "      <td>0.0</td>\n",
              "      <td>0.0</td>\n",
              "      <td>1.0</td>\n",
              "      <td>0.0</td>\n",
              "      <td>0.0</td>\n",
              "      <td>0.0</td>\n",
              "    </tr>\n",
              "    <tr>\n",
              "      <th>(is,)</th>\n",
              "      <td>0.0</td>\n",
              "      <td>0.0</td>\n",
              "      <td>0.0</td>\n",
              "      <td>0.0</td>\n",
              "      <td>0.0</td>\n",
              "      <td>1.0</td>\n",
              "      <td>0.0</td>\n",
              "      <td>0.0</td>\n",
              "      <td>0.0</td>\n",
              "    </tr>\n",
              "    <tr>\n",
              "      <th>(dog,)</th>\n",
              "      <td>0.0</td>\n",
              "      <td>0.0</td>\n",
              "      <td>1.0</td>\n",
              "      <td>0.0</td>\n",
              "      <td>0.0</td>\n",
              "      <td>0.0</td>\n",
              "      <td>0.0</td>\n",
              "      <td>0.0</td>\n",
              "      <td>0.0</td>\n",
              "    </tr>\n",
              "  </tbody>\n",
              "</table>\n",
              "</div>\n",
              "      <button class=\"colab-df-convert\" onclick=\"convertToInteractive('df-34b745de-3044-406a-87b5-34e86fad040c')\"\n",
              "              title=\"Convert this dataframe to an interactive table.\"\n",
              "              style=\"display:none;\">\n",
              "        \n",
              "  <svg xmlns=\"http://www.w3.org/2000/svg\" height=\"24px\"viewBox=\"0 0 24 24\"\n",
              "       width=\"24px\">\n",
              "    <path d=\"M0 0h24v24H0V0z\" fill=\"none\"/>\n",
              "    <path d=\"M18.56 5.44l.94 2.06.94-2.06 2.06-.94-2.06-.94-.94-2.06-.94 2.06-2.06.94zm-11 1L8.5 8.5l.94-2.06 2.06-.94-2.06-.94L8.5 2.5l-.94 2.06-2.06.94zm10 10l.94 2.06.94-2.06 2.06-.94-2.06-.94-.94-2.06-.94 2.06-2.06.94z\"/><path d=\"M17.41 7.96l-1.37-1.37c-.4-.4-.92-.59-1.43-.59-.52 0-1.04.2-1.43.59L10.3 9.45l-7.72 7.72c-.78.78-.78 2.05 0 2.83L4 21.41c.39.39.9.59 1.41.59.51 0 1.02-.2 1.41-.59l7.78-7.78 2.81-2.81c.8-.78.8-2.07 0-2.86zM5.41 20L4 18.59l7.72-7.72 1.47 1.35L5.41 20z\"/>\n",
              "  </svg>\n",
              "      </button>\n",
              "      \n",
              "  <style>\n",
              "    .colab-df-container {\n",
              "      display:flex;\n",
              "      flex-wrap:wrap;\n",
              "      gap: 12px;\n",
              "    }\n",
              "\n",
              "    .colab-df-convert {\n",
              "      background-color: #E8F0FE;\n",
              "      border: none;\n",
              "      border-radius: 50%;\n",
              "      cursor: pointer;\n",
              "      display: none;\n",
              "      fill: #1967D2;\n",
              "      height: 32px;\n",
              "      padding: 0 0 0 0;\n",
              "      width: 32px;\n",
              "    }\n",
              "\n",
              "    .colab-df-convert:hover {\n",
              "      background-color: #E2EBFA;\n",
              "      box-shadow: 0px 1px 2px rgba(60, 64, 67, 0.3), 0px 1px 3px 1px rgba(60, 64, 67, 0.15);\n",
              "      fill: #174EA6;\n",
              "    }\n",
              "\n",
              "    [theme=dark] .colab-df-convert {\n",
              "      background-color: #3B4455;\n",
              "      fill: #D2E3FC;\n",
              "    }\n",
              "\n",
              "    [theme=dark] .colab-df-convert:hover {\n",
              "      background-color: #434B5C;\n",
              "      box-shadow: 0px 1px 3px 1px rgba(0, 0, 0, 0.15);\n",
              "      filter: drop-shadow(0px 1px 2px rgba(0, 0, 0, 0.3));\n",
              "      fill: #FFFFFF;\n",
              "    }\n",
              "  </style>\n",
              "\n",
              "      <script>\n",
              "        const buttonEl =\n",
              "          document.querySelector('#df-34b745de-3044-406a-87b5-34e86fad040c button.colab-df-convert');\n",
              "        buttonEl.style.display =\n",
              "          google.colab.kernel.accessAllowed ? 'block' : 'none';\n",
              "\n",
              "        async function convertToInteractive(key) {\n",
              "          const element = document.querySelector('#df-34b745de-3044-406a-87b5-34e86fad040c');\n",
              "          const dataTable =\n",
              "            await google.colab.kernel.invokeFunction('convertToInteractive',\n",
              "                                                     [key], {});\n",
              "          if (!dataTable) return;\n",
              "\n",
              "          const docLinkHtml = 'Like what you see? Visit the ' +\n",
              "            '<a target=\"_blank\" href=https://colab.research.google.com/notebooks/data_table.ipynb>data table notebook</a>'\n",
              "            + ' to learn more about interactive tables.';\n",
              "          element.innerHTML = '';\n",
              "          dataTable['output_type'] = 'display_data';\n",
              "          await google.colab.output.renderOutput(dataTable, element);\n",
              "          const docLink = document.createElement('div');\n",
              "          docLink.innerHTML = docLinkHtml;\n",
              "          element.appendChild(docLink);\n",
              "        }\n",
              "      </script>\n",
              "    </div>\n",
              "  </div>\n",
              "  "
            ]
          },
          "metadata": {}
        }
      ]
    },
    {
      "cell_type": "code",
      "source": [
        "def make_probability_matrix(n_plus1_gram_counts, vocabulary, k):\n",
        "  count_matrix = make_count_matrix(n_plus1_gram_counts, vocabulary)\n",
        "  # constant is added to each value in count_matrix to make its probability non-zero\n",
        "  count_matrix += k \n",
        "  prob_matrix = count_matrix.div(count_matrix.sum(axis = 1), axis = 0)\n",
        "  return prob_matrix"
      ],
      "metadata": {
        "id": "iHM0GqWqkQby"
      },
      "execution_count": null,
      "outputs": []
    },
    {
      "cell_type": "code",
      "source": [
        "sentences = [['i', 'like', 'a', 'cat'], ['this', 'dog', 'is', 'like', 'a', 'cat']]\n",
        "unique_words = list(set(sentences[0] + sentences[1]))\n",
        "bigram_counts = count_n_grams(sentences, 2)\n",
        "print(\"bigram probabilities\")\n",
        "display(make_probability_matrix(bigram_counts, unique_words, k=1))"
      ],
      "metadata": {
        "colab": {
          "base_uri": "https://localhost:8080/",
          "height": 318
        },
        "id": "SxJK7x2jmUoc",
        "outputId": "465e2bcb-5141-46d9-eb15-899cfe707073"
      },
      "execution_count": null,
      "outputs": [
        {
          "output_type": "stream",
          "name": "stdout",
          "text": [
            "bigram probabilities\n"
          ]
        },
        {
          "output_type": "display_data",
          "data": {
            "text/plain": [
              "              cat         a        is         i       dog      like      this  \\\n",
              "(like,)  0.090909  0.272727  0.090909  0.090909  0.090909  0.090909  0.090909   \n",
              "(this,)  0.100000  0.100000  0.100000  0.100000  0.200000  0.100000  0.100000   \n",
              "(cat,)   0.090909  0.090909  0.090909  0.090909  0.090909  0.090909  0.090909   \n",
              "(a,)     0.272727  0.090909  0.090909  0.090909  0.090909  0.090909  0.090909   \n",
              "(<s>,)   0.090909  0.090909  0.090909  0.181818  0.090909  0.090909  0.181818   \n",
              "(i,)     0.100000  0.100000  0.100000  0.100000  0.100000  0.200000  0.100000   \n",
              "(is,)    0.100000  0.100000  0.100000  0.100000  0.100000  0.200000  0.100000   \n",
              "(dog,)   0.100000  0.100000  0.200000  0.100000  0.100000  0.100000  0.100000   \n",
              "\n",
              "             </s>     <UNK>  \n",
              "(like,)  0.090909  0.090909  \n",
              "(this,)  0.100000  0.100000  \n",
              "(cat,)   0.272727  0.090909  \n",
              "(a,)     0.090909  0.090909  \n",
              "(<s>,)   0.090909  0.090909  \n",
              "(i,)     0.100000  0.100000  \n",
              "(is,)    0.100000  0.100000  \n",
              "(dog,)   0.100000  0.100000  "
            ],
            "text/html": [
              "\n",
              "  <div id=\"df-10632714-eb71-4861-aa80-83450580a877\">\n",
              "    <div class=\"colab-df-container\">\n",
              "      <div>\n",
              "<style scoped>\n",
              "    .dataframe tbody tr th:only-of-type {\n",
              "        vertical-align: middle;\n",
              "    }\n",
              "\n",
              "    .dataframe tbody tr th {\n",
              "        vertical-align: top;\n",
              "    }\n",
              "\n",
              "    .dataframe thead th {\n",
              "        text-align: right;\n",
              "    }\n",
              "</style>\n",
              "<table border=\"1\" class=\"dataframe\">\n",
              "  <thead>\n",
              "    <tr style=\"text-align: right;\">\n",
              "      <th></th>\n",
              "      <th>cat</th>\n",
              "      <th>a</th>\n",
              "      <th>is</th>\n",
              "      <th>i</th>\n",
              "      <th>dog</th>\n",
              "      <th>like</th>\n",
              "      <th>this</th>\n",
              "      <th>&lt;/s&gt;</th>\n",
              "      <th>&lt;UNK&gt;</th>\n",
              "    </tr>\n",
              "  </thead>\n",
              "  <tbody>\n",
              "    <tr>\n",
              "      <th>(like,)</th>\n",
              "      <td>0.090909</td>\n",
              "      <td>0.272727</td>\n",
              "      <td>0.090909</td>\n",
              "      <td>0.090909</td>\n",
              "      <td>0.090909</td>\n",
              "      <td>0.090909</td>\n",
              "      <td>0.090909</td>\n",
              "      <td>0.090909</td>\n",
              "      <td>0.090909</td>\n",
              "    </tr>\n",
              "    <tr>\n",
              "      <th>(this,)</th>\n",
              "      <td>0.100000</td>\n",
              "      <td>0.100000</td>\n",
              "      <td>0.100000</td>\n",
              "      <td>0.100000</td>\n",
              "      <td>0.200000</td>\n",
              "      <td>0.100000</td>\n",
              "      <td>0.100000</td>\n",
              "      <td>0.100000</td>\n",
              "      <td>0.100000</td>\n",
              "    </tr>\n",
              "    <tr>\n",
              "      <th>(cat,)</th>\n",
              "      <td>0.090909</td>\n",
              "      <td>0.090909</td>\n",
              "      <td>0.090909</td>\n",
              "      <td>0.090909</td>\n",
              "      <td>0.090909</td>\n",
              "      <td>0.090909</td>\n",
              "      <td>0.090909</td>\n",
              "      <td>0.272727</td>\n",
              "      <td>0.090909</td>\n",
              "    </tr>\n",
              "    <tr>\n",
              "      <th>(a,)</th>\n",
              "      <td>0.272727</td>\n",
              "      <td>0.090909</td>\n",
              "      <td>0.090909</td>\n",
              "      <td>0.090909</td>\n",
              "      <td>0.090909</td>\n",
              "      <td>0.090909</td>\n",
              "      <td>0.090909</td>\n",
              "      <td>0.090909</td>\n",
              "      <td>0.090909</td>\n",
              "    </tr>\n",
              "    <tr>\n",
              "      <th>(&lt;s&gt;,)</th>\n",
              "      <td>0.090909</td>\n",
              "      <td>0.090909</td>\n",
              "      <td>0.090909</td>\n",
              "      <td>0.181818</td>\n",
              "      <td>0.090909</td>\n",
              "      <td>0.090909</td>\n",
              "      <td>0.181818</td>\n",
              "      <td>0.090909</td>\n",
              "      <td>0.090909</td>\n",
              "    </tr>\n",
              "    <tr>\n",
              "      <th>(i,)</th>\n",
              "      <td>0.100000</td>\n",
              "      <td>0.100000</td>\n",
              "      <td>0.100000</td>\n",
              "      <td>0.100000</td>\n",
              "      <td>0.100000</td>\n",
              "      <td>0.200000</td>\n",
              "      <td>0.100000</td>\n",
              "      <td>0.100000</td>\n",
              "      <td>0.100000</td>\n",
              "    </tr>\n",
              "    <tr>\n",
              "      <th>(is,)</th>\n",
              "      <td>0.100000</td>\n",
              "      <td>0.100000</td>\n",
              "      <td>0.100000</td>\n",
              "      <td>0.100000</td>\n",
              "      <td>0.100000</td>\n",
              "      <td>0.200000</td>\n",
              "      <td>0.100000</td>\n",
              "      <td>0.100000</td>\n",
              "      <td>0.100000</td>\n",
              "    </tr>\n",
              "    <tr>\n",
              "      <th>(dog,)</th>\n",
              "      <td>0.100000</td>\n",
              "      <td>0.100000</td>\n",
              "      <td>0.200000</td>\n",
              "      <td>0.100000</td>\n",
              "      <td>0.100000</td>\n",
              "      <td>0.100000</td>\n",
              "      <td>0.100000</td>\n",
              "      <td>0.100000</td>\n",
              "      <td>0.100000</td>\n",
              "    </tr>\n",
              "  </tbody>\n",
              "</table>\n",
              "</div>\n",
              "      <button class=\"colab-df-convert\" onclick=\"convertToInteractive('df-10632714-eb71-4861-aa80-83450580a877')\"\n",
              "              title=\"Convert this dataframe to an interactive table.\"\n",
              "              style=\"display:none;\">\n",
              "        \n",
              "  <svg xmlns=\"http://www.w3.org/2000/svg\" height=\"24px\"viewBox=\"0 0 24 24\"\n",
              "       width=\"24px\">\n",
              "    <path d=\"M0 0h24v24H0V0z\" fill=\"none\"/>\n",
              "    <path d=\"M18.56 5.44l.94 2.06.94-2.06 2.06-.94-2.06-.94-.94-2.06-.94 2.06-2.06.94zm-11 1L8.5 8.5l.94-2.06 2.06-.94-2.06-.94L8.5 2.5l-.94 2.06-2.06.94zm10 10l.94 2.06.94-2.06 2.06-.94-2.06-.94-.94-2.06-.94 2.06-2.06.94z\"/><path d=\"M17.41 7.96l-1.37-1.37c-.4-.4-.92-.59-1.43-.59-.52 0-1.04.2-1.43.59L10.3 9.45l-7.72 7.72c-.78.78-.78 2.05 0 2.83L4 21.41c.39.39.9.59 1.41.59.51 0 1.02-.2 1.41-.59l7.78-7.78 2.81-2.81c.8-.78.8-2.07 0-2.86zM5.41 20L4 18.59l7.72-7.72 1.47 1.35L5.41 20z\"/>\n",
              "  </svg>\n",
              "      </button>\n",
              "      \n",
              "  <style>\n",
              "    .colab-df-container {\n",
              "      display:flex;\n",
              "      flex-wrap:wrap;\n",
              "      gap: 12px;\n",
              "    }\n",
              "\n",
              "    .colab-df-convert {\n",
              "      background-color: #E8F0FE;\n",
              "      border: none;\n",
              "      border-radius: 50%;\n",
              "      cursor: pointer;\n",
              "      display: none;\n",
              "      fill: #1967D2;\n",
              "      height: 32px;\n",
              "      padding: 0 0 0 0;\n",
              "      width: 32px;\n",
              "    }\n",
              "\n",
              "    .colab-df-convert:hover {\n",
              "      background-color: #E2EBFA;\n",
              "      box-shadow: 0px 1px 2px rgba(60, 64, 67, 0.3), 0px 1px 3px 1px rgba(60, 64, 67, 0.15);\n",
              "      fill: #174EA6;\n",
              "    }\n",
              "\n",
              "    [theme=dark] .colab-df-convert {\n",
              "      background-color: #3B4455;\n",
              "      fill: #D2E3FC;\n",
              "    }\n",
              "\n",
              "    [theme=dark] .colab-df-convert:hover {\n",
              "      background-color: #434B5C;\n",
              "      box-shadow: 0px 1px 3px 1px rgba(0, 0, 0, 0.15);\n",
              "      filter: drop-shadow(0px 1px 2px rgba(0, 0, 0, 0.3));\n",
              "      fill: #FFFFFF;\n",
              "    }\n",
              "  </style>\n",
              "\n",
              "      <script>\n",
              "        const buttonEl =\n",
              "          document.querySelector('#df-10632714-eb71-4861-aa80-83450580a877 button.colab-df-convert');\n",
              "        buttonEl.style.display =\n",
              "          google.colab.kernel.accessAllowed ? 'block' : 'none';\n",
              "\n",
              "        async function convertToInteractive(key) {\n",
              "          const element = document.querySelector('#df-10632714-eb71-4861-aa80-83450580a877');\n",
              "          const dataTable =\n",
              "            await google.colab.kernel.invokeFunction('convertToInteractive',\n",
              "                                                     [key], {});\n",
              "          if (!dataTable) return;\n",
              "\n",
              "          const docLinkHtml = 'Like what you see? Visit the ' +\n",
              "            '<a target=\"_blank\" href=https://colab.research.google.com/notebooks/data_table.ipynb>data table notebook</a>'\n",
              "            + ' to learn more about interactive tables.';\n",
              "          element.innerHTML = '';\n",
              "          dataTable['output_type'] = 'display_data';\n",
              "          await google.colab.output.renderOutput(dataTable, element);\n",
              "          const docLink = document.createElement('div');\n",
              "          docLink.innerHTML = docLinkHtml;\n",
              "          element.appendChild(docLink);\n",
              "        }\n",
              "      </script>\n",
              "    </div>\n",
              "  </div>\n",
              "  "
            ]
          },
          "metadata": {}
        }
      ]
    },
    {
      "cell_type": "code",
      "source": [
        "print(\"trigram probabilities\")\n",
        "trigram_counts = count_n_grams(sentences, 3)\n",
        "display(make_probability_matrix(trigram_counts, unique_words, k=1))"
      ],
      "metadata": {
        "colab": {
          "base_uri": "https://localhost:8080/",
          "height": 380
        },
        "id": "xZNtNGiemWyg",
        "outputId": "96f60998-9206-4fc4-9d02-8ccc1541924e"
      },
      "execution_count": null,
      "outputs": [
        {
          "output_type": "stream",
          "name": "stdout",
          "text": [
            "trigram probabilities\n"
          ]
        },
        {
          "output_type": "display_data",
          "data": {
            "text/plain": [
              "                  cat         a        is         i       dog      like  \\\n",
              "(i, like)    0.100000  0.200000  0.100000  0.100000  0.100000  0.100000   \n",
              "(this, dog)  0.100000  0.100000  0.200000  0.100000  0.100000  0.100000   \n",
              "(<s>, <s>)   0.090909  0.090909  0.090909  0.181818  0.090909  0.090909   \n",
              "(is, like)   0.100000  0.200000  0.100000  0.100000  0.100000  0.100000   \n",
              "(dog, is)    0.100000  0.100000  0.100000  0.100000  0.100000  0.200000   \n",
              "(cat,)       0.090909  0.090909  0.090909  0.090909  0.090909  0.090909   \n",
              "(<s>, this)  0.100000  0.100000  0.100000  0.100000  0.200000  0.100000   \n",
              "(like, a)    0.272727  0.090909  0.090909  0.090909  0.090909  0.090909   \n",
              "(a, cat)     0.090909  0.090909  0.090909  0.090909  0.090909  0.090909   \n",
              "(<s>, i)     0.100000  0.100000  0.100000  0.100000  0.100000  0.200000   \n",
              "\n",
              "                 this      </s>     <UNK>  \n",
              "(i, like)    0.100000  0.100000  0.100000  \n",
              "(this, dog)  0.100000  0.100000  0.100000  \n",
              "(<s>, <s>)   0.181818  0.090909  0.090909  \n",
              "(is, like)   0.100000  0.100000  0.100000  \n",
              "(dog, is)    0.100000  0.100000  0.100000  \n",
              "(cat,)       0.090909  0.272727  0.090909  \n",
              "(<s>, this)  0.100000  0.100000  0.100000  \n",
              "(like, a)    0.090909  0.090909  0.090909  \n",
              "(a, cat)     0.090909  0.272727  0.090909  \n",
              "(<s>, i)     0.100000  0.100000  0.100000  "
            ],
            "text/html": [
              "\n",
              "  <div id=\"df-d6808639-090d-4b94-8509-1ca84571b140\">\n",
              "    <div class=\"colab-df-container\">\n",
              "      <div>\n",
              "<style scoped>\n",
              "    .dataframe tbody tr th:only-of-type {\n",
              "        vertical-align: middle;\n",
              "    }\n",
              "\n",
              "    .dataframe tbody tr th {\n",
              "        vertical-align: top;\n",
              "    }\n",
              "\n",
              "    .dataframe thead th {\n",
              "        text-align: right;\n",
              "    }\n",
              "</style>\n",
              "<table border=\"1\" class=\"dataframe\">\n",
              "  <thead>\n",
              "    <tr style=\"text-align: right;\">\n",
              "      <th></th>\n",
              "      <th>cat</th>\n",
              "      <th>a</th>\n",
              "      <th>is</th>\n",
              "      <th>i</th>\n",
              "      <th>dog</th>\n",
              "      <th>like</th>\n",
              "      <th>this</th>\n",
              "      <th>&lt;/s&gt;</th>\n",
              "      <th>&lt;UNK&gt;</th>\n",
              "    </tr>\n",
              "  </thead>\n",
              "  <tbody>\n",
              "    <tr>\n",
              "      <th>(i, like)</th>\n",
              "      <td>0.100000</td>\n",
              "      <td>0.200000</td>\n",
              "      <td>0.100000</td>\n",
              "      <td>0.100000</td>\n",
              "      <td>0.100000</td>\n",
              "      <td>0.100000</td>\n",
              "      <td>0.100000</td>\n",
              "      <td>0.100000</td>\n",
              "      <td>0.100000</td>\n",
              "    </tr>\n",
              "    <tr>\n",
              "      <th>(this, dog)</th>\n",
              "      <td>0.100000</td>\n",
              "      <td>0.100000</td>\n",
              "      <td>0.200000</td>\n",
              "      <td>0.100000</td>\n",
              "      <td>0.100000</td>\n",
              "      <td>0.100000</td>\n",
              "      <td>0.100000</td>\n",
              "      <td>0.100000</td>\n",
              "      <td>0.100000</td>\n",
              "    </tr>\n",
              "    <tr>\n",
              "      <th>(&lt;s&gt;, &lt;s&gt;)</th>\n",
              "      <td>0.090909</td>\n",
              "      <td>0.090909</td>\n",
              "      <td>0.090909</td>\n",
              "      <td>0.181818</td>\n",
              "      <td>0.090909</td>\n",
              "      <td>0.090909</td>\n",
              "      <td>0.181818</td>\n",
              "      <td>0.090909</td>\n",
              "      <td>0.090909</td>\n",
              "    </tr>\n",
              "    <tr>\n",
              "      <th>(is, like)</th>\n",
              "      <td>0.100000</td>\n",
              "      <td>0.200000</td>\n",
              "      <td>0.100000</td>\n",
              "      <td>0.100000</td>\n",
              "      <td>0.100000</td>\n",
              "      <td>0.100000</td>\n",
              "      <td>0.100000</td>\n",
              "      <td>0.100000</td>\n",
              "      <td>0.100000</td>\n",
              "    </tr>\n",
              "    <tr>\n",
              "      <th>(dog, is)</th>\n",
              "      <td>0.100000</td>\n",
              "      <td>0.100000</td>\n",
              "      <td>0.100000</td>\n",
              "      <td>0.100000</td>\n",
              "      <td>0.100000</td>\n",
              "      <td>0.200000</td>\n",
              "      <td>0.100000</td>\n",
              "      <td>0.100000</td>\n",
              "      <td>0.100000</td>\n",
              "    </tr>\n",
              "    <tr>\n",
              "      <th>(cat,)</th>\n",
              "      <td>0.090909</td>\n",
              "      <td>0.090909</td>\n",
              "      <td>0.090909</td>\n",
              "      <td>0.090909</td>\n",
              "      <td>0.090909</td>\n",
              "      <td>0.090909</td>\n",
              "      <td>0.090909</td>\n",
              "      <td>0.272727</td>\n",
              "      <td>0.090909</td>\n",
              "    </tr>\n",
              "    <tr>\n",
              "      <th>(&lt;s&gt;, this)</th>\n",
              "      <td>0.100000</td>\n",
              "      <td>0.100000</td>\n",
              "      <td>0.100000</td>\n",
              "      <td>0.100000</td>\n",
              "      <td>0.200000</td>\n",
              "      <td>0.100000</td>\n",
              "      <td>0.100000</td>\n",
              "      <td>0.100000</td>\n",
              "      <td>0.100000</td>\n",
              "    </tr>\n",
              "    <tr>\n",
              "      <th>(like, a)</th>\n",
              "      <td>0.272727</td>\n",
              "      <td>0.090909</td>\n",
              "      <td>0.090909</td>\n",
              "      <td>0.090909</td>\n",
              "      <td>0.090909</td>\n",
              "      <td>0.090909</td>\n",
              "      <td>0.090909</td>\n",
              "      <td>0.090909</td>\n",
              "      <td>0.090909</td>\n",
              "    </tr>\n",
              "    <tr>\n",
              "      <th>(a, cat)</th>\n",
              "      <td>0.090909</td>\n",
              "      <td>0.090909</td>\n",
              "      <td>0.090909</td>\n",
              "      <td>0.090909</td>\n",
              "      <td>0.090909</td>\n",
              "      <td>0.090909</td>\n",
              "      <td>0.090909</td>\n",
              "      <td>0.272727</td>\n",
              "      <td>0.090909</td>\n",
              "    </tr>\n",
              "    <tr>\n",
              "      <th>(&lt;s&gt;, i)</th>\n",
              "      <td>0.100000</td>\n",
              "      <td>0.100000</td>\n",
              "      <td>0.100000</td>\n",
              "      <td>0.100000</td>\n",
              "      <td>0.100000</td>\n",
              "      <td>0.200000</td>\n",
              "      <td>0.100000</td>\n",
              "      <td>0.100000</td>\n",
              "      <td>0.100000</td>\n",
              "    </tr>\n",
              "  </tbody>\n",
              "</table>\n",
              "</div>\n",
              "      <button class=\"colab-df-convert\" onclick=\"convertToInteractive('df-d6808639-090d-4b94-8509-1ca84571b140')\"\n",
              "              title=\"Convert this dataframe to an interactive table.\"\n",
              "              style=\"display:none;\">\n",
              "        \n",
              "  <svg xmlns=\"http://www.w3.org/2000/svg\" height=\"24px\"viewBox=\"0 0 24 24\"\n",
              "       width=\"24px\">\n",
              "    <path d=\"M0 0h24v24H0V0z\" fill=\"none\"/>\n",
              "    <path d=\"M18.56 5.44l.94 2.06.94-2.06 2.06-.94-2.06-.94-.94-2.06-.94 2.06-2.06.94zm-11 1L8.5 8.5l.94-2.06 2.06-.94-2.06-.94L8.5 2.5l-.94 2.06-2.06.94zm10 10l.94 2.06.94-2.06 2.06-.94-2.06-.94-.94-2.06-.94 2.06-2.06.94z\"/><path d=\"M17.41 7.96l-1.37-1.37c-.4-.4-.92-.59-1.43-.59-.52 0-1.04.2-1.43.59L10.3 9.45l-7.72 7.72c-.78.78-.78 2.05 0 2.83L4 21.41c.39.39.9.59 1.41.59.51 0 1.02-.2 1.41-.59l7.78-7.78 2.81-2.81c.8-.78.8-2.07 0-2.86zM5.41 20L4 18.59l7.72-7.72 1.47 1.35L5.41 20z\"/>\n",
              "  </svg>\n",
              "      </button>\n",
              "      \n",
              "  <style>\n",
              "    .colab-df-container {\n",
              "      display:flex;\n",
              "      flex-wrap:wrap;\n",
              "      gap: 12px;\n",
              "    }\n",
              "\n",
              "    .colab-df-convert {\n",
              "      background-color: #E8F0FE;\n",
              "      border: none;\n",
              "      border-radius: 50%;\n",
              "      cursor: pointer;\n",
              "      display: none;\n",
              "      fill: #1967D2;\n",
              "      height: 32px;\n",
              "      padding: 0 0 0 0;\n",
              "      width: 32px;\n",
              "    }\n",
              "\n",
              "    .colab-df-convert:hover {\n",
              "      background-color: #E2EBFA;\n",
              "      box-shadow: 0px 1px 2px rgba(60, 64, 67, 0.3), 0px 1px 3px 1px rgba(60, 64, 67, 0.15);\n",
              "      fill: #174EA6;\n",
              "    }\n",
              "\n",
              "    [theme=dark] .colab-df-convert {\n",
              "      background-color: #3B4455;\n",
              "      fill: #D2E3FC;\n",
              "    }\n",
              "\n",
              "    [theme=dark] .colab-df-convert:hover {\n",
              "      background-color: #434B5C;\n",
              "      box-shadow: 0px 1px 3px 1px rgba(0, 0, 0, 0.15);\n",
              "      filter: drop-shadow(0px 1px 2px rgba(0, 0, 0, 0.3));\n",
              "      fill: #FFFFFF;\n",
              "    }\n",
              "  </style>\n",
              "\n",
              "      <script>\n",
              "        const buttonEl =\n",
              "          document.querySelector('#df-d6808639-090d-4b94-8509-1ca84571b140 button.colab-df-convert');\n",
              "        buttonEl.style.display =\n",
              "          google.colab.kernel.accessAllowed ? 'block' : 'none';\n",
              "\n",
              "        async function convertToInteractive(key) {\n",
              "          const element = document.querySelector('#df-d6808639-090d-4b94-8509-1ca84571b140');\n",
              "          const dataTable =\n",
              "            await google.colab.kernel.invokeFunction('convertToInteractive',\n",
              "                                                     [key], {});\n",
              "          if (!dataTable) return;\n",
              "\n",
              "          const docLinkHtml = 'Like what you see? Visit the ' +\n",
              "            '<a target=\"_blank\" href=https://colab.research.google.com/notebooks/data_table.ipynb>data table notebook</a>'\n",
              "            + ' to learn more about interactive tables.';\n",
              "          element.innerHTML = '';\n",
              "          dataTable['output_type'] = 'display_data';\n",
              "          await google.colab.output.renderOutput(dataTable, element);\n",
              "          const docLink = document.createElement('div');\n",
              "          docLink.innerHTML = docLinkHtml;\n",
              "          element.appendChild(docLink);\n",
              "        }\n",
              "      </script>\n",
              "    </div>\n",
              "  </div>\n",
              "  "
            ]
          },
          "metadata": {}
        }
      ]
    },
    {
      "cell_type": "markdown",
      "source": [
        "## Perplexity"
      ],
      "metadata": {
        "id": "08LCqa83nCtF"
      }
    },
    {
      "cell_type": "code",
      "source": [
        "def calculate_perplexity(sentence, n_gram_counts, n_plus1_gram_counts, vocabulary_size, k = 1.0):\n",
        "  \"\"\"\n",
        "  calculate the perplexity for a list of sentences\n",
        "  \"\"\"\n",
        "  # length of previous words\n",
        "  n = len(list(n_gram_counts.keys())[0])\n",
        "\n",
        "  # prepend <s> and append </s>\n",
        "  sentence = [\"<s>\"] * n + sentence + [\"</s>\"]\n",
        "\n",
        "  # cast the sentence from a list to a tuple\n",
        "  sentence = tuple(sentence)\n",
        "\n",
        "  # length of sentence (after adding)\n",
        "  N = len(sentence)\n",
        "\n",
        "  # The variable p will hold hte product that is calculated inside the n-root \n",
        "  # Update this in the code below\n",
        "  product_pi = 1.0\n",
        "\n",
        "  # index t ranges from n to N-1, inclusive on both ends\n",
        "  for t in range(n, N):\n",
        "    # get the n_gram preceding the word at position t\n",
        "    n_gram = sentence[t - n : t]\n",
        "\n",
        "    # get the word at position t\n",
        "    word = sentence[t]\n",
        "\n",
        "    # estimate the probability of the word given the n-gram using the n-gram counts, n-plus1-gram counts, vocabulary size and smoothing constant\n",
        "    probability = estimate_probability(word, n_gram, n_gram_counts, n_plus1_gram_counts, len(unique_words), k = 1)\n",
        "\n",
        "    # Update the product of the probabilities\n",
        "    # product_pi is the cumulative product of the (1/P) factors that are calculated in the loop\n",
        "    product_pi *= 1 / probability\n",
        "\n",
        "  # Take the N-th root of the product\n",
        "  perplexity = product_pi ** (1/float(N))\n",
        "\n",
        "  return perplexity "
      ],
      "metadata": {
        "id": "Tc6uO02Im9BC"
      },
      "execution_count": null,
      "outputs": []
    },
    {
      "cell_type": "code",
      "source": [
        "sentences = [['i', 'like', 'a', 'cat'], ['this', 'dog', 'is', 'like', 'a', 'cat']]\n",
        "unique_words = list(set(sentences[0] + sentences[1]))\n",
        "\n",
        "unigram_counts = count_n_grams(sentences, 1)\n",
        "bigram_counts = count_n_grams(sentences, 2)\n",
        "\n",
        "\n",
        "perplexity_train1 = calculate_perplexity(sentences[0],\n",
        "                                         unigram_counts, bigram_counts,\n",
        "                                         len(unique_words), k=1.0)\n",
        "print(f\"Perplexity for first train sample: {perplexity_train1:.4f}\")\n",
        "\n",
        "test_sentence = ['i', 'like', 'a', 'dog']\n",
        "perplexity_test = calculate_perplexity(test_sentence,\n",
        "                                       unigram_counts, bigram_counts,\n",
        "                                       len(unique_words), k=1.0)\n",
        "print(f\"Perplexity for test sample: {perplexity_test:.4f}\")"
      ],
      "metadata": {
        "colab": {
          "base_uri": "https://localhost:8080/"
        },
        "id": "adTlz5Bgoxce",
        "outputId": "ab063454-45ec-4a59-bb21-54fc8680e874"
      },
      "execution_count": null,
      "outputs": [
        {
          "output_type": "stream",
          "name": "stdout",
          "text": [
            "Perplexity for first train sample: 2.8040\n",
            "Perplexity for test sample: 3.9654\n"
          ]
        }
      ]
    },
    {
      "cell_type": "code",
      "source": [
        "def suggest_a_word(previous_tokens, n_gram_counts, n_plus1_gram_counts, vocabulary, k = 1.0, start_with = None):\n",
        "  \"\"\"\n",
        "  Get suggestion for the next word\n",
        "  \"\"\"\n",
        "\n",
        "  # length of previous words\n",
        "  n = len(list(n_gram_counts.keys())[0])\n",
        "\n",
        "  # From the words that the user already typed, get the most recent 'n' words as the previous n-gram\n",
        "  previous_n_gram = previous_tokens[-n:]\n",
        "\n",
        "  # Estimate the probabilities that each word in the vocabular is the next word\n",
        "  probabilities = estimate_probabilities(previous_n_gram, n_gram_counts, n_plus1_gram_counts, vocabulary, k = k)\n",
        "  \n",
        "  # Words with highest probability will be set to suggestion\n",
        "  suggestion = None\n",
        "\n",
        "  # Initialie the value for maximum probability\n",
        "  max_prob = 0\n",
        "\n",
        "  # For each word and its probability in the probabilities dictionary\n",
        "  for word, prob in probabilities.items():\n",
        "    # if the optional start with string is set\n",
        "    if start_with != None:\n",
        "      # Check if the beginning of word does not match with the letters in 'start_with'\n",
        "      if not word.startswith(start_with):\n",
        "        # if they don't match, skip this word and move onto the next word\n",
        "        continue\n",
        "\n",
        "    # Check if this word's probability is greater than the current maximum probability\n",
        "    if prob > max_prob:\n",
        "      # if so, save this word for the best suggestion\n",
        "      suggestion = word\n",
        "      max_prob = prob\n",
        "  \n",
        "  return suggestion, max_prob\n",
        "\n",
        "\n"
      ],
      "metadata": {
        "id": "DS6CE1S0o1kt"
      },
      "execution_count": null,
      "outputs": []
    },
    {
      "cell_type": "code",
      "source": [
        "sentences = [['i', 'like', 'a', 'cat'],\n",
        "             ['this', 'dog', 'is', 'like', 'a', 'cat']]\n",
        "unique_words = list(set(sentences[0] + sentences[1]))\n",
        "\n",
        "unigram_counts = count_n_grams(sentences, 1)\n",
        "bigram_counts = count_n_grams(sentences, 2)\n",
        "\n",
        "previous_tokens = [\"i\", \"like\"]\n",
        "tmp_suggest1 = suggest_a_word(previous_tokens, unigram_counts, bigram_counts, unique_words, k=1.0)\n",
        "print(f\"The previous words are 'i like',\\n\\tand the suggested word is `{tmp_suggest1[0]}` with a probability of {tmp_suggest1[1]:.4f}\")\n",
        "\n",
        "print()\n",
        "# test your code when setting the starts_with\n",
        "tmp_starts_with = 'c'\n",
        "tmp_suggest2 = suggest_a_word(previous_tokens, unigram_counts, bigram_counts, unique_words, k=1.0, start_with=tmp_starts_with)\n",
        "print(f\"The previous words are 'i like', the suggestion must start with `{tmp_starts_with}`\\n\\tand the suggested word is `{tmp_suggest2[0]}` with a probability of {tmp_suggest2[1]:.4f}\")\n"
      ],
      "metadata": {
        "colab": {
          "base_uri": "https://localhost:8080/"
        },
        "id": "y0mzYQ_ZxJQa",
        "outputId": "327f6865-3a3f-4d84-da95-6782d0649b89"
      },
      "execution_count": null,
      "outputs": [
        {
          "output_type": "stream",
          "name": "stdout",
          "text": [
            "The previous words are 'i like',\n",
            "\tand the suggested word is `a` with a probability of 0.2727\n",
            "\n",
            "The previous words are 'i like', the suggestion must start with `c`\n",
            "\tand the suggested word is `cat` with a probability of 0.0909\n"
          ]
        }
      ]
    },
    {
      "cell_type": "markdown",
      "source": [
        "## Get multiple suggestions"
      ],
      "metadata": {
        "id": "E5C8SJwCxhhE"
      }
    },
    {
      "cell_type": "code",
      "source": [
        "def get_suggestions(previous_tokens, n_gram_counts_list, vocabulary, k = 1.0, start_with = None):\n",
        "  model_counts = len(n_gram_counts_list)\n",
        "  suggestions = []\n",
        "\n",
        "  for i in range(model_counts - 1):\n",
        "    n_gram_counts = n_gram_counts_list[i]\n",
        "    n_plus1_gram_counts = n_gram_counts_list[i + 1]\n",
        "\n",
        "    suggestion = suggest_a_word(previous_tokens, n_gram_counts, n_plus1_gram_counts, vocabulary, k = k, start_with = start_with)\n",
        "\n",
        "    suggestions.append(suggestion)\n",
        "\n",
        "  return suggestions"
      ],
      "metadata": {
        "id": "8Zh-4bCfxPlj"
      },
      "execution_count": null,
      "outputs": []
    },
    {
      "cell_type": "code",
      "source": [
        "sentences = [['i', 'like', 'a', 'cat'],\n",
        "             ['this', 'dog', 'is', 'like', 'a', 'cat']]\n",
        "unique_words = list(set(sentences[0] + sentences[1]))\n",
        "\n",
        "unigram_counts = count_n_grams(sentences, 1)\n",
        "bigram_counts = count_n_grams(sentences, 2)\n",
        "trigram_counts = count_n_grams(sentences, 3)\n",
        "quadgram_counts = count_n_grams(sentences, 4)\n",
        "qintgram_counts = count_n_grams(sentences, 5)\n",
        "\n",
        "n_gram_counts_list = [unigram_counts, bigram_counts, trigram_counts, quadgram_counts, qintgram_counts]\n",
        "previous_tokens = [\"i\", \"like\"]\n",
        "tmp_suggest3 = get_suggestions(previous_tokens, n_gram_counts_list, unique_words, k=1.0)\n",
        "\n",
        "print(f\"The previous words are 'i like', the suggestions are:\")\n",
        "display(tmp_suggest3)"
      ],
      "metadata": {
        "colab": {
          "base_uri": "https://localhost:8080/",
          "height": 104
        },
        "id": "dMr8Y8IQyJOq",
        "outputId": "8f12b3a8-8c28-4ec0-a262-894e6037abe5"
      },
      "execution_count": null,
      "outputs": [
        {
          "output_type": "stream",
          "name": "stdout",
          "text": [
            "The previous words are 'i like', the suggestions are:\n"
          ]
        },
        {
          "output_type": "display_data",
          "data": {
            "text/plain": [
              "[('a', 0.2727272727272727),\n",
              " ('a', 0.2),\n",
              " ('cat', 0.1111111111111111),\n",
              " ('cat', 0.1111111111111111)]"
            ]
          },
          "metadata": {}
        }
      ]
    },
    {
      "cell_type": "markdown",
      "source": [
        "# Suggest multipe words using n-gram of varyinh length"
      ],
      "metadata": {
        "id": "dnxx99w9yWWZ"
      }
    },
    {
      "cell_type": "code",
      "source": [
        "n_gram_counts_list = []\n",
        "for n in range(1, 6):\n",
        "  print(\"computing n-gram counts with n = \", n, \"....\")\n",
        "  n_model_counts = count_n_grams(train_data_processed, n)\n",
        "  n_gram_counts_list.append(n_model_counts)"
      ],
      "metadata": {
        "colab": {
          "base_uri": "https://localhost:8080/"
        },
        "id": "CGAAc4bMyNfQ",
        "outputId": "35d0c3d9-652c-4c3a-aafb-e5fb6dcc34fe"
      },
      "execution_count": null,
      "outputs": [
        {
          "output_type": "stream",
          "name": "stdout",
          "text": [
            "computing n-gram counts with n =  1 ....\n",
            "computing n-gram counts with n =  2 ....\n",
            "computing n-gram counts with n =  3 ....\n",
            "computing n-gram counts with n =  4 ....\n",
            "computing n-gram counts with n =  5 ....\n"
          ]
        }
      ]
    },
    {
      "cell_type": "code",
      "source": [
        "previous_tokens = [\"i\", \"am\", \"to\"]\n",
        "tmp_suggest4 = get_suggestions(previous_tokens, n_gram_counts_list, vocabulary, k=1.0)\n",
        "\n",
        "print(f\"The previous words are {previous_tokens}, the suggestions are:\")\n",
        "display(tmp_suggest4)"
      ],
      "metadata": {
        "colab": {
          "base_uri": "https://localhost:8080/",
          "height": 104
        },
        "id": "O2zWIBBfyr1y",
        "outputId": "bf7cc0ad-8f73-484e-d2b9-5734226e0bc8"
      },
      "execution_count": null,
      "outputs": [
        {
          "output_type": "stream",
          "name": "stdout",
          "text": [
            "The previous words are ['i', 'am', 'to'], the suggestions are:\n"
          ]
        },
        {
          "output_type": "display_data",
          "data": {
            "text/plain": [
              "[('be', 0.027662668120683388),\n",
              " ('have', 0.00013484358144552318),\n",
              " ('have', 0.0001348799568384138),\n",
              " ('i', 6.744907594765952e-05)]"
            ]
          },
          "metadata": {}
        }
      ]
    },
    {
      "cell_type": "code",
      "source": [
        "previous_tokens = [\"hey\", \"how\", \"are\"]\n",
        "tmp_suggest6 = get_suggestions(previous_tokens, n_gram_counts_list, vocabulary, k=1.0)\n",
        "\n",
        "print(f\"The previous words are {previous_tokens}, the suggestions are:\")\n",
        "display(tmp_suggest6)"
      ],
      "metadata": {
        "colab": {
          "base_uri": "https://localhost:8080/",
          "height": 104
        },
        "id": "8OP7FTsyzQ8Q",
        "outputId": "e0a9fcaf-bdfd-4abe-a9f6-9f47bf1cf77e"
      },
      "execution_count": null,
      "outputs": [
        {
          "output_type": "stream",
          "name": "stdout",
          "text": [
            "The previous words are ['hey', 'how', 'are'], the suggestions are:\n"
          ]
        },
        {
          "output_type": "display_data",
          "data": {
            "text/plain": [
              "[('you', 0.02342280731749017),\n",
              " ('you', 0.0035587188612099642),\n",
              " ('you', 0.00013488905375328792),\n",
              " ('i', 6.744907594765952e-05)]"
            ]
          },
          "metadata": {}
        }
      ]
    },
    {
      "cell_type": "code",
      "source": [
        "previous_tokens = [\"hey\", \"how\", \"are\"]\n",
        "unigram_counts = n_gram_counts_list[0]\n",
        "bigram_counts = n_gram_counts_list[1]\n",
        "unique_words = vocabulary\n",
        "\n",
        "tmp_suggestions = suggest_a_word(previous_tokens, unigram_counts, bigram_counts, unique_words, k=1.0)\n",
        "print(tmp_suggestions)"
      ],
      "metadata": {
        "colab": {
          "base_uri": "https://localhost:8080/"
        },
        "id": "jG2C-G6kz6o_",
        "outputId": "6ffe9cad-11ed-428d-d802-a81e01d55f98"
      },
      "execution_count": null,
      "outputs": [
        {
          "output_type": "stream",
          "name": "stdout",
          "text": [
            "('you', 0.02342280731749017)\n"
          ]
        }
      ]
    },
    {
      "cell_type": "code",
      "source": [
        "previous_tokens = [\"hey\", \"how\", \"are\"]\n",
        "unigram_counts = n_gram_counts_list[1]\n",
        "bigram_counts = n_gram_counts_list[2]\n",
        "unique_words = vocabulary\n",
        "\n",
        "tmp_suggestions = suggest_a_word(previous_tokens, unigram_counts, bigram_counts, unique_words, k=1.0)\n",
        "print(tmp_suggestions)"
      ],
      "metadata": {
        "colab": {
          "base_uri": "https://localhost:8080/"
        },
        "id": "tltK005f0WXx",
        "outputId": "771434aa-92d3-40b9-b64c-812ca7ec38d2"
      },
      "execution_count": null,
      "outputs": [
        {
          "output_type": "stream",
          "name": "stdout",
          "text": [
            "('you', 0.0035587188612099642)\n"
          ]
        }
      ]
    },
    {
      "cell_type": "code",
      "source": [
        "previous_tokens = [\"hey\", \"how\", \"are\"]\n",
        "unigram_counts = n_gram_counts_list[3]\n",
        "bigram_counts = n_gram_counts_list[4]\n",
        "unique_words = vocabulary\n",
        "\n",
        "tmp_suggestions = suggest_a_word(previous_tokens, unigram_counts, bigram_counts, unique_words, k=1.0)\n",
        "print(tmp_suggestions)"
      ],
      "metadata": {
        "colab": {
          "base_uri": "https://localhost:8080/"
        },
        "id": "R_mOUNmu0owu",
        "outputId": "c82f4a98-4573-44b9-c1eb-f6248a004ab2"
      },
      "execution_count": null,
      "outputs": [
        {
          "output_type": "stream",
          "name": "stdout",
          "text": [
            "('i', 6.744907594765952e-05)\n"
          ]
        }
      ]
    },
    {
      "cell_type": "code",
      "source": [],
      "metadata": {
        "id": "417oQLYS0sOV"
      },
      "execution_count": null,
      "outputs": []
    }
  ]
}
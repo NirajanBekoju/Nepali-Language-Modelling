{
  "nbformat": 4,
  "nbformat_minor": 0,
  "metadata": {
    "colab": {
      "provenance": [],
      "collapsed_sections": []
    },
    "kernelspec": {
      "name": "python3",
      "display_name": "Python 3"
    },
    "language_info": {
      "name": "python"
    },
    "accelerator": "GPU"
  },
  "cells": [
    {
      "cell_type": "markdown",
      "source": [
        "## Nepali Word2Vec model\n",
        "\n",
        "https://www.kaggle.com/code/rajanghimire/nepali-word2vec/notebook"
      ],
      "metadata": {
        "id": "AS0QORXxE5Rq"
      }
    },
    {
      "cell_type": "code",
      "source": [
        "import string\n",
        "\n",
        "print(\"Reading the file .....\")\n",
        "f = open(\"/content/drive/MyDrive/Colab Notebooks/NLP/Word Embeddings/clean.txt\", encoding = 'utf-8', buffering =10000)\n",
        "lines = f.read().strip().split(u\"।\")"
      ],
      "metadata": {
        "id": "nFDV5wk3-VhS",
        "colab": {
          "base_uri": "https://localhost:8080/"
        },
        "outputId": "b93be7fc-6165-48f6-946b-debae64efbb2"
      },
      "execution_count": null,
      "outputs": [
        {
          "output_type": "stream",
          "name": "stdout",
          "text": [
            "Reading the file .....\n"
          ]
        }
      ]
    },
    {
      "cell_type": "code",
      "source": [
        "lines[:5]"
      ],
      "metadata": {
        "colab": {
          "base_uri": "https://localhost:8080/"
        },
        "id": "KTtSuVI9_4YY",
        "outputId": "3aad2b93-b0ff-40d4-9037-b5ae8e71c0e1"
      },
      "execution_count": null,
      "outputs": [
        {
          "output_type": "execute_result",
          "data": {
            "text/plain": [
              "['साँवा अक्षर मा बाह्रखरीमिल्नाले भाषा समृद्ध र अर्थपूर्ण बनेजस्तै देशको समाजिक राजनीतिक आर्थिक र अन्य क्षेत्रको स्थूल स्वरूपलाई विवेचनात्मक दृष्टिबाट अथ्र्याइएमा मात्र जनताले देशको गति र शासनको नियत बुझ्ने विश्वास लिएर त्यसको भित्री एवं समग्र स्वरूप जनता समक्ष प्रस्तुत गर्ने जमर्कोमा यो अनलाइन खबर पत्रिका बाह्रखरी उपस्थित भएको छ ',\n",
              " ' हामी आफूलाई उदार लोकतन्त्र र उदार आर्थिक प्रणालीका पक्षधर हौँ भन्न हिचकिचाउँदैनौ भने गरिब र पिछडिएका जनताका पक्षमा सरकारको सशक्त उपस्थिती र लोकोपकारी कार्यकारीको महत्वलाई पनि अस्वीकार गर्दैनौ ',\n",
              " ' जनताका नैसर्गिक अधिकार रक्षाका लागि सत्य र तथ्यमा आधारित पत्रकारिताका क्रममा कसैसँग पनि सम्झौता गर्ने छैनौ ',\n",
              " ' नेपालको वर्तमान राजनीतिक परिवृत्तमा सबैले आफूलाई लोकतान्त्रिक शक्तिका रूपमा परिचित गराउने तर विचार व्यवहार र कार्यशैलीमा बहुलता स्विकार गर्न नसक्ने विडम्बना देखिएको छ ',\n",
              " ' कतिपय अवस्थामा लोकतान्त्रिक राजनीतिका पक्षधर भन्नेबित्तिकै निश्चित राजनीतिक दलसँग आबद्ध भनेर ठान्ने सोच कायमै छ ']"
            ]
          },
          "metadata": {},
          "execution_count": 2
        }
      ]
    },
    {
      "cell_type": "code",
      "source": [
        "sentences = [sentence.translate(str.maketrans('', '', string.punctuation)) for sentence in lines]"
      ],
      "metadata": {
        "id": "XIzvGAGy_qCI"
      },
      "execution_count": null,
      "outputs": []
    },
    {
      "cell_type": "code",
      "source": [
        "f.close()\n",
        "print(f'Total number of lines in the text file is {len(sentences)}')"
      ],
      "metadata": {
        "colab": {
          "base_uri": "https://localhost:8080/"
        },
        "id": "DzsGfPu8_270",
        "outputId": "79dfba2d-2b3b-427f-dd41-3474fd1a2c2d"
      },
      "execution_count": null,
      "outputs": [
        {
          "output_type": "stream",
          "name": "stdout",
          "text": [
            "Total number of lines in the text file is 5891518\n"
          ]
        }
      ]
    },
    {
      "cell_type": "code",
      "source": [
        "sentences[:5]"
      ],
      "metadata": {
        "colab": {
          "base_uri": "https://localhost:8080/"
        },
        "id": "CCdKj-FsASvw",
        "outputId": "be0bef08-2cf9-4c25-9440-f9a20a2f2843"
      },
      "execution_count": null,
      "outputs": [
        {
          "output_type": "execute_result",
          "data": {
            "text/plain": [
              "['साँवा अक्षर मा बाह्रखरीमिल्नाले भाषा समृद्ध र अर्थपूर्ण बनेजस्तै देशको समाजिक राजनीतिक आर्थिक र अन्य क्षेत्रको स्थूल स्वरूपलाई विवेचनात्मक दृष्टिबाट अथ्र्याइएमा मात्र जनताले देशको गति र शासनको नियत बुझ्ने विश्वास लिएर त्यसको भित्री एवं समग्र स्वरूप जनता समक्ष प्रस्तुत गर्ने जमर्कोमा यो अनलाइन खबर पत्रिका बाह्रखरी उपस्थित भएको छ ',\n",
              " ' हामी आफूलाई उदार लोकतन्त्र र उदार आर्थिक प्रणालीका पक्षधर हौँ भन्न हिचकिचाउँदैनौ भने गरिब र पिछडिएका जनताका पक्षमा सरकारको सशक्त उपस्थिती र लोकोपकारी कार्यकारीको महत्वलाई पनि अस्वीकार गर्दैनौ ',\n",
              " ' जनताका नैसर्गिक अधिकार रक्षाका लागि सत्य र तथ्यमा आधारित पत्रकारिताका क्रममा कसैसँग पनि सम्झौता गर्ने छैनौ ',\n",
              " ' नेपालको वर्तमान राजनीतिक परिवृत्तमा सबैले आफूलाई लोकतान्त्रिक शक्तिका रूपमा परिचित गराउने तर विचार व्यवहार र कार्यशैलीमा बहुलता स्विकार गर्न नसक्ने विडम्बना देखिएको छ ',\n",
              " ' कतिपय अवस्थामा लोकतान्त्रिक राजनीतिका पक्षधर भन्नेबित्तिकै निश्चित राजनीतिक दलसँग आबद्ध भनेर ठान्ने सोच कायमै छ ']"
            ]
          },
          "metadata": {},
          "execution_count": 5
        }
      ]
    },
    {
      "cell_type": "code",
      "source": [
        "import re\n",
        "import snowballstemmer "
      ],
      "metadata": {
        "id": "F5wC3dJVDfUl"
      },
      "execution_count": null,
      "outputs": []
    },
    {
      "cell_type": "code",
      "source": [
        "a_file = open(\"/content/drive/MyDrive/Colab Notebooks/NLP/Word Embeddings/clean.txt\", \"r\" ,encoding= 'utf-8')\n",
        "stemmer = snowballstemmer.NepaliStemmer()"
      ],
      "metadata": {
        "id": "InM35CPQC4QL"
      },
      "execution_count": null,
      "outputs": []
    },
    {
      "cell_type": "code",
      "source": [
        "def init_class_func(dataset):\n",
        "  dataset = dataset\n",
        "  stop_word_list = []\n",
        "  for line in a_file:\n",
        "    stripped_line = line.strip()\n",
        "    print(stripped_line)\n",
        "    stop_word_list.append(stripped_line)\n",
        "    print(stop_word_list)\n",
        "    break\n",
        "\n",
        "init_class_func(sentences)"
      ],
      "metadata": {
        "colab": {
          "base_uri": "https://localhost:8080/"
        },
        "id": "GTmK3nFSDis9",
        "outputId": "ae3cf3a2-85de-40e0-9448-9c0bba97e7a1"
      },
      "execution_count": null,
      "outputs": [
        {
          "output_type": "stream",
          "name": "stdout",
          "text": [
            "साँवा अक्षर मा बाह्रखरीमिल्नाले भाषा समृद्ध र अर्थपूर्ण बनेजस्तै देशको समाजिक राजनीतिक आर्थिक र अन्य क्षेत्रको स्थूल स्वरूपलाई विवेचनात्मक दृष्टिबाट अथ्र्याइएमा मात्र जनताले देशको गति र शासनको नियत बुझ्ने विश्वास लिएर त्यसको भित्री एवं समग्र स्वरूप जनता समक्ष प्रस्तुत गर्ने जमर्कोमा यो अनलाइन खबर पत्रिका बाह्रखरी उपस्थित भएको छ । हामी आफूलाई उदार लोकतन्त्र र उदार आर्थिक प्रणालीका पक्षधर हौँ भन्न हिचकिचाउँदैनौ भने गरिब र पिछडिएका जनताका पक्षमा सरकारको सशक्त उपस्थिती र लोकोपकारी कार्यकारीको महत्वलाई पनि अस्वीकार गर्दैनौ । जनताका नैसर्गिक अधिकार रक्षाका लागि सत्य र तथ्यमा आधारित पत्रकारिताका क्रममा कसैसँग पनि सम्झौता गर्ने छैनौ । नेपालको वर्तमान राजनीतिक परिवृत्तमा सबैले आफूलाई लोकतान्त्रिक शक्तिका रूपमा परिचित गराउने तर विचार व्यवहार र कार्यशैलीमा बहुलता स्विकार गर्न नसक्ने विडम्बना देखिएको छ । कतिपय अवस्थामा लोकतान्त्रिक राजनीतिका पक्षधर भन्नेबित्तिकै निश्चित राजनीतिक दलसँग आबद्ध भनेर ठान्ने सोच कायमै छ । तर सबै राजनीतिक दल हरेक व्यक्ति र समाजका हरेक पक्षलाई गुण र दोषका आधारमा समर्थन वा आलोचना वा दुवै समानान्तररूपमा अघि बढाउनु बाह्रखरी खबर पत्रिकाको विशेषता हुनेछ । जनताको जीवनको अधिकार सम्पत्तिको अधिकार विचार र अभिव्यक्ति स्वतन्त्रताकोअधिकार रक्षाका मूल्यमा कुनै पनि शक्तिसँग कहिल्यै सम्झौता नगर्ने प्रतिबद्धताका साथ जनसञ्चारको आधुनिक माध्यम अनलाइन पत्रकारितामार्फत् बाह्रखरी यहाँहरू समक्ष उपस्थित भएको छ । जनजीवनका दैनिक समस्या हाम्रा प्राथमिक चासोका विषय हुन् । खानेपानी बिजुली इन्धन यातायातजस्ता जनताका आधारभूत समस्याभन्दा अरू राष्ट्रिय आवश्यकता ठूला वा महत्वपूर्ण हुँदैनन् र मानिनु हुँदैन भन्ने हाम्रो मान्यता हो । शिक्षा स्वास्थ्य खानेपानी बाटोघाटो र सञ्चारको सुविधाबाट जनसाधारण विमुख हुनुहुँदैन । बाह्रखरीले कुनै पनि सरकारको मूल्यांकन जनताले पाएको सेवाका आधारमा गर्नेछ । भ्रष्टाचार कालोबजारी करछली र जनतालाई आर्थिक सामाजिक तथा शारीरिक शोषण गर्ने कुनै पनि समूह व्यक्ति वा प्रवृत्तिविरूद्ध समाजलाई जागरुक बनाउने एउटा अभियानकै रूपमा बाह्रखरीलाई यसका शुभचिन्तकले मान्ने र माया गर्ने विश्वास हामीले लिएका छौँ नेपालको सिमानाभित्र बसोबास गर्ने र संसारभर आफूलाई नेपाली भनेर चिनाउने नेपाली मन र नेपालीपनको सुवासको सुरक्षा गर्नुलाई हामी आफ्नो महत्वपूर्ण कर्तव्य ठान्नेछौँ । देश र विदेशमा रहेका नेपाली र नेपालका शुभचिन्तकलाई नेपाल र विश्वमा भएका घटनाक्रमको ताजा जानकारी दिलाउनु र समाजमा सकारात्मक परिवर्तनका लागि विचार र विवेचनाको संवाहक हुनुमा बाह्रखरीको दैनिक क्रियाकलाप हुनेछ । हामी कस्तो र कुन प्रकारको पत्रकारितामा विश्वास गर्छ भन्ने हाम्रा मूल्य र मान्यता पारदर्शी बनाउने उद्देश्यले हामीले बाह्रखरीको आचार संहिता पनि सार्वजनिक गरेका छौँ । हामी पत्रकार र पत्रकारिताका मूल्य र मान्यतासँग कुनैपनि अवस्थामा सम्झौता नगर्ने र स्वस्थ समाचार मनोरञ्जन साहित्य कला खेलकुद र जीवनका विविध आयामका विभिन्न रंग समेट्दै पाठकका इलेक्ट्रोनिक काँचका पर्दामा इन्द्रधनुष उतार्ने प्रयासमा सदैव लागि रहने प्रण गर्छौँ ।\n",
            "['साँवा अक्षर मा बाह्रखरीमिल्नाले भाषा समृद्ध र अर्थपूर्ण बनेजस्तै देशको समाजिक राजनीतिक आर्थिक र अन्य क्षेत्रको स्थूल स्वरूपलाई विवेचनात्मक दृष्टिबाट अथ्र्याइएमा मात्र जनताले देशको गति र शासनको नियत बुझ्ने विश्वास लिएर त्यसको भित्री एवं समग्र स्वरूप जनता समक्ष प्रस्तुत गर्ने जमर्कोमा यो अनलाइन खबर पत्रिका बाह्रखरी उपस्थित भएको छ । हामी आफूलाई उदार लोकतन्त्र र उदार आर्थिक प्रणालीका पक्षधर हौँ भन्न हिचकिचाउँदैनौ भने गरिब र पिछडिएका जनताका पक्षमा सरकारको सशक्त उपस्थिती र लोकोपकारी कार्यकारीको महत्वलाई पनि अस्वीकार गर्दैनौ । जनताका नैसर्गिक अधिकार रक्षाका लागि सत्य र तथ्यमा आधारित पत्रकारिताका क्रममा कसैसँग पनि सम्झौता गर्ने छैनौ । नेपालको वर्तमान राजनीतिक परिवृत्तमा सबैले आफूलाई लोकतान्त्रिक शक्तिका रूपमा परिचित गराउने तर विचार व्यवहार र कार्यशैलीमा बहुलता स्विकार गर्न नसक्ने विडम्बना देखिएको छ । कतिपय अवस्थामा लोकतान्त्रिक राजनीतिका पक्षधर भन्नेबित्तिकै निश्चित राजनीतिक दलसँग आबद्ध भनेर ठान्ने सोच कायमै छ । तर सबै राजनीतिक दल हरेक व्यक्ति र समाजका हरेक पक्षलाई गुण र दोषका आधारमा समर्थन वा आलोचना वा दुवै समानान्तररूपमा अघि बढाउनु बाह्रखरी खबर पत्रिकाको विशेषता हुनेछ । जनताको जीवनको अधिकार सम्पत्तिको अधिकार विचार र अभिव्यक्ति स्वतन्त्रताकोअधिकार रक्षाका मूल्यमा कुनै पनि शक्तिसँग कहिल्यै सम्झौता नगर्ने प्रतिबद्धताका साथ जनसञ्चारको आधुनिक माध्यम अनलाइन पत्रकारितामार्फत् बाह्रखरी यहाँहरू समक्ष उपस्थित भएको छ । जनजीवनका दैनिक समस्या हाम्रा प्राथमिक चासोका विषय हुन् । खानेपानी बिजुली इन्धन यातायातजस्ता जनताका आधारभूत समस्याभन्दा अरू राष्ट्रिय आवश्यकता ठूला वा महत्वपूर्ण हुँदैनन् र मानिनु हुँदैन भन्ने हाम्रो मान्यता हो । शिक्षा स्वास्थ्य खानेपानी बाटोघाटो र सञ्चारको सुविधाबाट जनसाधारण विमुख हुनुहुँदैन । बाह्रखरीले कुनै पनि सरकारको मूल्यांकन जनताले पाएको सेवाका आधारमा गर्नेछ । भ्रष्टाचार कालोबजारी करछली र जनतालाई आर्थिक सामाजिक तथा शारीरिक शोषण गर्ने कुनै पनि समूह व्यक्ति वा प्रवृत्तिविरूद्ध समाजलाई जागरुक बनाउने एउटा अभियानकै रूपमा बाह्रखरीलाई यसका शुभचिन्तकले मान्ने र माया गर्ने विश्वास हामीले लिएका छौँ नेपालको सिमानाभित्र बसोबास गर्ने र संसारभर आफूलाई नेपाली भनेर चिनाउने नेपाली मन र नेपालीपनको सुवासको सुरक्षा गर्नुलाई हामी आफ्नो महत्वपूर्ण कर्तव्य ठान्नेछौँ । देश र विदेशमा रहेका नेपाली र नेपालका शुभचिन्तकलाई नेपाल र विश्वमा भएका घटनाक्रमको ताजा जानकारी दिलाउनु र समाजमा सकारात्मक परिवर्तनका लागि विचार र विवेचनाको संवाहक हुनुमा बाह्रखरीको दैनिक क्रियाकलाप हुनेछ । हामी कस्तो र कुन प्रकारको पत्रकारितामा विश्वास गर्छ भन्ने हाम्रा मूल्य र मान्यता पारदर्शी बनाउने उद्देश्यले हामीले बाह्रखरीको आचार संहिता पनि सार्वजनिक गरेका छौँ । हामी पत्रकार र पत्रकारिताका मूल्य र मान्यतासँग कुनैपनि अवस्थामा सम्झौता नगर्ने र स्वस्थ समाचार मनोरञ्जन साहित्य कला खेलकुद र जीवनका विविध आयामका विभिन्न रंग समेट्दै पाठकका इलेक्ट्रोनिक काँचका पर्दामा इन्द्रधनुष उतार्ने प्रयासमा सदैव लागि रहने प्रण गर्छौँ ।']\n"
          ]
        }
      ]
    },
    {
      "cell_type": "code",
      "source": [],
      "metadata": {
        "id": "LVTYmBgBD9bo"
      },
      "execution_count": null,
      "outputs": []
    },
    {
      "cell_type": "code",
      "source": [],
      "metadata": {
        "id": "TheXv-HWD97R"
      },
      "execution_count": null,
      "outputs": []
    },
    {
      "cell_type": "code",
      "source": [
        "\n",
        "mainlist = list()\n",
        "class Main_Data_list:\n",
        "    def __init__(self, dataset):\n",
        "        self.dataset = dataset\n",
        "        self.stop_word_list = []\n",
        "        self.mainlist = []\n",
        "        \n",
        "        a_file = open(\"/content/drive/MyDrive/Colab Notebooks/NLP/Word Embeddings/clean.txt\", \"r\" ,encoding= 'utf-8')\n",
        "        for line in a_file:\n",
        "            stripped_line = line.strip()\n",
        "            self.stop_word_list.append(stripped_line)\n",
        "        a_file.close()\n",
        "        \n",
        "        self.stemmer = snowballstemmer.NepaliStemmer()\n",
        "        \n",
        "        \n",
        "    def simple_tokenizer(self,text) -> list:\n",
        "        \n",
        "        line = re.sub('[।]',\"\", text)\n",
        "        \n",
        "        devanagari_range = r'[\\u0900-\\u097F\\\\]'\n",
        "        def getDevanagariCharCount(token):\n",
        "            return len(list(filter(lambda char: re.match(devanagari_range, char), (char for char in token))))\n",
        "        def isDevanagari(token):\n",
        "            return True if getDevanagariCharCount(token) >= len(token)/2 else False \n",
        "\n",
        "        tokens = list(filter(lambda t: isDevanagari(t), line.split(\" \")))\n",
        "        return tokens\n",
        "\n",
        "    def get(self):\n",
        "        for i,line in enumerate(self.dataset[0:2000000]):\n",
        "            \n",
        "            wordsList = self.simple_tokenizer(line)\n",
        "            words = [w for w in wordsList if not w in self.stop_word_list]\n",
        "            words  = self.stemmer.stemWords(words)\n",
        "            if len(words) > 3:\n",
        "                self.mainlist.append(words)\n",
        "            if i % 100000 == 0:\n",
        "                print(f\"DONE FOR {i/100000} LAKHS LINES\")\n",
        "        return self.mainlist\n",
        "                \n",
        "final = Main_Data_list(sentences)\n",
        "mainlist = final.get()"
      ],
      "metadata": {
        "colab": {
          "base_uri": "https://localhost:8080/",
          "height": 363
        },
        "id": "8BgbTmtgATwz",
        "outputId": "cbe00619-ecdb-4aca-c0cc-1b637d645a51"
      },
      "execution_count": null,
      "outputs": [
        {
          "output_type": "stream",
          "name": "stdout",
          "text": [
            "DONE FOR 0.0 LAKHS LINES\n"
          ]
        },
        {
          "output_type": "error",
          "ename": "KeyboardInterrupt",
          "evalue": "ignored",
          "traceback": [
            "\u001b[0;31m---------------------------------------------------------------------------\u001b[0m",
            "\u001b[0;31mKeyboardInterrupt\u001b[0m                         Traceback (most recent call last)",
            "\u001b[0;32m<ipython-input-6-e6398b978049>\u001b[0m in \u001b[0;36m<module>\u001b[0;34m\u001b[0m\n\u001b[1;32m     43\u001b[0m \u001b[0;34m\u001b[0m\u001b[0m\n\u001b[1;32m     44\u001b[0m \u001b[0mfinal\u001b[0m \u001b[0;34m=\u001b[0m \u001b[0mMain_Data_list\u001b[0m\u001b[0;34m(\u001b[0m\u001b[0msentences\u001b[0m\u001b[0;34m)\u001b[0m\u001b[0;34m\u001b[0m\u001b[0;34m\u001b[0m\u001b[0m\n\u001b[0;32m---> 45\u001b[0;31m \u001b[0mmainlist\u001b[0m \u001b[0;34m=\u001b[0m \u001b[0mfinal\u001b[0m\u001b[0;34m.\u001b[0m\u001b[0mget\u001b[0m\u001b[0;34m(\u001b[0m\u001b[0;34m)\u001b[0m\u001b[0;34m\u001b[0m\u001b[0;34m\u001b[0m\u001b[0m\n\u001b[0m",
            "\u001b[0;32m<ipython-input-6-e6398b978049>\u001b[0m in \u001b[0;36mget\u001b[0;34m(self)\u001b[0m\n\u001b[1;32m     34\u001b[0m \u001b[0;34m\u001b[0m\u001b[0m\n\u001b[1;32m     35\u001b[0m             \u001b[0mwordsList\u001b[0m \u001b[0;34m=\u001b[0m \u001b[0mself\u001b[0m\u001b[0;34m.\u001b[0m\u001b[0msimple_tokenizer\u001b[0m\u001b[0;34m(\u001b[0m\u001b[0mline\u001b[0m\u001b[0;34m)\u001b[0m\u001b[0;34m\u001b[0m\u001b[0;34m\u001b[0m\u001b[0m\n\u001b[0;32m---> 36\u001b[0;31m             \u001b[0mwords\u001b[0m \u001b[0;34m=\u001b[0m \u001b[0;34m[\u001b[0m\u001b[0mw\u001b[0m \u001b[0;32mfor\u001b[0m \u001b[0mw\u001b[0m \u001b[0;32min\u001b[0m \u001b[0mwordsList\u001b[0m \u001b[0;32mif\u001b[0m \u001b[0;32mnot\u001b[0m \u001b[0mw\u001b[0m \u001b[0;32min\u001b[0m \u001b[0mself\u001b[0m\u001b[0;34m.\u001b[0m\u001b[0mstop_word_list\u001b[0m\u001b[0;34m]\u001b[0m\u001b[0;34m\u001b[0m\u001b[0;34m\u001b[0m\u001b[0m\n\u001b[0m\u001b[1;32m     37\u001b[0m             \u001b[0mwords\u001b[0m  \u001b[0;34m=\u001b[0m \u001b[0mself\u001b[0m\u001b[0;34m.\u001b[0m\u001b[0mstemmer\u001b[0m\u001b[0;34m.\u001b[0m\u001b[0mstemWords\u001b[0m\u001b[0;34m(\u001b[0m\u001b[0mwords\u001b[0m\u001b[0;34m)\u001b[0m\u001b[0;34m\u001b[0m\u001b[0;34m\u001b[0m\u001b[0m\n\u001b[1;32m     38\u001b[0m             \u001b[0;32mif\u001b[0m \u001b[0mlen\u001b[0m\u001b[0;34m(\u001b[0m\u001b[0mwords\u001b[0m\u001b[0;34m)\u001b[0m \u001b[0;34m>\u001b[0m \u001b[0;36m3\u001b[0m\u001b[0;34m:\u001b[0m\u001b[0;34m\u001b[0m\u001b[0;34m\u001b[0m\u001b[0m\n",
            "\u001b[0;32m<ipython-input-6-e6398b978049>\u001b[0m in \u001b[0;36m<listcomp>\u001b[0;34m(.0)\u001b[0m\n\u001b[1;32m     34\u001b[0m \u001b[0;34m\u001b[0m\u001b[0m\n\u001b[1;32m     35\u001b[0m             \u001b[0mwordsList\u001b[0m \u001b[0;34m=\u001b[0m \u001b[0mself\u001b[0m\u001b[0;34m.\u001b[0m\u001b[0msimple_tokenizer\u001b[0m\u001b[0;34m(\u001b[0m\u001b[0mline\u001b[0m\u001b[0;34m)\u001b[0m\u001b[0;34m\u001b[0m\u001b[0;34m\u001b[0m\u001b[0m\n\u001b[0;32m---> 36\u001b[0;31m             \u001b[0mwords\u001b[0m \u001b[0;34m=\u001b[0m \u001b[0;34m[\u001b[0m\u001b[0mw\u001b[0m \u001b[0;32mfor\u001b[0m \u001b[0mw\u001b[0m \u001b[0;32min\u001b[0m \u001b[0mwordsList\u001b[0m \u001b[0;32mif\u001b[0m \u001b[0;32mnot\u001b[0m \u001b[0mw\u001b[0m \u001b[0;32min\u001b[0m \u001b[0mself\u001b[0m\u001b[0;34m.\u001b[0m\u001b[0mstop_word_list\u001b[0m\u001b[0;34m]\u001b[0m\u001b[0;34m\u001b[0m\u001b[0;34m\u001b[0m\u001b[0m\n\u001b[0m\u001b[1;32m     37\u001b[0m             \u001b[0mwords\u001b[0m  \u001b[0;34m=\u001b[0m \u001b[0mself\u001b[0m\u001b[0;34m.\u001b[0m\u001b[0mstemmer\u001b[0m\u001b[0;34m.\u001b[0m\u001b[0mstemWords\u001b[0m\u001b[0;34m(\u001b[0m\u001b[0mwords\u001b[0m\u001b[0;34m)\u001b[0m\u001b[0;34m\u001b[0m\u001b[0;34m\u001b[0m\u001b[0m\n\u001b[1;32m     38\u001b[0m             \u001b[0;32mif\u001b[0m \u001b[0mlen\u001b[0m\u001b[0;34m(\u001b[0m\u001b[0mwords\u001b[0m\u001b[0;34m)\u001b[0m \u001b[0;34m>\u001b[0m \u001b[0;36m3\u001b[0m\u001b[0;34m:\u001b[0m\u001b[0;34m\u001b[0m\u001b[0;34m\u001b[0m\u001b[0m\n",
            "\u001b[0;31mKeyboardInterrupt\u001b[0m: "
          ]
        }
      ]
    },
    {
      "cell_type": "code",
      "source": [
        "import gensim\n",
        "model = gensim.models.Word2Vec(vector_size = 200, window = 5, min_count = 2, workers = 4)\n",
        "model.build_vocab(mainlist, progress_per = 1000)\n",
        "model.train(mainlist, total_examples = model.corpus_count, epochs = model.epochs)"
      ],
      "metadata": {
        "id": "7gQj5mjzAqtN"
      },
      "execution_count": null,
      "outputs": []
    },
    {
      "cell_type": "code",
      "source": [],
      "metadata": {
        "id": "SSiu6KbSBphx"
      },
      "execution_count": null,
      "outputs": []
    }
  ]
}
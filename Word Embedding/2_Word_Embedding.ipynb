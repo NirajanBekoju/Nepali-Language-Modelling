{
  "nbformat": 4,
  "nbformat_minor": 0,
  "metadata": {
    "colab": {
      "provenance": [],
      "collapsed_sections": []
    },
    "kernelspec": {
      "name": "python3",
      "display_name": "Python 3"
    },
    "language_info": {
      "name": "python"
    }
  },
  "cells": [
    {
      "cell_type": "markdown",
      "source": [
        "## Word2Vec using gensim model"
      ],
      "metadata": {
        "id": "ObEz78124niP"
      }
    },
    {
      "cell_type": "code",
      "source": [
        "import nltk\n",
        "nltk.download('punkt')\n",
        "nltk.download('stopwords')\n",
        "from gensim.models import Word2Vec\n",
        "from nltk.corpus import stopwords"
      ],
      "metadata": {
        "colab": {
          "base_uri": "https://localhost:8080/"
        },
        "id": "u6h-b6Th4nG3",
        "outputId": "bd79da20-328b-4c20-d880-39ea83d0dcdd"
      },
      "execution_count": null,
      "outputs": [
        {
          "output_type": "stream",
          "name": "stderr",
          "text": [
            "[nltk_data] Downloading package punkt to /root/nltk_data...\n",
            "[nltk_data]   Package punkt is already up-to-date!\n",
            "[nltk_data] Downloading package stopwords to /root/nltk_data...\n",
            "[nltk_data]   Unzipping corpora/stopwords.zip.\n"
          ]
        }
      ]
    },
    {
      "cell_type": "code",
      "source": [
        "import re"
      ],
      "metadata": {
        "id": "DeAbauI74nEI"
      },
      "execution_count": null,
      "outputs": []
    },
    {
      "cell_type": "code",
      "source": [
        "paragraph = \"\"\"I have three visions for India. In 3000 years of our history, people from all over \n",
        "               the world have come and invaded us, captured our lands, conquered our minds. \n",
        "               From Alexander onwards, the Greeks, the Turks, the Moguls, the Portuguese, the British,\n",
        "               the French, the Dutch, all of them came and looted us, took over what was ours. \n",
        "               Yet we have not done this to any other nation. We have not conquered anyone. \n",
        "               We have not grabbed their land, their culture, \n",
        "               their history and tried to enforce our way of life on them. \n",
        "               Why? Because we respect the freedom of others.That is why my \n",
        "               first vision is that of freedom. I believe that India got its first vision of \n",
        "               this in 1857, when we started the War of Independence. It is this freedom that\n",
        "               we must protect and nurture and build on. If we are not free, no one will respect us.\n",
        "               My second vision for India’s development. For fifty years we have been a developing nation.\n",
        "               It is time we see ourselves as a developed nation. We are among the top 5 nations of the world\n",
        "               in terms of GDP. We have a 10 percent growth rate in most areas. Our poverty levels are falling.\n",
        "               Our achievements are being globally recognised today. Yet we lack the self-confidence to\n",
        "               see ourselves as a developed nation, self-reliant and self-assured. Isn’t this incorrect?\n",
        "               I have a third vision. India must stand up to the world. Because I believe that unless India \n",
        "               stands up to the world, no one will respect us. Only strength respects strength. We must be \n",
        "               strong not only as a military power but also as an economic power. Both must go hand-in-hand. \n",
        "               My good fortune was to have worked with three great minds. Dr. Vikram Sarabhai of the Dept. of \n",
        "               space, Professor Satish Dhawan, who succeeded him and Dr. Brahm Prakash, father of nuclear material.\n",
        "               I was lucky to have worked with all three of them closely and consider this the great opportunity of my life. \n",
        "               I see four milestones in my career\"\"\"      "
      ],
      "metadata": {
        "id": "Ud0G7liL4nBq"
      },
      "execution_count": null,
      "outputs": []
    },
    {
      "cell_type": "code",
      "source": [
        "# Preprocessing the data\n",
        "text = re.sub(r'\\[[0-9]*\\]',' ',paragraph)\n",
        "text = re.sub(r'\\s+',' ',text)\n",
        "text = text.lower()\n",
        "text = re.sub(r'\\d',' ',text)\n",
        "text = re.sub(r'\\s+',' ',text)"
      ],
      "metadata": {
        "id": "gpkCjAHM4m-n"
      },
      "execution_count": null,
      "outputs": []
    },
    {
      "cell_type": "code",
      "source": [
        "# Preparing the dataset\n",
        "sentences = nltk.sent_tokenize(text)\n",
        "sentences"
      ],
      "metadata": {
        "colab": {
          "base_uri": "https://localhost:8080/"
        },
        "id": "VZfpKQuD4m7_",
        "outputId": "ba81eb5f-5393-4d8a-f128-bb3aaaa3f69f"
      },
      "execution_count": null,
      "outputs": [
        {
          "output_type": "execute_result",
          "data": {
            "text/plain": [
              "['i have three visions for india.',\n",
              " 'in years of our history, people from all over the world have come and invaded us, captured our lands, conquered our minds.',\n",
              " 'from alexander onwards, the greeks, the turks, the moguls, the portuguese, the british, the french, the dutch, all of them came and looted us, took over what was ours.',\n",
              " 'yet we have not done this to any other nation.',\n",
              " 'we have not conquered anyone.',\n",
              " 'we have not grabbed their land, their culture, their history and tried to enforce our way of life on them.',\n",
              " 'why?',\n",
              " 'because we respect the freedom of others.that is why my first vision is that of freedom.',\n",
              " 'i believe that india got its first vision of this in , when we started the war of independence.',\n",
              " 'it is this freedom that we must protect and nurture and build on.',\n",
              " 'if we are not free, no one will respect us.',\n",
              " 'my second vision for india’s development.',\n",
              " 'for fifty years we have been a developing nation.',\n",
              " 'it is time we see ourselves as a developed nation.',\n",
              " 'we are among the top nations of the world in terms of gdp.',\n",
              " 'we have a percent growth rate in most areas.',\n",
              " 'our poverty levels are falling.',\n",
              " 'our achievements are being globally recognised today.',\n",
              " 'yet we lack the self-confidence to see ourselves as a developed nation, self-reliant and self-assured.',\n",
              " 'isn’t this incorrect?',\n",
              " 'i have a third vision.',\n",
              " 'india must stand up to the world.',\n",
              " 'because i believe that unless india stands up to the world, no one will respect us.',\n",
              " 'only strength respects strength.',\n",
              " 'we must be strong not only as a military power but also as an economic power.',\n",
              " 'both must go hand-in-hand.',\n",
              " 'my good fortune was to have worked with three great minds.',\n",
              " 'dr. vikram sarabhai of the dept.',\n",
              " 'of space, professor satish dhawan, who succeeded him and dr. brahm prakash, father of nuclear material.',\n",
              " 'i was lucky to have worked with all three of them closely and consider this the great opportunity of my life.',\n",
              " 'i see four milestones in my career']"
            ]
          },
          "metadata": {},
          "execution_count": 28
        }
      ]
    },
    {
      "cell_type": "code",
      "source": [
        "sentences = [nltk.word_tokenize(sentence) for sentence in sentences]\n",
        "sentences"
      ],
      "metadata": {
        "colab": {
          "base_uri": "https://localhost:8080/"
        },
        "id": "Z4dTXroF4m5S",
        "outputId": "fc2d19eb-7e5d-413e-a232-2c9b332183dd"
      },
      "execution_count": null,
      "outputs": [
        {
          "output_type": "execute_result",
          "data": {
            "text/plain": [
              "[['i', 'have', 'three', 'visions', 'for', 'india', '.'],\n",
              " ['in',\n",
              "  'years',\n",
              "  'of',\n",
              "  'our',\n",
              "  'history',\n",
              "  ',',\n",
              "  'people',\n",
              "  'from',\n",
              "  'all',\n",
              "  'over',\n",
              "  'the',\n",
              "  'world',\n",
              "  'have',\n",
              "  'come',\n",
              "  'and',\n",
              "  'invaded',\n",
              "  'us',\n",
              "  ',',\n",
              "  'captured',\n",
              "  'our',\n",
              "  'lands',\n",
              "  ',',\n",
              "  'conquered',\n",
              "  'our',\n",
              "  'minds',\n",
              "  '.'],\n",
              " ['from',\n",
              "  'alexander',\n",
              "  'onwards',\n",
              "  ',',\n",
              "  'the',\n",
              "  'greeks',\n",
              "  ',',\n",
              "  'the',\n",
              "  'turks',\n",
              "  ',',\n",
              "  'the',\n",
              "  'moguls',\n",
              "  ',',\n",
              "  'the',\n",
              "  'portuguese',\n",
              "  ',',\n",
              "  'the',\n",
              "  'british',\n",
              "  ',',\n",
              "  'the',\n",
              "  'french',\n",
              "  ',',\n",
              "  'the',\n",
              "  'dutch',\n",
              "  ',',\n",
              "  'all',\n",
              "  'of',\n",
              "  'them',\n",
              "  'came',\n",
              "  'and',\n",
              "  'looted',\n",
              "  'us',\n",
              "  ',',\n",
              "  'took',\n",
              "  'over',\n",
              "  'what',\n",
              "  'was',\n",
              "  'ours',\n",
              "  '.'],\n",
              " ['yet',\n",
              "  'we',\n",
              "  'have',\n",
              "  'not',\n",
              "  'done',\n",
              "  'this',\n",
              "  'to',\n",
              "  'any',\n",
              "  'other',\n",
              "  'nation',\n",
              "  '.'],\n",
              " ['we', 'have', 'not', 'conquered', 'anyone', '.'],\n",
              " ['we',\n",
              "  'have',\n",
              "  'not',\n",
              "  'grabbed',\n",
              "  'their',\n",
              "  'land',\n",
              "  ',',\n",
              "  'their',\n",
              "  'culture',\n",
              "  ',',\n",
              "  'their',\n",
              "  'history',\n",
              "  'and',\n",
              "  'tried',\n",
              "  'to',\n",
              "  'enforce',\n",
              "  'our',\n",
              "  'way',\n",
              "  'of',\n",
              "  'life',\n",
              "  'on',\n",
              "  'them',\n",
              "  '.'],\n",
              " ['why', '?'],\n",
              " ['because',\n",
              "  'we',\n",
              "  'respect',\n",
              "  'the',\n",
              "  'freedom',\n",
              "  'of',\n",
              "  'others.that',\n",
              "  'is',\n",
              "  'why',\n",
              "  'my',\n",
              "  'first',\n",
              "  'vision',\n",
              "  'is',\n",
              "  'that',\n",
              "  'of',\n",
              "  'freedom',\n",
              "  '.'],\n",
              " ['i',\n",
              "  'believe',\n",
              "  'that',\n",
              "  'india',\n",
              "  'got',\n",
              "  'its',\n",
              "  'first',\n",
              "  'vision',\n",
              "  'of',\n",
              "  'this',\n",
              "  'in',\n",
              "  ',',\n",
              "  'when',\n",
              "  'we',\n",
              "  'started',\n",
              "  'the',\n",
              "  'war',\n",
              "  'of',\n",
              "  'independence',\n",
              "  '.'],\n",
              " ['it',\n",
              "  'is',\n",
              "  'this',\n",
              "  'freedom',\n",
              "  'that',\n",
              "  'we',\n",
              "  'must',\n",
              "  'protect',\n",
              "  'and',\n",
              "  'nurture',\n",
              "  'and',\n",
              "  'build',\n",
              "  'on',\n",
              "  '.'],\n",
              " ['if',\n",
              "  'we',\n",
              "  'are',\n",
              "  'not',\n",
              "  'free',\n",
              "  ',',\n",
              "  'no',\n",
              "  'one',\n",
              "  'will',\n",
              "  'respect',\n",
              "  'us',\n",
              "  '.'],\n",
              " ['my', 'second', 'vision', 'for', 'india', '’', 's', 'development', '.'],\n",
              " ['for',\n",
              "  'fifty',\n",
              "  'years',\n",
              "  'we',\n",
              "  'have',\n",
              "  'been',\n",
              "  'a',\n",
              "  'developing',\n",
              "  'nation',\n",
              "  '.'],\n",
              " ['it',\n",
              "  'is',\n",
              "  'time',\n",
              "  'we',\n",
              "  'see',\n",
              "  'ourselves',\n",
              "  'as',\n",
              "  'a',\n",
              "  'developed',\n",
              "  'nation',\n",
              "  '.'],\n",
              " ['we',\n",
              "  'are',\n",
              "  'among',\n",
              "  'the',\n",
              "  'top',\n",
              "  'nations',\n",
              "  'of',\n",
              "  'the',\n",
              "  'world',\n",
              "  'in',\n",
              "  'terms',\n",
              "  'of',\n",
              "  'gdp',\n",
              "  '.'],\n",
              " ['we', 'have', 'a', 'percent', 'growth', 'rate', 'in', 'most', 'areas', '.'],\n",
              " ['our', 'poverty', 'levels', 'are', 'falling', '.'],\n",
              " ['our',\n",
              "  'achievements',\n",
              "  'are',\n",
              "  'being',\n",
              "  'globally',\n",
              "  'recognised',\n",
              "  'today',\n",
              "  '.'],\n",
              " ['yet',\n",
              "  'we',\n",
              "  'lack',\n",
              "  'the',\n",
              "  'self-confidence',\n",
              "  'to',\n",
              "  'see',\n",
              "  'ourselves',\n",
              "  'as',\n",
              "  'a',\n",
              "  'developed',\n",
              "  'nation',\n",
              "  ',',\n",
              "  'self-reliant',\n",
              "  'and',\n",
              "  'self-assured',\n",
              "  '.'],\n",
              " ['isn', '’', 't', 'this', 'incorrect', '?'],\n",
              " ['i', 'have', 'a', 'third', 'vision', '.'],\n",
              " ['india', 'must', 'stand', 'up', 'to', 'the', 'world', '.'],\n",
              " ['because',\n",
              "  'i',\n",
              "  'believe',\n",
              "  'that',\n",
              "  'unless',\n",
              "  'india',\n",
              "  'stands',\n",
              "  'up',\n",
              "  'to',\n",
              "  'the',\n",
              "  'world',\n",
              "  ',',\n",
              "  'no',\n",
              "  'one',\n",
              "  'will',\n",
              "  'respect',\n",
              "  'us',\n",
              "  '.'],\n",
              " ['only', 'strength', 'respects', 'strength', '.'],\n",
              " ['we',\n",
              "  'must',\n",
              "  'be',\n",
              "  'strong',\n",
              "  'not',\n",
              "  'only',\n",
              "  'as',\n",
              "  'a',\n",
              "  'military',\n",
              "  'power',\n",
              "  'but',\n",
              "  'also',\n",
              "  'as',\n",
              "  'an',\n",
              "  'economic',\n",
              "  'power',\n",
              "  '.'],\n",
              " ['both', 'must', 'go', 'hand-in-hand', '.'],\n",
              " ['my',\n",
              "  'good',\n",
              "  'fortune',\n",
              "  'was',\n",
              "  'to',\n",
              "  'have',\n",
              "  'worked',\n",
              "  'with',\n",
              "  'three',\n",
              "  'great',\n",
              "  'minds',\n",
              "  '.'],\n",
              " ['dr.', 'vikram', 'sarabhai', 'of', 'the', 'dept', '.'],\n",
              " ['of',\n",
              "  'space',\n",
              "  ',',\n",
              "  'professor',\n",
              "  'satish',\n",
              "  'dhawan',\n",
              "  ',',\n",
              "  'who',\n",
              "  'succeeded',\n",
              "  'him',\n",
              "  'and',\n",
              "  'dr.',\n",
              "  'brahm',\n",
              "  'prakash',\n",
              "  ',',\n",
              "  'father',\n",
              "  'of',\n",
              "  'nuclear',\n",
              "  'material',\n",
              "  '.'],\n",
              " ['i',\n",
              "  'was',\n",
              "  'lucky',\n",
              "  'to',\n",
              "  'have',\n",
              "  'worked',\n",
              "  'with',\n",
              "  'all',\n",
              "  'three',\n",
              "  'of',\n",
              "  'them',\n",
              "  'closely',\n",
              "  'and',\n",
              "  'consider',\n",
              "  'this',\n",
              "  'the',\n",
              "  'great',\n",
              "  'opportunity',\n",
              "  'of',\n",
              "  'my',\n",
              "  'life',\n",
              "  '.'],\n",
              " ['i', 'see', 'four', 'milestones', 'in', 'my', 'career']]"
            ]
          },
          "metadata": {},
          "execution_count": 29
        }
      ]
    },
    {
      "cell_type": "code",
      "source": [
        "for i in range(len(sentences)):\n",
        "    sentences[i] = [word for word in sentences[i] if word not in stopwords.words('english')]"
      ],
      "metadata": {
        "id": "XkKBmoaj4m2v"
      },
      "execution_count": null,
      "outputs": []
    },
    {
      "cell_type": "code",
      "source": [
        "model = Word2Vec(sentences, min_count = 1, size = 300)"
      ],
      "metadata": {
        "colab": {
          "base_uri": "https://localhost:8080/"
        },
        "id": "ifkplBUO4m0J",
        "outputId": "9c89543d-2d41-4587-f837-895dbf48dac1"
      },
      "execution_count": null,
      "outputs": [
        {
          "output_type": "stream",
          "name": "stderr",
          "text": [
            "WARNING:gensim.models.base_any2vec:under 10 jobs per worker: consider setting a smaller `batch_words' for smoother alpha decay\n"
          ]
        }
      ]
    },
    {
      "cell_type": "code",
      "source": [
        "words = model.wv.vocab\n",
        "words"
      ],
      "metadata": {
        "colab": {
          "base_uri": "https://localhost:8080/"
        },
        "id": "ANxHl8Gp4mxD",
        "outputId": "4db4bba2-d58b-4972-e11c-72cbbb06d829"
      },
      "execution_count": null,
      "outputs": [
        {
          "output_type": "execute_result",
          "data": {
            "text/plain": [
              "{'three': <gensim.models.keyedvectors.Vocab at 0x7f621e170210>,\n",
              " 'visions': <gensim.models.keyedvectors.Vocab at 0x7f621dfa2ed0>,\n",
              " 'india': <gensim.models.keyedvectors.Vocab at 0x7f621dfa2510>,\n",
              " '.': <gensim.models.keyedvectors.Vocab at 0x7f621dfa2a90>,\n",
              " 'years': <gensim.models.keyedvectors.Vocab at 0x7f621df66dd0>,\n",
              " 'history': <gensim.models.keyedvectors.Vocab at 0x7f621df66410>,\n",
              " ',': <gensim.models.keyedvectors.Vocab at 0x7f621df66310>,\n",
              " 'people': <gensim.models.keyedvectors.Vocab at 0x7f621df38510>,\n",
              " 'world': <gensim.models.keyedvectors.Vocab at 0x7f621dfa2bd0>,\n",
              " 'come': <gensim.models.keyedvectors.Vocab at 0x7f621df66750>,\n",
              " 'invaded': <gensim.models.keyedvectors.Vocab at 0x7f621df38790>,\n",
              " 'us': <gensim.models.keyedvectors.Vocab at 0x7f621df3a490>,\n",
              " 'captured': <gensim.models.keyedvectors.Vocab at 0x7f621df3a7d0>,\n",
              " 'lands': <gensim.models.keyedvectors.Vocab at 0x7f621df3a250>,\n",
              " 'conquered': <gensim.models.keyedvectors.Vocab at 0x7f621df3ab10>,\n",
              " 'minds': <gensim.models.keyedvectors.Vocab at 0x7f621df3a8d0>,\n",
              " 'alexander': <gensim.models.keyedvectors.Vocab at 0x7f621df3a1d0>,\n",
              " 'onwards': <gensim.models.keyedvectors.Vocab at 0x7f621df3a950>,\n",
              " 'greeks': <gensim.models.keyedvectors.Vocab at 0x7f621df3abd0>,\n",
              " 'turks': <gensim.models.keyedvectors.Vocab at 0x7f621df3a750>,\n",
              " 'moguls': <gensim.models.keyedvectors.Vocab at 0x7f621df3aa90>,\n",
              " 'portuguese': <gensim.models.keyedvectors.Vocab at 0x7f621df3a3d0>,\n",
              " 'british': <gensim.models.keyedvectors.Vocab at 0x7f621df3a810>,\n",
              " 'french': <gensim.models.keyedvectors.Vocab at 0x7f621df3a550>,\n",
              " 'dutch': <gensim.models.keyedvectors.Vocab at 0x7f621df3acd0>,\n",
              " 'came': <gensim.models.keyedvectors.Vocab at 0x7f621df3a310>,\n",
              " 'looted': <gensim.models.keyedvectors.Vocab at 0x7f621df3a410>,\n",
              " 'took': <gensim.models.keyedvectors.Vocab at 0x7f621df3a390>,\n",
              " 'yet': <gensim.models.keyedvectors.Vocab at 0x7f621df3a890>,\n",
              " 'done': <gensim.models.keyedvectors.Vocab at 0x7f621df3a510>,\n",
              " 'nation': <gensim.models.keyedvectors.Vocab at 0x7f621df3ac10>,\n",
              " 'anyone': <gensim.models.keyedvectors.Vocab at 0x7f621df3ab50>,\n",
              " 'grabbed': <gensim.models.keyedvectors.Vocab at 0x7f621df3a690>,\n",
              " 'land': <gensim.models.keyedvectors.Vocab at 0x7f621df3a190>,\n",
              " 'culture': <gensim.models.keyedvectors.Vocab at 0x7f621df3ad90>,\n",
              " 'tried': <gensim.models.keyedvectors.Vocab at 0x7f621df3afd0>,\n",
              " 'enforce': <gensim.models.keyedvectors.Vocab at 0x7f621df3add0>,\n",
              " 'way': <gensim.models.keyedvectors.Vocab at 0x7f621df3aed0>,\n",
              " 'life': <gensim.models.keyedvectors.Vocab at 0x7f621df3a990>,\n",
              " '?': <gensim.models.keyedvectors.Vocab at 0x7f621df3a150>,\n",
              " 'respect': <gensim.models.keyedvectors.Vocab at 0x7f621df3a650>,\n",
              " 'freedom': <gensim.models.keyedvectors.Vocab at 0x7f621df3ab90>,\n",
              " 'others.that': <gensim.models.keyedvectors.Vocab at 0x7f621df3aa10>,\n",
              " 'first': <gensim.models.keyedvectors.Vocab at 0x7f621dfea990>,\n",
              " 'vision': <gensim.models.keyedvectors.Vocab at 0x7f621dfea710>,\n",
              " 'believe': <gensim.models.keyedvectors.Vocab at 0x7f621df783d0>,\n",
              " 'got': <gensim.models.keyedvectors.Vocab at 0x7f621df78710>,\n",
              " 'started': <gensim.models.keyedvectors.Vocab at 0x7f621df78390>,\n",
              " 'war': <gensim.models.keyedvectors.Vocab at 0x7f621df787d0>,\n",
              " 'independence': <gensim.models.keyedvectors.Vocab at 0x7f621df788d0>,\n",
              " 'must': <gensim.models.keyedvectors.Vocab at 0x7f621df786d0>,\n",
              " 'protect': <gensim.models.keyedvectors.Vocab at 0x7f621df782d0>,\n",
              " 'nurture': <gensim.models.keyedvectors.Vocab at 0x7f621df78410>,\n",
              " 'build': <gensim.models.keyedvectors.Vocab at 0x7f621df78890>,\n",
              " 'free': <gensim.models.keyedvectors.Vocab at 0x7f621df78190>,\n",
              " 'one': <gensim.models.keyedvectors.Vocab at 0x7f621df78610>,\n",
              " 'second': <gensim.models.keyedvectors.Vocab at 0x7f621df78790>,\n",
              " '’': <gensim.models.keyedvectors.Vocab at 0x7f621df78250>,\n",
              " 'development': <gensim.models.keyedvectors.Vocab at 0x7f621df78750>,\n",
              " 'fifty': <gensim.models.keyedvectors.Vocab at 0x7f621df78110>,\n",
              " 'developing': <gensim.models.keyedvectors.Vocab at 0x7f621df780d0>,\n",
              " 'time': <gensim.models.keyedvectors.Vocab at 0x7f621df78490>,\n",
              " 'see': <gensim.models.keyedvectors.Vocab at 0x7f621df78690>,\n",
              " 'developed': <gensim.models.keyedvectors.Vocab at 0x7f621df78850>,\n",
              " 'among': <gensim.models.keyedvectors.Vocab at 0x7f621df78650>,\n",
              " 'top': <gensim.models.keyedvectors.Vocab at 0x7f621df78450>,\n",
              " 'nations': <gensim.models.keyedvectors.Vocab at 0x7f621df78590>,\n",
              " 'terms': <gensim.models.keyedvectors.Vocab at 0x7f621df78210>,\n",
              " 'gdp': <gensim.models.keyedvectors.Vocab at 0x7f621df78090>,\n",
              " 'percent': <gensim.models.keyedvectors.Vocab at 0x7f621df78050>,\n",
              " 'growth': <gensim.models.keyedvectors.Vocab at 0x7f621df78510>,\n",
              " 'rate': <gensim.models.keyedvectors.Vocab at 0x7f621df78150>,\n",
              " 'areas': <gensim.models.keyedvectors.Vocab at 0x7f621df78350>,\n",
              " 'poverty': <gensim.models.keyedvectors.Vocab at 0x7f621df784d0>,\n",
              " 'levels': <gensim.models.keyedvectors.Vocab at 0x7f621dfe2990>,\n",
              " 'falling': <gensim.models.keyedvectors.Vocab at 0x7f621dfe2cd0>,\n",
              " 'achievements': <gensim.models.keyedvectors.Vocab at 0x7f621dfe2a50>,\n",
              " 'globally': <gensim.models.keyedvectors.Vocab at 0x7f621dfe2e50>,\n",
              " 'recognised': <gensim.models.keyedvectors.Vocab at 0x7f621dfed7d0>,\n",
              " 'today': <gensim.models.keyedvectors.Vocab at 0x7f621dfede50>,\n",
              " 'lack': <gensim.models.keyedvectors.Vocab at 0x7f621dfede90>,\n",
              " 'self-confidence': <gensim.models.keyedvectors.Vocab at 0x7f621dfed0d0>,\n",
              " 'self-reliant': <gensim.models.keyedvectors.Vocab at 0x7f621dfed410>,\n",
              " 'self-assured': <gensim.models.keyedvectors.Vocab at 0x7f621dfedfd0>,\n",
              " 'incorrect': <gensim.models.keyedvectors.Vocab at 0x7f621dfed3d0>,\n",
              " 'third': <gensim.models.keyedvectors.Vocab at 0x7f621dfeda90>,\n",
              " 'stand': <gensim.models.keyedvectors.Vocab at 0x7f621dfed250>,\n",
              " 'unless': <gensim.models.keyedvectors.Vocab at 0x7f621dfed6d0>,\n",
              " 'stands': <gensim.models.keyedvectors.Vocab at 0x7f621dfedb10>,\n",
              " 'strength': <gensim.models.keyedvectors.Vocab at 0x7f621dfed190>,\n",
              " 'respects': <gensim.models.keyedvectors.Vocab at 0x7f6227bd8290>,\n",
              " 'strong': <gensim.models.keyedvectors.Vocab at 0x7f621dfa07d0>,\n",
              " 'military': <gensim.models.keyedvectors.Vocab at 0x7f621dfa0bd0>,\n",
              " 'power': <gensim.models.keyedvectors.Vocab at 0x7f621dfa0a10>,\n",
              " 'also': <gensim.models.keyedvectors.Vocab at 0x7f621dfa0850>,\n",
              " 'economic': <gensim.models.keyedvectors.Vocab at 0x7f621dfa0f90>,\n",
              " 'go': <gensim.models.keyedvectors.Vocab at 0x7f621dfa0250>,\n",
              " 'hand-in-hand': <gensim.models.keyedvectors.Vocab at 0x7f621dfa09d0>,\n",
              " 'good': <gensim.models.keyedvectors.Vocab at 0x7f621dfa02d0>,\n",
              " 'fortune': <gensim.models.keyedvectors.Vocab at 0x7f621dfa0410>,\n",
              " 'worked': <gensim.models.keyedvectors.Vocab at 0x7f621dfa0d90>,\n",
              " 'great': <gensim.models.keyedvectors.Vocab at 0x7f621dfa0b50>,\n",
              " 'dr.': <gensim.models.keyedvectors.Vocab at 0x7f621dfa0cd0>,\n",
              " 'vikram': <gensim.models.keyedvectors.Vocab at 0x7f621dfa0210>,\n",
              " 'sarabhai': <gensim.models.keyedvectors.Vocab at 0x7f621dfa0b10>,\n",
              " 'dept': <gensim.models.keyedvectors.Vocab at 0x7f621dfa0450>,\n",
              " 'space': <gensim.models.keyedvectors.Vocab at 0x7f621dfa05d0>,\n",
              " 'professor': <gensim.models.keyedvectors.Vocab at 0x7f621dfa0690>,\n",
              " 'satish': <gensim.models.keyedvectors.Vocab at 0x7f621dfa0510>,\n",
              " 'dhawan': <gensim.models.keyedvectors.Vocab at 0x7f621dfa0310>,\n",
              " 'succeeded': <gensim.models.keyedvectors.Vocab at 0x7f621dfa0190>,\n",
              " 'brahm': <gensim.models.keyedvectors.Vocab at 0x7f621dfa0890>,\n",
              " 'prakash': <gensim.models.keyedvectors.Vocab at 0x7f621dfa0790>,\n",
              " 'father': <gensim.models.keyedvectors.Vocab at 0x7f621dfa0650>,\n",
              " 'nuclear': <gensim.models.keyedvectors.Vocab at 0x7f621dfa0490>,\n",
              " 'material': <gensim.models.keyedvectors.Vocab at 0x7f621dfa0f50>,\n",
              " 'lucky': <gensim.models.keyedvectors.Vocab at 0x7f621dfa0990>,\n",
              " 'closely': <gensim.models.keyedvectors.Vocab at 0x7f621dfa0c50>,\n",
              " 'consider': <gensim.models.keyedvectors.Vocab at 0x7f621dfa0350>,\n",
              " 'opportunity': <gensim.models.keyedvectors.Vocab at 0x7f621dfa0b90>,\n",
              " 'four': <gensim.models.keyedvectors.Vocab at 0x7f621dfa0950>,\n",
              " 'milestones': <gensim.models.keyedvectors.Vocab at 0x7f621dfa0150>,\n",
              " 'career': <gensim.models.keyedvectors.Vocab at 0x7f621dfa0610>}"
            ]
          },
          "metadata": {},
          "execution_count": 41
        }
      ]
    },
    {
      "cell_type": "code",
      "source": [
        "vector = model.wv['war']\n",
        "vector"
      ],
      "metadata": {
        "colab": {
          "base_uri": "https://localhost:8080/"
        },
        "id": "K5eX4gsi4muU",
        "outputId": "fb8aea75-de68-4e37-900e-af2124eceef8"
      },
      "execution_count": null,
      "outputs": [
        {
          "output_type": "execute_result",
          "data": {
            "text/plain": [
              "array([-1.00765683e-04,  5.11345297e-06, -5.69130701e-04, -1.00073509e-03,\n",
              "       -1.18172762e-03,  4.34233749e-04,  1.39824487e-03, -5.06973010e-04,\n",
              "        1.42952392e-03,  8.68626172e-04,  1.62253412e-03,  1.26817392e-03,\n",
              "        1.49028457e-03, -1.05421990e-03, -1.40975812e-03,  1.21331704e-03,\n",
              "        2.64299451e-04,  9.71271482e-04,  1.53099187e-03, -3.87206266e-04,\n",
              "        1.59890088e-03,  8.36082792e-04, -1.40540721e-03, -5.47851727e-04,\n",
              "        1.04382588e-03, -3.57517332e-04,  5.45460323e-04, -1.07018801e-04,\n",
              "        1.03638915e-03,  1.43126433e-03,  1.01535104e-03,  1.47001341e-03,\n",
              "        1.40386785e-03,  1.45369431e-03,  2.35161846e-04,  2.00433409e-04,\n",
              "        1.18233927e-03, -2.36567343e-04, -1.64819602e-03, -6.07432274e-04,\n",
              "       -3.20807390e-04,  4.50779742e-04,  1.64581672e-03,  1.01323891e-03,\n",
              "       -4.16703202e-04, -1.54352572e-03, -9.69073590e-05,  1.24202634e-03,\n",
              "       -7.14835827e-04,  4.74112720e-04, -5.96152851e-04,  9.69291781e-04,\n",
              "        1.52245013e-03, -2.43773509e-04,  1.25444203e-04,  3.66838969e-04,\n",
              "        2.23419906e-04, -1.17131742e-03,  5.20767004e-04,  2.14343818e-04,\n",
              "       -1.55091519e-03, -8.97622958e-05,  9.03131207e-04,  1.29036990e-03,\n",
              "       -3.45333538e-04, -2.24414762e-04, -1.44700939e-03, -7.64340803e-04,\n",
              "       -1.24757213e-03,  1.50893372e-03, -1.15373870e-03,  1.10111258e-03,\n",
              "        4.78872884e-04,  2.08354424e-04, -7.73365900e-04,  3.56209319e-04,\n",
              "       -1.19622529e-03,  6.16962323e-04, -1.05847523e-03, -1.24194403e-03,\n",
              "       -1.48042210e-03,  1.51787174e-03,  1.50550285e-03, -1.48679398e-03,\n",
              "       -1.18229375e-03,  1.58517773e-03,  2.22585586e-04, -1.20518892e-03,\n",
              "        1.39952998e-03,  8.91975942e-04, -8.98722385e-04,  5.00962255e-04,\n",
              "        1.15334708e-03, -1.61162904e-03, -9.51234309e-04, -1.19425356e-03,\n",
              "        1.54769537e-03,  6.54566160e-04, -5.54634200e-04, -3.40155326e-04,\n",
              "        2.20306742e-04,  8.04446638e-04, -1.04041444e-03,  4.46896069e-04,\n",
              "        1.03303988e-03, -7.77912501e-04, -1.02642004e-03,  2.71743047e-04,\n",
              "        6.28810725e-04, -8.58027342e-05,  4.75111825e-04, -7.67731224e-04,\n",
              "        1.16553530e-03, -2.91202159e-05, -6.44720276e-04, -5.52823942e-04,\n",
              "       -1.50402973e-03,  1.64204848e-03,  1.40067167e-03, -1.45045610e-03,\n",
              "       -1.36478673e-04, -9.96010378e-04,  1.65483961e-03,  2.83199275e-04,\n",
              "        1.39618467e-03, -1.57907698e-03,  1.05401990e-03,  6.27359666e-04,\n",
              "       -6.79596269e-04, -7.90996652e-04, -8.46034440e-04,  4.07327927e-04,\n",
              "       -1.76657486e-04,  6.61366852e-04, -6.49685797e-04,  1.49027514e-03,\n",
              "       -1.30624545e-03,  2.63250695e-04,  9.71909554e-04,  2.12538333e-04,\n",
              "        4.53131739e-04, -8.44092923e-04,  2.44692230e-04, -4.99645132e-04,\n",
              "       -1.45959295e-03, -1.61403092e-03, -3.94434814e-04, -4.05173487e-05,\n",
              "        2.22364135e-04, -4.31453591e-05, -1.62508572e-03,  1.51515997e-04,\n",
              "        8.35695886e-04, -1.54070824e-03,  3.72008828e-04,  7.86416698e-04,\n",
              "       -1.70155530e-04,  1.41507119e-03,  7.88747217e-04,  1.58897496e-03,\n",
              "        1.53095962e-03, -1.64940755e-03,  1.04530435e-03, -1.44633072e-04,\n",
              "       -6.77624601e-04, -6.55568321e-04, -2.13421605e-04, -5.20321249e-04,\n",
              "       -9.25943197e-04,  8.18367058e-04, -1.49623246e-03,  1.34125666e-03,\n",
              "        1.15331030e-03, -1.11965201e-04, -1.31956360e-03, -8.95880454e-04,\n",
              "       -1.58613198e-04,  6.78479671e-04, -9.90410801e-04,  7.00116681e-04,\n",
              "       -1.65797758e-03,  8.66687682e-04, -2.20381262e-04, -6.31997711e-04,\n",
              "       -3.46464440e-05, -3.57973739e-04,  3.08893563e-04,  6.71216985e-04,\n",
              "       -5.00003749e-04,  9.56854608e-04,  6.13694428e-04, -4.38242598e-04,\n",
              "       -1.51105237e-03, -3.95955023e-04, -1.39217812e-03,  3.18576786e-04,\n",
              "        1.28478208e-03, -6.24291017e-04,  1.02975138e-03, -1.13590562e-03,\n",
              "        3.00227810e-04, -9.05889203e-04, -1.40166865e-03, -1.41248852e-03,\n",
              "       -1.62985455e-03,  1.54171884e-03, -5.04237425e-04,  9.80018987e-04,\n",
              "       -6.96914969e-04, -1.24142889e-03, -6.06672314e-04, -1.02216890e-03,\n",
              "       -1.59577839e-03, -1.41833199e-03, -6.49543304e-04, -4.55376052e-04,\n",
              "        8.64765141e-04,  8.11372418e-04, -2.34818755e-04, -1.16364926e-03,\n",
              "       -1.56280759e-03, -1.58771710e-03, -8.73290875e-04, -6.99265860e-04,\n",
              "       -6.23254746e-04,  1.40206667e-03, -1.01143320e-03, -1.53830461e-03,\n",
              "        8.06193799e-04, -7.70517567e-04,  1.03979849e-03,  3.03361390e-04,\n",
              "        7.78248577e-05,  1.10948295e-03,  1.51388475e-03, -9.90592991e-04,\n",
              "       -3.98728036e-04, -8.53714533e-04,  1.05407475e-04, -3.19906976e-04,\n",
              "        4.83786607e-05, -3.40944884e-04, -8.06713768e-04,  1.60945102e-03,\n",
              "        4.79801936e-04,  8.25086783e-04,  8.60463770e-04, -1.33140199e-03,\n",
              "        1.65310956e-03, -1.49342616e-03,  5.16257773e-04,  5.46860509e-04,\n",
              "        1.04964478e-04, -4.34117857e-04,  1.31241826e-03,  1.24819705e-03,\n",
              "       -4.76077170e-04, -4.03946106e-05, -4.96922701e-04, -1.45012513e-03,\n",
              "       -1.33158150e-03, -1.33623520e-03, -1.11349300e-03, -8.54692247e-04,\n",
              "       -1.65729073e-03, -6.86661515e-04,  1.33137440e-03, -1.33652485e-03,\n",
              "       -1.17573817e-03, -6.53004041e-04,  6.62536302e-04,  2.86488998e-04,\n",
              "        1.01874059e-03, -7.57889415e-04,  4.14037524e-04,  1.35346099e-05,\n",
              "       -1.56950299e-03,  1.06171065e-03, -9.33297735e-04,  1.15630904e-03,\n",
              "       -1.04777771e-03,  1.59204844e-03,  9.70886977e-05, -6.46421046e-04,\n",
              "       -1.15039921e-03, -1.07615278e-03, -1.02738246e-04, -1.50893722e-03,\n",
              "        1.49024511e-03, -1.31016329e-03,  1.26684539e-03, -4.75904293e-04,\n",
              "        1.17104256e-03, -6.73057570e-04, -9.98126779e-05,  8.80313281e-04,\n",
              "        9.47395223e-04, -3.47709400e-04,  7.42656819e-04,  4.74656263e-04],\n",
              "      dtype=float32)"
            ]
          },
          "metadata": {},
          "execution_count": 42
        }
      ]
    },
    {
      "cell_type": "code",
      "source": [
        "len(vector)"
      ],
      "metadata": {
        "colab": {
          "base_uri": "https://localhost:8080/"
        },
        "id": "y9kO6lTt4mrg",
        "outputId": "f3b0c4e8-265b-4bae-c4f7-61aba5238838"
      },
      "execution_count": null,
      "outputs": [
        {
          "output_type": "execute_result",
          "data": {
            "text/plain": [
              "300"
            ]
          },
          "metadata": {},
          "execution_count": 43
        }
      ]
    },
    {
      "cell_type": "code",
      "source": [
        "similar = model.wv.most_similar('strength')\n",
        "similar"
      ],
      "metadata": {
        "colab": {
          "base_uri": "https://localhost:8080/"
        },
        "id": "GJJsspdD4mo6",
        "outputId": "43f42af1-28dd-4a04-9ddc-2448a7128f7f"
      },
      "execution_count": null,
      "outputs": [
        {
          "output_type": "execute_result",
          "data": {
            "text/plain": [
              "[('growth', 0.12095004320144653),\n",
              " ('today', 0.1101575493812561),\n",
              " ('career', 0.10803128033876419),\n",
              " ('grabbed', 0.08832622319459915),\n",
              " ('self-reliant', 0.08729952573776245),\n",
              " ('development', 0.08059138059616089),\n",
              " ('achievements', 0.07856708019971848),\n",
              " ('?', 0.06086750328540802),\n",
              " ('invaded', 0.058910876512527466),\n",
              " ('moguls', 0.055284030735492706)]"
            ]
          },
          "metadata": {},
          "execution_count": 48
        }
      ]
    },
    {
      "cell_type": "markdown",
      "source": [
        "## Word Embedding using Embedding layers in keras"
      ],
      "metadata": {
        "id": "MieUpaf24gt1"
      }
    },
    {
      "cell_type": "code",
      "execution_count": null,
      "metadata": {
        "id": "x-AZRBS02otS"
      },
      "outputs": [],
      "source": [
        "from tensorflow.keras.preprocessing.text import one_hot"
      ]
    },
    {
      "cell_type": "code",
      "source": [
        "sent=[  'the glass of milk',\n",
        "     'the glass of juice',\n",
        "     'the cup of tea',\n",
        "    'I am a good boy',\n",
        "     'I am a good developer',\n",
        "     'understand the meaning of words',\n",
        "     'your videos are good',]"
      ],
      "metadata": {
        "id": "sL5PP0RV2t1C"
      },
      "execution_count": null,
      "outputs": []
    },
    {
      "cell_type": "code",
      "source": [
        "### Vocabulary size\n",
        "voc_size=10000"
      ],
      "metadata": {
        "id": "UnY02oHa2wbm"
      },
      "execution_count": null,
      "outputs": []
    },
    {
      "cell_type": "code",
      "source": [
        "onehot_repr = [one_hot(words, 1000) for words in sent]"
      ],
      "metadata": {
        "id": "UEW_jokt2yyZ"
      },
      "execution_count": null,
      "outputs": []
    },
    {
      "cell_type": "code",
      "source": [
        "onehot_repr"
      ],
      "metadata": {
        "colab": {
          "base_uri": "https://localhost:8080/"
        },
        "id": "TDvktJJY25wU",
        "outputId": "ebe241cd-3695-4c1a-9042-7e6d1df24489"
      },
      "execution_count": null,
      "outputs": [
        {
          "output_type": "execute_result",
          "data": {
            "text/plain": [
              "[[145, 112, 188, 835],\n",
              " [145, 112, 188, 255],\n",
              " [145, 231, 188, 876],\n",
              " [840, 414, 281, 838, 66],\n",
              " [840, 414, 281, 838, 491],\n",
              " [781, 145, 547, 188, 822],\n",
              " [498, 954, 566, 838]]"
            ]
          },
          "metadata": {},
          "execution_count": 9
        }
      ]
    },
    {
      "cell_type": "markdown",
      "source": [
        "## Word Embedding Representation"
      ],
      "metadata": {
        "id": "W-uRGo4o3DEj"
      }
    },
    {
      "cell_type": "code",
      "source": [
        "from tensorflow.keras.layers import Embedding\n",
        "from tensorflow.keras.preprocessing.sequence import pad_sequences\n",
        "from tensorflow.keras.models import Sequential"
      ],
      "metadata": {
        "id": "QB4ubbK528uz"
      },
      "execution_count": null,
      "outputs": []
    },
    {
      "cell_type": "code",
      "source": [
        "import numpy as np"
      ],
      "metadata": {
        "id": "GDdejL153OFk"
      },
      "execution_count": null,
      "outputs": []
    },
    {
      "cell_type": "code",
      "source": [
        "sent_length = 8\n",
        "embedded_docs =pad_sequences(onehot_repr, padding='post', maxlen = sent_length)\n",
        "embedded_docs"
      ],
      "metadata": {
        "colab": {
          "base_uri": "https://localhost:8080/"
        },
        "id": "pcZGHIVA3QAK",
        "outputId": "5f3691a7-1cd3-4603-aed1-ca5f31c1ecce"
      },
      "execution_count": null,
      "outputs": [
        {
          "output_type": "execute_result",
          "data": {
            "text/plain": [
              "array([[145, 112, 188, 835,   0,   0,   0,   0],\n",
              "       [145, 112, 188, 255,   0,   0,   0,   0],\n",
              "       [145, 231, 188, 876,   0,   0,   0,   0],\n",
              "       [840, 414, 281, 838,  66,   0,   0,   0],\n",
              "       [840, 414, 281, 838, 491,   0,   0,   0],\n",
              "       [781, 145, 547, 188, 822,   0,   0,   0],\n",
              "       [498, 954, 566, 838,   0,   0,   0,   0]], dtype=int32)"
            ]
          },
          "metadata": {},
          "execution_count": 12
        }
      ]
    },
    {
      "cell_type": "code",
      "source": [
        "dim = 10\n",
        "model = Sequential([\n",
        "    Embedding(voc_size, dim, input_length = sent_length)\n",
        "])\n",
        "\n",
        "model.compile('adam', 'mse')\n",
        "\n",
        "model.summary()"
      ],
      "metadata": {
        "colab": {
          "base_uri": "https://localhost:8080/"
        },
        "id": "wVxnLhjQ3YlZ",
        "outputId": "6ecbde70-6b96-48fc-e3c2-2098c7f51484"
      },
      "execution_count": null,
      "outputs": [
        {
          "output_type": "stream",
          "name": "stdout",
          "text": [
            "Model: \"sequential_1\"\n",
            "_________________________________________________________________\n",
            " Layer (type)                Output Shape              Param #   \n",
            "=================================================================\n",
            " embedding_1 (Embedding)     (None, 8, 10)             100000    \n",
            "                                                                 \n",
            "=================================================================\n",
            "Total params: 100,000\n",
            "Trainable params: 100,000\n",
            "Non-trainable params: 0\n",
            "_________________________________________________________________\n"
          ]
        }
      ]
    },
    {
      "cell_type": "code",
      "source": [
        "predicted_word2vec = model.predict(embedded_docs)\n",
        "predicted_word2vec"
      ],
      "metadata": {
        "colab": {
          "base_uri": "https://localhost:8080/"
        },
        "id": "j06TChId3nk5",
        "outputId": "9986247e-c6c5-43c6-84d0-63a111c8d02b"
      },
      "execution_count": null,
      "outputs": [
        {
          "output_type": "execute_result",
          "data": {
            "text/plain": [
              "array([[[ 0.01242032,  0.03884274, -0.0474635 , -0.02519589,\n",
              "          0.04214012, -0.00812836,  0.00741267, -0.02490288,\n",
              "          0.03063056, -0.02343127],\n",
              "        [ 0.02694694,  0.03384146, -0.01086465, -0.00214516,\n",
              "          0.0158315 , -0.00390663, -0.01582213, -0.04420561,\n",
              "          0.01934833,  0.01967248],\n",
              "        [-0.03432773, -0.01311249, -0.04548964,  0.02315657,\n",
              "         -0.04971747,  0.04806087, -0.00019454, -0.00113721,\n",
              "          0.00010075,  0.02080795],\n",
              "        [ 0.02610346,  0.00078497, -0.0151526 ,  0.04682631,\n",
              "          0.04851611,  0.02121432, -0.03883206,  0.03246036,\n",
              "         -0.02839024,  0.04828945],\n",
              "        [-0.03752302,  0.02704081, -0.02650355,  0.02687594,\n",
              "         -0.03812734, -0.02728409,  0.03373425, -0.03609958,\n",
              "          0.0480235 ,  0.02370424],\n",
              "        [-0.03752302,  0.02704081, -0.02650355,  0.02687594,\n",
              "         -0.03812734, -0.02728409,  0.03373425, -0.03609958,\n",
              "          0.0480235 ,  0.02370424],\n",
              "        [-0.03752302,  0.02704081, -0.02650355,  0.02687594,\n",
              "         -0.03812734, -0.02728409,  0.03373425, -0.03609958,\n",
              "          0.0480235 ,  0.02370424],\n",
              "        [-0.03752302,  0.02704081, -0.02650355,  0.02687594,\n",
              "         -0.03812734, -0.02728409,  0.03373425, -0.03609958,\n",
              "          0.0480235 ,  0.02370424]],\n",
              "\n",
              "       [[ 0.01242032,  0.03884274, -0.0474635 , -0.02519589,\n",
              "          0.04214012, -0.00812836,  0.00741267, -0.02490288,\n",
              "          0.03063056, -0.02343127],\n",
              "        [ 0.02694694,  0.03384146, -0.01086465, -0.00214516,\n",
              "          0.0158315 , -0.00390663, -0.01582213, -0.04420561,\n",
              "          0.01934833,  0.01967248],\n",
              "        [-0.03432773, -0.01311249, -0.04548964,  0.02315657,\n",
              "         -0.04971747,  0.04806087, -0.00019454, -0.00113721,\n",
              "          0.00010075,  0.02080795],\n",
              "        [-0.0276776 , -0.04052113,  0.02950193,  0.02044245,\n",
              "         -0.0167946 ,  0.03351877, -0.03767474,  0.00356825,\n",
              "         -0.01800897, -0.03624994],\n",
              "        [-0.03752302,  0.02704081, -0.02650355,  0.02687594,\n",
              "         -0.03812734, -0.02728409,  0.03373425, -0.03609958,\n",
              "          0.0480235 ,  0.02370424],\n",
              "        [-0.03752302,  0.02704081, -0.02650355,  0.02687594,\n",
              "         -0.03812734, -0.02728409,  0.03373425, -0.03609958,\n",
              "          0.0480235 ,  0.02370424],\n",
              "        [-0.03752302,  0.02704081, -0.02650355,  0.02687594,\n",
              "         -0.03812734, -0.02728409,  0.03373425, -0.03609958,\n",
              "          0.0480235 ,  0.02370424],\n",
              "        [-0.03752302,  0.02704081, -0.02650355,  0.02687594,\n",
              "         -0.03812734, -0.02728409,  0.03373425, -0.03609958,\n",
              "          0.0480235 ,  0.02370424]],\n",
              "\n",
              "       [[ 0.01242032,  0.03884274, -0.0474635 , -0.02519589,\n",
              "          0.04214012, -0.00812836,  0.00741267, -0.02490288,\n",
              "          0.03063056, -0.02343127],\n",
              "        [ 0.00480198,  0.00261973,  0.02343534,  0.00910739,\n",
              "          0.02052495, -0.0250717 , -0.01635721, -0.03058233,\n",
              "          0.00275011, -0.01639171],\n",
              "        [-0.03432773, -0.01311249, -0.04548964,  0.02315657,\n",
              "         -0.04971747,  0.04806087, -0.00019454, -0.00113721,\n",
              "          0.00010075,  0.02080795],\n",
              "        [-0.02005461,  0.04780544,  0.01982263,  0.00119023,\n",
              "          0.00568025,  0.01744226,  0.02111251, -0.04002694,\n",
              "         -0.01728438, -0.02424418],\n",
              "        [-0.03752302,  0.02704081, -0.02650355,  0.02687594,\n",
              "         -0.03812734, -0.02728409,  0.03373425, -0.03609958,\n",
              "          0.0480235 ,  0.02370424],\n",
              "        [-0.03752302,  0.02704081, -0.02650355,  0.02687594,\n",
              "         -0.03812734, -0.02728409,  0.03373425, -0.03609958,\n",
              "          0.0480235 ,  0.02370424],\n",
              "        [-0.03752302,  0.02704081, -0.02650355,  0.02687594,\n",
              "         -0.03812734, -0.02728409,  0.03373425, -0.03609958,\n",
              "          0.0480235 ,  0.02370424],\n",
              "        [-0.03752302,  0.02704081, -0.02650355,  0.02687594,\n",
              "         -0.03812734, -0.02728409,  0.03373425, -0.03609958,\n",
              "          0.0480235 ,  0.02370424]],\n",
              "\n",
              "       [[ 0.01755022,  0.02480966,  0.02082267, -0.03164135,\n",
              "          0.0457453 ,  0.00665352, -0.03167341,  0.04221838,\n",
              "          0.0124587 ,  0.02730054],\n",
              "        [-0.02589802,  0.04249375, -0.01686569,  0.04536605,\n",
              "         -0.01239451,  0.04470645, -0.03419298,  0.01522477,\n",
              "         -0.03898386,  0.01492992],\n",
              "        [ 0.00732193,  0.03775156,  0.0261789 ,  0.02154024,\n",
              "         -0.00089598, -0.0421127 , -0.01490135,  0.02941028,\n",
              "          0.03343305, -0.02031108],\n",
              "        [-0.03844978,  0.04498548, -0.00654143,  0.03223133,\n",
              "          0.0471713 ,  0.03113439, -0.00286685,  0.02340445,\n",
              "         -0.00884552, -0.04364253],\n",
              "        [ 0.01654467,  0.02835318,  0.00192504, -0.02016651,\n",
              "          0.02228284, -0.01181119,  0.01535368,  0.03722236,\n",
              "         -0.04212645, -0.01589002],\n",
              "        [-0.03752302,  0.02704081, -0.02650355,  0.02687594,\n",
              "         -0.03812734, -0.02728409,  0.03373425, -0.03609958,\n",
              "          0.0480235 ,  0.02370424],\n",
              "        [-0.03752302,  0.02704081, -0.02650355,  0.02687594,\n",
              "         -0.03812734, -0.02728409,  0.03373425, -0.03609958,\n",
              "          0.0480235 ,  0.02370424],\n",
              "        [-0.03752302,  0.02704081, -0.02650355,  0.02687594,\n",
              "         -0.03812734, -0.02728409,  0.03373425, -0.03609958,\n",
              "          0.0480235 ,  0.02370424]],\n",
              "\n",
              "       [[ 0.01755022,  0.02480966,  0.02082267, -0.03164135,\n",
              "          0.0457453 ,  0.00665352, -0.03167341,  0.04221838,\n",
              "          0.0124587 ,  0.02730054],\n",
              "        [-0.02589802,  0.04249375, -0.01686569,  0.04536605,\n",
              "         -0.01239451,  0.04470645, -0.03419298,  0.01522477,\n",
              "         -0.03898386,  0.01492992],\n",
              "        [ 0.00732193,  0.03775156,  0.0261789 ,  0.02154024,\n",
              "         -0.00089598, -0.0421127 , -0.01490135,  0.02941028,\n",
              "          0.03343305, -0.02031108],\n",
              "        [-0.03844978,  0.04498548, -0.00654143,  0.03223133,\n",
              "          0.0471713 ,  0.03113439, -0.00286685,  0.02340445,\n",
              "         -0.00884552, -0.04364253],\n",
              "        [-0.03779365, -0.01933533,  0.03228274,  0.0206004 ,\n",
              "          0.00395906,  0.03333329,  0.02082124, -0.03139293,\n",
              "          0.02138646,  0.03123951],\n",
              "        [-0.03752302,  0.02704081, -0.02650355,  0.02687594,\n",
              "         -0.03812734, -0.02728409,  0.03373425, -0.03609958,\n",
              "          0.0480235 ,  0.02370424],\n",
              "        [-0.03752302,  0.02704081, -0.02650355,  0.02687594,\n",
              "         -0.03812734, -0.02728409,  0.03373425, -0.03609958,\n",
              "          0.0480235 ,  0.02370424],\n",
              "        [-0.03752302,  0.02704081, -0.02650355,  0.02687594,\n",
              "         -0.03812734, -0.02728409,  0.03373425, -0.03609958,\n",
              "          0.0480235 ,  0.02370424]],\n",
              "\n",
              "       [[-0.04437661,  0.02990792, -0.02131001, -0.01055451,\n",
              "         -0.0437778 , -0.02976387,  0.01053915,  0.04749944,\n",
              "          0.03702419,  0.02214391],\n",
              "        [ 0.01242032,  0.03884274, -0.0474635 , -0.02519589,\n",
              "          0.04214012, -0.00812836,  0.00741267, -0.02490288,\n",
              "          0.03063056, -0.02343127],\n",
              "        [ 0.0231075 ,  0.01061312, -0.02448779, -0.00925874,\n",
              "          0.01982141,  0.0165919 , -0.04697588, -0.04304532,\n",
              "          0.00561076, -0.01929213],\n",
              "        [-0.03432773, -0.01311249, -0.04548964,  0.02315657,\n",
              "         -0.04971747,  0.04806087, -0.00019454, -0.00113721,\n",
              "          0.00010075,  0.02080795],\n",
              "        [ 0.03857103, -0.02163047, -0.04502377,  0.00788338,\n",
              "          0.0271377 ,  0.03807426,  0.02945923,  0.01448545,\n",
              "          0.00472097,  0.04448071],\n",
              "        [-0.03752302,  0.02704081, -0.02650355,  0.02687594,\n",
              "         -0.03812734, -0.02728409,  0.03373425, -0.03609958,\n",
              "          0.0480235 ,  0.02370424],\n",
              "        [-0.03752302,  0.02704081, -0.02650355,  0.02687594,\n",
              "         -0.03812734, -0.02728409,  0.03373425, -0.03609958,\n",
              "          0.0480235 ,  0.02370424],\n",
              "        [-0.03752302,  0.02704081, -0.02650355,  0.02687594,\n",
              "         -0.03812734, -0.02728409,  0.03373425, -0.03609958,\n",
              "          0.0480235 ,  0.02370424]],\n",
              "\n",
              "       [[-0.02347751, -0.01971784, -0.00602865,  0.03919656,\n",
              "          0.01397877, -0.03217222, -0.02477754,  0.04752883,\n",
              "          0.02440521,  0.00038282],\n",
              "        [ 0.02733086, -0.03687144,  0.04461566,  0.04845829,\n",
              "         -0.0033647 ,  0.0499907 ,  0.015589  ,  0.00967797,\n",
              "         -0.01574656, -0.04041145],\n",
              "        [-0.01082356, -0.01118667,  0.0451461 ,  0.00397663,\n",
              "         -0.01288698,  0.0425074 ,  0.03187184, -0.01082923,\n",
              "          0.00184274,  0.02717933],\n",
              "        [-0.03844978,  0.04498548, -0.00654143,  0.03223133,\n",
              "          0.0471713 ,  0.03113439, -0.00286685,  0.02340445,\n",
              "         -0.00884552, -0.04364253],\n",
              "        [-0.03752302,  0.02704081, -0.02650355,  0.02687594,\n",
              "         -0.03812734, -0.02728409,  0.03373425, -0.03609958,\n",
              "          0.0480235 ,  0.02370424],\n",
              "        [-0.03752302,  0.02704081, -0.02650355,  0.02687594,\n",
              "         -0.03812734, -0.02728409,  0.03373425, -0.03609958,\n",
              "          0.0480235 ,  0.02370424],\n",
              "        [-0.03752302,  0.02704081, -0.02650355,  0.02687594,\n",
              "         -0.03812734, -0.02728409,  0.03373425, -0.03609958,\n",
              "          0.0480235 ,  0.02370424],\n",
              "        [-0.03752302,  0.02704081, -0.02650355,  0.02687594,\n",
              "         -0.03812734, -0.02728409,  0.03373425, -0.03609958,\n",
              "          0.0480235 ,  0.02370424]]], dtype=float32)"
            ]
          },
          "metadata": {},
          "execution_count": 18
        }
      ]
    },
    {
      "cell_type": "code",
      "source": [
        "embedded_docs[0]"
      ],
      "metadata": {
        "colab": {
          "base_uri": "https://localhost:8080/"
        },
        "id": "85AzebtQ36id",
        "outputId": "9f193ade-ec52-446c-e596-bc2e869e1fb7"
      },
      "execution_count": null,
      "outputs": [
        {
          "output_type": "execute_result",
          "data": {
            "text/plain": [
              "array([145, 112, 188, 835,   0,   0,   0,   0], dtype=int32)"
            ]
          },
          "metadata": {},
          "execution_count": 16
        }
      ]
    },
    {
      "cell_type": "code",
      "source": [
        "predicted_word2vec[0]"
      ],
      "metadata": {
        "colab": {
          "base_uri": "https://localhost:8080/"
        },
        "id": "ZOjjqsvC4CUf",
        "outputId": "3c4b31a6-21df-4b93-9bd9-a20ea784d7a1"
      },
      "execution_count": null,
      "outputs": [
        {
          "output_type": "execute_result",
          "data": {
            "text/plain": [
              "array([[ 0.01242032,  0.03884274, -0.0474635 , -0.02519589,  0.04214012,\n",
              "        -0.00812836,  0.00741267, -0.02490288,  0.03063056, -0.02343127],\n",
              "       [ 0.02694694,  0.03384146, -0.01086465, -0.00214516,  0.0158315 ,\n",
              "        -0.00390663, -0.01582213, -0.04420561,  0.01934833,  0.01967248],\n",
              "       [-0.03432773, -0.01311249, -0.04548964,  0.02315657, -0.04971747,\n",
              "         0.04806087, -0.00019454, -0.00113721,  0.00010075,  0.02080795],\n",
              "       [ 0.02610346,  0.00078497, -0.0151526 ,  0.04682631,  0.04851611,\n",
              "         0.02121432, -0.03883206,  0.03246036, -0.02839024,  0.04828945],\n",
              "       [-0.03752302,  0.02704081, -0.02650355,  0.02687594, -0.03812734,\n",
              "        -0.02728409,  0.03373425, -0.03609958,  0.0480235 ,  0.02370424],\n",
              "       [-0.03752302,  0.02704081, -0.02650355,  0.02687594, -0.03812734,\n",
              "        -0.02728409,  0.03373425, -0.03609958,  0.0480235 ,  0.02370424],\n",
              "       [-0.03752302,  0.02704081, -0.02650355,  0.02687594, -0.03812734,\n",
              "        -0.02728409,  0.03373425, -0.03609958,  0.0480235 ,  0.02370424],\n",
              "       [-0.03752302,  0.02704081, -0.02650355,  0.02687594, -0.03812734,\n",
              "        -0.02728409,  0.03373425, -0.03609958,  0.0480235 ,  0.02370424]],\n",
              "      dtype=float32)"
            ]
          },
          "metadata": {},
          "execution_count": 19
        }
      ]
    },
    {
      "cell_type": "code",
      "source": [
        "predicted_word2vec[1]"
      ],
      "metadata": {
        "colab": {
          "base_uri": "https://localhost:8080/"
        },
        "id": "WGmBz6yG4PvY",
        "outputId": "576cff4e-31bc-44ea-ff15-d84f4570b5a1"
      },
      "execution_count": null,
      "outputs": [
        {
          "output_type": "execute_result",
          "data": {
            "text/plain": [
              "array([[ 0.01242032,  0.03884274, -0.0474635 , -0.02519589,  0.04214012,\n",
              "        -0.00812836,  0.00741267, -0.02490288,  0.03063056, -0.02343127],\n",
              "       [ 0.02694694,  0.03384146, -0.01086465, -0.00214516,  0.0158315 ,\n",
              "        -0.00390663, -0.01582213, -0.04420561,  0.01934833,  0.01967248],\n",
              "       [-0.03432773, -0.01311249, -0.04548964,  0.02315657, -0.04971747,\n",
              "         0.04806087, -0.00019454, -0.00113721,  0.00010075,  0.02080795],\n",
              "       [-0.0276776 , -0.04052113,  0.02950193,  0.02044245, -0.0167946 ,\n",
              "         0.03351877, -0.03767474,  0.00356825, -0.01800897, -0.03624994],\n",
              "       [-0.03752302,  0.02704081, -0.02650355,  0.02687594, -0.03812734,\n",
              "        -0.02728409,  0.03373425, -0.03609958,  0.0480235 ,  0.02370424],\n",
              "       [-0.03752302,  0.02704081, -0.02650355,  0.02687594, -0.03812734,\n",
              "        -0.02728409,  0.03373425, -0.03609958,  0.0480235 ,  0.02370424],\n",
              "       [-0.03752302,  0.02704081, -0.02650355,  0.02687594, -0.03812734,\n",
              "        -0.02728409,  0.03373425, -0.03609958,  0.0480235 ,  0.02370424],\n",
              "       [-0.03752302,  0.02704081, -0.02650355,  0.02687594, -0.03812734,\n",
              "        -0.02728409,  0.03373425, -0.03609958,  0.0480235 ,  0.02370424]],\n",
              "      dtype=float32)"
            ]
          },
          "metadata": {},
          "execution_count": 20
        }
      ]
    },
    {
      "cell_type": "code",
      "source": [],
      "metadata": {
        "id": "zUFdoPIS4TpW"
      },
      "execution_count": null,
      "outputs": []
    }
  ]
}